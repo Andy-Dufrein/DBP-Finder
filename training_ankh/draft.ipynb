{
 "cells": [
  {
   "cell_type": "code",
   "execution_count": 70,
   "metadata": {},
   "outputs": [],
   "source": [
    "# Enable autoreload\n",
    "%load_ext autoreload\n",
    "\n",
    "# Set autoreload mode to automatically reload all modules\n",
    "%autoreload 2"
   ]
  },
  {
   "cell_type": "code",
   "execution_count": 2,
   "metadata": {},
   "outputs": [
    {
     "name": "stderr",
     "output_type": "stream",
     "text": [
      "/storage1/gavrilenkoa/anaconda3/envs/DBP-finder/lib/python3.11/site-packages/tqdm/auto.py:21: TqdmWarning: IProgress not found. Please update jupyter and ipywidgets. See https://ipywidgets.readthedocs.io/en/stable/user_install.html\n",
      "  from .autonotebook import tqdm as notebook_tqdm\n"
     ]
    }
   ],
   "source": [
    "import logging\n",
    "\n",
    "import ankh\n",
    "import clearml\n",
    "import numpy as np\n",
    "import pandas as pd\n",
    "import torch\n",
    "import yaml\n",
    "from clearml import Logger, Task\n",
    "from data_prepare import get_embed_clustered_df, make_folds\n",
    "from torch.optim import AdamW\n",
    "from torch.optim.lr_scheduler import ReduceLROnPlateau\n",
    "from torch.utils.data import DataLoader\n",
    "from torch_utils import (CustomBatchSampler, SequenceDataset,\n",
    "                         custom_collate_fn, train_fn, validate_fn, load_models)"
   ]
  },
  {
   "cell_type": "markdown",
   "metadata": {},
   "source": [
    "Частота классов по батчам"
   ]
  },
  {
   "cell_type": "code",
   "execution_count": 30,
   "metadata": {},
   "outputs": [],
   "source": [
    "df = get_embed_clustered_df(\n",
    "    embedding_path=\"../data/embeddings/ankh_embeddings/train_p2_2d.h5\",\n",
    "    csv_path=\"../data/splits/train_p2.csv\",\n",
    ")\n",
    "train_folds, valid_folds = make_folds(df)"
   ]
  },
  {
   "cell_type": "code",
   "execution_count": 37,
   "metadata": {},
   "outputs": [],
   "source": [
    "dataset = SequenceDataset(df)\n",
    "sampler = CustomBatchSampler(dataset, batch_size=64)\n",
    "dataloader = DataLoader(\n",
    "        dataset,\n",
    "        num_workers=1,\n",
    "        batch_sampler=sampler,\n",
    "        collate_fn=custom_collate_fn,\n",
    "    )"
   ]
  },
  {
   "cell_type": "code",
   "execution_count": 67,
   "metadata": {},
   "outputs": [
    {
     "data": {
      "text/plain": [
       "69872"
      ]
     },
     "execution_count": 67,
     "metadata": {},
     "output_type": "execute_result"
    }
   ],
   "source": [
    "len(df)"
   ]
  },
  {
   "cell_type": "code",
   "execution_count": 53,
   "metadata": {},
   "outputs": [],
   "source": [
    "freq_ratio = {}\n",
    "for i, (_, y) in enumerate(dataloader):\n",
    "    zero_freq = torch.sum(y == 0).item()\n",
    "    ones_freq = torch.sum(y == 1).item()\n",
    "\n",
    "    freq_ratio[i] = zero_freq / ones_freq\n"
   ]
  },
  {
   "cell_type": "code",
   "execution_count": 58,
   "metadata": {},
   "outputs": [],
   "source": [
    "ratio_values = list(freq_ratio.values())"
   ]
  },
  {
   "cell_type": "code",
   "execution_count": 74,
   "metadata": {},
   "outputs": [
    {
     "data": {
      "text/plain": [
       "1.0317460317460319"
      ]
     },
     "execution_count": 74,
     "metadata": {},
     "output_type": "execute_result"
    }
   ],
   "source": [
    "np.median(ratio_values)"
   ]
  },
  {
   "cell_type": "code",
   "execution_count": 68,
   "metadata": {},
   "outputs": [],
   "source": [
    "count = 0\n",
    "for i, (_, y) in enumerate(dataloader):\n",
    "    count += len(y)"
   ]
  },
  {
   "cell_type": "code",
   "execution_count": 76,
   "metadata": {},
   "outputs": [
    {
     "data": {
      "text/plain": [
       "1091.75"
      ]
     },
     "execution_count": 76,
     "metadata": {},
     "output_type": "execute_result"
    }
   ],
   "source": [
    "count / 64"
   ]
  },
  {
   "cell_type": "code",
   "execution_count": null,
   "metadata": {},
   "outputs": [],
   "source": []
  },
  {
   "cell_type": "code",
   "execution_count": null,
   "metadata": {},
   "outputs": [],
   "source": []
  },
  {
   "cell_type": "code",
   "execution_count": 66,
   "metadata": {},
   "outputs": [],
   "source": [
    "models = load_models()\n",
    "model = models[0]"
   ]
  },
  {
   "cell_type": "code",
   "execution_count": 7,
   "metadata": {},
   "outputs": [],
   "source": [
    "total_params = sum(p.numel() for p in model.parameters())"
   ]
  },
  {
   "cell_type": "code",
   "execution_count": 9,
   "metadata": {},
   "outputs": [],
   "source": [
    "trainable_params = sum(p.numel() for p in model.parameters() if p.requires_grad)"
   ]
  },
  {
   "cell_type": "code",
   "execution_count": 10,
   "metadata": {},
   "outputs": [
    {
     "data": {
      "text/plain": [
       "(13013775, 13013775)"
      ]
     },
     "execution_count": 10,
     "metadata": {},
     "output_type": "execute_result"
    }
   ],
   "source": [
    "total_params, trainable_params"
   ]
  },
  {
   "cell_type": "code",
   "execution_count": 1,
   "metadata": {},
   "outputs": [
    {
     "data": {
      "text/plain": [
       "13.013775"
      ]
     },
     "execution_count": 1,
     "metadata": {},
     "output_type": "execute_result"
    }
   ],
   "source": [
    "13013775 / 1e6"
   ]
  },
  {
   "cell_type": "code",
   "execution_count": 2,
   "metadata": {},
   "outputs": [],
   "source": [
    "embed_df = load_embeddings_to_df(\"../data/embeddings/ankh_embeddings/not_annotated_seqs_v1_2d.h5\")"
   ]
  },
  {
   "cell_type": "code",
   "execution_count": 3,
   "metadata": {},
   "outputs": [],
   "source": [
    "inderence_dataset = InferenceDataset(embed_df)"
   ]
  },
  {
   "cell_type": "code",
   "execution_count": 5,
   "metadata": {},
   "outputs": [],
   "source": [
    "from torch.utils.data import DataLoader"
   ]
  },
  {
   "cell_type": "code",
   "execution_count": 20,
   "metadata": {},
   "outputs": [],
   "source": [
    "inference_dataloader = DataLoader(\n",
    "        inderence_dataset,\n",
    "        num_workers=1,\n",
    "        shuffle=False,\n",
    "        batch_size=1,\n",
    "    )"
   ]
  },
  {
   "cell_type": "code",
   "execution_count": 9,
   "metadata": {},
   "outputs": [],
   "source": [
    "id_, x = next(iter(inference_dataloader))"
   ]
  },
  {
   "cell_type": "code",
   "execution_count": null,
   "metadata": {},
   "outputs": [],
   "source": [
    "id_"
   ]
  },
  {
   "cell_type": "code",
   "execution_count": 19,
   "metadata": {},
   "outputs": [],
   "source": [
    "DEVICE = torch.device(\"cuda:0\" if torch.cuda.is_available() else \"cpu\")"
   ]
  },
  {
   "cell_type": "code",
   "execution_count": 42,
   "metadata": {},
   "outputs": [],
   "source": [
    "identifiers = []\n",
    "scores = []\n",
    "with torch.no_grad():\n",
    "    for id_, x in inference_dataloader:\n",
    "        x = x.to(DEVICE)\n",
    "        ens_logits = []\n",
    "\n",
    "        for model in models:\n",
    "            model.eval()\n",
    "            model = model.to(DEVICE)\n",
    "            output = model(x)\n",
    "\n",
    "            logits = output.logits\n",
    "            ens_logits.append(logits)\n",
    "\n",
    "        ens_logits = torch.stack(ens_logits, dim=0)\n",
    "        ens_logits = torch.mean(ens_logits, dim=0)\n",
    "        prob_score = torch.sigmoid(ens_logits)\n",
    "\n",
    "        identifiers.extend(id_)\n",
    "        scores.append(prob_score.cpu().numpy().item())\n",
    "        break"
   ]
  },
  {
   "cell_type": "markdown",
   "metadata": {},
   "source": [
    "Предсказание на неанноитрованных данных"
   ]
  },
  {
   "cell_type": "code",
   "execution_count": 3,
   "metadata": {},
   "outputs": [],
   "source": [
    "predictions_df = pd.read_csv(\"../data/not_annotated/predictions.csv\")"
   ]
  },
  {
   "cell_type": "code",
   "execution_count": 11,
   "metadata": {},
   "outputs": [
    {
     "data": {
      "text/html": [
       "<div>\n",
       "<style scoped>\n",
       "    .dataframe tbody tr th:only-of-type {\n",
       "        vertical-align: middle;\n",
       "    }\n",
       "\n",
       "    .dataframe tbody tr th {\n",
       "        vertical-align: top;\n",
       "    }\n",
       "\n",
       "    .dataframe thead th {\n",
       "        text-align: right;\n",
       "    }\n",
       "</style>\n",
       "<table border=\"1\" class=\"dataframe\">\n",
       "  <thead>\n",
       "    <tr style=\"text-align: right;\">\n",
       "      <th></th>\n",
       "      <th>identifier</th>\n",
       "      <th>score</th>\n",
       "    </tr>\n",
       "  </thead>\n",
       "  <tbody>\n",
       "    <tr>\n",
       "      <th>57449</th>\n",
       "      <td>O07917</td>\n",
       "      <td>9.999994e-01</td>\n",
       "    </tr>\n",
       "    <tr>\n",
       "      <th>38847</th>\n",
       "      <td>F4HRT7</td>\n",
       "      <td>9.999990e-01</td>\n",
       "    </tr>\n",
       "    <tr>\n",
       "      <th>29644</th>\n",
       "      <td>C9J381</td>\n",
       "      <td>9.999990e-01</td>\n",
       "    </tr>\n",
       "    <tr>\n",
       "      <th>11514</th>\n",
       "      <td>A0A1P8AWJ0</td>\n",
       "      <td>9.999987e-01</td>\n",
       "    </tr>\n",
       "    <tr>\n",
       "      <th>58007</th>\n",
       "      <td>O31637</td>\n",
       "      <td>9.999986e-01</td>\n",
       "    </tr>\n",
       "    <tr>\n",
       "      <th>...</th>\n",
       "      <td>...</td>\n",
       "      <td>...</td>\n",
       "    </tr>\n",
       "    <tr>\n",
       "      <th>8895</th>\n",
       "      <td>A0A1I9LM80</td>\n",
       "      <td>2.624521e-09</td>\n",
       "    </tr>\n",
       "    <tr>\n",
       "      <th>57646</th>\n",
       "      <td>O22882</td>\n",
       "      <td>2.242381e-09</td>\n",
       "    </tr>\n",
       "    <tr>\n",
       "      <th>81755</th>\n",
       "      <td>Q9LYX3</td>\n",
       "      <td>2.171691e-09</td>\n",
       "    </tr>\n",
       "    <tr>\n",
       "      <th>73864</th>\n",
       "      <td>Q8LCX3</td>\n",
       "      <td>2.169861e-09</td>\n",
       "    </tr>\n",
       "    <tr>\n",
       "      <th>68387</th>\n",
       "      <td>Q3E7N2</td>\n",
       "      <td>1.749258e-09</td>\n",
       "    </tr>\n",
       "  </tbody>\n",
       "</table>\n",
       "<p>86916 rows × 2 columns</p>\n",
       "</div>"
      ],
      "text/plain": [
       "       identifier         score\n",
       "57449      O07917  9.999994e-01\n",
       "38847      F4HRT7  9.999990e-01\n",
       "29644      C9J381  9.999990e-01\n",
       "11514  A0A1P8AWJ0  9.999987e-01\n",
       "58007      O31637  9.999986e-01\n",
       "...           ...           ...\n",
       "8895   A0A1I9LM80  2.624521e-09\n",
       "57646      O22882  2.242381e-09\n",
       "81755      Q9LYX3  2.171691e-09\n",
       "73864      Q8LCX3  2.169861e-09\n",
       "68387      Q3E7N2  1.749258e-09\n",
       "\n",
       "[86916 rows x 2 columns]"
      ]
     },
     "execution_count": 11,
     "metadata": {},
     "output_type": "execute_result"
    }
   ],
   "source": [
    "predictions_df"
   ]
  },
  {
   "cell_type": "code",
   "execution_count": 12,
   "metadata": {},
   "outputs": [],
   "source": [
    "predictions_df = predictions_df.sort_values(by=\"score\", ascending=False)"
   ]
  },
  {
   "cell_type": "code",
   "execution_count": 13,
   "metadata": {},
   "outputs": [],
   "source": [
    "df = pd.read_csv(\"../data/not_annotated/not_annotated_seqs_with_org.csv\")"
   ]
  },
  {
   "cell_type": "code",
   "execution_count": 14,
   "metadata": {},
   "outputs": [
    {
     "data": {
      "text/html": [
       "<div>\n",
       "<style scoped>\n",
       "    .dataframe tbody tr th:only-of-type {\n",
       "        vertical-align: middle;\n",
       "    }\n",
       "\n",
       "    .dataframe tbody tr th {\n",
       "        vertical-align: top;\n",
       "    }\n",
       "\n",
       "    .dataframe thead th {\n",
       "        text-align: right;\n",
       "    }\n",
       "</style>\n",
       "<table border=\"1\" class=\"dataframe\">\n",
       "  <thead>\n",
       "    <tr style=\"text-align: right;\">\n",
       "      <th></th>\n",
       "      <th>identifier</th>\n",
       "      <th>sequence</th>\n",
       "      <th>Organism</th>\n",
       "    </tr>\n",
       "  </thead>\n",
       "  <tbody>\n",
       "    <tr>\n",
       "      <th>0</th>\n",
       "      <td>A0A178U7Y7</td>\n",
       "      <td>MITGDSIDGMDFISSLPDEILHHILSSVPTKSAIRTSLLSKRWRYV...</td>\n",
       "      <td>Arabidopsis thaliana</td>\n",
       "    </tr>\n",
       "    <tr>\n",
       "      <th>1</th>\n",
       "      <td>A0A178U8Q8</td>\n",
       "      <td>MRNAVVALRHHRRVSLLRRIVAFRDDNTICLSPSLKNNELSRQTNS...</td>\n",
       "      <td>Arabidopsis thaliana</td>\n",
       "    </tr>\n",
       "    <tr>\n",
       "      <th>2</th>\n",
       "      <td>A0A178U9N5</td>\n",
       "      <td>MRAKGKKQSEEAPEHAIAMALLCPSLPSPNSRLFRCRSSNISSKYH...</td>\n",
       "      <td>Arabidopsis thaliana</td>\n",
       "    </tr>\n",
       "    <tr>\n",
       "      <th>3</th>\n",
       "      <td>A0A178UBI5</td>\n",
       "      <td>MEMDPLLRSYPDIGYKAFGNTGRVIVSIFMNLELYLVATSFLILEG...</td>\n",
       "      <td>Arabidopsis thaliana</td>\n",
       "    </tr>\n",
       "    <tr>\n",
       "      <th>4</th>\n",
       "      <td>A0A178UCR2</td>\n",
       "      <td>MMKMSIGTTTSGDGEMELRPGGMVVQKRTDHSSSVPRGIRVRVKYG...</td>\n",
       "      <td>Arabidopsis thaliana</td>\n",
       "    </tr>\n",
       "    <tr>\n",
       "      <th>...</th>\n",
       "      <td>...</td>\n",
       "      <td>...</td>\n",
       "      <td>...</td>\n",
       "    </tr>\n",
       "    <tr>\n",
       "      <th>86911</th>\n",
       "      <td>A0A1B2JJA1</td>\n",
       "      <td>MNGYVLVTGGAGYIGSHTVVELLNNDYLVIVVDNLSNSSYHVIKRI...</td>\n",
       "      <td>Komagataella pastoris</td>\n",
       "    </tr>\n",
       "    <tr>\n",
       "      <th>86912</th>\n",
       "      <td>Q96X16</td>\n",
       "      <td>MRLTNLLSLTTLVALAVAVPDFYQKREAVSSKEAALLRRDASAECV...</td>\n",
       "      <td>Komagataella pastoris</td>\n",
       "    </tr>\n",
       "    <tr>\n",
       "      <th>86913</th>\n",
       "      <td>A0A1B2J6E6</td>\n",
       "      <td>MSYSAEDIEVLDKKFPSLKDEFHIPTFKSLGIAPPQSKDENDDSIY...</td>\n",
       "      <td>Komagataella pastoris</td>\n",
       "    </tr>\n",
       "    <tr>\n",
       "      <th>86914</th>\n",
       "      <td>A0A1B2J9A8</td>\n",
       "      <td>MPSPHGGVLQDLIKRDASIKEDLLKEVPQLQSIVLTGRQLCDLELI...</td>\n",
       "      <td>Komagataella pastoris</td>\n",
       "    </tr>\n",
       "    <tr>\n",
       "      <th>86915</th>\n",
       "      <td>A0A1B2JET5</td>\n",
       "      <td>MKKLTFVTGNSNKLKEFLAIVNGSEETSTVGDYEIVCQSVDLPELQ...</td>\n",
       "      <td>Komagataella pastoris</td>\n",
       "    </tr>\n",
       "  </tbody>\n",
       "</table>\n",
       "<p>86916 rows × 3 columns</p>\n",
       "</div>"
      ],
      "text/plain": [
       "       identifier                                           sequence  \\\n",
       "0      A0A178U7Y7  MITGDSIDGMDFISSLPDEILHHILSSVPTKSAIRTSLLSKRWRYV...   \n",
       "1      A0A178U8Q8  MRNAVVALRHHRRVSLLRRIVAFRDDNTICLSPSLKNNELSRQTNS...   \n",
       "2      A0A178U9N5  MRAKGKKQSEEAPEHAIAMALLCPSLPSPNSRLFRCRSSNISSKYH...   \n",
       "3      A0A178UBI5  MEMDPLLRSYPDIGYKAFGNTGRVIVSIFMNLELYLVATSFLILEG...   \n",
       "4      A0A178UCR2  MMKMSIGTTTSGDGEMELRPGGMVVQKRTDHSSSVPRGIRVRVKYG...   \n",
       "...           ...                                                ...   \n",
       "86911  A0A1B2JJA1  MNGYVLVTGGAGYIGSHTVVELLNNDYLVIVVDNLSNSSYHVIKRI...   \n",
       "86912      Q96X16  MRLTNLLSLTTLVALAVAVPDFYQKREAVSSKEAALLRRDASAECV...   \n",
       "86913  A0A1B2J6E6  MSYSAEDIEVLDKKFPSLKDEFHIPTFKSLGIAPPQSKDENDDSIY...   \n",
       "86914  A0A1B2J9A8  MPSPHGGVLQDLIKRDASIKEDLLKEVPQLQSIVLTGRQLCDLELI...   \n",
       "86915  A0A1B2JET5  MKKLTFVTGNSNKLKEFLAIVNGSEETSTVGDYEIVCQSVDLPELQ...   \n",
       "\n",
       "                    Organism  \n",
       "0       Arabidopsis thaliana  \n",
       "1       Arabidopsis thaliana  \n",
       "2       Arabidopsis thaliana  \n",
       "3       Arabidopsis thaliana  \n",
       "4       Arabidopsis thaliana  \n",
       "...                      ...  \n",
       "86911  Komagataella pastoris  \n",
       "86912  Komagataella pastoris  \n",
       "86913  Komagataella pastoris  \n",
       "86914  Komagataella pastoris  \n",
       "86915  Komagataella pastoris  \n",
       "\n",
       "[86916 rows x 3 columns]"
      ]
     },
     "execution_count": 14,
     "metadata": {},
     "output_type": "execute_result"
    }
   ],
   "source": [
    "df"
   ]
  },
  {
   "cell_type": "code",
   "execution_count": 15,
   "metadata": {},
   "outputs": [],
   "source": [
    "df = predictions_df.merge(df, on=\"identifier\")"
   ]
  },
  {
   "cell_type": "code",
   "execution_count": 18,
   "metadata": {},
   "outputs": [
    {
     "data": {
      "text/html": [
       "<div>\n",
       "<style scoped>\n",
       "    .dataframe tbody tr th:only-of-type {\n",
       "        vertical-align: middle;\n",
       "    }\n",
       "\n",
       "    .dataframe tbody tr th {\n",
       "        vertical-align: top;\n",
       "    }\n",
       "\n",
       "    .dataframe thead th {\n",
       "        text-align: right;\n",
       "    }\n",
       "</style>\n",
       "<table border=\"1\" class=\"dataframe\">\n",
       "  <thead>\n",
       "    <tr style=\"text-align: right;\">\n",
       "      <th></th>\n",
       "      <th>identifier</th>\n",
       "      <th>score</th>\n",
       "      <th>sequence</th>\n",
       "      <th>Organism</th>\n",
       "    </tr>\n",
       "  </thead>\n",
       "  <tbody>\n",
       "    <tr>\n",
       "      <th>0</th>\n",
       "      <td>O07917</td>\n",
       "      <td>9.999994e-01</td>\n",
       "      <td>MAYVKATAILPEKLISEIQKYVQGKTIYIPKPESSHQKWGACSGTR...</td>\n",
       "      <td>Bacillus subtilis (strain 168)</td>\n",
       "    </tr>\n",
       "    <tr>\n",
       "      <th>1</th>\n",
       "      <td>F4HRT7</td>\n",
       "      <td>9.999990e-01</td>\n",
       "      <td>MSSSTNDYNDGNNNGVYPLSLYLSSLSGHQDIIHNPYNHQLKASPG...</td>\n",
       "      <td>Arabidopsis thaliana</td>\n",
       "    </tr>\n",
       "    <tr>\n",
       "      <th>2</th>\n",
       "      <td>C9J381</td>\n",
       "      <td>9.999990e-01</td>\n",
       "      <td>MADYLISGGTGYVPEDGLTAQQLFASADGLTYNDFLILPGFIDFIA...</td>\n",
       "      <td>Homo sapiens</td>\n",
       "    </tr>\n",
       "    <tr>\n",
       "      <th>3</th>\n",
       "      <td>A0A1P8AWJ0</td>\n",
       "      <td>9.999987e-01</td>\n",
       "      <td>MFPSLDTNGYDLFDPFIPHQTTMFPSFITHIQSPNSHHHYSSPSFP...</td>\n",
       "      <td>Arabidopsis thaliana</td>\n",
       "    </tr>\n",
       "    <tr>\n",
       "      <th>4</th>\n",
       "      <td>O31637</td>\n",
       "      <td>9.999986e-01</td>\n",
       "      <td>MTDQMIAWEIEEWIRDYKFMLREIKRLNRVLNKVDFISTKLTATYG...</td>\n",
       "      <td>Bacillus subtilis (strain 168)</td>\n",
       "    </tr>\n",
       "    <tr>\n",
       "      <th>...</th>\n",
       "      <td>...</td>\n",
       "      <td>...</td>\n",
       "      <td>...</td>\n",
       "      <td>...</td>\n",
       "    </tr>\n",
       "    <tr>\n",
       "      <th>86911</th>\n",
       "      <td>A0A1I9LM80</td>\n",
       "      <td>2.624521e-09</td>\n",
       "      <td>MKKSLALIVLLYFLLLMVVHIPANEALRYLPNERLGNLQFLQKGEV...</td>\n",
       "      <td>Arabidopsis thaliana</td>\n",
       "    </tr>\n",
       "    <tr>\n",
       "      <th>86912</th>\n",
       "      <td>O22882</td>\n",
       "      <td>2.242381e-09</td>\n",
       "      <td>MDATKIKFDVILLSFLLIISGIPSNLGLSTSVRGTTRSEPEAFHGG...</td>\n",
       "      <td>Arabidopsis thaliana</td>\n",
       "    </tr>\n",
       "    <tr>\n",
       "      <th>86913</th>\n",
       "      <td>Q9LYX3</td>\n",
       "      <td>2.171691e-09</td>\n",
       "      <td>MKSTVMMIFLIIYLLIAVPCFAKGSEQTDSEVYEIDYRGPETHNSR...</td>\n",
       "      <td>Arabidopsis thaliana</td>\n",
       "    </tr>\n",
       "    <tr>\n",
       "      <th>86914</th>\n",
       "      <td>Q8LCX3</td>\n",
       "      <td>2.169861e-09</td>\n",
       "      <td>MKRQVMIFVMLVAFFVVFLDVKQVEAMRPFPTAADEIRFVFQALQR...</td>\n",
       "      <td>Arabidopsis thaliana</td>\n",
       "    </tr>\n",
       "    <tr>\n",
       "      <th>86915</th>\n",
       "      <td>Q3E7N2</td>\n",
       "      <td>1.749258e-09</td>\n",
       "      <td>MLSKMKLVVLMSFLLLLPLCSSGFGEGHGVTHTNQYSLNNLEESIP...</td>\n",
       "      <td>Arabidopsis thaliana</td>\n",
       "    </tr>\n",
       "  </tbody>\n",
       "</table>\n",
       "<p>86916 rows × 4 columns</p>\n",
       "</div>"
      ],
      "text/plain": [
       "       identifier         score  \\\n",
       "0          O07917  9.999994e-01   \n",
       "1          F4HRT7  9.999990e-01   \n",
       "2          C9J381  9.999990e-01   \n",
       "3      A0A1P8AWJ0  9.999987e-01   \n",
       "4          O31637  9.999986e-01   \n",
       "...           ...           ...   \n",
       "86911  A0A1I9LM80  2.624521e-09   \n",
       "86912      O22882  2.242381e-09   \n",
       "86913      Q9LYX3  2.171691e-09   \n",
       "86914      Q8LCX3  2.169861e-09   \n",
       "86915      Q3E7N2  1.749258e-09   \n",
       "\n",
       "                                                sequence  \\\n",
       "0      MAYVKATAILPEKLISEIQKYVQGKTIYIPKPESSHQKWGACSGTR...   \n",
       "1      MSSSTNDYNDGNNNGVYPLSLYLSSLSGHQDIIHNPYNHQLKASPG...   \n",
       "2      MADYLISGGTGYVPEDGLTAQQLFASADGLTYNDFLILPGFIDFIA...   \n",
       "3      MFPSLDTNGYDLFDPFIPHQTTMFPSFITHIQSPNSHHHYSSPSFP...   \n",
       "4      MTDQMIAWEIEEWIRDYKFMLREIKRLNRVLNKVDFISTKLTATYG...   \n",
       "...                                                  ...   \n",
       "86911  MKKSLALIVLLYFLLLMVVHIPANEALRYLPNERLGNLQFLQKGEV...   \n",
       "86912  MDATKIKFDVILLSFLLIISGIPSNLGLSTSVRGTTRSEPEAFHGG...   \n",
       "86913  MKSTVMMIFLIIYLLIAVPCFAKGSEQTDSEVYEIDYRGPETHNSR...   \n",
       "86914  MKRQVMIFVMLVAFFVVFLDVKQVEAMRPFPTAADEIRFVFQALQR...   \n",
       "86915  MLSKMKLVVLMSFLLLLPLCSSGFGEGHGVTHTNQYSLNNLEESIP...   \n",
       "\n",
       "                             Organism  \n",
       "0      Bacillus subtilis (strain 168)  \n",
       "1                Arabidopsis thaliana  \n",
       "2                        Homo sapiens  \n",
       "3                Arabidopsis thaliana  \n",
       "4      Bacillus subtilis (strain 168)  \n",
       "...                               ...  \n",
       "86911            Arabidopsis thaliana  \n",
       "86912            Arabidopsis thaliana  \n",
       "86913            Arabidopsis thaliana  \n",
       "86914            Arabidopsis thaliana  \n",
       "86915            Arabidopsis thaliana  \n",
       "\n",
       "[86916 rows x 4 columns]"
      ]
     },
     "execution_count": 18,
     "metadata": {},
     "output_type": "execute_result"
    }
   ],
   "source": [
    "df"
   ]
  },
  {
   "cell_type": "code",
   "execution_count": 19,
   "metadata": {},
   "outputs": [],
   "source": [
    "grouped = df.groupby(\"Organism\")"
   ]
  },
  {
   "cell_type": "code",
   "execution_count": 20,
   "metadata": {},
   "outputs": [],
   "source": [
    "thresholds = [0.5, 0.6, 0.7, 0.8, 0.9]\n",
    "stats = {}\n",
    "for name, sub_df in grouped:\n",
    "    for threshold in thresholds:\n",
    "        count = len(sub_df[sub_df[\"score\"] > threshold])\n",
    "        group_name = name + \"_\" + str(threshold)\n",
    "        stats[group_name] = count"
   ]
  },
  {
   "cell_type": "code",
   "execution_count": 23,
   "metadata": {},
   "outputs": [
    {
     "data": {
      "text/plain": [
       "{'Arabidopsis thaliana_0.5': 1073,\n",
       " 'Arabidopsis thaliana_0.6': 951,\n",
       " 'Arabidopsis thaliana_0.7': 854,\n",
       " 'Arabidopsis thaliana_0.8': 747,\n",
       " 'Arabidopsis thaliana_0.9': 591,\n",
       " 'Bacillus subtilis (strain 168)_0.5': 217,\n",
       " 'Bacillus subtilis (strain 168)_0.6': 177,\n",
       " 'Bacillus subtilis (strain 168)_0.7': 155,\n",
       " 'Bacillus subtilis (strain 168)_0.8': 129,\n",
       " 'Bacillus subtilis (strain 168)_0.9': 93,\n",
       " 'Escherichia coli (strain K12)_0.5': 151,\n",
       " 'Escherichia coli (strain K12)_0.6': 131,\n",
       " 'Escherichia coli (strain K12)_0.7': 114,\n",
       " 'Escherichia coli (strain K12)_0.8': 100,\n",
       " 'Escherichia coli (strain K12)_0.9': 74,\n",
       " 'Homo sapiens_0.5': 1597,\n",
       " 'Homo sapiens_0.6': 1389,\n",
       " 'Homo sapiens_0.7': 1205,\n",
       " 'Homo sapiens_0.8': 1012,\n",
       " 'Homo sapiens_0.9': 792,\n",
       " 'Komagataella pastoris_0.5': 238,\n",
       " 'Komagataella pastoris_0.6': 214,\n",
       " 'Komagataella pastoris_0.7': 181,\n",
       " 'Komagataella pastoris_0.8': 162,\n",
       " 'Komagataella pastoris_0.9': 131,\n",
       " 'Organism name not found_0.5': 0,\n",
       " 'Organism name not found_0.6': 0,\n",
       " 'Organism name not found_0.7': 0,\n",
       " 'Organism name not found_0.8': 0,\n",
       " 'Organism name not found_0.9': 0,\n",
       " 'Saccharomyces cerevisiae (strain ATCC 204508 / S288c)_0.5': 96,\n",
       " 'Saccharomyces cerevisiae (strain ATCC 204508 / S288c)_0.6': 79,\n",
       " 'Saccharomyces cerevisiae (strain ATCC 204508 / S288c)_0.7': 68,\n",
       " 'Saccharomyces cerevisiae (strain ATCC 204508 / S288c)_0.8': 49,\n",
       " 'Saccharomyces cerevisiae (strain ATCC 204508 / S288c)_0.9': 31}"
      ]
     },
     "execution_count": 23,
     "metadata": {},
     "output_type": "execute_result"
    }
   ],
   "source": [
    "stats"
   ]
  },
  {
   "cell_type": "code",
   "execution_count": null,
   "metadata": {},
   "outputs": [],
   "source": [
    "stats[]"
   ]
  }
 ],
 "metadata": {
  "kernelspec": {
   "display_name": "Python 3 (ipykernel)",
   "language": "python",
   "name": "python3"
  },
  "language_info": {
   "codemirror_mode": {
    "name": "ipython",
    "version": 3
   },
   "file_extension": ".py",
   "mimetype": "text/x-python",
   "name": "python",
   "nbconvert_exporter": "python",
   "pygments_lexer": "ipython3",
   "version": "3.11.5"
  }
 },
 "nbformat": 4,
 "nbformat_minor": 4
}
