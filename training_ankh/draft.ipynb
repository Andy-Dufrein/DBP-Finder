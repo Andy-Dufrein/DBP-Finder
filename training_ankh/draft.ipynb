{
 "cells": [
  {
   "cell_type": "code",
   "execution_count": 18,
   "metadata": {},
   "outputs": [],
   "source": [
    "import yaml\n",
    "import torch\n",
    "import ankh\n",
    "from data_prepare import load_embeddings_to_df\n",
    "from torch_utils import InferenceDataset, load_models"
   ]
  },
  {
   "cell_type": "code",
   "execution_count": 16,
   "metadata": {},
   "outputs": [],
   "source": [
    "models = load_models()"
   ]
  },
  {
   "cell_type": "code",
   "execution_count": null,
   "metadata": {},
   "outputs": [],
   "source": []
  },
  {
   "cell_type": "code",
   "execution_count": null,
   "metadata": {},
   "outputs": [],
   "source": []
  },
  {
   "cell_type": "code",
   "execution_count": 3,
   "metadata": {},
   "outputs": [],
   "source": [
    "df = prepare_embed_df()"
   ]
  },
  {
   "cell_type": "code",
   "execution_count": 4,
   "metadata": {},
   "outputs": [],
   "source": [
    "train_folds, valid_folds = make_folds(df)"
   ]
  },
  {
   "cell_type": "code",
   "execution_count": 12,
   "metadata": {},
   "outputs": [
    {
     "data": {
      "text/plain": [
       "1    28136\n",
       "0    27761\n",
       "Name: label, dtype: int64"
      ]
     },
     "execution_count": 12,
     "metadata": {},
     "output_type": "execute_result"
    }
   ],
   "source": [
    "train_folds[0].label.value_counts()"
   ]
  },
  {
   "cell_type": "markdown",
   "metadata": {},
   "source": [
    "Количество параметров в модели"
   ]
  },
  {
   "cell_type": "code",
   "execution_count": 3,
   "metadata": {},
   "outputs": [],
   "source": [
    "with open(\"config.yml\", \"r\") as f:\n",
    "    config = yaml.safe_load(f)\n",
    "\n",
    "# %%\n",
    "input_dim = config[\"model_config\"][\"input_dim\"]\n",
    "nhead = config[\"model_config\"][\"nhead\"]\n",
    "hidden_dim = config[\"model_config\"][\"hidden_dim\"]\n",
    "num_hidden_layers = config[\"model_config\"][\"num_hidden_layers\"]\n",
    "num_layers = config[\"model_config\"][\"num_layers\"]\n",
    "kernel_size = config[\"model_config\"][\"kernel_size\"]\n",
    "dropout = config[\"model_config\"][\"dropout\"]\n",
    "pooling = config[\"model_config\"][\"pooling\"]\n",
    "\n",
    "\n",
    "epochs = config[\"training_config\"][\"epochs\"]\n",
    "lr = config[\"training_config\"][\"lr\"]\n",
    "factor = config[\"training_config\"][\"factor\"]\n",
    "patience = config[\"training_config\"][\"patience\"]\n",
    "min_lr = config[\"training_config\"][\"min_lr\"]\n",
    "batch_size = config[\"training_config\"][\"batch_size\"]\n",
    "seed = config[\"training_config\"][\"seed\"]\n",
    "num_workers = config[\"training_config\"][\"num_workers\"]"
   ]
  },
  {
   "cell_type": "code",
   "execution_count": 5,
   "metadata": {},
   "outputs": [],
   "source": [
    "binary_classification_model = ankh.ConvBertForBinaryClassification(\n",
    "        input_dim=input_dim,\n",
    "        nhead=nhead,\n",
    "        hidden_dim=hidden_dim,\n",
    "        num_hidden_layers=num_hidden_layers,\n",
    "        num_layers=num_layers,\n",
    "        kernel_size=kernel_size,\n",
    "        dropout=dropout,\n",
    "        pooling=pooling,\n",
    "    )"
   ]
  },
  {
   "cell_type": "code",
   "execution_count": 7,
   "metadata": {},
   "outputs": [],
   "source": [
    "total_params = sum(p.numel() for p in binary_classification_model.parameters())"
   ]
  },
  {
   "cell_type": "code",
   "execution_count": 9,
   "metadata": {},
   "outputs": [],
   "source": [
    "trainable_params = sum(p.numel() for p in binary_classification_model.parameters() if p.requires_grad)"
   ]
  },
  {
   "cell_type": "code",
   "execution_count": 10,
   "metadata": {},
   "outputs": [
    {
     "data": {
      "text/plain": [
       "(13013775, 13013775)"
      ]
     },
     "execution_count": 10,
     "metadata": {},
     "output_type": "execute_result"
    }
   ],
   "source": [
    "total_params, trainable_params"
   ]
  },
  {
   "cell_type": "code",
   "execution_count": null,
   "metadata": {},
   "outputs": [],
   "source": []
  },
  {
   "cell_type": "code",
   "execution_count": 2,
   "metadata": {},
   "outputs": [],
   "source": [
    "embed_df = load_embeddings_to_df(\"../data/embeddings/ankh_embeddings/not_annotated_seqs_v1_2d.h5\")"
   ]
  },
  {
   "cell_type": "code",
   "execution_count": 3,
   "metadata": {},
   "outputs": [],
   "source": [
    "inderence_dataset = InferenceDataset(embed_df)"
   ]
  },
  {
   "cell_type": "code",
   "execution_count": 5,
   "metadata": {},
   "outputs": [],
   "source": [
    "from torch.utils.data import DataLoader"
   ]
  },
  {
   "cell_type": "code",
   "execution_count": 20,
   "metadata": {},
   "outputs": [],
   "source": [
    "inference_dataloader = DataLoader(\n",
    "        inderence_dataset,\n",
    "        num_workers=1,\n",
    "        shuffle=False,\n",
    "        batch_size=1,\n",
    "    )"
   ]
  },
  {
   "cell_type": "code",
   "execution_count": 9,
   "metadata": {},
   "outputs": [],
   "source": [
    "id_, x = next(iter(inference_dataloader))"
   ]
  },
  {
   "cell_type": "code",
   "execution_count": null,
   "metadata": {},
   "outputs": [],
   "source": [
    "id_"
   ]
  },
  {
   "cell_type": "code",
   "execution_count": 19,
   "metadata": {},
   "outputs": [],
   "source": [
    "DEVICE = torch.device(\"cuda:0\" if torch.cuda.is_available() else \"cpu\")"
   ]
  },
  {
   "cell_type": "code",
   "execution_count": 42,
   "metadata": {},
   "outputs": [],
   "source": [
    "identifiers = []\n",
    "scores = []\n",
    "with torch.no_grad():\n",
    "    for id_, x in inference_dataloader:\n",
    "        x = x.to(DEVICE)\n",
    "        ens_logits = []\n",
    "\n",
    "        for model in models:\n",
    "            model.eval()\n",
    "            model = model.to(DEVICE)\n",
    "            output = model(x)\n",
    "\n",
    "            logits = output.logits\n",
    "            ens_logits.append(logits)\n",
    "\n",
    "        ens_logits = torch.stack(ens_logits, dim=0)\n",
    "        ens_logits = torch.mean(ens_logits, dim=0)\n",
    "        prob_score = torch.sigmoid(ens_logits)\n",
    "\n",
    "        identifiers.extend(id_)\n",
    "        scores.append(prob_score.cpu().numpy().item())\n",
    "        break"
   ]
  },
  {
   "cell_type": "code",
   "execution_count": 29,
   "metadata": {},
   "outputs": [],
   "source": [
    "a = scores[0] > 0.5"
   ]
  },
  {
   "cell_type": "code",
   "execution_count": 44,
   "metadata": {},
   "outputs": [
    {
     "data": {
      "text/plain": [
       "['A0A023PYF4']"
      ]
     },
     "execution_count": 44,
     "metadata": {},
     "output_type": "execute_result"
    },
    {
     "ename": "",
     "evalue": "",
     "output_type": "error",
     "traceback": [
      "\u001b[1;31mThe Kernel crashed while executing code in the current cell or a previous cell. \n",
      "\u001b[1;31mPlease review the code in the cell(s) to identify a possible cause of the failure. \n",
      "\u001b[1;31mClick <a href='https://aka.ms/vscodeJupyterKernelCrash'>here</a> for more info. \n",
      "\u001b[1;31mView Jupyter <a href='command:jupyter.viewOutput'>log</a> for further details."
     ]
    }
   ],
   "source": [
    "identifiers"
   ]
  },
  {
   "cell_type": "code",
   "execution_count": null,
   "metadata": {},
   "outputs": [],
   "source": []
  }
 ],
 "metadata": {
  "kernelspec": {
   "display_name": "Python 3 (ipykernel)",
   "language": "python",
   "name": "python3"
  },
  "language_info": {
   "codemirror_mode": {
    "name": "ipython",
    "version": 3
   },
   "file_extension": ".py",
   "mimetype": "text/x-python",
   "name": "python",
   "nbconvert_exporter": "python",
   "pygments_lexer": "ipython3",
   "version": "3.11.5"
  }
 },
 "nbformat": 4,
 "nbformat_minor": 4
}
