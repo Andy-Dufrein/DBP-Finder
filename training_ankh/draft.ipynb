{
 "cells": [
  {
   "cell_type": "code",
   "execution_count": 1,
   "metadata": {},
   "outputs": [],
   "source": [
    "# Enable autoreload\n",
    "%load_ext autoreload\n",
    "\n",
    "# Set autoreload mode to automatically reload all modules\n",
    "%autoreload 2"
   ]
  },
  {
   "cell_type": "code",
   "execution_count": 2,
   "metadata": {},
   "outputs": [],
   "source": [
    "import logging\n",
    "import ankh\n",
    "import clearml\n",
    "import numpy as np\n",
    "import pandas as pd\n",
    "import torch\n",
    "import yaml\n",
    "from clearml import Logger, Task\n",
    "from sklearn.metrics import roc_curve, auc\n",
    "from data_prepare import get_embed_clustered_df, make_folds\n",
    "from torch.optim import AdamW\n",
    "from torch.optim.lr_scheduler import ReduceLROnPlateau\n",
    "from torch.utils.data import DataLoader\n",
    "from torch_utils import (CustomBatchSampler, SequenceDataset,\n",
    "                         custom_collate_fn, train_fn, validate_fn, load_models)"
   ]
  },
  {
   "cell_type": "code",
   "execution_count": 3,
   "metadata": {},
   "outputs": [],
   "source": [
    "DEVICE = torch.device(\"cuda:0\" if torch.cuda.is_available() else \"cpu\")"
   ]
  },
  {
   "cell_type": "code",
   "execution_count": 4,
   "metadata": {},
   "outputs": [
    {
     "ename": "RuntimeError",
     "evalue": "Error(s) in loading state_dict for ConvBertForBinaryClassification:\n\tUnexpected key(s) in state_dict: \"transformer_encoder.1.attention.self.query.weight\", \"transformer_encoder.1.attention.self.query.bias\", \"transformer_encoder.1.attention.self.key.weight\", \"transformer_encoder.1.attention.self.key.bias\", \"transformer_encoder.1.attention.self.value.weight\", \"transformer_encoder.1.attention.self.value.bias\", \"transformer_encoder.1.attention.self.key_conv_attn_layer.bias\", \"transformer_encoder.1.attention.self.key_conv_attn_layer.depthwise.weight\", \"transformer_encoder.1.attention.self.key_conv_attn_layer.pointwise.weight\", \"transformer_encoder.1.attention.self.conv_kernel_layer.weight\", \"transformer_encoder.1.attention.self.conv_kernel_layer.bias\", \"transformer_encoder.1.attention.self.conv_out_layer.weight\", \"transformer_encoder.1.attention.self.conv_out_layer.bias\", \"transformer_encoder.1.attention.output.dense.weight\", \"transformer_encoder.1.attention.output.dense.bias\", \"transformer_encoder.1.attention.output.LayerNorm.weight\", \"transformer_encoder.1.attention.output.LayerNorm.bias\", \"transformer_encoder.1.intermediate.dense.weight\", \"transformer_encoder.1.intermediate.dense.bias\", \"transformer_encoder.1.output.dense.weight\", \"transformer_encoder.1.output.dense.bias\", \"transformer_encoder.1.output.LayerNorm.weight\", \"transformer_encoder.1.output.LayerNorm.bias\". \n\tsize mismatch for transformer_encoder.0.intermediate.dense.weight: copying a param with shape torch.Size([728, 1536]) from checkpoint, the shape in current model is torch.Size([1536, 1536]).\n\tsize mismatch for transformer_encoder.0.intermediate.dense.bias: copying a param with shape torch.Size([728]) from checkpoint, the shape in current model is torch.Size([1536]).\n\tsize mismatch for transformer_encoder.0.output.dense.weight: copying a param with shape torch.Size([1536, 728]) from checkpoint, the shape in current model is torch.Size([1536, 1536]).",
     "output_type": "error",
     "traceback": [
      "\u001b[0;31m---------------------------------------------------------------------------\u001b[0m",
      "\u001b[0;31mRuntimeError\u001b[0m                              Traceback (most recent call last)",
      "Cell \u001b[0;32mIn[4], line 1\u001b[0m\n\u001b[0;32m----> 1\u001b[0m models \u001b[38;5;241m=\u001b[39m \u001b[43mload_models\u001b[49m\u001b[43m(\u001b[49m\u001b[43mprefix_name\u001b[49m\u001b[38;5;241;43m=\u001b[39;49m\u001b[38;5;124;43m\"\u001b[39;49m\u001b[38;5;124;43mcheckpoints/pdb2272_\u001b[39;49m\u001b[38;5;124;43m\"\u001b[39;49m\u001b[43m)\u001b[49m\n",
      "File \u001b[0;32m~/bind_predict/training_ankh/torch_utils.py:252\u001b[0m, in \u001b[0;36mload_models\u001b[0;34m(prefix_name, num_models, config_path)\u001b[0m\n\u001b[1;32m    240\u001b[0m     model \u001b[38;5;241m=\u001b[39m ankh\u001b[38;5;241m.\u001b[39mConvBertForBinaryClassification(\n\u001b[1;32m    241\u001b[0m         input_dim\u001b[38;5;241m=\u001b[39minput_dim,\n\u001b[1;32m    242\u001b[0m         nhead\u001b[38;5;241m=\u001b[39mnhead,\n\u001b[0;32m   (...)\u001b[0m\n\u001b[1;32m    248\u001b[0m         pooling\u001b[38;5;241m=\u001b[39mpooling,\n\u001b[1;32m    249\u001b[0m     )\n\u001b[1;32m    251\u001b[0m     path_model \u001b[38;5;241m=\u001b[39m prefix_name \u001b[38;5;241m+\u001b[39m \u001b[38;5;124mf\u001b[39m\u001b[38;5;124m\"\u001b[39m\u001b[38;5;132;01m{\u001b[39;00mi\u001b[38;5;132;01m}\u001b[39;00m\u001b[38;5;124m.pth\u001b[39m\u001b[38;5;124m\"\u001b[39m\n\u001b[0;32m--> 252\u001b[0m     \u001b[43mmodel\u001b[49m\u001b[38;5;241;43m.\u001b[39;49m\u001b[43mload_state_dict\u001b[49m\u001b[43m(\u001b[49m\u001b[43mtorch\u001b[49m\u001b[38;5;241;43m.\u001b[39;49m\u001b[43mload\u001b[49m\u001b[43m(\u001b[49m\u001b[43mpath_model\u001b[49m\u001b[43m)\u001b[49m\u001b[43m)\u001b[49m\n\u001b[1;32m    253\u001b[0m     models[i] \u001b[38;5;241m=\u001b[39m model\u001b[38;5;241m.\u001b[39meval()\n\u001b[1;32m    255\u001b[0m \u001b[38;5;28;01mreturn\u001b[39;00m models\n",
      "File \u001b[0;32m~/anaconda3/envs/bind_predict/lib/python3.11/site-packages/torch/nn/modules/module.py:2041\u001b[0m, in \u001b[0;36mModule.load_state_dict\u001b[0;34m(self, state_dict, strict)\u001b[0m\n\u001b[1;32m   2036\u001b[0m         error_msgs\u001b[38;5;241m.\u001b[39minsert(\n\u001b[1;32m   2037\u001b[0m             \u001b[38;5;241m0\u001b[39m, \u001b[38;5;124m'\u001b[39m\u001b[38;5;124mMissing key(s) in state_dict: \u001b[39m\u001b[38;5;132;01m{}\u001b[39;00m\u001b[38;5;124m. \u001b[39m\u001b[38;5;124m'\u001b[39m\u001b[38;5;241m.\u001b[39mformat(\n\u001b[1;32m   2038\u001b[0m                 \u001b[38;5;124m'\u001b[39m\u001b[38;5;124m, \u001b[39m\u001b[38;5;124m'\u001b[39m\u001b[38;5;241m.\u001b[39mjoin(\u001b[38;5;124m'\u001b[39m\u001b[38;5;124m\"\u001b[39m\u001b[38;5;132;01m{}\u001b[39;00m\u001b[38;5;124m\"\u001b[39m\u001b[38;5;124m'\u001b[39m\u001b[38;5;241m.\u001b[39mformat(k) \u001b[38;5;28;01mfor\u001b[39;00m k \u001b[38;5;129;01min\u001b[39;00m missing_keys)))\n\u001b[1;32m   2040\u001b[0m \u001b[38;5;28;01mif\u001b[39;00m \u001b[38;5;28mlen\u001b[39m(error_msgs) \u001b[38;5;241m>\u001b[39m \u001b[38;5;241m0\u001b[39m:\n\u001b[0;32m-> 2041\u001b[0m     \u001b[38;5;28;01mraise\u001b[39;00m \u001b[38;5;167;01mRuntimeError\u001b[39;00m(\u001b[38;5;124m'\u001b[39m\u001b[38;5;124mError(s) in loading state_dict for \u001b[39m\u001b[38;5;132;01m{}\u001b[39;00m\u001b[38;5;124m:\u001b[39m\u001b[38;5;130;01m\\n\u001b[39;00m\u001b[38;5;130;01m\\t\u001b[39;00m\u001b[38;5;132;01m{}\u001b[39;00m\u001b[38;5;124m'\u001b[39m\u001b[38;5;241m.\u001b[39mformat(\n\u001b[1;32m   2042\u001b[0m                        \u001b[38;5;28mself\u001b[39m\u001b[38;5;241m.\u001b[39m\u001b[38;5;18m__class__\u001b[39m\u001b[38;5;241m.\u001b[39m\u001b[38;5;18m__name__\u001b[39m, \u001b[38;5;124m\"\u001b[39m\u001b[38;5;130;01m\\n\u001b[39;00m\u001b[38;5;130;01m\\t\u001b[39;00m\u001b[38;5;124m\"\u001b[39m\u001b[38;5;241m.\u001b[39mjoin(error_msgs)))\n\u001b[1;32m   2043\u001b[0m \u001b[38;5;28;01mreturn\u001b[39;00m _IncompatibleKeys(missing_keys, unexpected_keys)\n",
      "\u001b[0;31mRuntimeError\u001b[0m: Error(s) in loading state_dict for ConvBertForBinaryClassification:\n\tUnexpected key(s) in state_dict: \"transformer_encoder.1.attention.self.query.weight\", \"transformer_encoder.1.attention.self.query.bias\", \"transformer_encoder.1.attention.self.key.weight\", \"transformer_encoder.1.attention.self.key.bias\", \"transformer_encoder.1.attention.self.value.weight\", \"transformer_encoder.1.attention.self.value.bias\", \"transformer_encoder.1.attention.self.key_conv_attn_layer.bias\", \"transformer_encoder.1.attention.self.key_conv_attn_layer.depthwise.weight\", \"transformer_encoder.1.attention.self.key_conv_attn_layer.pointwise.weight\", \"transformer_encoder.1.attention.self.conv_kernel_layer.weight\", \"transformer_encoder.1.attention.self.conv_kernel_layer.bias\", \"transformer_encoder.1.attention.self.conv_out_layer.weight\", \"transformer_encoder.1.attention.self.conv_out_layer.bias\", \"transformer_encoder.1.attention.output.dense.weight\", \"transformer_encoder.1.attention.output.dense.bias\", \"transformer_encoder.1.attention.output.LayerNorm.weight\", \"transformer_encoder.1.attention.output.LayerNorm.bias\", \"transformer_encoder.1.intermediate.dense.weight\", \"transformer_encoder.1.intermediate.dense.bias\", \"transformer_encoder.1.output.dense.weight\", \"transformer_encoder.1.output.dense.bias\", \"transformer_encoder.1.output.LayerNorm.weight\", \"transformer_encoder.1.output.LayerNorm.bias\". \n\tsize mismatch for transformer_encoder.0.intermediate.dense.weight: copying a param with shape torch.Size([728, 1536]) from checkpoint, the shape in current model is torch.Size([1536, 1536]).\n\tsize mismatch for transformer_encoder.0.intermediate.dense.bias: copying a param with shape torch.Size([728]) from checkpoint, the shape in current model is torch.Size([1536]).\n\tsize mismatch for transformer_encoder.0.output.dense.weight: copying a param with shape torch.Size([1536, 728]) from checkpoint, the shape in current model is torch.Size([1536, 1536])."
     ]
    }
   ],
   "source": [
    "models = load_models(prefix_name=\"checkpoints/pdb2272_\")"
   ]
  },
  {
   "cell_type": "code",
   "execution_count": 29,
   "metadata": {},
   "outputs": [],
   "source": [
    "input_data = \"pdb2272\"\n",
    "batch_size = 10"
   ]
  },
  {
   "cell_type": "code",
   "execution_count": 30,
   "metadata": {},
   "outputs": [],
   "source": [
    "test_df = get_embed_clustered_df(\n",
    "    embedding_path=f\"../../../../ssd2/dbp_finder/ankh_embeddings/{input_data}_2d.h5\",\n",
    "    csv_path=f\"../data/embeddings/input_csv/{input_data}.csv\",\n",
    ")"
   ]
  },
  {
   "cell_type": "code",
   "execution_count": 31,
   "metadata": {},
   "outputs": [],
   "source": [
    "dataset = SequenceDataset(test_df)\n",
    "# sampler = CustomBatchSampler(dataset, batch_size)\n",
    "dataloader = DataLoader(\n",
    "        dataset,\n",
    "        num_workers=1,\n",
    "        batch_size=batch_size,\n",
    "        shuffle=False,\n",
    "        collate_fn=custom_collate_fn,\n",
    "    )"
   ]
  },
  {
   "cell_type": "code",
   "execution_count": 37,
   "metadata": {},
   "outputs": [],
   "source": [
    "prev_dim = 0\n",
    "unique_dim = []\n",
    "for x, y in dataloader:\n",
    "    dim_l = x.shape[1]\n",
    "    if dim_l != prev_dim:\n",
    "        unique_dim.append(dim_l)\n",
    "        prev_dim = dim_l\n"
   ]
  },
  {
   "cell_type": "code",
   "execution_count": 38,
   "metadata": {},
   "outputs": [
    {
     "data": {
      "text/plain": [
       "[979,\n",
       " 924,\n",
       " 785,\n",
       " 847,\n",
       " 857,\n",
       " 943,\n",
       " 694,\n",
       " 977,\n",
       " 790,\n",
       " 765,\n",
       " 956,\n",
       " 1017,\n",
       " 732,\n",
       " 960,\n",
       " 1012,\n",
       " 956,\n",
       " 886,\n",
       " 865,\n",
       " 645,\n",
       " 457,\n",
       " 925,\n",
       " 829,\n",
       " 974,\n",
       " 865,\n",
       " 646,\n",
       " 910,\n",
       " 714,\n",
       " 4911,\n",
       " 1507,\n",
       " 1627,\n",
       " 985,\n",
       " 1244,\n",
       " 1412,\n",
       " 1368,\n",
       " 1530,\n",
       " 1380,\n",
       " 1622,\n",
       " 648,\n",
       " 1223,\n",
       " 1129,\n",
       " 1250,\n",
       " 1226,\n",
       " 1718,\n",
       " 1128,\n",
       " 2286,\n",
       " 1250,\n",
       " 1137,\n",
       " 2649,\n",
       " 4128,\n",
       " 1351,\n",
       " 1969,\n",
       " 1235,\n",
       " 829,\n",
       " 1528,\n",
       " 2716,\n",
       " 811,\n",
       " 1025,\n",
       " 1129,\n",
       " 1188,\n",
       " 2717,\n",
       " 1107,\n",
       " 886,\n",
       " 733,\n",
       " 1132,\n",
       " 1314,\n",
       " 1333,\n",
       " 1196,\n",
       " 2517,\n",
       " 3726,\n",
       " 766,\n",
       " 1756,\n",
       " 2492,\n",
       " 1613,\n",
       " 1589,\n",
       " 1461,\n",
       " 982,\n",
       " 1148,\n",
       " 1581,\n",
       " 1044,\n",
       " 722,\n",
       " 1380,\n",
       " 742,\n",
       " 880,\n",
       " 1209,\n",
       " 1193,\n",
       " 1455,\n",
       " 1487,\n",
       " 866,\n",
       " 3664,\n",
       " 2452,\n",
       " 2248,\n",
       " 3130,\n",
       " 1853,\n",
       " 944,\n",
       " 2175,\n",
       " 1151,\n",
       " 2150,\n",
       " 1104,\n",
       " 1403,\n",
       " 1281,\n",
       " 725,\n",
       " 602,\n",
       " 2130,\n",
       " 2715,\n",
       " 1174,\n",
       " 1487,\n",
       " 1432,\n",
       " 1542,\n",
       " 1323,\n",
       " 1109,\n",
       " 1048,\n",
       " 1226,\n",
       " 1895,\n",
       " 1878,\n",
       " 1044,\n",
       " 1358,\n",
       " 1383,\n",
       " 1267,\n",
       " 1513,\n",
       " 1510,\n",
       " 1311,\n",
       " 1002,\n",
       " 1089,\n",
       " 970,\n",
       " 941,\n",
       " 999,\n",
       " 712,\n",
       " 563,\n",
       " 1426,\n",
       " 1074,\n",
       " 804,\n",
       " 2249,\n",
       " 1137,\n",
       " 2442,\n",
       " 5183,\n",
       " 607,\n",
       " 893,\n",
       " 811,\n",
       " 2971,\n",
       " 1420,\n",
       " 738,\n",
       " 667,\n",
       " 1123,\n",
       " 552,\n",
       " 955,\n",
       " 1034,\n",
       " 1178,\n",
       " 2034,\n",
       " 1744,\n",
       " 525,\n",
       " 607,\n",
       " 608,\n",
       " 340,\n",
       " 633,\n",
       " 1035,\n",
       " 968,\n",
       " 1563,\n",
       " 820,\n",
       " 569,\n",
       " 642,\n",
       " 732,\n",
       " 839,\n",
       " 1520,\n",
       " 696,\n",
       " 803,\n",
       " 1193,\n",
       " 1171,\n",
       " 904,\n",
       " 1407,\n",
       " 423,\n",
       " 674,\n",
       " 841,\n",
       " 898,\n",
       " 502,\n",
       " 905,\n",
       " 892,\n",
       " 1271,\n",
       " 540,\n",
       " 1607,\n",
       " 905,\n",
       " 673,\n",
       " 1144,\n",
       " 664,\n",
       " 998,\n",
       " 1140,\n",
       " 1955,\n",
       " 599,\n",
       " 534,\n",
       " 687,\n",
       " 801,\n",
       " 644,\n",
       " 1698,\n",
       " 745,\n",
       " 1380,\n",
       " 557,\n",
       " 3947,\n",
       " 602,\n",
       " 2715,\n",
       " 1156,\n",
       " 1830,\n",
       " 4074,\n",
       " 354,\n",
       " 578,\n",
       " 870,\n",
       " 1164,\n",
       " 371,\n",
       " 2663,\n",
       " 568,\n",
       " 1441,\n",
       " 490,\n",
       " 975,\n",
       " 704,\n",
       " 1060,\n",
       " 651,\n",
       " 850,\n",
       " 1140,\n",
       " 1101,\n",
       " 730,\n",
       " 1495,\n",
       " 1584,\n",
       " 1690,\n",
       " 885,\n",
       " 684,\n",
       " 945,\n",
       " 744,\n",
       " 1191,\n",
       " 668,\n",
       " 370]"
      ]
     },
     "execution_count": 38,
     "metadata": {},
     "output_type": "execute_result"
    }
   ],
   "source": [
    "unique_dim"
   ]
  },
  {
   "cell_type": "code",
   "execution_count": null,
   "metadata": {},
   "outputs": [],
   "source": []
  },
  {
   "cell_type": "code",
   "execution_count": 14,
   "metadata": {},
   "outputs": [
    {
     "data": {
      "text/plain": [
       "torch.Size([32, 979, 1536])"
      ]
     },
     "execution_count": 14,
     "metadata": {},
     "output_type": "execute_result"
    }
   ],
   "source": [
    "a.shape"
   ]
  },
  {
   "cell_type": "code",
   "execution_count": null,
   "metadata": {},
   "outputs": [],
   "source": []
  },
  {
   "cell_type": "code",
   "execution_count": 77,
   "metadata": {},
   "outputs": [],
   "source": [
    "valid_dataset = SequenceDataset(test_df)\n",
    "valid_sampler = CustomBatchSampler(valid_dataset, batch_size=5)\n",
    "valid_dataloader = DataLoader(\n",
    "                              valid_dataset,\n",
    "                              num_workers=1,\n",
    "                              batch_sampler=valid_sampler,\n",
    "                              collate_fn=custom_collate_fn)"
   ]
  },
  {
   "cell_type": "code",
   "execution_count": 79,
   "metadata": {},
   "outputs": [],
   "source": [
    "a, b = next(iter(valid_dataloader))"
   ]
  },
  {
   "cell_type": "code",
   "execution_count": 81,
   "metadata": {},
   "outputs": [
    {
     "data": {
      "text/plain": [
       "torch.Size([5, 354, 1536])"
      ]
     },
     "execution_count": 81,
     "metadata": {},
     "output_type": "execute_result"
    }
   ],
   "source": [
    "a.shape"
   ]
  },
  {
   "cell_type": "code",
   "execution_count": 95,
   "metadata": {},
   "outputs": [],
   "source": [
    "def validate_fn(model, valid_dataloader, DEVICE):\n",
    "    model.eval()\n",
    "    loss = 0.0\n",
    "    all_preds = []\n",
    "    all_labels = []\n",
    "    all_logits = []\n",
    "\n",
    "    with torch.no_grad():\n",
    "        for x, y in valid_dataloader:\n",
    "            x = x.to(DEVICE)\n",
    "            y = y.to(DEVICE)\n",
    "\n",
    "            y = y.unsqueeze(1)\n",
    "\n",
    "            output = model(x, y)\n",
    "            loss += output.loss.item()\n",
    "\n",
    "            prob = torch.sigmoid(output.logits)\n",
    "            preds = (prob > 0.5).float()\n",
    "\n",
    "            all_logits.extend(output.logits.cpu().numpy().flatten())\n",
    "            all_preds.extend(preds.cpu().numpy().flatten())\n",
    "            all_labels.extend(y.cpu().numpy().flatten())\n",
    "            return all_preds"
   ]
  },
  {
   "cell_type": "code",
   "execution_count": 96,
   "metadata": {},
   "outputs": [],
   "source": [
    "model = models[0]"
   ]
  },
  {
   "cell_type": "code",
   "execution_count": 97,
   "metadata": {},
   "outputs": [],
   "source": [
    "all_logits = validate_fn(model, valid_dataloader, DEVICE)"
   ]
  },
  {
   "cell_type": "code",
   "execution_count": 98,
   "metadata": {},
   "outputs": [
    {
     "data": {
      "text/plain": [
       "[1.0, 0.0, 1.0, 1.0, 1.0]"
      ]
     },
     "execution_count": 98,
     "metadata": {},
     "output_type": "execute_result"
    }
   ],
   "source": [
    "all_logits"
   ]
  },
  {
   "cell_type": "code",
   "execution_count": 52,
   "metadata": {},
   "outputs": [],
   "source": [
    "all_logits, all_labels = ens_logits"
   ]
  },
  {
   "cell_type": "code",
   "execution_count": 57,
   "metadata": {},
   "outputs": [],
   "source": [
    "def sigmoid(x):\n",
    "    return 1 / (1 + np.exp(-x))"
   ]
  },
  {
   "cell_type": "code",
   "execution_count": 58,
   "metadata": {},
   "outputs": [],
   "source": [
    "all_logits = np.array(all_logits)\n",
    "prob = sigmoid(all_logits)"
   ]
  },
  {
   "cell_type": "code",
   "execution_count": 60,
   "metadata": {},
   "outputs": [
    {
     "name": "stdout",
     "output_type": "stream",
     "text": [
      "Optimal Threshold: 0.3747879175469912\n"
     ]
    }
   ],
   "source": [
    "fpr, tpr, thresholds = roc_curve(all_labels, prob)\n",
    "youden_j = tpr - fpr\n",
    "optimal_idx = np.argmax(youden_j)\n",
    "optimal_threshold = thresholds[optimal_idx]\n",
    "\n",
    "print(\"Optimal Threshold:\", optimal_threshold)"
   ]
  },
  {
   "cell_type": "code",
   "execution_count": 64,
   "metadata": {},
   "outputs": [],
   "source": [
    "prob = torch.tensor(prob)"
   ]
  },
  {
   "cell_type": "code",
   "execution_count": 66,
   "metadata": {},
   "outputs": [
    {
     "data": {
      "text/plain": [
       "torch.Size([2272])"
      ]
     },
     "execution_count": 66,
     "metadata": {},
     "output_type": "execute_result"
    }
   ],
   "source": [
    "prob.shape"
   ]
  },
  {
   "cell_type": "code",
   "execution_count": 67,
   "metadata": {},
   "outputs": [],
   "source": [
    "all_preds = (prob >= optimal_threshold).float().tolist()"
   ]
  },
  {
   "cell_type": "code",
   "execution_count": 32,
   "metadata": {},
   "outputs": [],
   "source": [
    "\n",
    "from sklearn.metrics import recall_score, roc_auc_score, accuracy_score, matthews_corrcoef, precision_score, f1_score\n",
    "\n",
    "\n",
    "def calculate_metrics(\n",
    "    all_logits: list[float], all_labels: list[float], all_preds: list[float]\n",
    ") -> dict[str, float]:\n",
    "    auc = roc_auc_score(all_labels, all_logits)\n",
    "    accuracy = accuracy_score(all_labels, all_preds)\n",
    "    mcc = matthews_corrcoef(all_labels, all_preds)\n",
    "    precision = precision_score(all_labels, all_preds)\n",
    "    recall = recall_score(all_labels, all_preds)\n",
    "    specificity = recall_score(all_labels, all_preds, pos_label=0)\n",
    "    f1 = f1_score(all_labels, all_preds)\n",
    "\n",
    "    metrics_dict = {\n",
    "        \"Accuracy\": accuracy,\n",
    "        \"Sensitivity\": recall,\n",
    "        \"Specificity\": specificity,\n",
    "        \"Precision\": precision,\n",
    "        \"AUC\": auc,\n",
    "        \"F1\": f1,\n",
    "        \"MCC\": mcc,\n",
    "    }\n",
    "    return metrics_dict"
   ]
  },
  {
   "cell_type": "code",
   "execution_count": 74,
   "metadata": {},
   "outputs": [],
   "source": [
    "metrics_dict = calculate_metrics(all_logits, all_labels, all_preds)"
   ]
  },
  {
   "cell_type": "code",
   "execution_count": 75,
   "metadata": {},
   "outputs": [
    {
     "data": {
      "text/plain": [
       "{'Accuracy': 0.8543133802816901,\n",
       " 'Sensitivity': 0.8256721595836947,\n",
       " 'Specificity': 0.8838248436103664,\n",
       " 'Precision': 0.8798521256931608,\n",
       " 'AUC': 0.9170869480633728,\n",
       " 'F1': 0.8519015659955257,\n",
       " 'MCC': 0.7102204141321365}"
      ]
     },
     "execution_count": 75,
     "metadata": {},
     "output_type": "execute_result"
    }
   ],
   "source": [
    "metrics_dict"
   ]
  },
  {
   "cell_type": "code",
   "execution_count": 35,
   "metadata": {},
   "outputs": [
    {
     "data": {
      "text/plain": [
       "{'Accuracy': 0.8516725352112676,\n",
       " 'Sensitivity': 0.805724197745013,\n",
       " 'Specificity': 0.8990169794459338,\n",
       " 'Precision': 0.8915547024952015,\n",
       " 'AUC': 0.9170869480633728,\n",
       " 'F1': 0.8464692482915718,\n",
       " 'MCC': 0.7070871246705799}"
      ]
     },
     "execution_count": 35,
     "metadata": {},
     "output_type": "execute_result"
    }
   ],
   "source": [
    "metrics_dict"
   ]
  },
  {
   "cell_type": "code",
   "execution_count": 26,
   "metadata": {},
   "outputs": [
    {
     "data": {
      "text/plain": [
       "{'Accuracy': 0.8516725352112676,\n",
       " 'Sensitivity': 0.805724197745013,\n",
       " 'Specificity': 0.8990169794459338,\n",
       " 'Precision': 0.8915547024952015,\n",
       " 'AUC': 0.9170869480633728,\n",
       " 'F1': 0.8464692482915718,\n",
       " 'MCC': 0.7070871246705799}"
      ]
     },
     "execution_count": 26,
     "metadata": {},
     "output_type": "execute_result"
    }
   ],
   "source": [
    "metrics_dict"
   ]
  },
  {
   "cell_type": "code",
   "execution_count": null,
   "metadata": {},
   "outputs": [],
   "source": []
  },
  {
   "cell_type": "code",
   "execution_count": 12,
   "metadata": {},
   "outputs": [
    {
     "name": "stdout",
     "output_type": "stream",
     "text": [
      "ROC AUC: 0.75\n",
      "Optimal Threshold: 0.8\n"
     ]
    }
   ],
   "source": [
    "\n",
    "# Example data\n",
    "y_true = [0.0, 0.0, 1.0, 1.0]\n",
    "y_scores = [0.1, 0.4, 0.35, 0.8]\n",
    "fpr, tpr, thresholds = roc_curve(y_true, y_scores)\n",
    "\n",
    "# Calculate the AUC\n",
    "roc_auc = auc(fpr, tpr)\n",
    "print(f\"ROC AUC: {roc_auc}\")\n",
    "\n",
    "# Find the optimal threshold\n",
    "optimal_idx = np.argmax(tpr - fpr)\n",
    "optimal_threshold = thresholds[optimal_idx]\n",
    "print(f\"Optimal Threshold: {optimal_threshold}\")"
   ]
  },
  {
   "cell_type": "code",
   "execution_count": null,
   "metadata": {},
   "outputs": [],
   "source": []
  },
  {
   "cell_type": "code",
   "execution_count": 5,
   "metadata": {},
   "outputs": [],
   "source": [
    "test_df = get_embed_clustered_df(\n",
    "    embedding_path=\"../data/embeddings/ankh_embeddings/pdb20000_2d.h5\",\n",
    "    csv_path=\"../data/embeddings/input_csv/pdb20000.csv\",\n",
    ")"
   ]
  },
  {
   "cell_type": "code",
   "execution_count": 7,
   "metadata": {},
   "outputs": [],
   "source": [
    "all_logits = torch.tensor([13, -2, 14, 31])\n",
    "prob = torch.sigmoid(all_logits)\n",
    "all_preds = (prob > 0.5).float()"
   ]
  },
  {
   "cell_type": "code",
   "execution_count": 12,
   "metadata": {},
   "outputs": [
    {
     "data": {
      "text/plain": [
       "[1.0, 0.0, 1.0, 1.0]"
      ]
     },
     "execution_count": 12,
     "metadata": {},
     "output_type": "execute_result"
    }
   ],
   "source": [
    "all_preds.tolist()"
   ]
  },
  {
   "cell_type": "code",
   "execution_count": 10,
   "metadata": {},
   "outputs": [
    {
     "data": {
      "text/plain": [
       "[1.0, 0.0, 1.0, 1.0]"
      ]
     },
     "execution_count": 10,
     "metadata": {},
     "output_type": "execute_result"
    }
   ],
   "source": [
    "a = []\n",
    "a.extend(all_preds.numpy())\n",
    "a"
   ]
  },
  {
   "cell_type": "markdown",
   "metadata": {},
   "source": [
    "Частота классов по батчам"
   ]
  },
  {
   "cell_type": "code",
   "execution_count": 3,
   "metadata": {},
   "outputs": [],
   "source": [
    "df = get_embed_clustered_df(\n",
    "    embedding_path=\"../data/embeddings/ankh_embeddings/train_p3_2d.h5\",\n",
    "    csv_path=\"../data/splits/train_p3.csv\",\n",
    ")\n",
    "train_folds, valid_folds = make_folds(df)"
   ]
  },
  {
   "cell_type": "code",
   "execution_count": null,
   "metadata": {},
   "outputs": [],
   "source": [
    "train_folds[0]"
   ]
  },
  {
   "cell_type": "code",
   "execution_count": 37,
   "metadata": {},
   "outputs": [],
   "source": [
    "dataset = SequenceDataset(df)\n",
    "sampler = CustomBatchSampler(dataset, batch_size=64)\n",
    "dataloader = DataLoader(\n",
    "        dataset,\n",
    "        num_workers=1,\n",
    "        batch_sampler=sampler,\n",
    "        collate_fn=custom_collate_fn,\n",
    "    )"
   ]
  },
  {
   "cell_type": "code",
   "execution_count": 67,
   "metadata": {},
   "outputs": [
    {
     "data": {
      "text/plain": [
       "69872"
      ]
     },
     "execution_count": 67,
     "metadata": {},
     "output_type": "execute_result"
    }
   ],
   "source": [
    "len(df)"
   ]
  },
  {
   "cell_type": "code",
   "execution_count": 53,
   "metadata": {},
   "outputs": [],
   "source": [
    "freq_ratio = {}\n",
    "for i, (_, y) in enumerate(dataloader):\n",
    "    zero_freq = torch.sum(y == 0).item()\n",
    "    ones_freq = torch.sum(y == 1).item()\n",
    "\n",
    "    freq_ratio[i] = zero_freq / ones_freq\n"
   ]
  },
  {
   "cell_type": "code",
   "execution_count": 58,
   "metadata": {},
   "outputs": [],
   "source": [
    "ratio_values = list(freq_ratio.values())"
   ]
  },
  {
   "cell_type": "code",
   "execution_count": 74,
   "metadata": {},
   "outputs": [
    {
     "data": {
      "text/plain": [
       "1.0317460317460319"
      ]
     },
     "execution_count": 74,
     "metadata": {},
     "output_type": "execute_result"
    }
   ],
   "source": [
    "np.median(ratio_values)"
   ]
  },
  {
   "cell_type": "code",
   "execution_count": 68,
   "metadata": {},
   "outputs": [],
   "source": [
    "count = 0\n",
    "for i, (_, y) in enumerate(dataloader):\n",
    "    count += len(y)"
   ]
  },
  {
   "cell_type": "code",
   "execution_count": 76,
   "metadata": {},
   "outputs": [
    {
     "data": {
      "text/plain": [
       "1091.75"
      ]
     },
     "execution_count": 76,
     "metadata": {},
     "output_type": "execute_result"
    }
   ],
   "source": [
    "count / 64"
   ]
  },
  {
   "cell_type": "code",
   "execution_count": null,
   "metadata": {},
   "outputs": [],
   "source": []
  },
  {
   "cell_type": "code",
   "execution_count": null,
   "metadata": {},
   "outputs": [],
   "source": []
  },
  {
   "cell_type": "code",
   "execution_count": 66,
   "metadata": {},
   "outputs": [],
   "source": [
    "models = load_models()\n",
    "model = models[0]"
   ]
  },
  {
   "cell_type": "code",
   "execution_count": 7,
   "metadata": {},
   "outputs": [],
   "source": [
    "total_params = sum(p.numel() for p in model.parameters())"
   ]
  },
  {
   "cell_type": "code",
   "execution_count": 9,
   "metadata": {},
   "outputs": [],
   "source": [
    "trainable_params = sum(p.numel() for p in model.parameters() if p.requires_grad)"
   ]
  },
  {
   "cell_type": "code",
   "execution_count": 10,
   "metadata": {},
   "outputs": [
    {
     "data": {
      "text/plain": [
       "(13013775, 13013775)"
      ]
     },
     "execution_count": 10,
     "metadata": {},
     "output_type": "execute_result"
    }
   ],
   "source": [
    "total_params, trainable_params"
   ]
  },
  {
   "cell_type": "code",
   "execution_count": 1,
   "metadata": {},
   "outputs": [
    {
     "data": {
      "text/plain": [
       "13.013775"
      ]
     },
     "execution_count": 1,
     "metadata": {},
     "output_type": "execute_result"
    }
   ],
   "source": [
    "13013775 / 1e6"
   ]
  },
  {
   "cell_type": "code",
   "execution_count": 2,
   "metadata": {},
   "outputs": [],
   "source": [
    "embed_df = load_embeddings_to_df(\"../data/embeddings/ankh_embeddings/not_annotated_seqs_v1_2d.h5\")"
   ]
  },
  {
   "cell_type": "code",
   "execution_count": 3,
   "metadata": {},
   "outputs": [],
   "source": [
    "inderence_dataset = InferenceDataset(embed_df)"
   ]
  },
  {
   "cell_type": "code",
   "execution_count": 5,
   "metadata": {},
   "outputs": [],
   "source": [
    "from torch.utils.data import DataLoader"
   ]
  },
  {
   "cell_type": "code",
   "execution_count": 20,
   "metadata": {},
   "outputs": [],
   "source": [
    "inference_dataloader = DataLoader(\n",
    "        inderence_dataset,\n",
    "        num_workers=1,\n",
    "        shuffle=False,\n",
    "        batch_size=1,\n",
    "    )"
   ]
  },
  {
   "cell_type": "code",
   "execution_count": 9,
   "metadata": {},
   "outputs": [],
   "source": [
    "id_, x = next(iter(inference_dataloader))"
   ]
  },
  {
   "cell_type": "code",
   "execution_count": null,
   "metadata": {},
   "outputs": [],
   "source": [
    "id_"
   ]
  },
  {
   "cell_type": "code",
   "execution_count": 19,
   "metadata": {},
   "outputs": [],
   "source": [
    "DEVICE = torch.device(\"cuda:0\" if torch.cuda.is_available() else \"cpu\")"
   ]
  },
  {
   "cell_type": "code",
   "execution_count": 42,
   "metadata": {},
   "outputs": [],
   "source": [
    "identifiers = []\n",
    "scores = []\n",
    "with torch.no_grad():\n",
    "    for id_, x in inference_dataloader:\n",
    "        x = x.to(DEVICE)\n",
    "        ens_logits = []\n",
    "\n",
    "        for model in models:\n",
    "            model.eval()\n",
    "            model = model.to(DEVICE)\n",
    "            output = model(x)\n",
    "\n",
    "            logits = output.logits\n",
    "            ens_logits.append(logits)\n",
    "\n",
    "        ens_logits = torch.stack(ens_logits, dim=0)\n",
    "        ens_logits = torch.mean(ens_logits, dim=0)\n",
    "        prob_score = torch.sigmoid(ens_logits)\n",
    "\n",
    "        identifiers.extend(id_)\n",
    "        scores.append(prob_score.cpu().numpy().item())\n",
    "        break"
   ]
  },
  {
   "cell_type": "markdown",
   "metadata": {},
   "source": [
    "Предсказание на неанноитрованных данных"
   ]
  },
  {
   "cell_type": "code",
   "execution_count": 3,
   "metadata": {},
   "outputs": [],
   "source": [
    "predictions_df = pd.read_csv(\"../data/not_annotated/predictions.csv\")"
   ]
  },
  {
   "cell_type": "code",
   "execution_count": 11,
   "metadata": {},
   "outputs": [
    {
     "data": {
      "text/html": [
       "<div>\n",
       "<style scoped>\n",
       "    .dataframe tbody tr th:only-of-type {\n",
       "        vertical-align: middle;\n",
       "    }\n",
       "\n",
       "    .dataframe tbody tr th {\n",
       "        vertical-align: top;\n",
       "    }\n",
       "\n",
       "    .dataframe thead th {\n",
       "        text-align: right;\n",
       "    }\n",
       "</style>\n",
       "<table border=\"1\" class=\"dataframe\">\n",
       "  <thead>\n",
       "    <tr style=\"text-align: right;\">\n",
       "      <th></th>\n",
       "      <th>identifier</th>\n",
       "      <th>score</th>\n",
       "    </tr>\n",
       "  </thead>\n",
       "  <tbody>\n",
       "    <tr>\n",
       "      <th>57449</th>\n",
       "      <td>O07917</td>\n",
       "      <td>9.999994e-01</td>\n",
       "    </tr>\n",
       "    <tr>\n",
       "      <th>38847</th>\n",
       "      <td>F4HRT7</td>\n",
       "      <td>9.999990e-01</td>\n",
       "    </tr>\n",
       "    <tr>\n",
       "      <th>29644</th>\n",
       "      <td>C9J381</td>\n",
       "      <td>9.999990e-01</td>\n",
       "    </tr>\n",
       "    <tr>\n",
       "      <th>11514</th>\n",
       "      <td>A0A1P8AWJ0</td>\n",
       "      <td>9.999987e-01</td>\n",
       "    </tr>\n",
       "    <tr>\n",
       "      <th>58007</th>\n",
       "      <td>O31637</td>\n",
       "      <td>9.999986e-01</td>\n",
       "    </tr>\n",
       "    <tr>\n",
       "      <th>...</th>\n",
       "      <td>...</td>\n",
       "      <td>...</td>\n",
       "    </tr>\n",
       "    <tr>\n",
       "      <th>8895</th>\n",
       "      <td>A0A1I9LM80</td>\n",
       "      <td>2.624521e-09</td>\n",
       "    </tr>\n",
       "    <tr>\n",
       "      <th>57646</th>\n",
       "      <td>O22882</td>\n",
       "      <td>2.242381e-09</td>\n",
       "    </tr>\n",
       "    <tr>\n",
       "      <th>81755</th>\n",
       "      <td>Q9LYX3</td>\n",
       "      <td>2.171691e-09</td>\n",
       "    </tr>\n",
       "    <tr>\n",
       "      <th>73864</th>\n",
       "      <td>Q8LCX3</td>\n",
       "      <td>2.169861e-09</td>\n",
       "    </tr>\n",
       "    <tr>\n",
       "      <th>68387</th>\n",
       "      <td>Q3E7N2</td>\n",
       "      <td>1.749258e-09</td>\n",
       "    </tr>\n",
       "  </tbody>\n",
       "</table>\n",
       "<p>86916 rows × 2 columns</p>\n",
       "</div>"
      ],
      "text/plain": [
       "       identifier         score\n",
       "57449      O07917  9.999994e-01\n",
       "38847      F4HRT7  9.999990e-01\n",
       "29644      C9J381  9.999990e-01\n",
       "11514  A0A1P8AWJ0  9.999987e-01\n",
       "58007      O31637  9.999986e-01\n",
       "...           ...           ...\n",
       "8895   A0A1I9LM80  2.624521e-09\n",
       "57646      O22882  2.242381e-09\n",
       "81755      Q9LYX3  2.171691e-09\n",
       "73864      Q8LCX3  2.169861e-09\n",
       "68387      Q3E7N2  1.749258e-09\n",
       "\n",
       "[86916 rows x 2 columns]"
      ]
     },
     "execution_count": 11,
     "metadata": {},
     "output_type": "execute_result"
    }
   ],
   "source": [
    "predictions_df"
   ]
  },
  {
   "cell_type": "code",
   "execution_count": 12,
   "metadata": {},
   "outputs": [],
   "source": [
    "predictions_df = predictions_df.sort_values(by=\"score\", ascending=False)"
   ]
  },
  {
   "cell_type": "code",
   "execution_count": 13,
   "metadata": {},
   "outputs": [],
   "source": [
    "df = pd.read_csv(\"../data/not_annotated/not_annotated_seqs_with_org.csv\")"
   ]
  },
  {
   "cell_type": "code",
   "execution_count": 14,
   "metadata": {},
   "outputs": [
    {
     "data": {
      "text/html": [
       "<div>\n",
       "<style scoped>\n",
       "    .dataframe tbody tr th:only-of-type {\n",
       "        vertical-align: middle;\n",
       "    }\n",
       "\n",
       "    .dataframe tbody tr th {\n",
       "        vertical-align: top;\n",
       "    }\n",
       "\n",
       "    .dataframe thead th {\n",
       "        text-align: right;\n",
       "    }\n",
       "</style>\n",
       "<table border=\"1\" class=\"dataframe\">\n",
       "  <thead>\n",
       "    <tr style=\"text-align: right;\">\n",
       "      <th></th>\n",
       "      <th>identifier</th>\n",
       "      <th>sequence</th>\n",
       "      <th>Organism</th>\n",
       "    </tr>\n",
       "  </thead>\n",
       "  <tbody>\n",
       "    <tr>\n",
       "      <th>0</th>\n",
       "      <td>A0A178U7Y7</td>\n",
       "      <td>MITGDSIDGMDFISSLPDEILHHILSSVPTKSAIRTSLLSKRWRYV...</td>\n",
       "      <td>Arabidopsis thaliana</td>\n",
       "    </tr>\n",
       "    <tr>\n",
       "      <th>1</th>\n",
       "      <td>A0A178U8Q8</td>\n",
       "      <td>MRNAVVALRHHRRVSLLRRIVAFRDDNTICLSPSLKNNELSRQTNS...</td>\n",
       "      <td>Arabidopsis thaliana</td>\n",
       "    </tr>\n",
       "    <tr>\n",
       "      <th>2</th>\n",
       "      <td>A0A178U9N5</td>\n",
       "      <td>MRAKGKKQSEEAPEHAIAMALLCPSLPSPNSRLFRCRSSNISSKYH...</td>\n",
       "      <td>Arabidopsis thaliana</td>\n",
       "    </tr>\n",
       "    <tr>\n",
       "      <th>3</th>\n",
       "      <td>A0A178UBI5</td>\n",
       "      <td>MEMDPLLRSYPDIGYKAFGNTGRVIVSIFMNLELYLVATSFLILEG...</td>\n",
       "      <td>Arabidopsis thaliana</td>\n",
       "    </tr>\n",
       "    <tr>\n",
       "      <th>4</th>\n",
       "      <td>A0A178UCR2</td>\n",
       "      <td>MMKMSIGTTTSGDGEMELRPGGMVVQKRTDHSSSVPRGIRVRVKYG...</td>\n",
       "      <td>Arabidopsis thaliana</td>\n",
       "    </tr>\n",
       "    <tr>\n",
       "      <th>...</th>\n",
       "      <td>...</td>\n",
       "      <td>...</td>\n",
       "      <td>...</td>\n",
       "    </tr>\n",
       "    <tr>\n",
       "      <th>86911</th>\n",
       "      <td>A0A1B2JJA1</td>\n",
       "      <td>MNGYVLVTGGAGYIGSHTVVELLNNDYLVIVVDNLSNSSYHVIKRI...</td>\n",
       "      <td>Komagataella pastoris</td>\n",
       "    </tr>\n",
       "    <tr>\n",
       "      <th>86912</th>\n",
       "      <td>Q96X16</td>\n",
       "      <td>MRLTNLLSLTTLVALAVAVPDFYQKREAVSSKEAALLRRDASAECV...</td>\n",
       "      <td>Komagataella pastoris</td>\n",
       "    </tr>\n",
       "    <tr>\n",
       "      <th>86913</th>\n",
       "      <td>A0A1B2J6E6</td>\n",
       "      <td>MSYSAEDIEVLDKKFPSLKDEFHIPTFKSLGIAPPQSKDENDDSIY...</td>\n",
       "      <td>Komagataella pastoris</td>\n",
       "    </tr>\n",
       "    <tr>\n",
       "      <th>86914</th>\n",
       "      <td>A0A1B2J9A8</td>\n",
       "      <td>MPSPHGGVLQDLIKRDASIKEDLLKEVPQLQSIVLTGRQLCDLELI...</td>\n",
       "      <td>Komagataella pastoris</td>\n",
       "    </tr>\n",
       "    <tr>\n",
       "      <th>86915</th>\n",
       "      <td>A0A1B2JET5</td>\n",
       "      <td>MKKLTFVTGNSNKLKEFLAIVNGSEETSTVGDYEIVCQSVDLPELQ...</td>\n",
       "      <td>Komagataella pastoris</td>\n",
       "    </tr>\n",
       "  </tbody>\n",
       "</table>\n",
       "<p>86916 rows × 3 columns</p>\n",
       "</div>"
      ],
      "text/plain": [
       "       identifier                                           sequence  \\\n",
       "0      A0A178U7Y7  MITGDSIDGMDFISSLPDEILHHILSSVPTKSAIRTSLLSKRWRYV...   \n",
       "1      A0A178U8Q8  MRNAVVALRHHRRVSLLRRIVAFRDDNTICLSPSLKNNELSRQTNS...   \n",
       "2      A0A178U9N5  MRAKGKKQSEEAPEHAIAMALLCPSLPSPNSRLFRCRSSNISSKYH...   \n",
       "3      A0A178UBI5  MEMDPLLRSYPDIGYKAFGNTGRVIVSIFMNLELYLVATSFLILEG...   \n",
       "4      A0A178UCR2  MMKMSIGTTTSGDGEMELRPGGMVVQKRTDHSSSVPRGIRVRVKYG...   \n",
       "...           ...                                                ...   \n",
       "86911  A0A1B2JJA1  MNGYVLVTGGAGYIGSHTVVELLNNDYLVIVVDNLSNSSYHVIKRI...   \n",
       "86912      Q96X16  MRLTNLLSLTTLVALAVAVPDFYQKREAVSSKEAALLRRDASAECV...   \n",
       "86913  A0A1B2J6E6  MSYSAEDIEVLDKKFPSLKDEFHIPTFKSLGIAPPQSKDENDDSIY...   \n",
       "86914  A0A1B2J9A8  MPSPHGGVLQDLIKRDASIKEDLLKEVPQLQSIVLTGRQLCDLELI...   \n",
       "86915  A0A1B2JET5  MKKLTFVTGNSNKLKEFLAIVNGSEETSTVGDYEIVCQSVDLPELQ...   \n",
       "\n",
       "                    Organism  \n",
       "0       Arabidopsis thaliana  \n",
       "1       Arabidopsis thaliana  \n",
       "2       Arabidopsis thaliana  \n",
       "3       Arabidopsis thaliana  \n",
       "4       Arabidopsis thaliana  \n",
       "...                      ...  \n",
       "86911  Komagataella pastoris  \n",
       "86912  Komagataella pastoris  \n",
       "86913  Komagataella pastoris  \n",
       "86914  Komagataella pastoris  \n",
       "86915  Komagataella pastoris  \n",
       "\n",
       "[86916 rows x 3 columns]"
      ]
     },
     "execution_count": 14,
     "metadata": {},
     "output_type": "execute_result"
    }
   ],
   "source": [
    "df"
   ]
  },
  {
   "cell_type": "code",
   "execution_count": 15,
   "metadata": {},
   "outputs": [],
   "source": [
    "df = predictions_df.merge(df, on=\"identifier\")"
   ]
  },
  {
   "cell_type": "code",
   "execution_count": 18,
   "metadata": {},
   "outputs": [
    {
     "data": {
      "text/html": [
       "<div>\n",
       "<style scoped>\n",
       "    .dataframe tbody tr th:only-of-type {\n",
       "        vertical-align: middle;\n",
       "    }\n",
       "\n",
       "    .dataframe tbody tr th {\n",
       "        vertical-align: top;\n",
       "    }\n",
       "\n",
       "    .dataframe thead th {\n",
       "        text-align: right;\n",
       "    }\n",
       "</style>\n",
       "<table border=\"1\" class=\"dataframe\">\n",
       "  <thead>\n",
       "    <tr style=\"text-align: right;\">\n",
       "      <th></th>\n",
       "      <th>identifier</th>\n",
       "      <th>score</th>\n",
       "      <th>sequence</th>\n",
       "      <th>Organism</th>\n",
       "    </tr>\n",
       "  </thead>\n",
       "  <tbody>\n",
       "    <tr>\n",
       "      <th>0</th>\n",
       "      <td>O07917</td>\n",
       "      <td>9.999994e-01</td>\n",
       "      <td>MAYVKATAILPEKLISEIQKYVQGKTIYIPKPESSHQKWGACSGTR...</td>\n",
       "      <td>Bacillus subtilis (strain 168)</td>\n",
       "    </tr>\n",
       "    <tr>\n",
       "      <th>1</th>\n",
       "      <td>F4HRT7</td>\n",
       "      <td>9.999990e-01</td>\n",
       "      <td>MSSSTNDYNDGNNNGVYPLSLYLSSLSGHQDIIHNPYNHQLKASPG...</td>\n",
       "      <td>Arabidopsis thaliana</td>\n",
       "    </tr>\n",
       "    <tr>\n",
       "      <th>2</th>\n",
       "      <td>C9J381</td>\n",
       "      <td>9.999990e-01</td>\n",
       "      <td>MADYLISGGTGYVPEDGLTAQQLFASADGLTYNDFLILPGFIDFIA...</td>\n",
       "      <td>Homo sapiens</td>\n",
       "    </tr>\n",
       "    <tr>\n",
       "      <th>3</th>\n",
       "      <td>A0A1P8AWJ0</td>\n",
       "      <td>9.999987e-01</td>\n",
       "      <td>MFPSLDTNGYDLFDPFIPHQTTMFPSFITHIQSPNSHHHYSSPSFP...</td>\n",
       "      <td>Arabidopsis thaliana</td>\n",
       "    </tr>\n",
       "    <tr>\n",
       "      <th>4</th>\n",
       "      <td>O31637</td>\n",
       "      <td>9.999986e-01</td>\n",
       "      <td>MTDQMIAWEIEEWIRDYKFMLREIKRLNRVLNKVDFISTKLTATYG...</td>\n",
       "      <td>Bacillus subtilis (strain 168)</td>\n",
       "    </tr>\n",
       "    <tr>\n",
       "      <th>...</th>\n",
       "      <td>...</td>\n",
       "      <td>...</td>\n",
       "      <td>...</td>\n",
       "      <td>...</td>\n",
       "    </tr>\n",
       "    <tr>\n",
       "      <th>86911</th>\n",
       "      <td>A0A1I9LM80</td>\n",
       "      <td>2.624521e-09</td>\n",
       "      <td>MKKSLALIVLLYFLLLMVVHIPANEALRYLPNERLGNLQFLQKGEV...</td>\n",
       "      <td>Arabidopsis thaliana</td>\n",
       "    </tr>\n",
       "    <tr>\n",
       "      <th>86912</th>\n",
       "      <td>O22882</td>\n",
       "      <td>2.242381e-09</td>\n",
       "      <td>MDATKIKFDVILLSFLLIISGIPSNLGLSTSVRGTTRSEPEAFHGG...</td>\n",
       "      <td>Arabidopsis thaliana</td>\n",
       "    </tr>\n",
       "    <tr>\n",
       "      <th>86913</th>\n",
       "      <td>Q9LYX3</td>\n",
       "      <td>2.171691e-09</td>\n",
       "      <td>MKSTVMMIFLIIYLLIAVPCFAKGSEQTDSEVYEIDYRGPETHNSR...</td>\n",
       "      <td>Arabidopsis thaliana</td>\n",
       "    </tr>\n",
       "    <tr>\n",
       "      <th>86914</th>\n",
       "      <td>Q8LCX3</td>\n",
       "      <td>2.169861e-09</td>\n",
       "      <td>MKRQVMIFVMLVAFFVVFLDVKQVEAMRPFPTAADEIRFVFQALQR...</td>\n",
       "      <td>Arabidopsis thaliana</td>\n",
       "    </tr>\n",
       "    <tr>\n",
       "      <th>86915</th>\n",
       "      <td>Q3E7N2</td>\n",
       "      <td>1.749258e-09</td>\n",
       "      <td>MLSKMKLVVLMSFLLLLPLCSSGFGEGHGVTHTNQYSLNNLEESIP...</td>\n",
       "      <td>Arabidopsis thaliana</td>\n",
       "    </tr>\n",
       "  </tbody>\n",
       "</table>\n",
       "<p>86916 rows × 4 columns</p>\n",
       "</div>"
      ],
      "text/plain": [
       "       identifier         score  \\\n",
       "0          O07917  9.999994e-01   \n",
       "1          F4HRT7  9.999990e-01   \n",
       "2          C9J381  9.999990e-01   \n",
       "3      A0A1P8AWJ0  9.999987e-01   \n",
       "4          O31637  9.999986e-01   \n",
       "...           ...           ...   \n",
       "86911  A0A1I9LM80  2.624521e-09   \n",
       "86912      O22882  2.242381e-09   \n",
       "86913      Q9LYX3  2.171691e-09   \n",
       "86914      Q8LCX3  2.169861e-09   \n",
       "86915      Q3E7N2  1.749258e-09   \n",
       "\n",
       "                                                sequence  \\\n",
       "0      MAYVKATAILPEKLISEIQKYVQGKTIYIPKPESSHQKWGACSGTR...   \n",
       "1      MSSSTNDYNDGNNNGVYPLSLYLSSLSGHQDIIHNPYNHQLKASPG...   \n",
       "2      MADYLISGGTGYVPEDGLTAQQLFASADGLTYNDFLILPGFIDFIA...   \n",
       "3      MFPSLDTNGYDLFDPFIPHQTTMFPSFITHIQSPNSHHHYSSPSFP...   \n",
       "4      MTDQMIAWEIEEWIRDYKFMLREIKRLNRVLNKVDFISTKLTATYG...   \n",
       "...                                                  ...   \n",
       "86911  MKKSLALIVLLYFLLLMVVHIPANEALRYLPNERLGNLQFLQKGEV...   \n",
       "86912  MDATKIKFDVILLSFLLIISGIPSNLGLSTSVRGTTRSEPEAFHGG...   \n",
       "86913  MKSTVMMIFLIIYLLIAVPCFAKGSEQTDSEVYEIDYRGPETHNSR...   \n",
       "86914  MKRQVMIFVMLVAFFVVFLDVKQVEAMRPFPTAADEIRFVFQALQR...   \n",
       "86915  MLSKMKLVVLMSFLLLLPLCSSGFGEGHGVTHTNQYSLNNLEESIP...   \n",
       "\n",
       "                             Organism  \n",
       "0      Bacillus subtilis (strain 168)  \n",
       "1                Arabidopsis thaliana  \n",
       "2                        Homo sapiens  \n",
       "3                Arabidopsis thaliana  \n",
       "4      Bacillus subtilis (strain 168)  \n",
       "...                               ...  \n",
       "86911            Arabidopsis thaliana  \n",
       "86912            Arabidopsis thaliana  \n",
       "86913            Arabidopsis thaliana  \n",
       "86914            Arabidopsis thaliana  \n",
       "86915            Arabidopsis thaliana  \n",
       "\n",
       "[86916 rows x 4 columns]"
      ]
     },
     "execution_count": 18,
     "metadata": {},
     "output_type": "execute_result"
    }
   ],
   "source": [
    "df"
   ]
  },
  {
   "cell_type": "code",
   "execution_count": 19,
   "metadata": {},
   "outputs": [],
   "source": [
    "grouped = df.groupby(\"Organism\")"
   ]
  },
  {
   "cell_type": "code",
   "execution_count": 20,
   "metadata": {},
   "outputs": [],
   "source": [
    "thresholds = [0.5, 0.6, 0.7, 0.8, 0.9]\n",
    "stats = {}\n",
    "for name, sub_df in grouped:\n",
    "    for threshold in thresholds:\n",
    "        count = len(sub_df[sub_df[\"score\"] > threshold])\n",
    "        group_name = name + \"_\" + str(threshold)\n",
    "        stats[group_name] = count"
   ]
  },
  {
   "cell_type": "code",
   "execution_count": 23,
   "metadata": {},
   "outputs": [
    {
     "data": {
      "text/plain": [
       "{'Arabidopsis thaliana_0.5': 1073,\n",
       " 'Arabidopsis thaliana_0.6': 951,\n",
       " 'Arabidopsis thaliana_0.7': 854,\n",
       " 'Arabidopsis thaliana_0.8': 747,\n",
       " 'Arabidopsis thaliana_0.9': 591,\n",
       " 'Bacillus subtilis (strain 168)_0.5': 217,\n",
       " 'Bacillus subtilis (strain 168)_0.6': 177,\n",
       " 'Bacillus subtilis (strain 168)_0.7': 155,\n",
       " 'Bacillus subtilis (strain 168)_0.8': 129,\n",
       " 'Bacillus subtilis (strain 168)_0.9': 93,\n",
       " 'Escherichia coli (strain K12)_0.5': 151,\n",
       " 'Escherichia coli (strain K12)_0.6': 131,\n",
       " 'Escherichia coli (strain K12)_0.7': 114,\n",
       " 'Escherichia coli (strain K12)_0.8': 100,\n",
       " 'Escherichia coli (strain K12)_0.9': 74,\n",
       " 'Homo sapiens_0.5': 1597,\n",
       " 'Homo sapiens_0.6': 1389,\n",
       " 'Homo sapiens_0.7': 1205,\n",
       " 'Homo sapiens_0.8': 1012,\n",
       " 'Homo sapiens_0.9': 792,\n",
       " 'Komagataella pastoris_0.5': 238,\n",
       " 'Komagataella pastoris_0.6': 214,\n",
       " 'Komagataella pastoris_0.7': 181,\n",
       " 'Komagataella pastoris_0.8': 162,\n",
       " 'Komagataella pastoris_0.9': 131,\n",
       " 'Organism name not found_0.5': 0,\n",
       " 'Organism name not found_0.6': 0,\n",
       " 'Organism name not found_0.7': 0,\n",
       " 'Organism name not found_0.8': 0,\n",
       " 'Organism name not found_0.9': 0,\n",
       " 'Saccharomyces cerevisiae (strain ATCC 204508 / S288c)_0.5': 96,\n",
       " 'Saccharomyces cerevisiae (strain ATCC 204508 / S288c)_0.6': 79,\n",
       " 'Saccharomyces cerevisiae (strain ATCC 204508 / S288c)_0.7': 68,\n",
       " 'Saccharomyces cerevisiae (strain ATCC 204508 / S288c)_0.8': 49,\n",
       " 'Saccharomyces cerevisiae (strain ATCC 204508 / S288c)_0.9': 31}"
      ]
     },
     "execution_count": 23,
     "metadata": {},
     "output_type": "execute_result"
    }
   ],
   "source": [
    "stats"
   ]
  },
  {
   "cell_type": "code",
   "execution_count": 13,
   "metadata": {},
   "outputs": [],
   "source": [
    "import numpy as np\n",
    "from sklearn.datasets import make_classification\n",
    "from sklearn.model_selection import train_test_split\n",
    "from sklearn.ensemble import VotingClassifier\n",
    "from sklearn.linear_model import LogisticRegression\n",
    "from sklearn.svm import SVC\n",
    "from sklearn.tree import DecisionTreeClassifier\n",
    "\n",
    "# Generate a synthetic dataset\n",
    "X, y = make_classification(n_samples=1000, n_features=20, n_informative=15, n_redundant=5, random_state=42)\n",
    "\n",
    "# Split the dataset into training and testing sets\n",
    "X_train, X_test, y_train, y_test = train_test_split(X, y, test_size=0.3, random_state=42)\n",
    "\n",
    "# Instantiate the base models\n",
    "lr = LogisticRegression()\n",
    "svc = SVC(probability=True)\n",
    "dt = DecisionTreeClassifier()\n",
    "\n",
    "# Instantiate the voting classifier for hard voting\n",
    "voting = VotingClassifier(estimators=[\n",
    "    ('lr', lr),\n",
    "    ('svc', svc),\n",
    "    ('dt', dt)\n",
    "], voting='hard')\n",
    "\n",
    "# Fit the model\n",
    "voting.fit(X_train, y_train)\n",
    "\n",
    "# Predict classes using hard voting\n",
    "y_pred = voting.predict(X_test)\n",
    "\n",
    "# Instantiate the voting classifier for soft voting\n",
    "voting_soft = VotingClassifier(estimators=[\n",
    "    ('lr', lr),\n",
    "    ('svc', svc),\n",
    "    ('dt', dt)\n",
    "], voting='soft')\n",
    "\n",
    "# Fit the model\n",
    "voting_soft.fit(X_train, y_train)\n",
    "\n",
    "# Predict classes using soft voting\n",
    "y_pred_soft = voting_soft.predict(X_test)\n"
   ]
  },
  {
   "cell_type": "code",
   "execution_count": 17,
   "metadata": {},
   "outputs": [
    {
     "name": "stdout",
     "output_type": "stream",
     "text": [
      "Ground Truth: [0 1 1 0 1]\n",
      "Predicted Labels Model 1: [0, 1, 0, 0, 1]\n",
      "Predicted Labels Model 2: [0, 0, 1, 0, 1]\n",
      "Predicted Labels Model 3: [1, 1, 1, 0, 0]\n",
      "Majority Voted Predictions: [0 1 1 0 1]\n"
     ]
    }
   ],
   "source": [
    "import numpy as np\n",
    "from scipy.stats import mode\n",
    "\n",
    "# Assuming these are your predicted labels\n",
    "y_true = np.array([0, 1, 1, 0, 1])\n",
    "y_pred_model1 = [0, 1, 0, 0, 1]\n",
    "y_pred_model2 = [0, 0, 1, 0, 1]\n",
    "y_pred_model3 = [1, 1, 1, 0, 0]\n",
    "\n",
    "# Stack predictions for majority voting\n",
    "predictions = np.vstack([y_pred_model1, y_pred_model2, y_pred_model3])\n",
    "\n",
    "# Perform majority voting\n",
    "y_pred_voted, _ = mode(predictions, axis=0)\n",
    "\n",
    "# Flatten the result\n",
    "y_pred_voted = y_pred_voted.flatten()\n",
    "\n",
    "print(\"Ground Truth:\", y_true)\n",
    "print(\"Predicted Labels Model 1:\", y_pred_model1)\n",
    "print(\"Predicted Labels Model 2:\", y_pred_model2)\n",
    "print(\"Predicted Labels Model 3:\", y_pred_model3)\n",
    "print(\"Majority Voted Predictions:\", y_pred_voted)"
   ]
  },
  {
   "cell_type": "code",
   "execution_count": 26,
   "metadata": {},
   "outputs": [
    {
     "data": {
      "text/plain": [
       "[0, 1, 1, 0, 1]"
      ]
     },
     "execution_count": 26,
     "metadata": {},
     "output_type": "execute_result"
    }
   ],
   "source": [
    "y_pred_voted.tolist()"
   ]
  },
  {
   "cell_type": "code",
   "execution_count": 22,
   "metadata": {},
   "outputs": [],
   "source": [
    "from collections import defaultdict"
   ]
  },
  {
   "cell_type": "code",
   "execution_count": 23,
   "metadata": {},
   "outputs": [],
   "source": [
    "pred_models = defaultdict(list)"
   ]
  },
  {
   "cell_type": "code",
   "execution_count": 24,
   "metadata": {},
   "outputs": [
    {
     "data": {
      "text/plain": [
       "[]"
      ]
     },
     "execution_count": 24,
     "metadata": {},
     "output_type": "execute_result"
    }
   ],
   "source": [
    "pred_models[0]"
   ]
  },
  {
   "cell_type": "code",
   "execution_count": null,
   "metadata": {},
   "outputs": [],
   "source": []
  }
 ],
 "metadata": {
  "kernelspec": {
   "display_name": "Python 3 (ipykernel)",
   "language": "python",
   "name": "python3"
  },
  "language_info": {
   "codemirror_mode": {
    "name": "ipython",
    "version": 3
   },
   "file_extension": ".py",
   "mimetype": "text/x-python",
   "name": "python",
   "nbconvert_exporter": "python",
   "pygments_lexer": "ipython3",
   "version": "3.11.5"
  }
 },
 "nbformat": 4,
 "nbformat_minor": 4
}
