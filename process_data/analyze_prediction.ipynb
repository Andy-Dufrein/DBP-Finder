{
 "cells": [
  {
   "cell_type": "code",
   "execution_count": 1,
   "id": "ab6b0037-e9e3-4d88-9f9e-9e6b805b8a9c",
   "metadata": {},
   "outputs": [],
   "source": [
    "import pandas as pd"
   ]
  },
  {
   "cell_type": "code",
   "execution_count": 2,
   "id": "19929232",
   "metadata": {},
   "outputs": [],
   "source": [
    "import sys"
   ]
  },
  {
   "cell_type": "code",
   "execution_count": 3,
   "id": "ad6648c2",
   "metadata": {},
   "outputs": [],
   "source": [
    "sys.path.append(\"../\")"
   ]
  },
  {
   "cell_type": "code",
   "execution_count": 5,
   "id": "8540a6e1",
   "metadata": {},
   "outputs": [],
   "source": [
    "from src.utils import assign_cluster"
   ]
  },
  {
   "cell_type": "code",
   "execution_count": 7,
   "id": "3ad16ded",
   "metadata": {},
   "outputs": [],
   "source": [
    "def process_threshold(df):\n",
    "    id_100 = df[df[\"cluster\"] == \"id_1\"]\n",
    "    id_75 = df[df[\"cluster\"] == \"id_0.75\"]\n",
    "    id_50 = df[df[\"cluster\"] == \"id_0.5\"]\n",
    "    id_25 = df[df[\"cluster\"] == \"id_0.25\"]\n",
    "    id_less = df[df[\"cluster\"] == \"<id_0.25\"]\n",
    "    return id_100, id_75, id_50, id_25, id_less"
   ]
  },
  {
   "cell_type": "markdown",
   "id": "776395a9",
   "metadata": {},
   "source": [
    "# Предсказания на DUF"
   ]
  },
  {
   "cell_type": "markdown",
   "id": "fc415331-900a-4144-903a-dd458cdf0fd7",
   "metadata": {},
   "source": [
    "## DUF 659 - Membrane domain"
   ]
  },
  {
   "cell_type": "code",
   "execution_count": 3,
   "id": "0ccce2b6-9f2e-40ef-a5ed-967ad69b825a",
   "metadata": {},
   "outputs": [],
   "source": [
    "df = pd.read_csv(\"../data/not_annotated/prediction/DUF_155_prediction.csv\")"
   ]
  },
  {
   "cell_type": "code",
   "execution_count": 4,
   "id": "5408e25d-2116-49fe-a2ab-bd9b05319cb2",
   "metadata": {},
   "outputs": [],
   "source": [
    "df = df.sort_values(by=\"score\", ascending=False)"
   ]
  },
  {
   "cell_type": "code",
   "execution_count": 5,
   "id": "d45012e9-ce83-4415-bbeb-fd3102b9d63c",
   "metadata": {},
   "outputs": [
    {
     "data": {
      "text/html": [
       "<div>\n",
       "<style scoped>\n",
       "    .dataframe tbody tr th:only-of-type {\n",
       "        vertical-align: middle;\n",
       "    }\n",
       "\n",
       "    .dataframe tbody tr th {\n",
       "        vertical-align: top;\n",
       "    }\n",
       "\n",
       "    .dataframe thead th {\n",
       "        text-align: right;\n",
       "    }\n",
       "</style>\n",
       "<table border=\"1\" class=\"dataframe\">\n",
       "  <thead>\n",
       "    <tr style=\"text-align: right;\">\n",
       "      <th></th>\n",
       "      <th>Unnamed: 0</th>\n",
       "      <th>identifier</th>\n",
       "      <th>sequence</th>\n",
       "      <th>score</th>\n",
       "      <th>y_pred</th>\n",
       "    </tr>\n",
       "  </thead>\n",
       "  <tbody>\n",
       "    <tr>\n",
       "      <th>7244</th>\n",
       "      <td>7569</td>\n",
       "      <td>A0A9N8KXG0</td>\n",
       "      <td>MSKSVVNVSSSESDEEVVFQIDEQVLFPSGFKRDKNGNNITTDADL...</td>\n",
       "      <td>0.995702</td>\n",
       "      <td>1</td>\n",
       "    </tr>\n",
       "    <tr>\n",
       "      <th>5526</th>\n",
       "      <td>5791</td>\n",
       "      <td>A0A7V4CMH8</td>\n",
       "      <td>MQYRFIALDLGDDIDIKRLMQEKSSHIEYIRWEEPFKFKYAQGTVY...</td>\n",
       "      <td>0.991395</td>\n",
       "      <td>1</td>\n",
       "    </tr>\n",
       "    <tr>\n",
       "      <th>7202</th>\n",
       "      <td>7527</td>\n",
       "      <td>A0A9E8SG61</td>\n",
       "      <td>MYNVVAYQVAGTINLKESKKQLPWQLLFQDSDELYYQVSEHAFMYL...</td>\n",
       "      <td>0.983077</td>\n",
       "      <td>1</td>\n",
       "    </tr>\n",
       "    <tr>\n",
       "      <th>5525</th>\n",
       "      <td>5790</td>\n",
       "      <td>A0A7V3SZY6</td>\n",
       "      <td>KSSSWREYIVLNGHHLESILKKHCSNKFAYLFEFGCVTFVDFDEFE...</td>\n",
       "      <td>0.980284</td>\n",
       "      <td>1</td>\n",
       "    </tr>\n",
       "    <tr>\n",
       "      <th>7039</th>\n",
       "      <td>7357</td>\n",
       "      <td>A0A958Z7H0</td>\n",
       "      <td>MYQVVAYHIASNINIRECRAHLNWDLLFSESDELFFKKNSGQFVYV...</td>\n",
       "      <td>0.979649</td>\n",
       "      <td>1</td>\n",
       "    </tr>\n",
       "    <tr>\n",
       "      <th>621</th>\n",
       "      <td>648</td>\n",
       "      <td>A0A0G1KAZ8</td>\n",
       "      <td>MSNSNKRLKYAKHHAETVYVGEYIDLKKVQEGIRHYVYLNRDHPLV...</td>\n",
       "      <td>0.976253</td>\n",
       "      <td>1</td>\n",
       "    </tr>\n",
       "    <tr>\n",
       "      <th>5545</th>\n",
       "      <td>5810</td>\n",
       "      <td>A0A7W1RG67</td>\n",
       "      <td>MDCSAFCTAKSYSVKPLYEALRVNHNATLHKDVIFAEIQKYGNKCQ...</td>\n",
       "      <td>0.975616</td>\n",
       "      <td>1</td>\n",
       "    </tr>\n",
       "    <tr>\n",
       "      <th>3150</th>\n",
       "      <td>3304</td>\n",
       "      <td>A0A3D3AN81</td>\n",
       "      <td>MEFVKLTALHIADSINLKKFKSEYTGSLINSSSSELYYRVEENQYL...</td>\n",
       "      <td>0.967325</td>\n",
       "      <td>1</td>\n",
       "    </tr>\n",
       "    <tr>\n",
       "      <th>6929</th>\n",
       "      <td>7244</td>\n",
       "      <td>A0A932H7D5</td>\n",
       "      <td>MTKPTKRHVSLKAIALSRTIDTRTVCSALGKSVPLISSEPIVLNVH...</td>\n",
       "      <td>0.962553</td>\n",
       "      <td>1</td>\n",
       "    </tr>\n",
       "    <tr>\n",
       "      <th>5700</th>\n",
       "      <td>5971</td>\n",
       "      <td>A0A819JJT5</td>\n",
       "      <td>MEVTTISTLNNDIIKINCQSENEQLLDKYTFSNALALSVKLGIWEA...</td>\n",
       "      <td>0.959460</td>\n",
       "      <td>1</td>\n",
       "    </tr>\n",
       "    <tr>\n",
       "      <th>1628</th>\n",
       "      <td>1703</td>\n",
       "      <td>A0A1I2HXK5</td>\n",
       "      <td>MVDLDFFEEYRIETDDKLQKVIEKNNYVIIPQIDSSMLRIVMLNIG...</td>\n",
       "      <td>0.954092</td>\n",
       "      <td>1</td>\n",
       "    </tr>\n",
       "    <tr>\n",
       "      <th>7304</th>\n",
       "      <td>7631</td>\n",
       "      <td>A0A9P0THI4</td>\n",
       "      <td>MSSITVDLTENSDDLEDLPDVFLPSKSSSQSSDVCSSTSKSSLQSS...</td>\n",
       "      <td>0.952182</td>\n",
       "      <td>1</td>\n",
       "    </tr>\n",
       "    <tr>\n",
       "      <th>2554</th>\n",
       "      <td>2665</td>\n",
       "      <td>A0A2N6FEW3</td>\n",
       "      <td>MSLFKMHISAEHIARSIDLKKLGYAKHSHDTAMAETASGGYVVIFK...</td>\n",
       "      <td>0.950137</td>\n",
       "      <td>1</td>\n",
       "    </tr>\n",
       "    <tr>\n",
       "      <th>498</th>\n",
       "      <td>519</td>\n",
       "      <td>A0A0D2M971</td>\n",
       "      <td>MPPLSPAPRGLDAAQETSVIRNIARYAHSQAIEADEMEIDQFEFNV...</td>\n",
       "      <td>0.931381</td>\n",
       "      <td>1</td>\n",
       "    </tr>\n",
       "    <tr>\n",
       "      <th>37</th>\n",
       "      <td>40</td>\n",
       "      <td>A0A024VSE6</td>\n",
       "      <td>MYLKDYLSEAHTENNNELDSMFYIMNVQNELSDNKSVKAADSPSFK...</td>\n",
       "      <td>0.925605</td>\n",
       "      <td>1</td>\n",
       "    </tr>\n",
       "    <tr>\n",
       "      <th>6876</th>\n",
       "      <td>7191</td>\n",
       "      <td>A0A921YQL8</td>\n",
       "      <td>MEMEEEPVNLISDEEEETSSSDAESEDSSDVNLPSCSHRNPTPQQE...</td>\n",
       "      <td>0.924592</td>\n",
       "      <td>1</td>\n",
       "    </tr>\n",
       "    <tr>\n",
       "      <th>8636</th>\n",
       "      <td>9125</td>\n",
       "      <td>I7LG82</td>\n",
       "      <td>MASYDFISYTIGNEINLNEIAGHFGINKKFKWEEPLILRERNLKGI...</td>\n",
       "      <td>0.923516</td>\n",
       "      <td>1</td>\n",
       "    </tr>\n",
       "    <tr>\n",
       "      <th>1158</th>\n",
       "      <td>1211</td>\n",
       "      <td>A0A177BDM3</td>\n",
       "      <td>MQYFKLIECLMLNGSVVFWNIRKDVRTKILSTVIHEASDFPYKKCI...</td>\n",
       "      <td>0.921889</td>\n",
       "      <td>1</td>\n",
       "    </tr>\n",
       "    <tr>\n",
       "      <th>6957</th>\n",
       "      <td>7272</td>\n",
       "      <td>A0A938QPV3</td>\n",
       "      <td>MFPGLFAGATAVKVRALYLGERLDLRALETVSRLSPQAPLVLSAGA...</td>\n",
       "      <td>0.920534</td>\n",
       "      <td>1</td>\n",
       "    </tr>\n",
       "    <tr>\n",
       "      <th>4032</th>\n",
       "      <td>4233</td>\n",
       "      <td>A0A522E562</td>\n",
       "      <td>MSENHSPLHCTAYCLAQGFDISALAKLFSHSTLIRIIKGALLIEDD...</td>\n",
       "      <td>0.916945</td>\n",
       "      <td>1</td>\n",
       "    </tr>\n",
       "  </tbody>\n",
       "</table>\n",
       "</div>"
      ],
      "text/plain": [
       "      Unnamed: 0  identifier  \\\n",
       "7244        7569  A0A9N8KXG0   \n",
       "5526        5791  A0A7V4CMH8   \n",
       "7202        7527  A0A9E8SG61   \n",
       "5525        5790  A0A7V3SZY6   \n",
       "7039        7357  A0A958Z7H0   \n",
       "621          648  A0A0G1KAZ8   \n",
       "5545        5810  A0A7W1RG67   \n",
       "3150        3304  A0A3D3AN81   \n",
       "6929        7244  A0A932H7D5   \n",
       "5700        5971  A0A819JJT5   \n",
       "1628        1703  A0A1I2HXK5   \n",
       "7304        7631  A0A9P0THI4   \n",
       "2554        2665  A0A2N6FEW3   \n",
       "498          519  A0A0D2M971   \n",
       "37            40  A0A024VSE6   \n",
       "6876        7191  A0A921YQL8   \n",
       "8636        9125      I7LG82   \n",
       "1158        1211  A0A177BDM3   \n",
       "6957        7272  A0A938QPV3   \n",
       "4032        4233  A0A522E562   \n",
       "\n",
       "                                               sequence     score  y_pred  \n",
       "7244  MSKSVVNVSSSESDEEVVFQIDEQVLFPSGFKRDKNGNNITTDADL...  0.995702       1  \n",
       "5526  MQYRFIALDLGDDIDIKRLMQEKSSHIEYIRWEEPFKFKYAQGTVY...  0.991395       1  \n",
       "7202  MYNVVAYQVAGTINLKESKKQLPWQLLFQDSDELYYQVSEHAFMYL...  0.983077       1  \n",
       "5525  KSSSWREYIVLNGHHLESILKKHCSNKFAYLFEFGCVTFVDFDEFE...  0.980284       1  \n",
       "7039  MYQVVAYHIASNINIRECRAHLNWDLLFSESDELFFKKNSGQFVYV...  0.979649       1  \n",
       "621   MSNSNKRLKYAKHHAETVYVGEYIDLKKVQEGIRHYVYLNRDHPLV...  0.976253       1  \n",
       "5545  MDCSAFCTAKSYSVKPLYEALRVNHNATLHKDVIFAEIQKYGNKCQ...  0.975616       1  \n",
       "3150  MEFVKLTALHIADSINLKKFKSEYTGSLINSSSSELYYRVEENQYL...  0.967325       1  \n",
       "6929  MTKPTKRHVSLKAIALSRTIDTRTVCSALGKSVPLISSEPIVLNVH...  0.962553       1  \n",
       "5700  MEVTTISTLNNDIIKINCQSENEQLLDKYTFSNALALSVKLGIWEA...  0.959460       1  \n",
       "1628  MVDLDFFEEYRIETDDKLQKVIEKNNYVIIPQIDSSMLRIVMLNIG...  0.954092       1  \n",
       "7304  MSSITVDLTENSDDLEDLPDVFLPSKSSSQSSDVCSSTSKSSLQSS...  0.952182       1  \n",
       "2554  MSLFKMHISAEHIARSIDLKKLGYAKHSHDTAMAETASGGYVVIFK...  0.950137       1  \n",
       "498   MPPLSPAPRGLDAAQETSVIRNIARYAHSQAIEADEMEIDQFEFNV...  0.931381       1  \n",
       "37    MYLKDYLSEAHTENNNELDSMFYIMNVQNELSDNKSVKAADSPSFK...  0.925605       1  \n",
       "6876  MEMEEEPVNLISDEEEETSSSDAESEDSSDVNLPSCSHRNPTPQQE...  0.924592       1  \n",
       "8636  MASYDFISYTIGNEINLNEIAGHFGINKKFKWEEPLILRERNLKGI...  0.923516       1  \n",
       "1158  MQYFKLIECLMLNGSVVFWNIRKDVRTKILSTVIHEASDFPYKKCI...  0.921889       1  \n",
       "6957  MFPGLFAGATAVKVRALYLGERLDLRALETVSRLSPQAPLVLSAGA...  0.920534       1  \n",
       "4032  MSENHSPLHCTAYCLAQGFDISALAKLFSHSTLIRIIKGALLIEDD...  0.916945       1  "
      ]
     },
     "execution_count": 5,
     "metadata": {},
     "output_type": "execute_result"
    }
   ],
   "source": [
    "df.head(n=20)"
   ]
  },
  {
   "cell_type": "markdown",
   "id": "956a7b2a-d896-4fdc-b2f7-7bb3f05884d8",
   "metadata": {},
   "source": [
    "## DUF 659 - Transposase-like protein with no known function"
   ]
  },
  {
   "cell_type": "code",
   "execution_count": 9,
   "id": "c3954814-784b-4d6f-b090-1afd3366b32e",
   "metadata": {},
   "outputs": [],
   "source": [
    "df = pd.read_csv(\"../data/not_annotated/prediction/DUF_659_prediction.csv\")"
   ]
  },
  {
   "cell_type": "code",
   "execution_count": 10,
   "id": "411514c6-67ce-4de3-86db-33a62d5141c5",
   "metadata": {},
   "outputs": [],
   "source": [
    "df = df.sort_values(by=\"score\", ascending=False)"
   ]
  },
  {
   "cell_type": "code",
   "execution_count": 11,
   "id": "e62ece2f-57c7-47e7-a364-b3aba57ca0d0",
   "metadata": {},
   "outputs": [
    {
     "data": {
      "text/html": [
       "<div>\n",
       "<style scoped>\n",
       "    .dataframe tbody tr th:only-of-type {\n",
       "        vertical-align: middle;\n",
       "    }\n",
       "\n",
       "    .dataframe tbody tr th {\n",
       "        vertical-align: top;\n",
       "    }\n",
       "\n",
       "    .dataframe thead th {\n",
       "        text-align: right;\n",
       "    }\n",
       "</style>\n",
       "<table border=\"1\" class=\"dataframe\">\n",
       "  <thead>\n",
       "    <tr style=\"text-align: right;\">\n",
       "      <th></th>\n",
       "      <th>Unnamed: 0</th>\n",
       "      <th>identifier</th>\n",
       "      <th>sequence</th>\n",
       "      <th>score</th>\n",
       "      <th>y_pred</th>\n",
       "    </tr>\n",
       "  </thead>\n",
       "  <tbody>\n",
       "    <tr>\n",
       "      <th>5644</th>\n",
       "      <td>5666</td>\n",
       "      <td>A0A9P0LM75</td>\n",
       "      <td>MESNTGVVVLKWHDKRDILCLSTVHTETTTKYTRRGTEIEKPSLVV...</td>\n",
       "      <td>0.995700</td>\n",
       "      <td>1</td>\n",
       "    </tr>\n",
       "    <tr>\n",
       "      <th>2178</th>\n",
       "      <td>2191</td>\n",
       "      <td>A0A3P9J2Q6</td>\n",
       "      <td>MSVMAALKVGRKRESPIWDFLEYNSVENKSKCLVVEAGDKICGTLL...</td>\n",
       "      <td>0.992262</td>\n",
       "      <td>1</td>\n",
       "    </tr>\n",
       "    <tr>\n",
       "      <th>5608</th>\n",
       "      <td>5630</td>\n",
       "      <td>A0A9N9SR54</td>\n",
       "      <td>MSKRFLLRCGKSKVVTIKGKQSYKCDLGEYKYNSNSDNSIHVYFKT...</td>\n",
       "      <td>0.985161</td>\n",
       "      <td>1</td>\n",
       "    </tr>\n",
       "    <tr>\n",
       "      <th>3588</th>\n",
       "      <td>3604</td>\n",
       "      <td>A0A6G0VPN6</td>\n",
       "      <td>MKLFENNSNNSINEVQVPVLKNQTKQLLLSKRFGIPSEKQKTDFVR...</td>\n",
       "      <td>0.983675</td>\n",
       "      <td>1</td>\n",
       "    </tr>\n",
       "    <tr>\n",
       "      <th>5324</th>\n",
       "      <td>5345</td>\n",
       "      <td>A0A915YMH2</td>\n",
       "      <td>MDDNEPNDDFSEYIDYRNIEDIEESLSGSSKFASSTTTSKRSSFNS...</td>\n",
       "      <td>0.983217</td>\n",
       "      <td>1</td>\n",
       "    </tr>\n",
       "    <tr>\n",
       "      <th>2985</th>\n",
       "      <td>2999</td>\n",
       "      <td>A0A4Y2TJP4</td>\n",
       "      <td>MKDHLKRKHPDIIVKYTEDHCAESMDEAGPSNIPKKRRDSVKEFIG...</td>\n",
       "      <td>0.982424</td>\n",
       "      <td>1</td>\n",
       "    </tr>\n",
       "    <tr>\n",
       "      <th>5678</th>\n",
       "      <td>5700</td>\n",
       "      <td>A0A9P3HFW0</td>\n",
       "      <td>MNMIWRQCQSVPPPRTVMQCQSRPGPLAQKRPKDAETEDVGEDDFP...</td>\n",
       "      <td>0.980638</td>\n",
       "      <td>1</td>\n",
       "    </tr>\n",
       "    <tr>\n",
       "      <th>5327</th>\n",
       "      <td>5348</td>\n",
       "      <td>A0A915YMT1</td>\n",
       "      <td>MDDNEPNDDFSEYIDYRNIEDIEESLSGSSKFASSTTTSKRSSFNS...</td>\n",
       "      <td>0.979317</td>\n",
       "      <td>1</td>\n",
       "    </tr>\n",
       "    <tr>\n",
       "      <th>2136</th>\n",
       "      <td>2148</td>\n",
       "      <td>A0A3M7RCC4</td>\n",
       "      <td>MSKRSSAKLVLEQLTKANDFYIDFSGDFDYEEETFESEIYLFELSD...</td>\n",
       "      <td>0.977235</td>\n",
       "      <td>1</td>\n",
       "    </tr>\n",
       "    <tr>\n",
       "      <th>5679</th>\n",
       "      <td>5701</td>\n",
       "      <td>A0A9P3HKD0</td>\n",
       "      <td>MSVEAYDPFADEYVEEANSDLAEEFLSDDGESSTTSDSEDSESENE...</td>\n",
       "      <td>0.976971</td>\n",
       "      <td>1</td>\n",
       "    </tr>\n",
       "    <tr>\n",
       "      <th>1298</th>\n",
       "      <td>1307</td>\n",
       "      <td>A0A2S2PB02</td>\n",
       "      <td>IFLNFKFNYYYFVLRVLNSNLVILLAFIFILSKEHLKRRHPAHLNP...</td>\n",
       "      <td>0.973843</td>\n",
       "      <td>1</td>\n",
       "    </tr>\n",
       "    <tr>\n",
       "      <th>3651</th>\n",
       "      <td>3667</td>\n",
       "      <td>A0A6I9VLY7</td>\n",
       "      <td>MDHLKHVHADRLKVGGTAQKPNILEKFVGKSVSFYENDSKRKRLLD...</td>\n",
       "      <td>0.973037</td>\n",
       "      <td>1</td>\n",
       "    </tr>\n",
       "    <tr>\n",
       "      <th>64</th>\n",
       "      <td>64</td>\n",
       "      <td>A0A034W0I4</td>\n",
       "      <td>MNHLKHVHADRLKVGGTAQKPNILEKFVGKSVSFYENDSNRKRLLD...</td>\n",
       "      <td>0.972683</td>\n",
       "      <td>1</td>\n",
       "    </tr>\n",
       "    <tr>\n",
       "      <th>527</th>\n",
       "      <td>531</td>\n",
       "      <td>A0A1A8M0P6</td>\n",
       "      <td>NKQKSLEDYCQRRTPCTPQEVAVLTESILSMILKDMRPLAVVEGEG...</td>\n",
       "      <td>0.968766</td>\n",
       "      <td>1</td>\n",
       "    </tr>\n",
       "    <tr>\n",
       "      <th>1440</th>\n",
       "      <td>1449</td>\n",
       "      <td>A0A2Z6R6X1</td>\n",
       "      <td>MSETDLIVTHSSTFSNDHRKRKRSATSPEIVKPIDRINKSHTSYFF...</td>\n",
       "      <td>0.968261</td>\n",
       "      <td>1</td>\n",
       "    </tr>\n",
       "    <tr>\n",
       "      <th>4913</th>\n",
       "      <td>4932</td>\n",
       "      <td>A0A8R2QW53</td>\n",
       "      <td>MDDGVLQFQPVPSCSGSQRSGAPLPKTVNETIDSDLDENVTPLKRQ...</td>\n",
       "      <td>0.966698</td>\n",
       "      <td>1</td>\n",
       "    </tr>\n",
       "    <tr>\n",
       "      <th>4286</th>\n",
       "      <td>4303</td>\n",
       "      <td>A0A814ADJ2</td>\n",
       "      <td>MPSRYILTTRILNITYQKIKEIISYELSQVNAVSITLDCWTSIQNY...</td>\n",
       "      <td>0.964239</td>\n",
       "      <td>1</td>\n",
       "    </tr>\n",
       "    <tr>\n",
       "      <th>1191</th>\n",
       "      <td>1200</td>\n",
       "      <td>A0A2N0SLP2</td>\n",
       "      <td>MVAPHIRLSQSAEYRENYIVQENKLWCRFCNVEIDHERKNSVDKHI...</td>\n",
       "      <td>0.962503</td>\n",
       "      <td>1</td>\n",
       "    </tr>\n",
       "    <tr>\n",
       "      <th>4990</th>\n",
       "      <td>5009</td>\n",
       "      <td>A0A8S3X8R2</td>\n",
       "      <td>MIAAYIEIAPFQSSPSEKKSITQPVLESAASSCNETPCIGIVNELK...</td>\n",
       "      <td>0.959026</td>\n",
       "      <td>1</td>\n",
       "    </tr>\n",
       "    <tr>\n",
       "      <th>528</th>\n",
       "      <td>532</td>\n",
       "      <td>A0A1A8S4Z3</td>\n",
       "      <td>MILKDMRPLAVVEGEGFKEMLTTFQPGYTLPSRRHFTSMMERKYQT...</td>\n",
       "      <td>0.958368</td>\n",
       "      <td>1</td>\n",
       "    </tr>\n",
       "    <tr>\n",
       "      <th>1304</th>\n",
       "      <td>1313</td>\n",
       "      <td>A0A2S2PT73</td>\n",
       "      <td>PEVQIENLQNVANVKKEYRTSGNTSNLKDHLKRMHPEIQSTLVESD...</td>\n",
       "      <td>0.953507</td>\n",
       "      <td>1</td>\n",
       "    </tr>\n",
       "    <tr>\n",
       "      <th>526</th>\n",
       "      <td>530</td>\n",
       "      <td>A0A1A7ZWE5</td>\n",
       "      <td>MILKDMRPLAVVEGEGFKEMLTTFQPGYTLPSRRHFTSMMERKYQT...</td>\n",
       "      <td>0.953332</td>\n",
       "      <td>1</td>\n",
       "    </tr>\n",
       "    <tr>\n",
       "      <th>4888</th>\n",
       "      <td>4907</td>\n",
       "      <td>A0A8K0GDX3</td>\n",
       "      <td>MTNFYRQRRLEFTAANLNRDSVKVIFSDEKEEVFAEPFDYPFCTEG...</td>\n",
       "      <td>0.953233</td>\n",
       "      <td>1</td>\n",
       "    </tr>\n",
       "    <tr>\n",
       "      <th>4561</th>\n",
       "      <td>4580</td>\n",
       "      <td>A0A8C6LKT1</td>\n",
       "      <td>MILKDMRPLAVVEGEGFQEMLTTFQPGYTLPSRRHFTSMMERKYQT...</td>\n",
       "      <td>0.951522</td>\n",
       "      <td>1</td>\n",
       "    </tr>\n",
       "    <tr>\n",
       "      <th>5401</th>\n",
       "      <td>5423</td>\n",
       "      <td>A0A9C6TXI6</td>\n",
       "      <td>MPPPKKTIGDRVKEFKEEGMIQVGQVMMCCYCNCRVEWSKVDTIKK...</td>\n",
       "      <td>0.947100</td>\n",
       "      <td>1</td>\n",
       "    </tr>\n",
       "  </tbody>\n",
       "</table>\n",
       "</div>"
      ],
      "text/plain": [
       "      Unnamed: 0  identifier  \\\n",
       "5644        5666  A0A9P0LM75   \n",
       "2178        2191  A0A3P9J2Q6   \n",
       "5608        5630  A0A9N9SR54   \n",
       "3588        3604  A0A6G0VPN6   \n",
       "5324        5345  A0A915YMH2   \n",
       "2985        2999  A0A4Y2TJP4   \n",
       "5678        5700  A0A9P3HFW0   \n",
       "5327        5348  A0A915YMT1   \n",
       "2136        2148  A0A3M7RCC4   \n",
       "5679        5701  A0A9P3HKD0   \n",
       "1298        1307  A0A2S2PB02   \n",
       "3651        3667  A0A6I9VLY7   \n",
       "64            64  A0A034W0I4   \n",
       "527          531  A0A1A8M0P6   \n",
       "1440        1449  A0A2Z6R6X1   \n",
       "4913        4932  A0A8R2QW53   \n",
       "4286        4303  A0A814ADJ2   \n",
       "1191        1200  A0A2N0SLP2   \n",
       "4990        5009  A0A8S3X8R2   \n",
       "528          532  A0A1A8S4Z3   \n",
       "1304        1313  A0A2S2PT73   \n",
       "526          530  A0A1A7ZWE5   \n",
       "4888        4907  A0A8K0GDX3   \n",
       "4561        4580  A0A8C6LKT1   \n",
       "5401        5423  A0A9C6TXI6   \n",
       "\n",
       "                                               sequence     score  y_pred  \n",
       "5644  MESNTGVVVLKWHDKRDILCLSTVHTETTTKYTRRGTEIEKPSLVV...  0.995700       1  \n",
       "2178  MSVMAALKVGRKRESPIWDFLEYNSVENKSKCLVVEAGDKICGTLL...  0.992262       1  \n",
       "5608  MSKRFLLRCGKSKVVTIKGKQSYKCDLGEYKYNSNSDNSIHVYFKT...  0.985161       1  \n",
       "3588  MKLFENNSNNSINEVQVPVLKNQTKQLLLSKRFGIPSEKQKTDFVR...  0.983675       1  \n",
       "5324  MDDNEPNDDFSEYIDYRNIEDIEESLSGSSKFASSTTTSKRSSFNS...  0.983217       1  \n",
       "2985  MKDHLKRKHPDIIVKYTEDHCAESMDEAGPSNIPKKRRDSVKEFIG...  0.982424       1  \n",
       "5678  MNMIWRQCQSVPPPRTVMQCQSRPGPLAQKRPKDAETEDVGEDDFP...  0.980638       1  \n",
       "5327  MDDNEPNDDFSEYIDYRNIEDIEESLSGSSKFASSTTTSKRSSFNS...  0.979317       1  \n",
       "2136  MSKRSSAKLVLEQLTKANDFYIDFSGDFDYEEETFESEIYLFELSD...  0.977235       1  \n",
       "5679  MSVEAYDPFADEYVEEANSDLAEEFLSDDGESSTTSDSEDSESENE...  0.976971       1  \n",
       "1298  IFLNFKFNYYYFVLRVLNSNLVILLAFIFILSKEHLKRRHPAHLNP...  0.973843       1  \n",
       "3651  MDHLKHVHADRLKVGGTAQKPNILEKFVGKSVSFYENDSKRKRLLD...  0.973037       1  \n",
       "64    MNHLKHVHADRLKVGGTAQKPNILEKFVGKSVSFYENDSNRKRLLD...  0.972683       1  \n",
       "527   NKQKSLEDYCQRRTPCTPQEVAVLTESILSMILKDMRPLAVVEGEG...  0.968766       1  \n",
       "1440  MSETDLIVTHSSTFSNDHRKRKRSATSPEIVKPIDRINKSHTSYFF...  0.968261       1  \n",
       "4913  MDDGVLQFQPVPSCSGSQRSGAPLPKTVNETIDSDLDENVTPLKRQ...  0.966698       1  \n",
       "4286  MPSRYILTTRILNITYQKIKEIISYELSQVNAVSITLDCWTSIQNY...  0.964239       1  \n",
       "1191  MVAPHIRLSQSAEYRENYIVQENKLWCRFCNVEIDHERKNSVDKHI...  0.962503       1  \n",
       "4990  MIAAYIEIAPFQSSPSEKKSITQPVLESAASSCNETPCIGIVNELK...  0.959026       1  \n",
       "528   MILKDMRPLAVVEGEGFKEMLTTFQPGYTLPSRRHFTSMMERKYQT...  0.958368       1  \n",
       "1304  PEVQIENLQNVANVKKEYRTSGNTSNLKDHLKRMHPEIQSTLVESD...  0.953507       1  \n",
       "526   MILKDMRPLAVVEGEGFKEMLTTFQPGYTLPSRRHFTSMMERKYQT...  0.953332       1  \n",
       "4888  MTNFYRQRRLEFTAANLNRDSVKVIFSDEKEEVFAEPFDYPFCTEG...  0.953233       1  \n",
       "4561  MILKDMRPLAVVEGEGFQEMLTTFQPGYTLPSRRHFTSMMERKYQT...  0.951522       1  \n",
       "5401  MPPPKKTIGDRVKEFKEEGMIQVGQVMMCCYCNCRVEWSKVDTIKK...  0.947100       1  "
      ]
     },
     "execution_count": 11,
     "metadata": {},
     "output_type": "execute_result"
    }
   ],
   "source": [
    "df.head(n=25)"
   ]
  },
  {
   "cell_type": "markdown",
   "id": "9de959d6-5096-4371-a1b4-957304d1d5ec",
   "metadata": {},
   "source": [
    "Белки, которые не имеют аннотации связанной с ДНК-связыванием:\n",
    "- A0A3P9J2Q6\n",
    "- A0A915YMH2\n",
    "- A0A915YMT1\n",
    "- A0A3M7RCC4\n",
    "- A0A1A8M0P6\n",
    "- A0A814ADJ2\n",
    "- A0A8S3X8R2\n",
    "- A0A1A8S4Z3\n",
    "- A0A1A7ZWE5\n",
    "- A0A8K0GDX3\n",
    "- A0A8C6LKT1"
   ]
  },
  {
   "cell_type": "markdown",
   "id": "42294ba7-788a-41f2-b828-494c839ffdde",
   "metadata": {},
   "source": [
    "## DUF 131 - This archaebacterial protein family has no known function. The proteins are predicted to contain two transmembrane helices"
   ]
  },
  {
   "cell_type": "code",
   "execution_count": 12,
   "id": "61ad7750-db3f-41d4-9b70-19ca0f44b20c",
   "metadata": {},
   "outputs": [],
   "source": [
    "df = pd.read_csv(\"../data/not_annotated/prediction/DUF_131_prediction.csv\")"
   ]
  },
  {
   "cell_type": "code",
   "execution_count": 13,
   "id": "8056e94b-a878-4da3-8c5f-3b0897476b9a",
   "metadata": {},
   "outputs": [],
   "source": [
    "df = df.sort_values(by=\"score\", ascending=False)"
   ]
  },
  {
   "cell_type": "code",
   "execution_count": 14,
   "id": "ae2e0ac1-1205-4d7d-b91a-bb073c7a9715",
   "metadata": {},
   "outputs": [
    {
     "data": {
      "text/html": [
       "<div>\n",
       "<style scoped>\n",
       "    .dataframe tbody tr th:only-of-type {\n",
       "        vertical-align: middle;\n",
       "    }\n",
       "\n",
       "    .dataframe tbody tr th {\n",
       "        vertical-align: top;\n",
       "    }\n",
       "\n",
       "    .dataframe thead th {\n",
       "        text-align: right;\n",
       "    }\n",
       "</style>\n",
       "<table border=\"1\" class=\"dataframe\">\n",
       "  <thead>\n",
       "    <tr style=\"text-align: right;\">\n",
       "      <th></th>\n",
       "      <th>Unnamed: 0</th>\n",
       "      <th>identifier</th>\n",
       "      <th>sequence</th>\n",
       "      <th>score</th>\n",
       "      <th>y_pred</th>\n",
       "    </tr>\n",
       "  </thead>\n",
       "  <tbody>\n",
       "    <tr>\n",
       "      <th>811</th>\n",
       "      <td>897</td>\n",
       "      <td>A0A7R9MX27</td>\n",
       "      <td>MKGGVGELKGGGVVMIGPIPIIFASDKKYAIHPCYNRNNINVNGGI...</td>\n",
       "      <td>0.750834</td>\n",
       "      <td>1</td>\n",
       "    </tr>\n",
       "    <tr>\n",
       "      <th>545</th>\n",
       "      <td>611</td>\n",
       "      <td>A0A662VZK4</td>\n",
       "      <td>GISGEPFEETEVHELRKRRVCDYDYDEFEDEEYKKYKEYGEYDWEN...</td>\n",
       "      <td>0.469797</td>\n",
       "      <td>0</td>\n",
       "    </tr>\n",
       "    <tr>\n",
       "      <th>430</th>\n",
       "      <td>494</td>\n",
       "      <td>A0A564Q8S5</td>\n",
       "      <td>MNWFLTGSIFILAGMLIIVSGMLYETHETYTEGEKVREGGVVMIGP...</td>\n",
       "      <td>0.432835</td>\n",
       "      <td>0</td>\n",
       "    </tr>\n",
       "  </tbody>\n",
       "</table>\n",
       "</div>"
      ],
      "text/plain": [
       "     Unnamed: 0  identifier  \\\n",
       "811         897  A0A7R9MX27   \n",
       "545         611  A0A662VZK4   \n",
       "430         494  A0A564Q8S5   \n",
       "\n",
       "                                              sequence     score  y_pred  \n",
       "811  MKGGVGELKGGGVVMIGPIPIIFASDKKYAIHPCYNRNNINVNGGI...  0.750834       1  \n",
       "545  GISGEPFEETEVHELRKRRVCDYDYDEFEDEEYKKYKEYGEYDWEN...  0.469797       0  \n",
       "430  MNWFLTGSIFILAGMLIIVSGMLYETHETYTEGEKVREGGVVMIGP...  0.432835       0  "
      ]
     },
     "execution_count": 14,
     "metadata": {},
     "output_type": "execute_result"
    }
   ],
   "source": [
    "df.head(n=3)"
   ]
  },
  {
   "cell_type": "markdown",
   "id": "b9fc9838-c7c8-4125-97fc-c8338017145e",
   "metadata": {},
   "source": [
    "## DUF 167"
   ]
  },
  {
   "cell_type": "code",
   "execution_count": 15,
   "id": "b0461243-8d65-4d83-97c9-361d64e58b66",
   "metadata": {},
   "outputs": [],
   "source": [
    "df = pd.read_csv(\"../data/not_annotated/prediction/DUF_167_prediction.csv\")"
   ]
  },
  {
   "cell_type": "code",
   "execution_count": 16,
   "id": "26f15504-979b-4c68-a7ac-91e9a0e97e05",
   "metadata": {},
   "outputs": [],
   "source": [
    "df = df.sort_values(by=\"score\", ascending=False)"
   ]
  },
  {
   "cell_type": "code",
   "execution_count": 18,
   "id": "1933aa61-ebd1-4b4d-a464-e03ebd4e311d",
   "metadata": {},
   "outputs": [
    {
     "data": {
      "text/html": [
       "<div>\n",
       "<style scoped>\n",
       "    .dataframe tbody tr th:only-of-type {\n",
       "        vertical-align: middle;\n",
       "    }\n",
       "\n",
       "    .dataframe tbody tr th {\n",
       "        vertical-align: top;\n",
       "    }\n",
       "\n",
       "    .dataframe thead th {\n",
       "        text-align: right;\n",
       "    }\n",
       "</style>\n",
       "<table border=\"1\" class=\"dataframe\">\n",
       "  <thead>\n",
       "    <tr style=\"text-align: right;\">\n",
       "      <th></th>\n",
       "      <th>identifier</th>\n",
       "      <th>sequence</th>\n",
       "      <th>score</th>\n",
       "      <th>y_pred</th>\n",
       "    </tr>\n",
       "  </thead>\n",
       "  <tbody>\n",
       "    <tr>\n",
       "      <th>13739</th>\n",
       "      <td>A0A8T6VEH5</td>\n",
       "      <td>MKLLQTSRGVVLEIKVKPKSKRFEIQRNAEIVVFCKDAPVKGRVNK...</td>\n",
       "      <td>0.999375</td>\n",
       "      <td>1</td>\n",
       "    </tr>\n",
       "    <tr>\n",
       "      <th>9648</th>\n",
       "      <td>A0A661KNP9</td>\n",
       "      <td>MQIIKEGDVIKIKLTSAAQKGKANKQLLELLSKRLKLPKSKIKIVS...</td>\n",
       "      <td>0.999277</td>\n",
       "      <td>1</td>\n",
       "    </tr>\n",
       "    <tr>\n",
       "      <th>12307</th>\n",
       "      <td>A0A800ARS4</td>\n",
       "      <td>MLMRMPKIIRVKVITRAKQNKVVEDKDFLKVYLNAPPQKGKANRRM...</td>\n",
       "      <td>0.999263</td>\n",
       "      <td>1</td>\n",
       "    </tr>\n",
       "    <tr>\n",
       "      <th>11549</th>\n",
       "      <td>A0A7V0JB18</td>\n",
       "      <td>SRPGIAGPYKDGLKVKLSSPPVEGRANKELIAILAKEFRIPKKNVE...</td>\n",
       "      <td>0.999245</td>\n",
       "      <td>1</td>\n",
       "    </tr>\n",
       "    <tr>\n",
       "      <th>4445</th>\n",
       "      <td>A0A2E5FQC8</td>\n",
       "      <td>MENSCIIEARVIPRAQEQKILLQGEIIKIRITEAPVGGRGNESVCR...</td>\n",
       "      <td>0.999207</td>\n",
       "      <td>1</td>\n",
       "    </tr>\n",
       "    <tr>\n",
       "      <th>13866</th>\n",
       "      <td>A0A917V2M9</td>\n",
       "      <td>MARKKTAKTRAPWADEVGETLLVRVTPKASAERIAPERDETGALVL...</td>\n",
       "      <td>0.999192</td>\n",
       "      <td>1</td>\n",
       "    </tr>\n",
       "    <tr>\n",
       "      <th>4515</th>\n",
       "      <td>A0A2E9J9J1</td>\n",
       "      <td>MENSCIIEARVIPRAQEQKILLQGEIIKIRITEAPVEGKGNESVCR...</td>\n",
       "      <td>0.999156</td>\n",
       "      <td>1</td>\n",
       "    </tr>\n",
       "    <tr>\n",
       "      <th>6278</th>\n",
       "      <td>A0A352Z6N2</td>\n",
       "      <td>MVKIALKVITNAKKREIKMEGSSLKIKLISSPGEGKANQELVNFLS...</td>\n",
       "      <td>0.999119</td>\n",
       "      <td>1</td>\n",
       "    </tr>\n",
       "    <tr>\n",
       "      <th>1912</th>\n",
       "      <td>A0A1F2XPU2</td>\n",
       "      <td>MKRPRTSLRLRVVPGAKRSGIVGRYGDAWKIRVVAAPEAGRANEAV...</td>\n",
       "      <td>0.999117</td>\n",
       "      <td>1</td>\n",
       "    </tr>\n",
       "    <tr>\n",
       "      <th>10511</th>\n",
       "      <td>A0A7C1ZJS7</td>\n",
       "      <td>MLKIIKTATGPVFRVRVQPGASKNEIVGVQQDALKIRISAPPVEGK...</td>\n",
       "      <td>0.999110</td>\n",
       "      <td>1</td>\n",
       "    </tr>\n",
       "    <tr>\n",
       "      <th>3237</th>\n",
       "      <td>A0A1Q6DTB1</td>\n",
       "      <td>MKKAINSKGNLTIIDIKVNPGTQENKIKEYNKWREQIKINIKEQAT...</td>\n",
       "      <td>0.999109</td>\n",
       "      <td>1</td>\n",
       "    </tr>\n",
       "    <tr>\n",
       "      <th>2473</th>\n",
       "      <td>A0A1G2BKG3</td>\n",
       "      <td>MKLKVKIIPRAQQPGIEKMADASLKVRLKAVPEKGLANDELMAVLA...</td>\n",
       "      <td>0.999102</td>\n",
       "      <td>1</td>\n",
       "    </tr>\n",
       "    <tr>\n",
       "      <th>8640</th>\n",
       "      <td>A0A523ZQN2</td>\n",
       "      <td>MKLLQVPQGTILEIRVKPKSRQFRMKLNDELVIFCRETPVKGRVNK...</td>\n",
       "      <td>0.999096</td>\n",
       "      <td>1</td>\n",
       "    </tr>\n",
       "    <tr>\n",
       "      <th>8539</th>\n",
       "      <td>A0A522C422</td>\n",
       "      <td>MRKQLIKIKVIAGAKKKQIIESDGILKVYVNAPAVDEKANKAVIEI...</td>\n",
       "      <td>0.999095</td>\n",
       "      <td>1</td>\n",
       "    </tr>\n",
       "    <tr>\n",
       "      <th>4780</th>\n",
       "      <td>A0A2H6FYF7</td>\n",
       "      <td>MSDELIINIKVAPRSSRPGIAGPYKDGLKVKLSSPPVEGRANKELI...</td>\n",
       "      <td>0.999085</td>\n",
       "      <td>1</td>\n",
       "    </tr>\n",
       "    <tr>\n",
       "      <th>12833</th>\n",
       "      <td>A0A848ZJ37</td>\n",
       "      <td>MSRKPTGVKAHAHIRVKVLPRSTTNQIIGQEGGLFKVKLTSPPVEG...</td>\n",
       "      <td>0.999080</td>\n",
       "      <td>1</td>\n",
       "    </tr>\n",
       "    <tr>\n",
       "      <th>8914</th>\n",
       "      <td>A0A538CKE6</td>\n",
       "      <td>MEAVSTRLRLRVAPGAARTGVVGRHGEAWKVRVAAPAEAGRANDAV...</td>\n",
       "      <td>0.999064</td>\n",
       "      <td>1</td>\n",
       "    </tr>\n",
       "    <tr>\n",
       "      <th>7993</th>\n",
       "      <td>A0A4R1GK81</td>\n",
       "      <td>MEEGRLKIRVTVPPEGGKANRKVVELLSKALRVPASNIEIVKGEAS...</td>\n",
       "      <td>0.999042</td>\n",
       "      <td>1</td>\n",
       "    </tr>\n",
       "    <tr>\n",
       "      <th>523</th>\n",
       "      <td>A0A0F9BWU4</td>\n",
       "      <td>MLKIIKTATGATFKVRVQPGASKNEIVGVQQGALKVRISAPPVQGK...</td>\n",
       "      <td>0.999040</td>\n",
       "      <td>1</td>\n",
       "    </tr>\n",
       "    <tr>\n",
       "      <th>7647</th>\n",
       "      <td>A0A445MTN0</td>\n",
       "      <td>MAIETIVKVKVLPRSSRNQILGLEAGILKVKLTAPPIEGKANKALI...</td>\n",
       "      <td>0.999024</td>\n",
       "      <td>1</td>\n",
       "    </tr>\n",
       "  </tbody>\n",
       "</table>\n",
       "</div>"
      ],
      "text/plain": [
       "       identifier                                           sequence  \\\n",
       "13739  A0A8T6VEH5  MKLLQTSRGVVLEIKVKPKSKRFEIQRNAEIVVFCKDAPVKGRVNK...   \n",
       "9648   A0A661KNP9  MQIIKEGDVIKIKLTSAAQKGKANKQLLELLSKRLKLPKSKIKIVS...   \n",
       "12307  A0A800ARS4  MLMRMPKIIRVKVITRAKQNKVVEDKDFLKVYLNAPPQKGKANRRM...   \n",
       "11549  A0A7V0JB18  SRPGIAGPYKDGLKVKLSSPPVEGRANKELIAILAKEFRIPKKNVE...   \n",
       "4445   A0A2E5FQC8  MENSCIIEARVIPRAQEQKILLQGEIIKIRITEAPVGGRGNESVCR...   \n",
       "13866  A0A917V2M9  MARKKTAKTRAPWADEVGETLLVRVTPKASAERIAPERDETGALVL...   \n",
       "4515   A0A2E9J9J1  MENSCIIEARVIPRAQEQKILLQGEIIKIRITEAPVEGKGNESVCR...   \n",
       "6278   A0A352Z6N2  MVKIALKVITNAKKREIKMEGSSLKIKLISSPGEGKANQELVNFLS...   \n",
       "1912   A0A1F2XPU2  MKRPRTSLRLRVVPGAKRSGIVGRYGDAWKIRVVAAPEAGRANEAV...   \n",
       "10511  A0A7C1ZJS7  MLKIIKTATGPVFRVRVQPGASKNEIVGVQQDALKIRISAPPVEGK...   \n",
       "3237   A0A1Q6DTB1  MKKAINSKGNLTIIDIKVNPGTQENKIKEYNKWREQIKINIKEQAT...   \n",
       "2473   A0A1G2BKG3  MKLKVKIIPRAQQPGIEKMADASLKVRLKAVPEKGLANDELMAVLA...   \n",
       "8640   A0A523ZQN2  MKLLQVPQGTILEIRVKPKSRQFRMKLNDELVIFCRETPVKGRVNK...   \n",
       "8539   A0A522C422  MRKQLIKIKVIAGAKKKQIIESDGILKVYVNAPAVDEKANKAVIEI...   \n",
       "4780   A0A2H6FYF7  MSDELIINIKVAPRSSRPGIAGPYKDGLKVKLSSPPVEGRANKELI...   \n",
       "12833  A0A848ZJ37  MSRKPTGVKAHAHIRVKVLPRSTTNQIIGQEGGLFKVKLTSPPVEG...   \n",
       "8914   A0A538CKE6  MEAVSTRLRLRVAPGAARTGVVGRHGEAWKVRVAAPAEAGRANDAV...   \n",
       "7993   A0A4R1GK81  MEEGRLKIRVTVPPEGGKANRKVVELLSKALRVPASNIEIVKGEAS...   \n",
       "523    A0A0F9BWU4  MLKIIKTATGATFKVRVQPGASKNEIVGVQQGALKVRISAPPVQGK...   \n",
       "7647   A0A445MTN0  MAIETIVKVKVLPRSSRNQILGLEAGILKVKLTAPPIEGKANKALI...   \n",
       "\n",
       "          score  y_pred  \n",
       "13739  0.999375       1  \n",
       "9648   0.999277       1  \n",
       "12307  0.999263       1  \n",
       "11549  0.999245       1  \n",
       "4445   0.999207       1  \n",
       "13866  0.999192       1  \n",
       "4515   0.999156       1  \n",
       "6278   0.999119       1  \n",
       "1912   0.999117       1  \n",
       "10511  0.999110       1  \n",
       "3237   0.999109       1  \n",
       "2473   0.999102       1  \n",
       "8640   0.999096       1  \n",
       "8539   0.999095       1  \n",
       "4780   0.999085       1  \n",
       "12833  0.999080       1  \n",
       "8914   0.999064       1  \n",
       "7993   0.999042       1  \n",
       "523    0.999040       1  \n",
       "7647   0.999024       1  "
      ]
     },
     "execution_count": 18,
     "metadata": {},
     "output_type": "execute_result"
    }
   ],
   "source": [
    "df.head(n=20)"
   ]
  },
  {
   "cell_type": "markdown",
   "metadata": {},
   "source": [
    "# Предсказания на неаннотированных данных модельных организмов"
   ]
  },
  {
   "cell_type": "markdown",
   "id": "c0dcdc33-6612-4f08-8d80-6d73d2ca3ef4",
   "metadata": {},
   "source": [
    "## E. coli"
   ]
  },
  {
   "cell_type": "code",
   "execution_count": 19,
   "id": "4a31b8f8-08b2-45f5-b67b-1baf8a43ca73",
   "metadata": {},
   "outputs": [],
   "source": [
    "ecoli_pred = pd.read_csv(\"../data/not_annotated/prediction/Ecoli_prediction.csv\")"
   ]
  },
  {
   "cell_type": "code",
   "execution_count": 20,
   "id": "5592a432-ce56-41bf-983c-3c51402efae9",
   "metadata": {},
   "outputs": [],
   "source": [
    "ecoli_pred = ecoli_pred.sort_values(by=\"score\", ascending=False)"
   ]
  },
  {
   "cell_type": "code",
   "execution_count": 21,
   "id": "205ac0b5",
   "metadata": {},
   "outputs": [
    {
     "data": {
      "text/plain": [
       "(2245, 4)"
      ]
     },
     "execution_count": 21,
     "metadata": {},
     "output_type": "execute_result"
    }
   ],
   "source": [
    "ecoli_pred.shape"
   ]
  },
  {
   "cell_type": "code",
   "execution_count": 22,
   "id": "8fd7e466-e61a-42eb-bbf8-6e533d962e3f",
   "metadata": {},
   "outputs": [
    {
     "data": {
      "text/html": [
       "<div>\n",
       "<style scoped>\n",
       "    .dataframe tbody tr th:only-of-type {\n",
       "        vertical-align: middle;\n",
       "    }\n",
       "\n",
       "    .dataframe tbody tr th {\n",
       "        vertical-align: top;\n",
       "    }\n",
       "\n",
       "    .dataframe thead th {\n",
       "        text-align: right;\n",
       "    }\n",
       "</style>\n",
       "<table border=\"1\" class=\"dataframe\">\n",
       "  <thead>\n",
       "    <tr style=\"text-align: right;\">\n",
       "      <th></th>\n",
       "      <th>identifier</th>\n",
       "      <th>sequence</th>\n",
       "      <th>score</th>\n",
       "      <th>y_pred</th>\n",
       "    </tr>\n",
       "  </thead>\n",
       "  <tbody>\n",
       "    <tr>\n",
       "      <th>519</th>\n",
       "      <td>P0AAU7</td>\n",
       "      <td>MAKEQTDRTTLDLFAHERRPGRPKTNPLSRDEQLRINKRNQLKRDK...</td>\n",
       "      <td>0.998734</td>\n",
       "      <td>1</td>\n",
       "    </tr>\n",
       "    <tr>\n",
       "      <th>421</th>\n",
       "      <td>Q2EES0</td>\n",
       "      <td>MSTKNRTRRTTTRNIRFPNQMIEQINIALEQKGSGNFSAWVIEACR...</td>\n",
       "      <td>0.998328</td>\n",
       "      <td>1</td>\n",
       "    </tr>\n",
       "    <tr>\n",
       "      <th>82</th>\n",
       "      <td>P0DPM9</td>\n",
       "      <td>MSAFKLPDTSQSQLISTAELAKIISYKSQTIRKWLCQDKLPEGLPR...</td>\n",
       "      <td>0.998102</td>\n",
       "      <td>1</td>\n",
       "    </tr>\n",
       "    <tr>\n",
       "      <th>673</th>\n",
       "      <td>P31061</td>\n",
       "      <td>MEVNKKQLADIFGASIRTIQNWQEQGMPVLRGGGKGNEVLYDSAAV...</td>\n",
       "      <td>0.997533</td>\n",
       "      <td>1</td>\n",
       "    </tr>\n",
       "    <tr>\n",
       "      <th>577</th>\n",
       "      <td>P0AE58</td>\n",
       "      <td>MCEGYVEKPLYLLIAEWMMAENRWVIAREISIHFDIEHSKAVNTLT...</td>\n",
       "      <td>0.997522</td>\n",
       "      <td>1</td>\n",
       "    </tr>\n",
       "    <tr>\n",
       "      <th>2</th>\n",
       "      <td>A5A607</td>\n",
       "      <td>MSTKNRTRRTTTRNIRFPNQMIEQINIALEQKGSGNFSAWVIEACR...</td>\n",
       "      <td>0.996925</td>\n",
       "      <td>1</td>\n",
       "    </tr>\n",
       "    <tr>\n",
       "      <th>112</th>\n",
       "      <td>P31062</td>\n",
       "      <td>MEVNKKQLADIFGASIRTIQNWQEQGMPVLRGGGKGNEVLYDSAAV...</td>\n",
       "      <td>0.996732</td>\n",
       "      <td>1</td>\n",
       "    </tr>\n",
       "    <tr>\n",
       "      <th>308</th>\n",
       "      <td>P76066</td>\n",
       "      <td>METVFDALKAMGKATSIELAARLDISREEVLNELWELKKAGFVDKS...</td>\n",
       "      <td>0.996494</td>\n",
       "      <td>1</td>\n",
       "    </tr>\n",
       "    <tr>\n",
       "      <th>668</th>\n",
       "      <td>P29217</td>\n",
       "      <td>MKYQLTALEARVIGCLLEKQVTTPEQYPLSVNGVVTACNQKTNREP...</td>\n",
       "      <td>0.996492</td>\n",
       "      <td>1</td>\n",
       "    </tr>\n",
       "    <tr>\n",
       "      <th>307</th>\n",
       "      <td>P76065</td>\n",
       "      <td>MLFVLILSHRAASYGAIMAALPYMQLYIADYLADTMHLSAEEHGAY...</td>\n",
       "      <td>0.995954</td>\n",
       "      <td>1</td>\n",
       "    </tr>\n",
       "  </tbody>\n",
       "</table>\n",
       "</div>"
      ],
      "text/plain": [
       "    identifier                                           sequence     score  \\\n",
       "519     P0AAU7  MAKEQTDRTTLDLFAHERRPGRPKTNPLSRDEQLRINKRNQLKRDK...  0.998734   \n",
       "421     Q2EES0  MSTKNRTRRTTTRNIRFPNQMIEQINIALEQKGSGNFSAWVIEACR...  0.998328   \n",
       "82      P0DPM9  MSAFKLPDTSQSQLISTAELAKIISYKSQTIRKWLCQDKLPEGLPR...  0.998102   \n",
       "673     P31061  MEVNKKQLADIFGASIRTIQNWQEQGMPVLRGGGKGNEVLYDSAAV...  0.997533   \n",
       "577     P0AE58  MCEGYVEKPLYLLIAEWMMAENRWVIAREISIHFDIEHSKAVNTLT...  0.997522   \n",
       "2       A5A607  MSTKNRTRRTTTRNIRFPNQMIEQINIALEQKGSGNFSAWVIEACR...  0.996925   \n",
       "112     P31062  MEVNKKQLADIFGASIRTIQNWQEQGMPVLRGGGKGNEVLYDSAAV...  0.996732   \n",
       "308     P76066  METVFDALKAMGKATSIELAARLDISREEVLNELWELKKAGFVDKS...  0.996494   \n",
       "668     P29217  MKYQLTALEARVIGCLLEKQVTTPEQYPLSVNGVVTACNQKTNREP...  0.996492   \n",
       "307     P76065  MLFVLILSHRAASYGAIMAALPYMQLYIADYLADTMHLSAEEHGAY...  0.995954   \n",
       "\n",
       "     y_pred  \n",
       "519       1  \n",
       "421       1  \n",
       "82        1  \n",
       "673       1  \n",
       "577       1  \n",
       "2         1  \n",
       "112       1  \n",
       "308       1  \n",
       "668       1  \n",
       "307       1  "
      ]
     },
     "execution_count": 22,
     "metadata": {},
     "output_type": "execute_result"
    }
   ],
   "source": [
    "ecoli_pred.head(n=10)"
   ]
  },
  {
   "cell_type": "markdown",
   "id": "470c8b1a-0aa2-4449-b88e-1d05c61e79ad",
   "metadata": {},
   "source": [
    "Белки без какой-либо аннотации:\n",
    "- Q2EES0\n",
    "- P0DPM9\n",
    "- P31061\n",
    "- A5A607\n",
    "- P31062\n",
    "- P76065"
   ]
  },
  {
   "cell_type": "code",
   "execution_count": 23,
   "id": "ce568c1c",
   "metadata": {},
   "outputs": [
    {
     "name": "stderr",
     "output_type": "stream",
     "text": [
      "/home/gavrilenkoa/bind_predict/process_data/../src/utils.py:150: SettingWithCopyWarning: \n",
      "A value is trying to be set on a copy of a slice from a DataFrame.\n",
      "Try using .loc[row_indexer,col_indexer] = value instead\n",
      "\n",
      "See the caveats in the documentation: https://pandas.pydata.org/pandas-docs/stable/user_guide/indexing.html#returning-a-view-versus-a-copy\n",
      "  id_0_25_group.loc[:, \"cluster\"] = [\"id_0.25\"] * len(id_0_25_group)\n",
      "/home/gavrilenkoa/bind_predict/process_data/../src/utils.py:151: SettingWithCopyWarning: \n",
      "A value is trying to be set on a copy of a slice from a DataFrame.\n",
      "Try using .loc[row_indexer,col_indexer] = value instead\n",
      "\n",
      "See the caveats in the documentation: https://pandas.pydata.org/pandas-docs/stable/user_guide/indexing.html#returning-a-view-versus-a-copy\n",
      "  id_0_5_group.loc[:, \"cluster\"] = [\"id_0.5\"] * len(id_0_5_group)\n"
     ]
    }
   ],
   "source": [
    "ecoli_clustered = assign_cluster(\"Ecoli\")"
   ]
  },
  {
   "cell_type": "code",
   "execution_count": 24,
   "id": "c1ddf39d",
   "metadata": {},
   "outputs": [],
   "source": [
    "ecoli_pred = ecoli_pred.merge(ecoli_clustered, on=\"identifier\")"
   ]
  },
  {
   "cell_type": "code",
   "execution_count": 25,
   "id": "a4fd4873",
   "metadata": {},
   "outputs": [
    {
     "data": {
      "text/html": [
       "<div>\n",
       "<style scoped>\n",
       "    .dataframe tbody tr th:only-of-type {\n",
       "        vertical-align: middle;\n",
       "    }\n",
       "\n",
       "    .dataframe tbody tr th {\n",
       "        vertical-align: top;\n",
       "    }\n",
       "\n",
       "    .dataframe thead th {\n",
       "        text-align: right;\n",
       "    }\n",
       "</style>\n",
       "<table border=\"1\" class=\"dataframe\">\n",
       "  <thead>\n",
       "    <tr style=\"text-align: right;\">\n",
       "      <th></th>\n",
       "      <th>identifier</th>\n",
       "      <th>sequence</th>\n",
       "      <th>score</th>\n",
       "      <th>y_pred</th>\n",
       "      <th>cluster</th>\n",
       "    </tr>\n",
       "  </thead>\n",
       "  <tbody>\n",
       "    <tr>\n",
       "      <th>0</th>\n",
       "      <td>P0AAU7</td>\n",
       "      <td>MAKEQTDRTTLDLFAHERRPGRPKTNPLSRDEQLRINKRNQLKRDK...</td>\n",
       "      <td>0.998734</td>\n",
       "      <td>1</td>\n",
       "      <td>&lt;id_0.25</td>\n",
       "    </tr>\n",
       "    <tr>\n",
       "      <th>1</th>\n",
       "      <td>Q2EES0</td>\n",
       "      <td>MSTKNRTRRTTTRNIRFPNQMIEQINIALEQKGSGNFSAWVIEACR...</td>\n",
       "      <td>0.998328</td>\n",
       "      <td>1</td>\n",
       "      <td>&lt;id_0.25</td>\n",
       "    </tr>\n",
       "    <tr>\n",
       "      <th>2</th>\n",
       "      <td>P0DPM9</td>\n",
       "      <td>MSAFKLPDTSQSQLISTAELAKIISYKSQTIRKWLCQDKLPEGLPR...</td>\n",
       "      <td>0.998102</td>\n",
       "      <td>1</td>\n",
       "      <td>&lt;id_0.25</td>\n",
       "    </tr>\n",
       "    <tr>\n",
       "      <th>3</th>\n",
       "      <td>P31061</td>\n",
       "      <td>MEVNKKQLADIFGASIRTIQNWQEQGMPVLRGGGKGNEVLYDSAAV...</td>\n",
       "      <td>0.997533</td>\n",
       "      <td>1</td>\n",
       "      <td>id_0.75</td>\n",
       "    </tr>\n",
       "    <tr>\n",
       "      <th>4</th>\n",
       "      <td>P0AE58</td>\n",
       "      <td>MCEGYVEKPLYLLIAEWMMAENRWVIAREISIHFDIEHSKAVNTLT...</td>\n",
       "      <td>0.997522</td>\n",
       "      <td>1</td>\n",
       "      <td>&lt;id_0.25</td>\n",
       "    </tr>\n",
       "  </tbody>\n",
       "</table>\n",
       "</div>"
      ],
      "text/plain": [
       "  identifier                                           sequence     score  \\\n",
       "0     P0AAU7  MAKEQTDRTTLDLFAHERRPGRPKTNPLSRDEQLRINKRNQLKRDK...  0.998734   \n",
       "1     Q2EES0  MSTKNRTRRTTTRNIRFPNQMIEQINIALEQKGSGNFSAWVIEACR...  0.998328   \n",
       "2     P0DPM9  MSAFKLPDTSQSQLISTAELAKIISYKSQTIRKWLCQDKLPEGLPR...  0.998102   \n",
       "3     P31061  MEVNKKQLADIFGASIRTIQNWQEQGMPVLRGGGKGNEVLYDSAAV...  0.997533   \n",
       "4     P0AE58  MCEGYVEKPLYLLIAEWMMAENRWVIAREISIHFDIEHSKAVNTLT...  0.997522   \n",
       "\n",
       "   y_pred   cluster  \n",
       "0       1  <id_0.25  \n",
       "1       1  <id_0.25  \n",
       "2       1  <id_0.25  \n",
       "3       1   id_0.75  \n",
       "4       1  <id_0.25  "
      ]
     },
     "execution_count": 25,
     "metadata": {},
     "output_type": "execute_result"
    }
   ],
   "source": [
    "ecoli_pred.head()"
   ]
  },
  {
   "cell_type": "code",
   "execution_count": 15,
   "id": "2dd17f73",
   "metadata": {},
   "outputs": [],
   "source": [
    "id_100, id_75, id_50, id_25, id_less = process_threshold(ecoli_pred)"
   ]
  },
  {
   "cell_type": "code",
   "execution_count": 16,
   "id": "01132997",
   "metadata": {},
   "outputs": [
    {
     "data": {
      "text/plain": [
       "(1, 32, 74, 580, 1558)"
      ]
     },
     "execution_count": 16,
     "metadata": {},
     "output_type": "execute_result"
    }
   ],
   "source": [
    "len(id_100), len(id_75), len(id_50), len(id_25), len(id_less)"
   ]
  },
  {
   "cell_type": "code",
   "execution_count": 50,
   "id": "c82b967d",
   "metadata": {},
   "outputs": [
    {
     "data": {
      "text/html": [
       "<div>\n",
       "<style scoped>\n",
       "    .dataframe tbody tr th:only-of-type {\n",
       "        vertical-align: middle;\n",
       "    }\n",
       "\n",
       "    .dataframe tbody tr th {\n",
       "        vertical-align: top;\n",
       "    }\n",
       "\n",
       "    .dataframe thead th {\n",
       "        text-align: right;\n",
       "    }\n",
       "</style>\n",
       "<table border=\"1\" class=\"dataframe\">\n",
       "  <thead>\n",
       "    <tr style=\"text-align: right;\">\n",
       "      <th></th>\n",
       "      <th>identifier</th>\n",
       "      <th>sequence</th>\n",
       "      <th>score</th>\n",
       "      <th>y_pred</th>\n",
       "      <th>cluster</th>\n",
       "    </tr>\n",
       "  </thead>\n",
       "  <tbody>\n",
       "    <tr>\n",
       "      <th>0</th>\n",
       "      <td>P0AAU7</td>\n",
       "      <td>MAKEQTDRTTLDLFAHERRPGRPKTNPLSRDEQLRINKRNQLKRDK...</td>\n",
       "      <td>0.998734</td>\n",
       "      <td>1</td>\n",
       "      <td>&lt;threshold</td>\n",
       "    </tr>\n",
       "    <tr>\n",
       "      <th>1</th>\n",
       "      <td>Q2EES0</td>\n",
       "      <td>MSTKNRTRRTTTRNIRFPNQMIEQINIALEQKGSGNFSAWVIEACR...</td>\n",
       "      <td>0.998328</td>\n",
       "      <td>1</td>\n",
       "      <td>&lt;threshold</td>\n",
       "    </tr>\n",
       "    <tr>\n",
       "      <th>2</th>\n",
       "      <td>P0DPM9</td>\n",
       "      <td>MSAFKLPDTSQSQLISTAELAKIISYKSQTIRKWLCQDKLPEGLPR...</td>\n",
       "      <td>0.998102</td>\n",
       "      <td>1</td>\n",
       "      <td>&lt;threshold</td>\n",
       "    </tr>\n",
       "    <tr>\n",
       "      <th>4</th>\n",
       "      <td>P0AE58</td>\n",
       "      <td>MCEGYVEKPLYLLIAEWMMAENRWVIAREISIHFDIEHSKAVNTLT...</td>\n",
       "      <td>0.997522</td>\n",
       "      <td>1</td>\n",
       "      <td>&lt;threshold</td>\n",
       "    </tr>\n",
       "    <tr>\n",
       "      <th>5</th>\n",
       "      <td>A5A607</td>\n",
       "      <td>MSTKNRTRRTTTRNIRFPNQMIEQINIALEQKGSGNFSAWVIEACR...</td>\n",
       "      <td>0.996925</td>\n",
       "      <td>1</td>\n",
       "      <td>&lt;threshold</td>\n",
       "    </tr>\n",
       "    <tr>\n",
       "      <th>...</th>\n",
       "      <td>...</td>\n",
       "      <td>...</td>\n",
       "      <td>...</td>\n",
       "      <td>...</td>\n",
       "      <td>...</td>\n",
       "    </tr>\n",
       "    <tr>\n",
       "      <th>95</th>\n",
       "      <td>A5A612</td>\n",
       "      <td>MSRRYSSATITLVILFCRRPHCRKISVRQYYQKRVIFYPTTLQRTA...</td>\n",
       "      <td>0.904622</td>\n",
       "      <td>1</td>\n",
       "      <td>&lt;threshold</td>\n",
       "    </tr>\n",
       "    <tr>\n",
       "      <th>96</th>\n",
       "      <td>P77598</td>\n",
       "      <td>MAQVAIFKEIFDQVRKDLNCELFYSELKRHNVSHYIYYLATDNIHI...</td>\n",
       "      <td>0.903296</td>\n",
       "      <td>1</td>\n",
       "      <td>&lt;threshold</td>\n",
       "    </tr>\n",
       "    <tr>\n",
       "      <th>97</th>\n",
       "      <td>P45472</td>\n",
       "      <td>MTPWFLYLIRTADNKLYTGITTDVERRYQQHQSGKGAKALRGKGEL...</td>\n",
       "      <td>0.902999</td>\n",
       "      <td>1</td>\n",
       "      <td>&lt;threshold</td>\n",
       "    </tr>\n",
       "    <tr>\n",
       "      <th>98</th>\n",
       "      <td>P37047</td>\n",
       "      <td>MAGWHLDTKMAQDIVARTMRIIDTNINVMDARGRIIGSGDRERIGE...</td>\n",
       "      <td>0.902692</td>\n",
       "      <td>1</td>\n",
       "      <td>&lt;threshold</td>\n",
       "    </tr>\n",
       "    <tr>\n",
       "      <th>99</th>\n",
       "      <td>P37590</td>\n",
       "      <td>MEWLVKKSCCNKQDNRHVLMLCDAGGAIKMIAEVKSDFAVKVGDLL...</td>\n",
       "      <td>0.901625</td>\n",
       "      <td>1</td>\n",
       "      <td>&lt;threshold</td>\n",
       "    </tr>\n",
       "  </tbody>\n",
       "</table>\n",
       "<p>89 rows × 5 columns</p>\n",
       "</div>"
      ],
      "text/plain": [
       "   identifier                                           sequence     score  \\\n",
       "0      P0AAU7  MAKEQTDRTTLDLFAHERRPGRPKTNPLSRDEQLRINKRNQLKRDK...  0.998734   \n",
       "1      Q2EES0  MSTKNRTRRTTTRNIRFPNQMIEQINIALEQKGSGNFSAWVIEACR...  0.998328   \n",
       "2      P0DPM9  MSAFKLPDTSQSQLISTAELAKIISYKSQTIRKWLCQDKLPEGLPR...  0.998102   \n",
       "4      P0AE58  MCEGYVEKPLYLLIAEWMMAENRWVIAREISIHFDIEHSKAVNTLT...  0.997522   \n",
       "5      A5A607  MSTKNRTRRTTTRNIRFPNQMIEQINIALEQKGSGNFSAWVIEACR...  0.996925   \n",
       "..        ...                                                ...       ...   \n",
       "95     A5A612  MSRRYSSATITLVILFCRRPHCRKISVRQYYQKRVIFYPTTLQRTA...  0.904622   \n",
       "96     P77598  MAQVAIFKEIFDQVRKDLNCELFYSELKRHNVSHYIYYLATDNIHI...  0.903296   \n",
       "97     P45472  MTPWFLYLIRTADNKLYTGITTDVERRYQQHQSGKGAKALRGKGEL...  0.902999   \n",
       "98     P37047  MAGWHLDTKMAQDIVARTMRIIDTNINVMDARGRIIGSGDRERIGE...  0.902692   \n",
       "99     P37590  MEWLVKKSCCNKQDNRHVLMLCDAGGAIKMIAEVKSDFAVKVGDLL...  0.901625   \n",
       "\n",
       "    y_pred     cluster  \n",
       "0        1  <threshold  \n",
       "1        1  <threshold  \n",
       "2        1  <threshold  \n",
       "4        1  <threshold  \n",
       "5        1  <threshold  \n",
       "..     ...         ...  \n",
       "95       1  <threshold  \n",
       "96       1  <threshold  \n",
       "97       1  <threshold  \n",
       "98       1  <threshold  \n",
       "99       1  <threshold  \n",
       "\n",
       "[89 rows x 5 columns]"
      ]
     },
     "execution_count": 50,
     "metadata": {},
     "output_type": "execute_result"
    }
   ],
   "source": [
    "id_less[id_less.score > 0.9]"
   ]
  },
  {
   "cell_type": "markdown",
   "id": "f3eb183f-6705-4f75-870e-0c00491ea6c6",
   "metadata": {},
   "source": [
    "## Arabidopsis"
   ]
  },
  {
   "cell_type": "code",
   "execution_count": 26,
   "id": "a633e6c1-103f-4fa6-b7ec-c45b73952b3e",
   "metadata": {},
   "outputs": [],
   "source": [
    "arabidopsis_pred = pd.read_csv(\"../data/not_annotated/prediction/Arabidopsis_prediction.csv\")"
   ]
  },
  {
   "cell_type": "code",
   "execution_count": 27,
   "id": "56c6b050-10da-4b40-b818-f7fd3a33aade",
   "metadata": {},
   "outputs": [],
   "source": [
    "arabidopsis_pred = arabidopsis_pred.sort_values(by=\"score\", ascending=False)"
   ]
  },
  {
   "cell_type": "markdown",
   "id": "72a890db-99b8-406b-80ac-587783dcf13a",
   "metadata": {},
   "source": [
    "Белки без какой-либо аннотации:\n",
    "- B3H664\n",
    "- A0A1P8APC6"
   ]
  },
  {
   "cell_type": "code",
   "execution_count": 28,
   "id": "c6984914",
   "metadata": {},
   "outputs": [
    {
     "name": "stderr",
     "output_type": "stream",
     "text": [
      "/home/gavrilenkoa/bind_predict/process_data/../src/utils.py:150: SettingWithCopyWarning: \n",
      "A value is trying to be set on a copy of a slice from a DataFrame.\n",
      "Try using .loc[row_indexer,col_indexer] = value instead\n",
      "\n",
      "See the caveats in the documentation: https://pandas.pydata.org/pandas-docs/stable/user_guide/indexing.html#returning-a-view-versus-a-copy\n",
      "  id_0_25_group.loc[:, \"cluster\"] = [\"id_0.25\"] * len(id_0_25_group)\n",
      "/home/gavrilenkoa/bind_predict/process_data/../src/utils.py:151: SettingWithCopyWarning: \n",
      "A value is trying to be set on a copy of a slice from a DataFrame.\n",
      "Try using .loc[row_indexer,col_indexer] = value instead\n",
      "\n",
      "See the caveats in the documentation: https://pandas.pydata.org/pandas-docs/stable/user_guide/indexing.html#returning-a-view-versus-a-copy\n",
      "  id_0_5_group.loc[:, \"cluster\"] = [\"id_0.5\"] * len(id_0_5_group)\n"
     ]
    }
   ],
   "source": [
    "arabidopsis_clustered = assign_cluster(\"Arabidopsis\")"
   ]
  },
  {
   "cell_type": "code",
   "execution_count": 29,
   "id": "b6fd0c71",
   "metadata": {},
   "outputs": [],
   "source": [
    "arabidopsis_pred = arabidopsis_pred.merge(arabidopsis_clustered, on=\"identifier\")"
   ]
  },
  {
   "cell_type": "code",
   "execution_count": 58,
   "id": "56e0c2d1",
   "metadata": {},
   "outputs": [],
   "source": [
    "id_100, id_75, id_50, id_25, id_less = process_threshold(arabidopsis_pred)"
   ]
  },
  {
   "cell_type": "code",
   "execution_count": 59,
   "id": "3d4cdc67",
   "metadata": {},
   "outputs": [
    {
     "data": {
      "text/plain": [
       "(5, 1525, 3822, 8857, 14275)"
      ]
     },
     "execution_count": 59,
     "metadata": {},
     "output_type": "execute_result"
    }
   ],
   "source": [
    "len(id_100), len(id_75), len(id_50), len(id_25), len(id_less)"
   ]
  },
  {
   "cell_type": "code",
   "execution_count": 60,
   "id": "6de219c5",
   "metadata": {},
   "outputs": [
    {
     "data": {
      "text/html": [
       "<div>\n",
       "<style scoped>\n",
       "    .dataframe tbody tr th:only-of-type {\n",
       "        vertical-align: middle;\n",
       "    }\n",
       "\n",
       "    .dataframe tbody tr th {\n",
       "        vertical-align: top;\n",
       "    }\n",
       "\n",
       "    .dataframe thead th {\n",
       "        text-align: right;\n",
       "    }\n",
       "</style>\n",
       "<table border=\"1\" class=\"dataframe\">\n",
       "  <thead>\n",
       "    <tr style=\"text-align: right;\">\n",
       "      <th></th>\n",
       "      <th>identifier</th>\n",
       "      <th>sequence</th>\n",
       "      <th>score</th>\n",
       "      <th>y_pred</th>\n",
       "      <th>cluster</th>\n",
       "    </tr>\n",
       "  </thead>\n",
       "  <tbody>\n",
       "    <tr>\n",
       "      <th>0</th>\n",
       "      <td>Q9SG63</td>\n",
       "      <td>MGRTTWFDVDGLRKGEWTAEEDRKLVVYINEHGLGEWGSLPKRAGL...</td>\n",
       "      <td>0.999720</td>\n",
       "      <td>1</td>\n",
       "      <td>&lt;threshold</td>\n",
       "    </tr>\n",
       "    <tr>\n",
       "      <th>6</th>\n",
       "      <td>A0A1P8APC6</td>\n",
       "      <td>MSSYIILVIWSLKNYMITRWAAIAKQMPNRTDNDIKNHWNSCLKKR...</td>\n",
       "      <td>0.999161</td>\n",
       "      <td>1</td>\n",
       "      <td>&lt;threshold</td>\n",
       "    </tr>\n",
       "    <tr>\n",
       "      <th>11</th>\n",
       "      <td>Q9FLG3</td>\n",
       "      <td>MDLNESVVHFSRGNGIAKLDNFGDTALSLKCLGSSAGRLIGSSHHN...</td>\n",
       "      <td>0.999021</td>\n",
       "      <td>1</td>\n",
       "      <td>&lt;threshold</td>\n",
       "    </tr>\n",
       "    <tr>\n",
       "      <th>32</th>\n",
       "      <td>A0A1R7T3I3</td>\n",
       "      <td>MAGDDPKSSAPKDDGYEDPYINDPFDGFGPFTDEDLINVMADINPN...</td>\n",
       "      <td>0.997960</td>\n",
       "      <td>1</td>\n",
       "      <td>&lt;threshold</td>\n",
       "    </tr>\n",
       "    <tr>\n",
       "      <th>37</th>\n",
       "      <td>Q9SH64</td>\n",
       "      <td>MHSRFQNIAFAGNSSSNSYKILGRSLQVEVPEAADTTLRLDSLASP...</td>\n",
       "      <td>0.997671</td>\n",
       "      <td>1</td>\n",
       "      <td>&lt;threshold</td>\n",
       "    </tr>\n",
       "    <tr>\n",
       "      <th>...</th>\n",
       "      <td>...</td>\n",
       "      <td>...</td>\n",
       "      <td>...</td>\n",
       "      <td>...</td>\n",
       "      <td>...</td>\n",
       "    </tr>\n",
       "    <tr>\n",
       "      <th>713</th>\n",
       "      <td>O80916</td>\n",
       "      <td>MSRYRLREHAWCLRQLNVSNKSFLKRSFLVGLGYTPPIRYFIDIGP...</td>\n",
       "      <td>0.901573</td>\n",
       "      <td>1</td>\n",
       "      <td>&lt;threshold</td>\n",
       "    </tr>\n",
       "    <tr>\n",
       "      <th>714</th>\n",
       "      <td>F4KE83</td>\n",
       "      <td>MSPPLREKTLAAIYNLKRRKRSDKKICRKEPNDSAMAAGPVVIKRE...</td>\n",
       "      <td>0.900733</td>\n",
       "      <td>1</td>\n",
       "      <td>&lt;threshold</td>\n",
       "    </tr>\n",
       "    <tr>\n",
       "      <th>715</th>\n",
       "      <td>F4I1F3</td>\n",
       "      <td>MVASEQKKRASQGKPHFLKNLTHFKFSIHEQSMVIREALLYIAMLK...</td>\n",
       "      <td>0.900712</td>\n",
       "      <td>1</td>\n",
       "      <td>&lt;threshold</td>\n",
       "    </tr>\n",
       "    <tr>\n",
       "      <th>716</th>\n",
       "      <td>Q5BPU6</td>\n",
       "      <td>MSGDMFDDQSPLLSPLCFLESPEPCIPLLDCLPNSTVETEKPYVDP...</td>\n",
       "      <td>0.900529</td>\n",
       "      <td>1</td>\n",
       "      <td>&lt;threshold</td>\n",
       "    </tr>\n",
       "    <tr>\n",
       "      <th>717</th>\n",
       "      <td>F4HTP8</td>\n",
       "      <td>MILSAMRTCSISGFHTHLPKSSGSVSSRKRFSSTALSLITQTISPF...</td>\n",
       "      <td>0.900332</td>\n",
       "      <td>1</td>\n",
       "      <td>&lt;threshold</td>\n",
       "    </tr>\n",
       "  </tbody>\n",
       "</table>\n",
       "<p>322 rows × 5 columns</p>\n",
       "</div>"
      ],
      "text/plain": [
       "     identifier                                           sequence     score  \\\n",
       "0        Q9SG63  MGRTTWFDVDGLRKGEWTAEEDRKLVVYINEHGLGEWGSLPKRAGL...  0.999720   \n",
       "6    A0A1P8APC6  MSSYIILVIWSLKNYMITRWAAIAKQMPNRTDNDIKNHWNSCLKKR...  0.999161   \n",
       "11       Q9FLG3  MDLNESVVHFSRGNGIAKLDNFGDTALSLKCLGSSAGRLIGSSHHN...  0.999021   \n",
       "32   A0A1R7T3I3  MAGDDPKSSAPKDDGYEDPYINDPFDGFGPFTDEDLINVMADINPN...  0.997960   \n",
       "37       Q9SH64  MHSRFQNIAFAGNSSSNSYKILGRSLQVEVPEAADTTLRLDSLASP...  0.997671   \n",
       "..          ...                                                ...       ...   \n",
       "713      O80916  MSRYRLREHAWCLRQLNVSNKSFLKRSFLVGLGYTPPIRYFIDIGP...  0.901573   \n",
       "714      F4KE83  MSPPLREKTLAAIYNLKRRKRSDKKICRKEPNDSAMAAGPVVIKRE...  0.900733   \n",
       "715      F4I1F3  MVASEQKKRASQGKPHFLKNLTHFKFSIHEQSMVIREALLYIAMLK...  0.900712   \n",
       "716      Q5BPU6  MSGDMFDDQSPLLSPLCFLESPEPCIPLLDCLPNSTVETEKPYVDP...  0.900529   \n",
       "717      F4HTP8  MILSAMRTCSISGFHTHLPKSSGSVSSRKRFSSTALSLITQTISPF...  0.900332   \n",
       "\n",
       "     y_pred     cluster  \n",
       "0         1  <threshold  \n",
       "6         1  <threshold  \n",
       "11        1  <threshold  \n",
       "32        1  <threshold  \n",
       "37        1  <threshold  \n",
       "..      ...         ...  \n",
       "713       1  <threshold  \n",
       "714       1  <threshold  \n",
       "715       1  <threshold  \n",
       "716       1  <threshold  \n",
       "717       1  <threshold  \n",
       "\n",
       "[322 rows x 5 columns]"
      ]
     },
     "execution_count": 60,
     "metadata": {},
     "output_type": "execute_result"
    }
   ],
   "source": [
    "id_less[id_less.score > 0.9]"
   ]
  },
  {
   "cell_type": "markdown",
   "id": "04f9deb4-7a39-480d-a0ca-b5828fcd3792",
   "metadata": {},
   "source": [
    "## C. cerevisae"
   ]
  },
  {
   "cell_type": "code",
   "execution_count": 30,
   "id": "5a18a23e-8118-422c-85d0-565ccb2bec6c",
   "metadata": {},
   "outputs": [],
   "source": [
    "cerevisae_pred = pd.read_csv(\"../data/not_annotated/prediction/Cerevisiae_prediction.csv\")"
   ]
  },
  {
   "cell_type": "code",
   "execution_count": 31,
   "id": "02efac7a-f450-4ee6-a323-40b3e1578e97",
   "metadata": {},
   "outputs": [],
   "source": [
    "cerevisae_pred = cerevisae_pred.sort_values(by=\"score\", ascending=False)"
   ]
  },
  {
   "cell_type": "markdown",
   "id": "412612ec-40c5-4e94-92c7-84033b3f2edd",
   "metadata": {},
   "source": [
    "Белки без какой-либо аннотации:\n",
    "- B3H664\n",
    "- A0A1P8APC6"
   ]
  },
  {
   "cell_type": "code",
   "execution_count": 32,
   "id": "a094f1ba",
   "metadata": {},
   "outputs": [
    {
     "name": "stderr",
     "output_type": "stream",
     "text": [
      "/home/gavrilenkoa/bind_predict/process_data/../src/utils.py:150: SettingWithCopyWarning: \n",
      "A value is trying to be set on a copy of a slice from a DataFrame.\n",
      "Try using .loc[row_indexer,col_indexer] = value instead\n",
      "\n",
      "See the caveats in the documentation: https://pandas.pydata.org/pandas-docs/stable/user_guide/indexing.html#returning-a-view-versus-a-copy\n",
      "  id_0_25_group.loc[:, \"cluster\"] = [\"id_0.25\"] * len(id_0_25_group)\n",
      "/home/gavrilenkoa/bind_predict/process_data/../src/utils.py:151: SettingWithCopyWarning: \n",
      "A value is trying to be set on a copy of a slice from a DataFrame.\n",
      "Try using .loc[row_indexer,col_indexer] = value instead\n",
      "\n",
      "See the caveats in the documentation: https://pandas.pydata.org/pandas-docs/stable/user_guide/indexing.html#returning-a-view-versus-a-copy\n",
      "  id_0_5_group.loc[:, \"cluster\"] = [\"id_0.5\"] * len(id_0_5_group)\n"
     ]
    }
   ],
   "source": [
    "cerevisae_clustered = assign_cluster(\"Cerevisiae\")"
   ]
  },
  {
   "cell_type": "code",
   "execution_count": 33,
   "id": "76f32489",
   "metadata": {},
   "outputs": [],
   "source": [
    "cerevisae_pred = cerevisae_pred.merge(cerevisae_clustered, on=\"identifier\")"
   ]
  },
  {
   "cell_type": "code",
   "execution_count": 69,
   "id": "fce11bf4",
   "metadata": {},
   "outputs": [],
   "source": [
    "id_100, id_75, id_50, id_25, id_less = process_threshold(cerevisae_pred)"
   ]
  },
  {
   "cell_type": "code",
   "execution_count": 70,
   "id": "8970b87a",
   "metadata": {},
   "outputs": [
    {
     "data": {
      "text/plain": [
       "(2, 37, 144, 635, 1587)"
      ]
     },
     "execution_count": 70,
     "metadata": {},
     "output_type": "execute_result"
    }
   ],
   "source": [
    "len(id_100), len(id_75), len(id_50), len(id_25), len(id_less)"
   ]
  },
  {
   "cell_type": "code",
   "execution_count": 74,
   "id": "907fe6d0",
   "metadata": {},
   "outputs": [
    {
     "data": {
      "text/plain": [
       "47"
      ]
     },
     "execution_count": 74,
     "metadata": {},
     "output_type": "execute_result"
    }
   ],
   "source": [
    "len(id_less[id_less.score > 0.9])"
   ]
  },
  {
   "cell_type": "markdown",
   "id": "904771f2-b56a-4aac-97ed-c92f956fcce7",
   "metadata": {},
   "source": [
    "## H. sapiens"
   ]
  },
  {
   "cell_type": "code",
   "execution_count": 34,
   "id": "d5d340d0-7113-4d9d-afd3-05751481e2f1",
   "metadata": {},
   "outputs": [],
   "source": [
    "homo_pred = pd.read_csv(\"../data/not_annotated/prediction/Homo_prediction.csv\")"
   ]
  },
  {
   "cell_type": "code",
   "execution_count": 35,
   "id": "1a82a623-d884-4559-b0d5-0e6ad46fd6c0",
   "metadata": {},
   "outputs": [],
   "source": [
    "homo_pred = homo_pred.sort_values(by=\"score\", ascending=False)"
   ]
  },
  {
   "cell_type": "markdown",
   "id": "06e081ac-c10f-45a0-915e-1012ddd08455",
   "metadata": {},
   "source": [
    "Белки без какой-либо аннотации:\n",
    "- A0A0C4DG37\n",
    "\n",
    "Есть аннотации, косвенно связанные с ДНК связыванием (regulation of DNA-templated transcription)"
   ]
  },
  {
   "cell_type": "code",
   "execution_count": 36,
   "id": "a28ade18",
   "metadata": {},
   "outputs": [
    {
     "name": "stderr",
     "output_type": "stream",
     "text": [
      "/home/gavrilenkoa/bind_predict/process_data/../src/utils.py:150: SettingWithCopyWarning: \n",
      "A value is trying to be set on a copy of a slice from a DataFrame.\n",
      "Try using .loc[row_indexer,col_indexer] = value instead\n",
      "\n",
      "See the caveats in the documentation: https://pandas.pydata.org/pandas-docs/stable/user_guide/indexing.html#returning-a-view-versus-a-copy\n",
      "  id_0_25_group.loc[:, \"cluster\"] = [\"id_0.25\"] * len(id_0_25_group)\n",
      "/home/gavrilenkoa/bind_predict/process_data/../src/utils.py:151: SettingWithCopyWarning: \n",
      "A value is trying to be set on a copy of a slice from a DataFrame.\n",
      "Try using .loc[row_indexer,col_indexer] = value instead\n",
      "\n",
      "See the caveats in the documentation: https://pandas.pydata.org/pandas-docs/stable/user_guide/indexing.html#returning-a-view-versus-a-copy\n",
      "  id_0_5_group.loc[:, \"cluster\"] = [\"id_0.5\"] * len(id_0_5_group)\n"
     ]
    }
   ],
   "source": [
    "homo_clustered = assign_cluster(\"Homo\")"
   ]
  },
  {
   "cell_type": "code",
   "execution_count": 37,
   "id": "ea6d76de",
   "metadata": {},
   "outputs": [],
   "source": [
    "homo_pred = homo_pred.merge(homo_clustered, on=\"identifier\")"
   ]
  },
  {
   "cell_type": "code",
   "execution_count": 38,
   "id": "f7c47142",
   "metadata": {},
   "outputs": [],
   "source": [
    "id_100, id_75, id_50, id_25, id_less = process_threshold(homo_pred)"
   ]
  },
  {
   "cell_type": "code",
   "execution_count": 39,
   "id": "4e8c37b3",
   "metadata": {},
   "outputs": [
    {
     "data": {
      "text/plain": [
       "(33, 6371, 7139, 10255, 23138)"
      ]
     },
     "execution_count": 39,
     "metadata": {},
     "output_type": "execute_result"
    }
   ],
   "source": [
    "len(id_100), len(id_75), len(id_50), len(id_25), len(id_less)"
   ]
  },
  {
   "cell_type": "code",
   "execution_count": 40,
   "id": "3452f080",
   "metadata": {},
   "outputs": [
    {
     "data": {
      "text/plain": [
       "546"
      ]
     },
     "execution_count": 40,
     "metadata": {},
     "output_type": "execute_result"
    }
   ],
   "source": [
    "len(id_less[id_less.score > 0.9])"
   ]
  },
  {
   "cell_type": "markdown",
   "id": "be34b4a0",
   "metadata": {},
   "source": [
    "## Pichia pastoris\n"
   ]
  },
  {
   "cell_type": "code",
   "execution_count": 41,
   "id": "4de33273",
   "metadata": {},
   "outputs": [],
   "source": [
    "pichia_pred = pd.read_csv(\"../data/not_annotated/prediction/Pichia-pastoris_prediction.csv\")"
   ]
  },
  {
   "cell_type": "code",
   "execution_count": 42,
   "id": "1cbcc046",
   "metadata": {},
   "outputs": [],
   "source": [
    "pichia_pred = pichia_pred.sort_values(by=\"score\", ascending=False)"
   ]
  },
  {
   "cell_type": "code",
   "execution_count": 43,
   "id": "80850a57",
   "metadata": {},
   "outputs": [
    {
     "name": "stderr",
     "output_type": "stream",
     "text": [
      "/home/gavrilenkoa/bind_predict/process_data/../src/utils.py:150: SettingWithCopyWarning: \n",
      "A value is trying to be set on a copy of a slice from a DataFrame.\n",
      "Try using .loc[row_indexer,col_indexer] = value instead\n",
      "\n",
      "See the caveats in the documentation: https://pandas.pydata.org/pandas-docs/stable/user_guide/indexing.html#returning-a-view-versus-a-copy\n",
      "  id_0_25_group.loc[:, \"cluster\"] = [\"id_0.25\"] * len(id_0_25_group)\n",
      "/home/gavrilenkoa/bind_predict/process_data/../src/utils.py:151: SettingWithCopyWarning: \n",
      "A value is trying to be set on a copy of a slice from a DataFrame.\n",
      "Try using .loc[row_indexer,col_indexer] = value instead\n",
      "\n",
      "See the caveats in the documentation: https://pandas.pydata.org/pandas-docs/stable/user_guide/indexing.html#returning-a-view-versus-a-copy\n",
      "  id_0_5_group.loc[:, \"cluster\"] = [\"id_0.5\"] * len(id_0_5_group)\n"
     ]
    }
   ],
   "source": [
    "pichia_clustered = assign_cluster(\"Pichia-pastoris\")"
   ]
  },
  {
   "cell_type": "code",
   "execution_count": 44,
   "id": "38c7cc75",
   "metadata": {},
   "outputs": [],
   "source": [
    "pichia_pred = pichia_pred.merge(pichia_clustered, on=\"identifier\")"
   ]
  },
  {
   "cell_type": "code",
   "execution_count": 93,
   "id": "7eb79a31",
   "metadata": {},
   "outputs": [],
   "source": [
    "id_100, id_75, id_50, id_25, id_less = process_threshold(pichia_pred)"
   ]
  },
  {
   "cell_type": "code",
   "execution_count": 94,
   "id": "2b1d162b",
   "metadata": {},
   "outputs": [
    {
     "data": {
      "text/plain": [
       "(1, 121, 707, 1650, 1733)"
      ]
     },
     "execution_count": 94,
     "metadata": {},
     "output_type": "execute_result"
    }
   ],
   "source": [
    "len(id_100), len(id_75), len(id_50), len(id_25), len(id_less)"
   ]
  },
  {
   "cell_type": "code",
   "execution_count": 95,
   "id": "91c8faf4",
   "metadata": {},
   "outputs": [
    {
     "data": {
      "text/plain": [
       "105"
      ]
     },
     "execution_count": 95,
     "metadata": {},
     "output_type": "execute_result"
    }
   ],
   "source": [
    "len(id_less[id_less.score > 0.9])"
   ]
  },
  {
   "cell_type": "markdown",
   "id": "9b074fa4",
   "metadata": {},
   "source": [
    "## Bacillus subtilis"
   ]
  },
  {
   "cell_type": "code",
   "execution_count": 45,
   "id": "7b491c86",
   "metadata": {},
   "outputs": [],
   "source": [
    "bacillus_pred = pd.read_csv(\"../data/not_annotated/prediction/Bacillus-subtilis_prediction.csv\")"
   ]
  },
  {
   "cell_type": "code",
   "execution_count": 46,
   "id": "434060c9",
   "metadata": {},
   "outputs": [],
   "source": [
    "bacillus_pred = bacillus_pred.sort_values(by=\"score\", ascending=False)"
   ]
  },
  {
   "cell_type": "code",
   "execution_count": 47,
   "id": "5abcd9c2",
   "metadata": {},
   "outputs": [
    {
     "name": "stderr",
     "output_type": "stream",
     "text": [
      "/home/gavrilenkoa/bind_predict/process_data/../src/utils.py:150: SettingWithCopyWarning: \n",
      "A value is trying to be set on a copy of a slice from a DataFrame.\n",
      "Try using .loc[row_indexer,col_indexer] = value instead\n",
      "\n",
      "See the caveats in the documentation: https://pandas.pydata.org/pandas-docs/stable/user_guide/indexing.html#returning-a-view-versus-a-copy\n",
      "  id_0_25_group.loc[:, \"cluster\"] = [\"id_0.25\"] * len(id_0_25_group)\n",
      "/home/gavrilenkoa/bind_predict/process_data/../src/utils.py:151: SettingWithCopyWarning: \n",
      "A value is trying to be set on a copy of a slice from a DataFrame.\n",
      "Try using .loc[row_indexer,col_indexer] = value instead\n",
      "\n",
      "See the caveats in the documentation: https://pandas.pydata.org/pandas-docs/stable/user_guide/indexing.html#returning-a-view-versus-a-copy\n",
      "  id_0_5_group.loc[:, \"cluster\"] = [\"id_0.5\"] * len(id_0_5_group)\n"
     ]
    }
   ],
   "source": [
    "bacillus_clustered = assign_cluster(\"Bacillus-subtilis\")"
   ]
  },
  {
   "cell_type": "code",
   "execution_count": 48,
   "id": "7a36fc95",
   "metadata": {},
   "outputs": [],
   "source": [
    "bacillus_pred = bacillus_pred.merge(bacillus_clustered, on=\"identifier\")"
   ]
  },
  {
   "cell_type": "code",
   "execution_count": 49,
   "id": "c0dda7a2",
   "metadata": {},
   "outputs": [],
   "source": [
    "id_100, id_75, id_50, id_25, id_less = process_threshold(bacillus_pred)"
   ]
  },
  {
   "cell_type": "code",
   "execution_count": 50,
   "id": "bccf8c25",
   "metadata": {},
   "outputs": [
    {
     "data": {
      "text/plain": [
       "(4, 6, 200, 1062, 2049)"
      ]
     },
     "execution_count": 50,
     "metadata": {},
     "output_type": "execute_result"
    }
   ],
   "source": [
    "len(id_100), len(id_75), len(id_50), len(id_25), len(id_less)"
   ]
  },
  {
   "cell_type": "code",
   "execution_count": 106,
   "id": "a43a1b12",
   "metadata": {},
   "outputs": [
    {
     "data": {
      "text/plain": [
       "153"
      ]
     },
     "execution_count": 106,
     "metadata": {},
     "output_type": "execute_result"
    }
   ],
   "source": [
    "len(id_less[id_less.score > 0.9])"
   ]
  },
  {
   "cell_type": "markdown",
   "id": "cc8bfad1",
   "metadata": {},
   "source": [
    "# Объединение всех предсказаний"
   ]
  },
  {
   "cell_type": "code",
   "execution_count": 54,
   "id": "40f30ae7",
   "metadata": {},
   "outputs": [],
   "source": [
    "ecoli_pred[\"species\"] = len(ecoli_pred) * [\"Escherichia coli\"]\n",
    "arabidopsis_pred[\"species\"] = len(arabidopsis_pred) * [\"Arabidopsis thaliana\"]\n",
    "bacillus_pred[\"species\"] = len(bacillus_pred) * [\"Bacillus subtilis\"]\n",
    "cerevisae_pred[\"species\"] = len(cerevisae_pred) * [\"Saccharomyces cerevisiae\"]\n",
    "homo_pred[\"species\"] = len(homo_pred) * [\"Homo sapiens\"]\n",
    "pichia_pred[\"species\"] = len(pichia_pred) * [\"Pichia pastoris\"]"
   ]
  },
  {
   "cell_type": "code",
   "execution_count": 55,
   "id": "ee4fabee",
   "metadata": {},
   "outputs": [],
   "source": [
    "df_pred = pd.concat([ecoli_pred, arabidopsis_pred, bacillus_pred, cerevisae_pred, homo_pred, pichia_pred])"
   ]
  },
  {
   "cell_type": "code",
   "execution_count": 88,
   "id": "40bbb4e4",
   "metadata": {},
   "outputs": [
    {
     "name": "stderr",
     "output_type": "stream",
     "text": [
      "/tmp/ipykernel_207590/1410578298.py:2: SettingWithCopyWarning: \n",
      "A value is trying to be set on a copy of a slice from a DataFrame\n",
      "\n",
      "See the caveats in the documentation: https://pandas.pydata.org/pandas-docs/stable/user_guide/indexing.html#returning-a-view-versus-a-copy\n",
      "  df_pred.drop([\"y_pred\"], axis=1, inplace=True)\n",
      "/tmp/ipykernel_207590/1410578298.py:3: SettingWithCopyWarning: \n",
      "A value is trying to be set on a copy of a slice from a DataFrame\n",
      "\n",
      "See the caveats in the documentation: https://pandas.pydata.org/pandas-docs/stable/user_guide/indexing.html#returning-a-view-versus-a-copy\n",
      "  df_pred.rename(columns={\"score\": \"dbp-finder_score\"}, inplace=True)\n",
      "/tmp/ipykernel_207590/1410578298.py:4: SettingWithCopyWarning: \n",
      "A value is trying to be set on a copy of a slice from a DataFrame\n",
      "\n",
      "See the caveats in the documentation: https://pandas.pydata.org/pandas-docs/stable/user_guide/indexing.html#returning-a-view-versus-a-copy\n",
      "  df_pred.rename(columns={\"cluster\": \"identity_bin\"}, inplace=True)\n"
     ]
    }
   ],
   "source": [
    "df_pred = df_pred[df_pred[\"y_pred\"] == 1]\n",
    "df_pred.drop([\"y_pred\"], axis=1, inplace=True)\n",
    "df_pred.rename(columns={\"score\": \"dbp-finder_score\"}, inplace=True)\n",
    "df_pred.rename(columns={\"cluster\": \"identity_bin\"}, inplace=True)"
   ]
  },
  {
   "cell_type": "markdown",
   "id": "2a284c0a",
   "metadata": {},
   "source": [
    "* bacillus_predictions.tsv\n",
    "* Ecoli_predictions.tsv\n",
    "* Arabidopsis_predictions.tsv\n",
    "* Cerevisiae_predictions.tsv\n",
    "* pitchia_predictions.tsv\n",
    "* Homo_predictions.tsv"
   ]
  },
  {
   "cell_type": "code",
   "execution_count": 83,
   "id": "8d4bf928",
   "metadata": {},
   "outputs": [],
   "source": [
    "def get_protienfer_pred(file_tsv):\n",
    "    protienfer_pred = pd.read_csv(f\"../../proteinfer/{file_tsv}\", sep=\"\\t\")\n",
    "    protienfer_pred = protienfer_pred[protienfer_pred[\"predicted_label\"] == \"GO:0003677\"]\n",
    "    protienfer_pred = protienfer_pred.rename(columns={\"sequence_name\": \"identifier\"})\n",
    "    protienfer_pred = protienfer_pred.rename(columns={\"confidence\": \"protienfer_score\"})\n",
    "    protienfer_pred = protienfer_pred.loc[:, [\"identifier\", \"protienfer_score\"]]\n",
    "    return protienfer_pred"
   ]
  },
  {
   "cell_type": "code",
   "execution_count": 84,
   "id": "fa523c1a",
   "metadata": {},
   "outputs": [],
   "source": [
    "bacillus_proteinfer = get_protienfer_pred(\"bacillus_predictions.tsv\")\n",
    "cerevisae_proteinfer = get_protienfer_pred(\"Cerevisiae_predictions.tsv\")\n",
    "homo_proteinfer = get_protienfer_pred(\"Homo_predictions.tsv\")\n",
    "pichia_proteinfer = get_protienfer_pred(\"pitchia_predictions.tsv\")\n",
    "arabidopsis_proteinfer = get_protienfer_pred(\"Arabidopsis_predictions.tsv\")\n",
    "ecoli_proteinfer = get_protienfer_pred(\"Ecoli_predictions.tsv\")"
   ]
  },
  {
   "cell_type": "code",
   "execution_count": 85,
   "id": "b9484302",
   "metadata": {},
   "outputs": [],
   "source": [
    "protienfer_pred = pd.concat([bacillus_proteinfer, cerevisae_proteinfer, homo_proteinfer, pichia_proteinfer, arabidopsis_proteinfer, ecoli_proteinfer])"
   ]
  },
  {
   "cell_type": "code",
   "execution_count": 90,
   "id": "0dcbb6d5",
   "metadata": {},
   "outputs": [],
   "source": [
    "df_pred = df_pred.merge(protienfer_pred, on=\"identifier\", how=\"left\")"
   ]
  },
  {
   "cell_type": "code",
   "execution_count": 92,
   "id": "c4d6f60e",
   "metadata": {},
   "outputs": [],
   "source": [
    "df_pred.rename(columns={\"identifier\": \"accession\"}, inplace=True)"
   ]
  },
  {
   "cell_type": "markdown",
   "id": "1aa5226e",
   "metadata": {},
   "source": [
    "* Bacillus-subtilis.fasta\n",
    "* Cerevisiae.fasta\n",
    "* Ecoli.fasta\n",
    "* Pichia-pastoris.fasta\n",
    "* Arabidopsis.fasta\n",
    "* Homo.fasta"
   ]
  },
  {
   "cell_type": "code",
   "execution_count": 105,
   "id": "2de83ec9",
   "metadata": {},
   "outputs": [],
   "source": [
    "def parse_description(fasta_file: str) -> pd.DataFrame:\n",
    "    with open(f\"../data/not_annotated/{fasta_file}\") as fi:\n",
    "        lines = fi.readlines()\n",
    "\n",
    "    accessions = []\n",
    "    descriptions = []\n",
    "\n",
    "    for line in lines:\n",
    "        if line.startswith(\">\"):\n",
    "            head = line.split(\"|\")[1].replace(\">\", \"\")\n",
    "            description = \" \".join(line.split(\" \")[1:]).strip()\n",
    "\n",
    "            accessions.append(head)\n",
    "            descriptions.append(description)\n",
    "\n",
    "    df = pd.DataFrame({\"accession\": accessions,\n",
    "                       \"description\": descriptions})\n",
    "    return df"
   ]
  },
  {
   "cell_type": "code",
   "execution_count": 108,
   "id": "3f38f696",
   "metadata": {},
   "outputs": [],
   "source": [
    "bacillus = parse_description(\"Bacillus-subtilis.fasta\")\n",
    "cerevisiae = parse_description(\"Cerevisiae.fasta\")\n",
    "ecoli = parse_description(\"Ecoli.fasta\")\n",
    "pichia = parse_description(\"Pichia-pastoris.fasta\")\n",
    "arabidopsis = parse_description(\"Arabidopsis.fasta\")\n",
    "homo = parse_description(\"Homo.fasta\")"
   ]
  },
  {
   "cell_type": "code",
   "execution_count": 109,
   "id": "3de58424",
   "metadata": {},
   "outputs": [],
   "source": [
    "df_descriptions = pd.concat([bacillus, cerevisiae, ecoli, pichia, arabidopsis, homo])"
   ]
  },
  {
   "cell_type": "code",
   "execution_count": 112,
   "id": "611b2fac",
   "metadata": {},
   "outputs": [],
   "source": [
    "df_pred = df_pred.merge(df_descriptions, on=\"accession\", how=\"inner\")"
   ]
  },
  {
   "cell_type": "code",
   "execution_count": 113,
   "id": "e85c6688",
   "metadata": {},
   "outputs": [],
   "source": [
    "df_pred.to_csv(\"../data/not_annotated/overall_prediction.csv\", index=False)"
   ]
  },
  {
   "cell_type": "code",
   "execution_count": 114,
   "id": "f2f3f5d6",
   "metadata": {},
   "outputs": [
    {
     "data": {
      "text/html": [
       "<div>\n",
       "<style scoped>\n",
       "    .dataframe tbody tr th:only-of-type {\n",
       "        vertical-align: middle;\n",
       "    }\n",
       "\n",
       "    .dataframe tbody tr th {\n",
       "        vertical-align: top;\n",
       "    }\n",
       "\n",
       "    .dataframe thead th {\n",
       "        text-align: right;\n",
       "    }\n",
       "</style>\n",
       "<table border=\"1\" class=\"dataframe\">\n",
       "  <thead>\n",
       "    <tr style=\"text-align: right;\">\n",
       "      <th></th>\n",
       "      <th>accession</th>\n",
       "      <th>sequence</th>\n",
       "      <th>dbp-finder_score</th>\n",
       "      <th>identity_bin</th>\n",
       "      <th>species</th>\n",
       "      <th>protienfer_score</th>\n",
       "      <th>description</th>\n",
       "    </tr>\n",
       "  </thead>\n",
       "  <tbody>\n",
       "    <tr>\n",
       "      <th>0</th>\n",
       "      <td>P0AAU7</td>\n",
       "      <td>MAKEQTDRTTLDLFAHERRPGRPKTNPLSRDEQLRINKRNQLKRDK...</td>\n",
       "      <td>0.998734</td>\n",
       "      <td>&lt;id_0.25</td>\n",
       "      <td>Escherichia coli</td>\n",
       "      <td>NaN</td>\n",
       "      <td>Uncharacterized protein YbfE OS=Escherichia co...</td>\n",
       "    </tr>\n",
       "    <tr>\n",
       "      <th>1</th>\n",
       "      <td>Q2EES0</td>\n",
       "      <td>MSTKNRTRRTTTRNIRFPNQMIEQINIALEQKGSGNFSAWVIEACR...</td>\n",
       "      <td>0.998328</td>\n",
       "      <td>&lt;id_0.25</td>\n",
       "      <td>Escherichia coli</td>\n",
       "      <td>NaN</td>\n",
       "      <td>Uncharacterized protein YnfO OS=Escherichia co...</td>\n",
       "    </tr>\n",
       "    <tr>\n",
       "      <th>2</th>\n",
       "      <td>P0DPM9</td>\n",
       "      <td>MSAFKLPDTSQSQLISTAELAKIISYKSQTIRKWLCQDKLPEGLPR...</td>\n",
       "      <td>0.998102</td>\n",
       "      <td>&lt;id_0.25</td>\n",
       "      <td>Escherichia coli</td>\n",
       "      <td>NaN</td>\n",
       "      <td>Protein YkgV OS=Escherichia coli (strain K12) ...</td>\n",
       "    </tr>\n",
       "    <tr>\n",
       "      <th>3</th>\n",
       "      <td>P31061</td>\n",
       "      <td>MEVNKKQLADIFGASIRTIQNWQEQGMPVLRGGGKGNEVLYDSAAV...</td>\n",
       "      <td>0.997533</td>\n",
       "      <td>id_0.75</td>\n",
       "      <td>Escherichia coli</td>\n",
       "      <td>NaN</td>\n",
       "      <td>Prophage DNA-packing protein NohA OS=Escherich...</td>\n",
       "    </tr>\n",
       "    <tr>\n",
       "      <th>4</th>\n",
       "      <td>P0AE58</td>\n",
       "      <td>MCEGYVEKPLYLLIAEWMMAENRWVIAREISIHFDIEHSKAVNTLT...</td>\n",
       "      <td>0.997522</td>\n",
       "      <td>&lt;id_0.25</td>\n",
       "      <td>Escherichia coli</td>\n",
       "      <td>NaN</td>\n",
       "      <td>Transcriptional activatory protein CaiF OS=Esc...</td>\n",
       "    </tr>\n",
       "    <tr>\n",
       "      <th>...</th>\n",
       "      <td>...</td>\n",
       "      <td>...</td>\n",
       "      <td>...</td>\n",
       "      <td>...</td>\n",
       "      <td>...</td>\n",
       "      <td>...</td>\n",
       "      <td>...</td>\n",
       "    </tr>\n",
       "    <tr>\n",
       "      <th>9441</th>\n",
       "      <td>A0A1B2JEY7</td>\n",
       "      <td>MMRLFFFFVGVVFFFRPAIMTEIQSRIDDENYGLFPQESRDMLLES...</td>\n",
       "      <td>0.504707</td>\n",
       "      <td>&lt;id_0.25</td>\n",
       "      <td>Pichia pastoris</td>\n",
       "      <td>NaN</td>\n",
       "      <td>BA75_03822T0 OS=Komagataella pastoris OX=4922 ...</td>\n",
       "    </tr>\n",
       "    <tr>\n",
       "      <th>9442</th>\n",
       "      <td>A0A1B2JHJ6</td>\n",
       "      <td>MNRVYRIRSFIPARSIRTRAVRSPLKSVKTTEGPVPQTQPESLKQL...</td>\n",
       "      <td>0.504321</td>\n",
       "      <td>&lt;id_0.25</td>\n",
       "      <td>Pichia pastoris</td>\n",
       "      <td>NaN</td>\n",
       "      <td>BA75_05018T0 OS=Komagataella pastoris OX=4922 ...</td>\n",
       "    </tr>\n",
       "    <tr>\n",
       "      <th>9443</th>\n",
       "      <td>A0A1B2JA41</td>\n",
       "      <td>MSQEELDRVSDMLAGPLPFKNPNWHRKKKYKPARQLINDEQKRINS...</td>\n",
       "      <td>0.502954</td>\n",
       "      <td>id_0.25</td>\n",
       "      <td>Pichia pastoris</td>\n",
       "      <td>NaN</td>\n",
       "      <td>BA75_02916T0 OS=Komagataella pastoris OX=4922 ...</td>\n",
       "    </tr>\n",
       "    <tr>\n",
       "      <th>9444</th>\n",
       "      <td>A0A1B2J6V9</td>\n",
       "      <td>MSYSKDIWENCQTEVSGPVVNDDGVSDQWSHWEREFSFQNLDTAEA...</td>\n",
       "      <td>0.502004</td>\n",
       "      <td>&lt;id_0.25</td>\n",
       "      <td>Pichia pastoris</td>\n",
       "      <td>NaN</td>\n",
       "      <td>BA75_01198T0 OS=Komagataella pastoris OX=4922 ...</td>\n",
       "    </tr>\n",
       "    <tr>\n",
       "      <th>9445</th>\n",
       "      <td>A0A1B2J7H7</td>\n",
       "      <td>MMSAMQRCWMSSPRLSDLLAHARGTSSIFFLLVKHVFTSQYSFNPF...</td>\n",
       "      <td>0.500867</td>\n",
       "      <td>&lt;id_0.25</td>\n",
       "      <td>Pichia pastoris</td>\n",
       "      <td>NaN</td>\n",
       "      <td>BA75_00514T0 OS=Komagataella pastoris OX=4922 ...</td>\n",
       "    </tr>\n",
       "  </tbody>\n",
       "</table>\n",
       "<p>9446 rows × 7 columns</p>\n",
       "</div>"
      ],
      "text/plain": [
       "       accession                                           sequence  \\\n",
       "0         P0AAU7  MAKEQTDRTTLDLFAHERRPGRPKTNPLSRDEQLRINKRNQLKRDK...   \n",
       "1         Q2EES0  MSTKNRTRRTTTRNIRFPNQMIEQINIALEQKGSGNFSAWVIEACR...   \n",
       "2         P0DPM9  MSAFKLPDTSQSQLISTAELAKIISYKSQTIRKWLCQDKLPEGLPR...   \n",
       "3         P31061  MEVNKKQLADIFGASIRTIQNWQEQGMPVLRGGGKGNEVLYDSAAV...   \n",
       "4         P0AE58  MCEGYVEKPLYLLIAEWMMAENRWVIAREISIHFDIEHSKAVNTLT...   \n",
       "...          ...                                                ...   \n",
       "9441  A0A1B2JEY7  MMRLFFFFVGVVFFFRPAIMTEIQSRIDDENYGLFPQESRDMLLES...   \n",
       "9442  A0A1B2JHJ6  MNRVYRIRSFIPARSIRTRAVRSPLKSVKTTEGPVPQTQPESLKQL...   \n",
       "9443  A0A1B2JA41  MSQEELDRVSDMLAGPLPFKNPNWHRKKKYKPARQLINDEQKRINS...   \n",
       "9444  A0A1B2J6V9  MSYSKDIWENCQTEVSGPVVNDDGVSDQWSHWEREFSFQNLDTAEA...   \n",
       "9445  A0A1B2J7H7  MMSAMQRCWMSSPRLSDLLAHARGTSSIFFLLVKHVFTSQYSFNPF...   \n",
       "\n",
       "      dbp-finder_score identity_bin           species  protienfer_score  \\\n",
       "0             0.998734     <id_0.25  Escherichia coli               NaN   \n",
       "1             0.998328     <id_0.25  Escherichia coli               NaN   \n",
       "2             0.998102     <id_0.25  Escherichia coli               NaN   \n",
       "3             0.997533      id_0.75  Escherichia coli               NaN   \n",
       "4             0.997522     <id_0.25  Escherichia coli               NaN   \n",
       "...                ...          ...               ...               ...   \n",
       "9441          0.504707     <id_0.25   Pichia pastoris               NaN   \n",
       "9442          0.504321     <id_0.25   Pichia pastoris               NaN   \n",
       "9443          0.502954      id_0.25   Pichia pastoris               NaN   \n",
       "9444          0.502004     <id_0.25   Pichia pastoris               NaN   \n",
       "9445          0.500867     <id_0.25   Pichia pastoris               NaN   \n",
       "\n",
       "                                            description  \n",
       "0     Uncharacterized protein YbfE OS=Escherichia co...  \n",
       "1     Uncharacterized protein YnfO OS=Escherichia co...  \n",
       "2     Protein YkgV OS=Escherichia coli (strain K12) ...  \n",
       "3     Prophage DNA-packing protein NohA OS=Escherich...  \n",
       "4     Transcriptional activatory protein CaiF OS=Esc...  \n",
       "...                                                 ...  \n",
       "9441  BA75_03822T0 OS=Komagataella pastoris OX=4922 ...  \n",
       "9442  BA75_05018T0 OS=Komagataella pastoris OX=4922 ...  \n",
       "9443  BA75_02916T0 OS=Komagataella pastoris OX=4922 ...  \n",
       "9444  BA75_01198T0 OS=Komagataella pastoris OX=4922 ...  \n",
       "9445  BA75_00514T0 OS=Komagataella pastoris OX=4922 ...  \n",
       "\n",
       "[9446 rows x 7 columns]"
      ]
     },
     "execution_count": 114,
     "metadata": {},
     "output_type": "execute_result"
    }
   ],
   "source": [
    "df_pred"
   ]
  },
  {
   "cell_type": "markdown",
   "id": "345e7e6f",
   "metadata": {},
   "source": [
    "# Белки без аннотации"
   ]
  },
  {
   "cell_type": "code",
   "execution_count": 51,
   "id": "b9a0dbf6",
   "metadata": {},
   "outputs": [],
   "source": [
    "def get_not_annot_data(path_csv: str, target_df: pd.DataFrame) -> pd.DataFrame:\n",
    "    not_annot_df = pd.read_csv(path_csv).drop([\"sequence\"], axis=1)\n",
    "    out = target_df.merge(not_annot_df, on=\"identifier\")\n",
    "    # assert len(out) == len(not_annot_df)\n",
    "    return out"
   ]
  },
  {
   "cell_type": "code",
   "execution_count": 29,
   "id": "dc92a879",
   "metadata": {},
   "outputs": [],
   "source": [
    "not_annot_ecoli = get_not_annot_data(path_csv=\"../data/not_annotated/empty_annot_Ecoli.csv\", target_df=ecoli)"
   ]
  },
  {
   "cell_type": "code",
   "execution_count": 36,
   "id": "eac2408c",
   "metadata": {},
   "outputs": [
    {
     "data": {
      "text/plain": [
       "43"
      ]
     },
     "execution_count": 36,
     "metadata": {},
     "output_type": "execute_result"
    }
   ],
   "source": [
    "len(not_annot_ecoli[not_annot_ecoli.score > 0.9])"
   ]
  },
  {
   "cell_type": "code",
   "execution_count": 38,
   "id": "9d0db1a5",
   "metadata": {},
   "outputs": [],
   "source": [
    "not_annot_arab = get_not_annot_data(path_csv=\"../data/not_annotated/empty_annot_Arabidopsis.csv\", target_df=arabidopsis)"
   ]
  },
  {
   "cell_type": "code",
   "execution_count": 41,
   "id": "780ac699",
   "metadata": {},
   "outputs": [
    {
     "data": {
      "text/plain": [
       "110"
      ]
     },
     "execution_count": 41,
     "metadata": {},
     "output_type": "execute_result"
    }
   ],
   "source": [
    "len(not_annot_arab[not_annot_arab.score > 0.9])"
   ]
  },
  {
   "cell_type": "code",
   "execution_count": 47,
   "id": "9d497e2f",
   "metadata": {},
   "outputs": [],
   "source": [
    "not_annot_cerevisae = get_not_annot_data(path_csv=\"../data/not_annotated/empty_annot_Cerevisiae.csv\", target_df=cerevisae)"
   ]
  },
  {
   "cell_type": "code",
   "execution_count": 48,
   "id": "27833f0d",
   "metadata": {},
   "outputs": [
    {
     "data": {
      "text/html": [
       "<div>\n",
       "<style scoped>\n",
       "    .dataframe tbody tr th:only-of-type {\n",
       "        vertical-align: middle;\n",
       "    }\n",
       "\n",
       "    .dataframe tbody tr th {\n",
       "        vertical-align: top;\n",
       "    }\n",
       "\n",
       "    .dataframe thead th {\n",
       "        text-align: right;\n",
       "    }\n",
       "</style>\n",
       "<table border=\"1\" class=\"dataframe\">\n",
       "  <thead>\n",
       "    <tr style=\"text-align: right;\">\n",
       "      <th></th>\n",
       "      <th>identifier</th>\n",
       "      <th>sequence</th>\n",
       "      <th>score</th>\n",
       "      <th>y_pred</th>\n",
       "    </tr>\n",
       "  </thead>\n",
       "  <tbody>\n",
       "    <tr>\n",
       "      <th>0</th>\n",
       "      <td>A0A8D9PCQ4</td>\n",
       "      <td>MYDLLEQKFFVREIKFASAYYLRTGKALNNSKTPIFQRKHSLPAWL...</td>\n",
       "      <td>0.968548</td>\n",
       "      <td>1</td>\n",
       "    </tr>\n",
       "  </tbody>\n",
       "</table>\n",
       "</div>"
      ],
      "text/plain": [
       "   identifier                                           sequence     score  \\\n",
       "0  A0A8D9PCQ4  MYDLLEQKFFVREIKFASAYYLRTGKALNNSKTPIFQRKHSLPAWL...  0.968548   \n",
       "\n",
       "   y_pred  \n",
       "0       1  "
      ]
     },
     "execution_count": 48,
     "metadata": {},
     "output_type": "execute_result"
    }
   ],
   "source": [
    "not_annot_cerevisae[not_annot_cerevisae.score > 0.9]"
   ]
  },
  {
   "cell_type": "code",
   "execution_count": 52,
   "id": "9674bb80",
   "metadata": {},
   "outputs": [],
   "source": [
    "not_annot_homo = get_not_annot_data(path_csv=\"../data/not_annotated/empty_annot_Homo.csv\", target_df=homo)"
   ]
  },
  {
   "cell_type": "code",
   "execution_count": 53,
   "id": "6b50c8fc",
   "metadata": {},
   "outputs": [
    {
     "data": {
      "text/html": [
       "<div>\n",
       "<style scoped>\n",
       "    .dataframe tbody tr th:only-of-type {\n",
       "        vertical-align: middle;\n",
       "    }\n",
       "\n",
       "    .dataframe tbody tr th {\n",
       "        vertical-align: top;\n",
       "    }\n",
       "\n",
       "    .dataframe thead th {\n",
       "        text-align: right;\n",
       "    }\n",
       "</style>\n",
       "<table border=\"1\" class=\"dataframe\">\n",
       "  <thead>\n",
       "    <tr style=\"text-align: right;\">\n",
       "      <th></th>\n",
       "      <th>identifier</th>\n",
       "      <th>sequence</th>\n",
       "      <th>score</th>\n",
       "      <th>y_pred</th>\n",
       "    </tr>\n",
       "  </thead>\n",
       "  <tbody>\n",
       "    <tr>\n",
       "      <th>0</th>\n",
       "      <td>A0A0C4DG37</td>\n",
       "      <td>MNIRGDTGHKACECQEYGPKPWKSQQPKKAFRYHPSLRTQERDHTG...</td>\n",
       "      <td>0.999698</td>\n",
       "      <td>1</td>\n",
       "    </tr>\n",
       "    <tr>\n",
       "      <th>1</th>\n",
       "      <td>S4R3B8</td>\n",
       "      <td>MGKEPWVPDSVDMTSAMARGAYGRPGSDFCHGTEGKDLPSEHNVSV...</td>\n",
       "      <td>0.998691</td>\n",
       "      <td>1</td>\n",
       "    </tr>\n",
       "    <tr>\n",
       "      <th>2</th>\n",
       "      <td>F8VS19</td>\n",
       "      <td>MQEKAHTGEKLYDCKECGKTFISHSSIQRHMIMHNGDGTYKCKFCG...</td>\n",
       "      <td>0.998605</td>\n",
       "      <td>1</td>\n",
       "    </tr>\n",
       "    <tr>\n",
       "      <th>3</th>\n",
       "      <td>J3KT56</td>\n",
       "      <td>MAWGLEAQDDPPAERTKNVCKDVETNIDSESTLIQGISEERDGMMS...</td>\n",
       "      <td>0.998273</td>\n",
       "      <td>1</td>\n",
       "    </tr>\n",
       "    <tr>\n",
       "      <th>4</th>\n",
       "      <td>E5RFQ4</td>\n",
       "      <td>MARMNRPAPVEVSYKHMRFLITHNPTNATLSTFIESGMKYEDAIQF...</td>\n",
       "      <td>0.997602</td>\n",
       "      <td>1</td>\n",
       "    </tr>\n",
       "    <tr>\n",
       "      <th>...</th>\n",
       "      <td>...</td>\n",
       "      <td>...</td>\n",
       "      <td>...</td>\n",
       "      <td>...</td>\n",
       "    </tr>\n",
       "    <tr>\n",
       "      <th>266</th>\n",
       "      <td>F8VPF1</td>\n",
       "      <td>MYRQRFLYSLYRHTHWVRCAKDLSLLFHFQKVESYLHQEVQTHRSY...</td>\n",
       "      <td>0.901689</td>\n",
       "      <td>1</td>\n",
       "    </tr>\n",
       "    <tr>\n",
       "      <th>267</th>\n",
       "      <td>H3BUU5</td>\n",
       "      <td>MSDQDHSMDEMTAVVKIEKGVGGNNGGNGNGGGAFSQARSSSTGSS...</td>\n",
       "      <td>0.901106</td>\n",
       "      <td>1</td>\n",
       "    </tr>\n",
       "    <tr>\n",
       "      <th>268</th>\n",
       "      <td>F8VW24</td>\n",
       "      <td>MNKPITPSTYVRCLNVGLIRKLSDFIDPQEGWKKLAVAIKKPSGDD...</td>\n",
       "      <td>0.900935</td>\n",
       "      <td>1</td>\n",
       "    </tr>\n",
       "    <tr>\n",
       "      <th>269</th>\n",
       "      <td>K7EJ17</td>\n",
       "      <td>MLHCRLTSGFEGRVLSLAKVKKTGKRKSLPLLRPSLCFRRIKDKSP...</td>\n",
       "      <td>0.900765</td>\n",
       "      <td>1</td>\n",
       "    </tr>\n",
       "    <tr>\n",
       "      <th>270</th>\n",
       "      <td>H0YNI8</td>\n",
       "      <td>MRGAAPGKKTSGLQQKNVEVKTKKNKQKTPGNGDGGSTSETPQPPR...</td>\n",
       "      <td>0.900763</td>\n",
       "      <td>1</td>\n",
       "    </tr>\n",
       "  </tbody>\n",
       "</table>\n",
       "<p>271 rows × 4 columns</p>\n",
       "</div>"
      ],
      "text/plain": [
       "     identifier                                           sequence     score  \\\n",
       "0    A0A0C4DG37  MNIRGDTGHKACECQEYGPKPWKSQQPKKAFRYHPSLRTQERDHTG...  0.999698   \n",
       "1        S4R3B8  MGKEPWVPDSVDMTSAMARGAYGRPGSDFCHGTEGKDLPSEHNVSV...  0.998691   \n",
       "2        F8VS19  MQEKAHTGEKLYDCKECGKTFISHSSIQRHMIMHNGDGTYKCKFCG...  0.998605   \n",
       "3        J3KT56  MAWGLEAQDDPPAERTKNVCKDVETNIDSESTLIQGISEERDGMMS...  0.998273   \n",
       "4        E5RFQ4  MARMNRPAPVEVSYKHMRFLITHNPTNATLSTFIESGMKYEDAIQF...  0.997602   \n",
       "..          ...                                                ...       ...   \n",
       "266      F8VPF1  MYRQRFLYSLYRHTHWVRCAKDLSLLFHFQKVESYLHQEVQTHRSY...  0.901689   \n",
       "267      H3BUU5  MSDQDHSMDEMTAVVKIEKGVGGNNGGNGNGGGAFSQARSSSTGSS...  0.901106   \n",
       "268      F8VW24  MNKPITPSTYVRCLNVGLIRKLSDFIDPQEGWKKLAVAIKKPSGDD...  0.900935   \n",
       "269      K7EJ17  MLHCRLTSGFEGRVLSLAKVKKTGKRKSLPLLRPSLCFRRIKDKSP...  0.900765   \n",
       "270      H0YNI8  MRGAAPGKKTSGLQQKNVEVKTKKNKQKTPGNGDGGSTSETPQPPR...  0.900763   \n",
       "\n",
       "     y_pred  \n",
       "0         1  \n",
       "1         1  \n",
       "2         1  \n",
       "3         1  \n",
       "4         1  \n",
       "..      ...  \n",
       "266       1  \n",
       "267       1  \n",
       "268       1  \n",
       "269       1  \n",
       "270       1  \n",
       "\n",
       "[271 rows x 4 columns]"
      ]
     },
     "execution_count": 53,
     "metadata": {},
     "output_type": "execute_result"
    }
   ],
   "source": [
    "not_annot_homo[not_annot_homo.score > 0.9]"
   ]
  },
  {
   "cell_type": "markdown",
   "id": "e24f6d6f-707e-4766-aad7-6061980c29bb",
   "metadata": {},
   "source": [
    "# Сравнение с Proteinfer"
   ]
  },
  {
   "cell_type": "code",
   "execution_count": 71,
   "id": "6f447d6e",
   "metadata": {},
   "outputs": [
    {
     "data": {
      "text/html": [
       "<div>\n",
       "<style scoped>\n",
       "    .dataframe tbody tr th:only-of-type {\n",
       "        vertical-align: middle;\n",
       "    }\n",
       "\n",
       "    .dataframe tbody tr th {\n",
       "        vertical-align: top;\n",
       "    }\n",
       "\n",
       "    .dataframe thead th {\n",
       "        text-align: right;\n",
       "    }\n",
       "</style>\n",
       "<table border=\"1\" class=\"dataframe\">\n",
       "  <thead>\n",
       "    <tr style=\"text-align: right;\">\n",
       "      <th></th>\n",
       "      <th>sequence_name</th>\n",
       "      <th>predicted_label</th>\n",
       "      <th>confidence</th>\n",
       "      <th>description</th>\n",
       "    </tr>\n",
       "  </thead>\n",
       "  <tbody>\n",
       "    <tr>\n",
       "      <th>0</th>\n",
       "      <td>O13556</td>\n",
       "      <td>Pfam:PF11603</td>\n",
       "      <td>1.00</td>\n",
       "      <td>Regulatory protein Sir1</td>\n",
       "    </tr>\n",
       "    <tr>\n",
       "      <th>1</th>\n",
       "      <td>P0C0V2</td>\n",
       "      <td>Pfam:PF04318</td>\n",
       "      <td>1.00</td>\n",
       "      <td>Protein of unknown function (DUF468)</td>\n",
       "    </tr>\n",
       "    <tr>\n",
       "      <th>2</th>\n",
       "      <td>P0CF17</td>\n",
       "      <td>Pfam:PF02204</td>\n",
       "      <td>1.00</td>\n",
       "      <td>Vacuolar sorting protein 9 (VPS9) domain</td>\n",
       "    </tr>\n",
       "    <tr>\n",
       "      <th>3</th>\n",
       "      <td>P25606</td>\n",
       "      <td>Pfam:CL0434</td>\n",
       "      <td>1.00</td>\n",
       "      <td>Sialidase</td>\n",
       "    </tr>\n",
       "    <tr>\n",
       "      <th>4</th>\n",
       "      <td>P25606</td>\n",
       "      <td>Pfam:PF15902</td>\n",
       "      <td>1.00</td>\n",
       "      <td>Sortilin; neurotensin receptor 3;</td>\n",
       "    </tr>\n",
       "    <tr>\n",
       "      <th>...</th>\n",
       "      <td>...</td>\n",
       "      <td>...</td>\n",
       "      <td>...</td>\n",
       "      <td>...</td>\n",
       "    </tr>\n",
       "    <tr>\n",
       "      <th>75381</th>\n",
       "      <td>Q9URQ5</td>\n",
       "      <td>GO:1901360</td>\n",
       "      <td>0.62</td>\n",
       "      <td>organic cyclic compound metabolic process</td>\n",
       "    </tr>\n",
       "    <tr>\n",
       "      <th>75382</th>\n",
       "      <td>Q9URQ5</td>\n",
       "      <td>GO:0022607</td>\n",
       "      <td>0.57</td>\n",
       "      <td>cellular component assembly</td>\n",
       "    </tr>\n",
       "    <tr>\n",
       "      <th>75383</th>\n",
       "      <td>Q9URQ5</td>\n",
       "      <td>GO:0044271</td>\n",
       "      <td>0.56</td>\n",
       "      <td>cellular nitrogen compound biosynthetic process</td>\n",
       "    </tr>\n",
       "    <tr>\n",
       "      <th>75384</th>\n",
       "      <td>Q9URQ5</td>\n",
       "      <td>GO:1901576</td>\n",
       "      <td>0.53</td>\n",
       "      <td>organic substance biosynthetic process</td>\n",
       "    </tr>\n",
       "    <tr>\n",
       "      <th>75385</th>\n",
       "      <td>Q9URQ5</td>\n",
       "      <td>GO:0071704</td>\n",
       "      <td>0.50</td>\n",
       "      <td>organic substance metabolic process</td>\n",
       "    </tr>\n",
       "  </tbody>\n",
       "</table>\n",
       "<p>75386 rows × 4 columns</p>\n",
       "</div>"
      ],
      "text/plain": [
       "      sequence_name predicted_label  confidence  \\\n",
       "0            O13556    Pfam:PF11603        1.00   \n",
       "1            P0C0V2    Pfam:PF04318        1.00   \n",
       "2            P0CF17    Pfam:PF02204        1.00   \n",
       "3            P25606     Pfam:CL0434        1.00   \n",
       "4            P25606    Pfam:PF15902        1.00   \n",
       "...             ...             ...         ...   \n",
       "75381        Q9URQ5      GO:1901360        0.62   \n",
       "75382        Q9URQ5      GO:0022607        0.57   \n",
       "75383        Q9URQ5      GO:0044271        0.56   \n",
       "75384        Q9URQ5      GO:1901576        0.53   \n",
       "75385        Q9URQ5      GO:0071704        0.50   \n",
       "\n",
       "                                           description  \n",
       "0                              Regulatory protein Sir1  \n",
       "1                 Protein of unknown function (DUF468)  \n",
       "2             Vacuolar sorting protein 9 (VPS9) domain  \n",
       "3                                            Sialidase  \n",
       "4                    Sortilin; neurotensin receptor 3;  \n",
       "...                                                ...  \n",
       "75381        organic cyclic compound metabolic process  \n",
       "75382                      cellular component assembly  \n",
       "75383  cellular nitrogen compound biosynthetic process  \n",
       "75384           organic substance biosynthetic process  \n",
       "75385              organic substance metabolic process  \n",
       "\n",
       "[75386 rows x 4 columns]"
      ]
     },
     "execution_count": 71,
     "metadata": {},
     "output_type": "execute_result"
    }
   ],
   "source": [
    "protienfer_pred = pd.read_csv(\"../../proteinfer/Cerevisiae_predictions.tsv\", sep=\"\\t\")\n",
    "dbp_finder_pred = pd.read_csv(\"../data/not_annotated/prediction/Cerevisiae_prediction.csv\")\n",
    "protienfer_pred"
   ]
  },
  {
   "cell_type": "code",
   "execution_count": 118,
   "id": "281175f7-fa75-452a-b580-2b54cca1ee8b",
   "metadata": {},
   "outputs": [],
   "source": [
    "def compare_predicts(protienfer_pred, dbp_finder_pred):\n",
    "    protienfer_pred = protienfer_pred[protienfer_pred[\"predicted_label\"] == \"GO:0003677\"]\n",
    "    dbp_finder_pred = dbp_finder_pred[dbp_finder_pred[\"y_pred\"] == 1]\n",
    "\n",
    "    protienfer_pred = protienfer_pred.rename(columns={\"sequence_name\": \"identifier\"})\n",
    "\n",
    "    common_pred = dbp_finder_pred.merge(protienfer_pred, on=[\"identifier\"], how=\"inner\")\n",
    "\n",
    "    unique_dbp_pred = dbp_finder_pred.merge(protienfer_pred, on=[\"identifier\"], how=\"left\")\n",
    "    unique_dbp_pred = unique_dbp_pred[unique_dbp_pred.isna().any(axis=1)]\n",
    "    unique_protienfer_pred = dbp_finder_pred.merge(protienfer_pred, on=[\"identifier\"], how=\"right\")\n",
    "    unique_protienfer_pred = unique_protienfer_pred[unique_protienfer_pred.isna().any(axis=1)]\n",
    "\n",
    "    return len(common_pred), len(unique_dbp_pred), len(unique_protienfer_pred)"
   ]
  },
  {
   "cell_type": "code",
   "execution_count": 119,
   "id": "9f0d6b58-bfa4-4a2b-a358-e641bb29a856",
   "metadata": {},
   "outputs": [],
   "source": [
    "ncommon_pred, nunique_dbp_pred, nunique_protienfer_pred = compare_predicts(protienfer_pred, dbp_finder_pred)"
   ]
  },
  {
   "cell_type": "code",
   "execution_count": 120,
   "id": "4d5cf202-9640-4539-97c3-c76a2dd40e5d",
   "metadata": {},
   "outputs": [
    {
     "data": {
      "text/plain": [
       "(7, 336, 4)"
      ]
     },
     "execution_count": 120,
     "metadata": {},
     "output_type": "execute_result"
    }
   ],
   "source": [
    "ncommon_pred, nunique_dbp_pred, nunique_protienfer_pred"
   ]
  },
  {
   "cell_type": "code",
   "execution_count": 121,
   "id": "1074ddad-56f6-4086-bf19-57e7dd916ce8",
   "metadata": {},
   "outputs": [],
   "source": [
    "protienfer_pred = pd.read_csv(\"../../proteinfer/Cerevisiae_predictions.tsv\", sep=\"\\t\")\n",
    "dbp_finder_pred = pd.read_csv(\"../data/not_annotated/prediction/Cerevisiae_prediction.csv\")"
   ]
  },
  {
   "cell_type": "code",
   "execution_count": 122,
   "id": "4ac927c4-26cd-45e9-9a80-c3c0b9bb7bd0",
   "metadata": {},
   "outputs": [],
   "source": [
    "ncommon_pred, nunique_dbp_pred, nunique_protienfer_pred = compare_predicts(protienfer_pred, dbp_finder_pred)"
   ]
  },
  {
   "cell_type": "code",
   "execution_count": 123,
   "id": "909557e8-b88a-46e4-945d-221cc21eabe1",
   "metadata": {},
   "outputs": [
    {
     "data": {
      "text/plain": [
       "(4, 334, 9)"
      ]
     },
     "execution_count": 123,
     "metadata": {},
     "output_type": "execute_result"
    }
   ],
   "source": [
    "ncommon_pred, nunique_dbp_pred, nunique_protienfer_pred"
   ]
  },
  {
   "cell_type": "code",
   "execution_count": 125,
   "id": "4b02609b-2ac5-42c2-b4f9-667db0726668",
   "metadata": {},
   "outputs": [],
   "source": [
    "protienfer_pred = pd.read_csv(\"../../proteinfer/Arabidopsis_predictions.tsv\", sep=\"\\t\")\n",
    "dbp_finder_pred = pd.read_csv(\n",
    "    \"../data/not_annotated/prediction/Arabidopsis_prediction.csv\"\n",
    ")"
   ]
  },
  {
   "cell_type": "code",
   "execution_count": 126,
   "id": "0bae1f30-955d-4b2d-91c2-c54324e7820b",
   "metadata": {},
   "outputs": [],
   "source": [
    "ncommon_pred, nunique_dbp_pred, nunique_protienfer_pred = compare_predicts(\n",
    "    protienfer_pred, dbp_finder_pred\n",
    ")"
   ]
  },
  {
   "cell_type": "code",
   "execution_count": 127,
   "id": "dc255c10-b511-43f7-9da5-0c73f2942764",
   "metadata": {},
   "outputs": [
    {
     "data": {
      "text/plain": [
       "(379, 2110, 177)"
      ]
     },
     "execution_count": 127,
     "metadata": {},
     "output_type": "execute_result"
    }
   ],
   "source": [
    "ncommon_pred, nunique_dbp_pred, nunique_protienfer_pred"
   ]
  },
  {
   "cell_type": "code",
   "execution_count": 128,
   "id": "f899eb4d-cd6f-4938-9a14-9f409dbb4dc9",
   "metadata": {},
   "outputs": [],
   "source": [
    "protienfer_pred = pd.read_csv(\"../../proteinfer/Homo_predictions.tsv\", sep=\"\\t\")\n",
    "dbp_finder_pred = pd.read_csv(\"../data/not_annotated/prediction/Homo_prediction.csv\")"
   ]
  },
  {
   "cell_type": "code",
   "execution_count": 129,
   "id": "bc797c24-5d4a-4fad-a660-c1bc33714515",
   "metadata": {},
   "outputs": [],
   "source": [
    "ncommon_pred, nunique_dbp_pred, nunique_protienfer_pred = compare_predicts(\n",
    "    protienfer_pred, dbp_finder_pred\n",
    ")"
   ]
  },
  {
   "cell_type": "code",
   "execution_count": 130,
   "id": "86eeede8-924a-4a5d-ba56-3bcc6d384ece",
   "metadata": {},
   "outputs": [
    {
     "data": {
      "text/plain": [
       "(578, 4613, 460)"
      ]
     },
     "execution_count": 130,
     "metadata": {},
     "output_type": "execute_result"
    }
   ],
   "source": [
    "ncommon_pred, nunique_dbp_pred, nunique_protienfer_pred"
   ]
  },
  {
   "cell_type": "markdown",
   "id": "581ce913",
   "metadata": {},
   "source": [
    "# Валидация модели"
   ]
  },
  {
   "cell_type": "code",
   "execution_count": 131,
   "id": "931ba418-bf8b-448c-91db-db0ff3ea74da",
   "metadata": {},
   "outputs": [],
   "source": [
    "df = pd.read_csv(\"../data/not_annotated/prediction/Human_dnabinders_4_prediction.csv\")"
   ]
  },
  {
   "cell_type": "code",
   "execution_count": 132,
   "id": "6528d2bc-5479-4484-8209-00f8e36f62aa",
   "metadata": {},
   "outputs": [],
   "source": [
    "df = df.sort_values(by=\"score\", ascending=False)"
   ]
  },
  {
   "cell_type": "code",
   "execution_count": 133,
   "id": "23883940-ec0a-4d0b-813c-abf288c38e7c",
   "metadata": {},
   "outputs": [
    {
     "data": {
      "text/plain": [
       "1    250\n",
       "0      1\n",
       "Name: y_pred, dtype: int64"
      ]
     },
     "execution_count": 133,
     "metadata": {},
     "output_type": "execute_result"
    }
   ],
   "source": [
    "df[\"y_pred\"].value_counts()"
   ]
  }
 ],
 "metadata": {
  "kernelspec": {
   "display_name": "Python 3 (ipykernel)",
   "language": "python",
   "name": "python3"
  },
  "language_info": {
   "codemirror_mode": {
    "name": "ipython",
    "version": 3
   },
   "file_extension": ".py",
   "mimetype": "text/x-python",
   "name": "python",
   "nbconvert_exporter": "python",
   "pygments_lexer": "ipython3",
   "version": "3.11.5"
  }
 },
 "nbformat": 4,
 "nbformat_minor": 5
}
