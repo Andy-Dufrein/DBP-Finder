{
 "cells": [
  {
   "cell_type": "code",
   "execution_count": 2,
   "id": "initial_id",
   "metadata": {
    "ExecuteTime": {
     "end_time": "2024-02-06T16:14:10.692432Z",
     "start_time": "2024-02-06T16:14:10.687605Z"
    }
   },
   "outputs": [],
   "source": [
    "from utils import convert_fasta_to_df, filter_df, add_source, make_balanced_df, exclude_same_seqs\n",
    "import pandas as pd"
   ]
  },
  {
   "cell_type": "markdown",
   "id": "2af008da-4d8a-401f-afae-127fe5479b57",
   "metadata": {},
   "source": [
    "#### Train p2"
   ]
  },
  {
   "cell_type": "code",
   "execution_count": 13,
   "id": "5dd5ff23-fe25-4f26-ad7b-bf683af7c766",
   "metadata": {},
   "outputs": [],
   "source": [
    "binders = convert_fasta_to_df(\"../data/uniprot/go_0003677_swissprot.fasta\", mode=1, class_=1)"
   ]
  },
  {
   "cell_type": "code",
   "execution_count": 14,
   "id": "cabb0afe-c164-4742-b726-60f0fefd410b",
   "metadata": {},
   "outputs": [],
   "source": [
    "not_binders = convert_fasta_to_df(\"../data/uniprot/notgo_0003723_notgo_0003677_swissprot.fasta\", mode=1, class_=0)"
   ]
  },
  {
   "cell_type": "code",
   "execution_count": 15,
   "id": "01f727ab-b3d5-4775-a73e-5b06f487c869",
   "metadata": {},
   "outputs": [],
   "source": [
    "train_p2 = pd.concat([binders, not_binders])"
   ]
  },
  {
   "cell_type": "code",
   "execution_count": 16,
   "id": "7c58318d-79f1-4d67-b1ad-8d42793cb40e",
   "metadata": {},
   "outputs": [],
   "source": [
    "train_p2 = filter_df(train_p2)"
   ]
  },
  {
   "cell_type": "code",
   "execution_count": 17,
   "id": "c94d8e38-ad93-4272-b604-32e3211c6fd2",
   "metadata": {},
   "outputs": [],
   "source": [
    "train_p2 = make_balanced_df(train_p2)"
   ]
  },
  {
   "cell_type": "code",
   "execution_count": 18,
   "id": "2c21e6cd-ea03-4e4b-9913-29d7e9bdf178",
   "metadata": {},
   "outputs": [],
   "source": [
    "train_p2.to_csv(\"../data/embeddings/input_csv/train_p2.csv\", index=False)"
   ]
  },
  {
   "cell_type": "code",
   "execution_count": 19,
   "id": "cceab466-29c9-44f6-93f9-97ed2e8e2741",
   "metadata": {},
   "outputs": [
    {
     "data": {
      "text/plain": [
       "1    34936\n",
       "0    34936\n",
       "Name: label, dtype: int64"
      ]
     },
     "execution_count": 19,
     "metadata": {},
     "output_type": "execute_result"
    }
   ],
   "source": [
    "train_p2.label.value_counts()"
   ]
  },
  {
   "cell_type": "markdown",
   "id": "810a7042-d030-4cc2-952c-9dcf0188bfe3",
   "metadata": {},
   "source": [
    "#### Make trembl test data"
   ]
  },
  {
   "cell_type": "markdown",
   "id": "645cccc1-1e14-4993-a30f-0a66694805fa",
   "metadata": {},
   "source": [
    "Trembl annot score 5"
   ]
  },
  {
   "cell_type": "code",
   "execution_count": 10,
   "id": "2ce339c6-7933-44f9-a003-9a5c296903f7",
   "metadata": {},
   "outputs": [],
   "source": [
    "binders = convert_fasta_to_df(\"../data/uniprot/uniprotkb_gene_AND_go_0003677_AND_revie_2024_02_29.fasta\", mode=1, class_=1)"
   ]
  },
  {
   "cell_type": "code",
   "execution_count": 11,
   "id": "9e76949d-e7c4-4263-a2a6-8c82976ae300",
   "metadata": {},
   "outputs": [],
   "source": [
    "not_binders = convert_fasta_to_df(\"../data/uniprot/uniprotkb_gene_NOT_go_0003677_NOT_go_00_2024_02_29.fasta\", mode=1, class_=0)"
   ]
  },
  {
   "cell_type": "code",
   "execution_count": 12,
   "id": "2eef3656-83fc-477b-9f11-c38202a079f3",
   "metadata": {},
   "outputs": [],
   "source": [
    "test = pd.concat([binders, not_binders])"
   ]
  },
  {
   "cell_type": "code",
   "execution_count": 13,
   "id": "0c44b208-e7d4-4ded-b6ed-86ed6cf4468d",
   "metadata": {},
   "outputs": [],
   "source": [
    "test = filter_df(test)"
   ]
  },
  {
   "cell_type": "code",
   "execution_count": 14,
   "id": "422b0b78-4228-4b72-9ea0-ed2f724a719c",
   "metadata": {},
   "outputs": [
    {
     "data": {
      "text/plain": [
       "0    115917\n",
       "1      5097\n",
       "Name: label, dtype: int64"
      ]
     },
     "execution_count": 14,
     "metadata": {},
     "output_type": "execute_result"
    }
   ],
   "source": [
    "test.label.value_counts()"
   ]
  },
  {
   "cell_type": "code",
   "execution_count": 15,
   "id": "45336739-5f07-4792-929f-260470c4225a",
   "metadata": {},
   "outputs": [],
   "source": [
    "test = make_balanced_df(test)"
   ]
  },
  {
   "cell_type": "code",
   "execution_count": 16,
   "id": "8ecedf8f-3ca7-42a4-af67-9d622870cddc",
   "metadata": {},
   "outputs": [
    {
     "data": {
      "text/plain": [
       "1    5097\n",
       "0    5097\n",
       "Name: label, dtype: int64"
      ]
     },
     "execution_count": 16,
     "metadata": {},
     "output_type": "execute_result"
    }
   ],
   "source": [
    "test.label.value_counts()"
   ]
  },
  {
   "cell_type": "code",
   "execution_count": 17,
   "id": "8cda691d-c33c-42bc-b1b9-0eda76bc83a3",
   "metadata": {},
   "outputs": [],
   "source": [
    "test.to_csv(\"../data/embeddings/input_csv/trembl_test.csv\", index=False)"
   ]
  },
  {
   "cell_type": "markdown",
   "id": "e2a59195-d415-407b-af16-ea9a66a85b49",
   "metadata": {},
   "source": [
    "Exclude common seqs with my train"
   ]
  },
  {
   "cell_type": "code",
   "execution_count": 27,
   "id": "e5d939f0-0cd2-4182-bd27-3298fa93ecf2",
   "metadata": {},
   "outputs": [],
   "source": [
    "test = exclude_same_seqs(train_p2, test)"
   ]
  },
  {
   "cell_type": "markdown",
   "id": "73b7c7f1-5048-41bb-a1f4-844314e79bba",
   "metadata": {},
   "source": [
    "Exclude common seqs with proteinfer train"
   ]
  },
  {
   "cell_type": "code",
   "execution_count": 66,
   "id": "160ce3cd-050d-4003-abda-1c3ae11acd17",
   "metadata": {},
   "outputs": [],
   "source": [
    "proteinfer_train = pd.read_csv(\"../data/proteinfer/proteinfer_random_split.csv\")"
   ]
  },
  {
   "cell_type": "code",
   "execution_count": 33,
   "id": "58d5b00e-6b4a-4185-a594-a39cdf895199",
   "metadata": {},
   "outputs": [],
   "source": [
    "test = exclude_same_seqs(proteinfer_train, test)"
   ]
  },
  {
   "cell_type": "code",
   "execution_count": 34,
   "id": "584aa090-3018-41d0-a2da-87f4936c4123",
   "metadata": {},
   "outputs": [],
   "source": [
    "test = filter_df(test)"
   ]
  },
  {
   "cell_type": "code",
   "execution_count": 35,
   "id": "1883f517-da55-466b-a768-bcbe31d6363e",
   "metadata": {},
   "outputs": [],
   "source": [
    "test = make_balanced_df(test)"
   ]
  },
  {
   "cell_type": "code",
   "execution_count": 42,
   "id": "0ffc3eaa-67ec-478b-b607-067fa3a07622",
   "metadata": {},
   "outputs": [
    {
     "data": {
      "text/plain": [
       "1    4938\n",
       "0    4938\n",
       "Name: label, dtype: int64"
      ]
     },
     "execution_count": 42,
     "metadata": {},
     "output_type": "execute_result"
    }
   ],
   "source": [
    "test.label.value_counts()"
   ]
  },
  {
   "cell_type": "code",
   "execution_count": 1,
   "id": "b25da934-a573-4230-a2db-be4b7b4f460a",
   "metadata": {},
   "outputs": [],
   "source": [
    "# test.to_csv(\"../data/ready_data/test.csv\", index=False)"
   ]
  },
  {
   "cell_type": "code",
   "execution_count": 50,
   "id": "f45bf4bf-ce84-4040-9008-2e824707356a",
   "metadata": {},
   "outputs": [
    {
     "data": {
      "text/html": [
       "<div>\n",
       "<style scoped>\n",
       "    .dataframe tbody tr th:only-of-type {\n",
       "        vertical-align: middle;\n",
       "    }\n",
       "\n",
       "    .dataframe tbody tr th {\n",
       "        vertical-align: top;\n",
       "    }\n",
       "\n",
       "    .dataframe thead th {\n",
       "        text-align: right;\n",
       "    }\n",
       "</style>\n",
       "<table border=\"1\" class=\"dataframe\">\n",
       "  <thead>\n",
       "    <tr style=\"text-align: right;\">\n",
       "      <th></th>\n",
       "      <th>identifier</th>\n",
       "      <th>label</th>\n",
       "      <th>sequence</th>\n",
       "    </tr>\n",
       "  </thead>\n",
       "  <tbody>\n",
       "    <tr>\n",
       "      <th>1</th>\n",
       "      <td>A0A061HLT0</td>\n",
       "      <td>1</td>\n",
       "      <td>MQTDPPAGVSASPVADNVMIWNAVIIGPADTPFEDGTFRLVMQFEE...</td>\n",
       "    </tr>\n",
       "    <tr>\n",
       "      <th>2</th>\n",
       "      <td>A0A061IE76</td>\n",
       "      <td>1</td>\n",
       "      <td>MDNMSITNTPTSNDACLSIVHSLMCHRQGGESETFAKRAIESLVKK...</td>\n",
       "    </tr>\n",
       "    <tr>\n",
       "      <th>3</th>\n",
       "      <td>A0A061IIX2</td>\n",
       "      <td>1</td>\n",
       "      <td>MTAEQRQNLQAFRDYVRKTLDPTYILSYMSPWLQDDEVQYIQAEKN...</td>\n",
       "    </tr>\n",
       "    <tr>\n",
       "      <th>6</th>\n",
       "      <td>A0A075AP15</td>\n",
       "      <td>1</td>\n",
       "      <td>MTVPSTSHSAKPPSRPSLVPKKAEKPQLPSVPLHLVDKRDNDIQYI...</td>\n",
       "    </tr>\n",
       "    <tr>\n",
       "      <th>7</th>\n",
       "      <td>A0A075F5C6</td>\n",
       "      <td>1</td>\n",
       "      <td>MDLAVGPGAAGPSNVPAFLTKLWTLVSDPDTDALICWSPSGNSFHV...</td>\n",
       "    </tr>\n",
       "  </tbody>\n",
       "</table>\n",
       "</div>"
      ],
      "text/plain": [
       "   identifier  label                                           sequence\n",
       "1  A0A061HLT0      1  MQTDPPAGVSASPVADNVMIWNAVIIGPADTPFEDGTFRLVMQFEE...\n",
       "2  A0A061IE76      1  MDNMSITNTPTSNDACLSIVHSLMCHRQGGESETFAKRAIESLVKK...\n",
       "3  A0A061IIX2      1  MTAEQRQNLQAFRDYVRKTLDPTYILSYMSPWLQDDEVQYIQAEKN...\n",
       "6  A0A075AP15      1  MTVPSTSHSAKPPSRPSLVPKKAEKPQLPSVPLHLVDKRDNDIQYI...\n",
       "7  A0A075F5C6      1  MDLAVGPGAAGPSNVPAFLTKLWTLVSDPDTDALICWSPSGNSFHV..."
      ]
     },
     "execution_count": 50,
     "metadata": {},
     "output_type": "execute_result"
    }
   ],
   "source": [
    "test.head()"
   ]
  },
  {
   "cell_type": "code",
   "execution_count": 51,
   "id": "69d9dc9f-4e88-4dd4-9136-3023f05c1356",
   "metadata": {},
   "outputs": [
    {
     "data": {
      "text/plain": [
       "1024"
      ]
     },
     "execution_count": 51,
     "metadata": {},
     "output_type": "execute_result"
    }
   ],
   "source": [
    "test.sequence.apply(lambda x: len(x)).max()"
   ]
  },
  {
   "cell_type": "code",
   "execution_count": 52,
   "id": "6db9f387-e838-49dc-ac7d-12194d94ef58",
   "metadata": {},
   "outputs": [
    {
     "data": {
      "text/plain": [
       "57"
      ]
     },
     "execution_count": 52,
     "metadata": {},
     "output_type": "execute_result"
    }
   ],
   "source": [
    "test.sequence.apply(lambda x: len(x)).min()"
   ]
  },
  {
   "cell_type": "code",
   "execution_count": 53,
   "id": "1d39b0f7-898c-4644-ad68-903f1d8da93c",
   "metadata": {},
   "outputs": [
    {
     "data": {
      "text/plain": [
       "1"
      ]
     },
     "execution_count": 53,
     "metadata": {},
     "output_type": "execute_result"
    }
   ],
   "source": [
    "proteinfer_train.sequence.apply(lambda x: len(x)).min()"
   ]
  },
  {
   "cell_type": "code",
   "execution_count": 58,
   "id": "774f4a15-2c04-4ebd-a38c-252a11a68cbe",
   "metadata": {},
   "outputs": [],
   "source": [
    "#proteinfer_train[proteinfer_train.sequence.apply(lambda x: 1 >= len(x))]"
   ]
  },
  {
   "cell_type": "markdown",
   "id": "d1fa4880-bf14-442a-91eb-6d3a901cfe1f",
   "metadata": {},
   "source": [
    "Исключить учитывая длину уже полученного теста"
   ]
  },
  {
   "cell_type": "code",
   "execution_count": 67,
   "id": "381a9b8c-6bc7-46b4-a2e5-22e5f82461b4",
   "metadata": {},
   "outputs": [],
   "source": [
    "def valid_sequence(sequence: str) -> bool:\n",
    "    valid_amino_acids = \"SNYLRQDPMFCEWGTKIVAH\"\n",
    "    return all(char in valid_amino_acids for char in sequence)"
   ]
  },
  {
   "cell_type": "code",
   "execution_count": 68,
   "id": "e332daa7-c79c-4c9e-83aa-77d0d4af8eb9",
   "metadata": {},
   "outputs": [],
   "source": [
    "proteinfer_train = proteinfer_train.loc[proteinfer_train[\"sequence\"].apply(valid_sequence)]"
   ]
  },
  {
   "cell_type": "code",
   "execution_count": 69,
   "id": "65e3f88f-663d-4230-b3eb-64a9670e5175",
   "metadata": {},
   "outputs": [],
   "source": [
    "proteinfer_train = proteinfer_train.loc[proteinfer_train[\"sequence\"].apply(lambda x: 14 < len(x) < 2049)]"
   ]
  },
  {
   "cell_type": "code",
   "execution_count": 70,
   "id": "eb677953-d21d-4590-b40d-cc486b0cebcf",
   "metadata": {},
   "outputs": [],
   "source": [
    "proteinfer_train[\"identifier\"] = proteinfer_train[\"identifier\"].astype(str)"
   ]
  },
  {
   "cell_type": "code",
   "execution_count": 71,
   "id": "0ce29e55-52b8-471b-8afc-53b2e905be0b",
   "metadata": {},
   "outputs": [],
   "source": [
    "proteinfer_train.to_csv(\"../data/proteinfer/proteinfer_train_2.csv\", index=False)"
   ]
  },
  {
   "cell_type": "code",
   "execution_count": 74,
   "id": "182c190b-8934-4e39-9835-e393cc25aaf2",
   "metadata": {},
   "outputs": [
    {
     "data": {
      "text/plain": [
       "(412859, 2)"
      ]
     },
     "execution_count": 74,
     "metadata": {},
     "output_type": "execute_result"
    }
   ],
   "source": [
    "proteinfer_train.shape"
   ]
  },
  {
   "cell_type": "code",
   "execution_count": 72,
   "id": "f969e27a-9402-472a-a3cc-085828e0f99c",
   "metadata": {},
   "outputs": [
    {
     "data": {
      "text/plain": [
       "identifier    object\n",
       "sequence      object\n",
       "dtype: object"
      ]
     },
     "execution_count": 72,
     "metadata": {},
     "output_type": "execute_result"
    }
   ],
   "source": [
    "proteinfer_train.dtypes"
   ]
  },
  {
   "cell_type": "markdown",
   "id": "67fcce54-bfb2-41e3-9de5-103da7678a06",
   "metadata": {},
   "source": [
    "#### Exclude seqs from test"
   ]
  },
  {
   "cell_type": "code",
   "execution_count": 107,
   "id": "1bb8c038-14d6-4f31-ab5c-1ceb2c5d64a3",
   "metadata": {},
   "outputs": [],
   "source": [
    "test = pd.read_csv(\"../data/ready_data/test.csv\")"
   ]
  },
  {
   "cell_type": "code",
   "execution_count": 108,
   "id": "7a08c9f6-a11f-4089-a7af-f76def9548ae",
   "metadata": {},
   "outputs": [],
   "source": [
    "def filter_test(clusters_train_test, train, test):\n",
    "    a = clusters_train_test.merge(train, on=[\"identifier\"])\n",
    "    b = clusters_train_test.merge(test, on=[\"identifier\"])\n",
    "\n",
    "    exclude_test = a.merge(b, on=[\"cluster\"])[\"identifier_y\"].drop_duplicates()\n",
    "    filtered_test = test.loc[~test[\"identifier\"].isin(exclude_test)]\n",
    "    return filtered_test\n",
    "    "
   ]
  },
  {
   "cell_type": "code",
   "execution_count": 109,
   "id": "716de4f6-03b3-42e8-b290-6410e5dc2a15",
   "metadata": {},
   "outputs": [],
   "source": [
    "proteinfer_train = pd.read_csv(\"../data/proteinfer/proteinfer_train_2.csv\")\n",
    "proteinfer_train[\"identifier\"] = proteinfer_train[\"identifier\"].astype(str)"
   ]
  },
  {
   "cell_type": "code",
   "execution_count": 110,
   "id": "bc36eb92-7510-4065-ba60-35b4c0c7a7a3",
   "metadata": {},
   "outputs": [],
   "source": [
    "test_proteinfer = pd.read_csv(\"../data/ready_data/test_proteinfer_train_id0.25.csv\")\n"
   ]
  },
  {
   "cell_type": "code",
   "execution_count": 111,
   "id": "5732a391-f923-4d57-ba09-bff9036fe91c",
   "metadata": {},
   "outputs": [],
   "source": [
    "test_1 = filter_test(test_proteinfer, proteinfer_train, test)"
   ]
  },
  {
   "cell_type": "code",
   "execution_count": 112,
   "id": "591062d3-0884-499a-ab70-eb025e773c14",
   "metadata": {},
   "outputs": [],
   "source": [
    "test_train_p2 = pd.read_csv(\"../data/ready_data/test_train_p2_id0.25.csv\")\n",
    "train_p2 = pd.read_csv(\"../data/embeddings/input_csv/train_p2.csv\")"
   ]
  },
  {
   "cell_type": "code",
   "execution_count": 113,
   "id": "2c195f43-9e2f-456d-ab7c-c398da68f2ec",
   "metadata": {},
   "outputs": [],
   "source": [
    "test_2 = filter_test(test_train_p2, train_p2, test)"
   ]
  },
  {
   "cell_type": "code",
   "execution_count": 114,
   "id": "984f7477-eb2b-416c-ba3e-a3c713c76a87",
   "metadata": {},
   "outputs": [],
   "source": [
    "idx = set(test_1[\"identifier\"]).intersection(set(test_2[\"identifier\"]))"
   ]
  },
  {
   "cell_type": "code",
   "execution_count": 115,
   "id": "d5147b27-41c5-43ce-8258-bd577a193ce6",
   "metadata": {},
   "outputs": [],
   "source": [
    "filtered_test = test.loc[test[\"identifier\"].isin(idx)]"
   ]
  },
  {
   "cell_type": "code",
   "execution_count": 116,
   "id": "3ccd6032-7111-4ce4-8048-8d31b4989332",
   "metadata": {},
   "outputs": [
    {
     "data": {
      "text/plain": [
       "1    82\n",
       "0    13\n",
       "Name: label, dtype: int64"
      ]
     },
     "execution_count": 116,
     "metadata": {},
     "output_type": "execute_result"
    }
   ],
   "source": [
    "filtered_test.label.value_counts()"
   ]
  },
  {
   "cell_type": "code",
   "execution_count": 117,
   "id": "13d6aa90-abf1-432b-a28e-8d609a67c0de",
   "metadata": {},
   "outputs": [],
   "source": [
    "filtered_test = make_balanced_df(filtered_test)"
   ]
  },
  {
   "cell_type": "code",
   "execution_count": 1,
   "id": "69cd9e59-7276-46f0-8676-71581f6fcdeb",
   "metadata": {},
   "outputs": [],
   "source": [
    "# filtered_test.label.value_counts()\n",
    "# filtered_test.to_csv(\"\")"
   ]
  },
  {
   "cell_type": "markdown",
   "id": "cee106ce-1979-450e-b71b-366e3a15ff4e",
   "metadata": {},
   "source": [
    "#### Another test data from paper https://academic.oup.com/nar/article/43/22/e158/1805680#83573870"
   ]
  },
  {
   "cell_type": "code",
   "execution_count": 2,
   "id": "ab2ae1bf-a395-4845-ac9a-3ca4e71c55e9",
   "metadata": {},
   "outputs": [],
   "source": [
    "with open(\"../data/DBP_papers_data/arabidopsis_yest.fasta\") as fi:\n",
    "    lines = fi.readlines()\n",
    "\n",
    "lines = [line.strip() for line in lines if line.strip()]"
   ]
  },
  {
   "cell_type": "code",
   "execution_count": 3,
   "id": "e1c51fdd-87dd-4124-ac68-66d3d43f7dda",
   "metadata": {},
   "outputs": [],
   "source": [
    "splits = []\n",
    "a = 1\n",
    "for i in range(1, len(lines)):\n",
    "    if \"DNA-BPs***\" in lines[i]:\n",
    "        splits.append((a, i))\n",
    "        a = i + 1\n",
    "        \n",
    "splits.append((a, i + 1))"
   ]
  },
  {
   "cell_type": "code",
   "execution_count": 4,
   "id": "23703cdc-e54f-46c1-a1cc-94b0fb521353",
   "metadata": {},
   "outputs": [
    {
     "data": {
      "text/plain": [
       "[(1, 5416),\n",
       " (5417, 23601),\n",
       " (23602, 26044),\n",
       " (26045, 42753),\n",
       " (42754, 43334),\n",
       " (43335, 44367)]"
      ]
     },
     "execution_count": 4,
     "metadata": {},
     "output_type": "execute_result"
    }
   ],
   "source": [
    "splits"
   ]
  },
  {
   "cell_type": "code",
   "execution_count": 5,
   "id": "4489528f-5a74-4520-969f-debcc2700496",
   "metadata": {},
   "outputs": [],
   "source": [
    "def parse_chunk(coords, label=0):\n",
    "    a, b = coords\n",
    "    chunk = lines[a:b]\n",
    "    \n",
    "    identifiers = []\n",
    "    sequences = []\n",
    "    seq = \"\"\n",
    "    for line in chunk:\n",
    "        if \">\" in line:\n",
    "            identifiers.append(line[1:10].replace(\" \", \"\"))\n",
    "            if seq:\n",
    "                sequences.append(seq)\n",
    "            seq = \"\"\n",
    "        else:\n",
    "            seq += line\n",
    "\n",
    "    if seq:\n",
    "        sequences.append(seq)\n",
    "    assert len(sequences) == len(identifiers)\n",
    "\n",
    "    labels = [label] * len(identifiers)\n",
    "\n",
    "    identifiers = [str(i) + identifiers[i] for i in range(len(identifiers))]\n",
    "\n",
    "    df = pd.DataFrame({\"identifier\": identifiers, \"label\": labels,\n",
    "                       \"sequence\": sequences})\n",
    "    \n",
    "    return df"
   ]
  },
  {
   "cell_type": "code",
   "execution_count": 6,
   "id": "b03a2a1c-078a-450c-ae4d-a3487604bed7",
   "metadata": {},
   "outputs": [],
   "source": [
    "df_1 = parse_chunk(splits[0], label=1)"
   ]
  },
  {
   "cell_type": "code",
   "execution_count": 7,
   "id": "6cd85346-1b0f-49da-bd8d-30485cec448a",
   "metadata": {},
   "outputs": [],
   "source": [
    "df_2 = parse_chunk(splits[1], label=0)"
   ]
  },
  {
   "cell_type": "code",
   "execution_count": 8,
   "id": "9bc44067-f31f-41a5-8ea2-c6a046375e15",
   "metadata": {},
   "outputs": [],
   "source": [
    "yeast_test = pd.concat([df_1, df_2])"
   ]
  },
  {
   "cell_type": "code",
   "execution_count": 13,
   "id": "23c8cedf-b841-484b-8189-318108d11bb3",
   "metadata": {},
   "outputs": [],
   "source": [
    "# yeast_test.to_csv(\"../data/ready_data/yeast.csv\", index=False)"
   ]
  },
  {
   "cell_type": "code",
   "execution_count": 10,
   "id": "ab66ec0a-6a40-4451-b523-f7664b196bd7",
   "metadata": {},
   "outputs": [],
   "source": [
    "df_1 = parse_chunk(splits[2], label=1)"
   ]
  },
  {
   "cell_type": "code",
   "execution_count": 11,
   "id": "c15fef56-a00a-4d39-940d-0f8dc8ea2b97",
   "metadata": {},
   "outputs": [],
   "source": [
    "df_2 = parse_chunk(splits[3], label=0)"
   ]
  },
  {
   "cell_type": "code",
   "execution_count": 12,
   "id": "51aadbbe-75c6-4d1c-a81d-bbfd1acd052a",
   "metadata": {},
   "outputs": [],
   "source": [
    "arabidopsis_test = pd.concat([df_1, df_2])"
   ]
  },
  {
   "cell_type": "code",
   "execution_count": 13,
   "id": "3330f734-e62d-40d1-b4ee-77beb1d2560a",
   "metadata": {},
   "outputs": [],
   "source": [
    "# arabidopsis_df.to_csv(\"../data/ready_data/arabidopsis.csv\", index=False)"
   ]
  },
  {
   "cell_type": "code",
   "execution_count": 17,
   "id": "d293de43-34ca-41ec-8758-786dd8c12e5c",
   "metadata": {},
   "outputs": [],
   "source": [
    "df_1 = parse_chunk(splits[4], label=1)\n",
    "df_2 = parse_chunk(splits[5], label=0)"
   ]
  },
  {
   "cell_type": "code",
   "execution_count": 18,
   "id": "3250eb20-4c78-47b9-a8bb-8e7ac4970b49",
   "metadata": {},
   "outputs": [],
   "source": [
    "other_plant_df = pd.concat([df_1, df_2])"
   ]
  },
  {
   "cell_type": "code",
   "execution_count": 14,
   "id": "92238a69-4a35-4762-a46d-b6a1763ef1a4",
   "metadata": {},
   "outputs": [],
   "source": [
    "# other_plant_df.to_csv(\"../data/ready_data/other_plant.csv\", index=False)"
   ]
  },
  {
   "cell_type": "code",
   "execution_count": 9,
   "id": "db3e6889-1691-4c8a-aad3-3497339d0096",
   "metadata": {},
   "outputs": [],
   "source": [
    "train = pd.read_csv(\"../data/embeddings/input_csv/train_p2.csv\")"
   ]
  },
  {
   "cell_type": "code",
   "execution_count": 10,
   "id": "b457f78a-5030-42a8-8a31-4c685a7685f3",
   "metadata": {},
   "outputs": [],
   "source": [
    "yeast_train = pd.read_csv(\"../data/ready_data/yeast_train_0.5.csv\")"
   ]
  },
  {
   "cell_type": "code",
   "execution_count": 11,
   "id": "aa1e5f14-de17-4444-a5a5-7e5400c975b4",
   "metadata": {},
   "outputs": [],
   "source": [
    "train = filter_train(yeast_train, train, yeast_test)"
   ]
  },
  {
   "cell_type": "code",
   "execution_count": 12,
   "id": "5d97d57f-ebc1-428b-82e3-242926ea51bd",
   "metadata": {},
   "outputs": [
    {
     "data": {
      "text/html": [
       "<div>\n",
       "<style scoped>\n",
       "    .dataframe tbody tr th:only-of-type {\n",
       "        vertical-align: middle;\n",
       "    }\n",
       "\n",
       "    .dataframe tbody tr th {\n",
       "        vertical-align: top;\n",
       "    }\n",
       "\n",
       "    .dataframe thead th {\n",
       "        text-align: right;\n",
       "    }\n",
       "</style>\n",
       "<table border=\"1\" class=\"dataframe\">\n",
       "  <thead>\n",
       "    <tr style=\"text-align: right;\">\n",
       "      <th></th>\n",
       "      <th>identifier</th>\n",
       "      <th>cluster</th>\n",
       "      <th>label</th>\n",
       "      <th>sequence</th>\n",
       "    </tr>\n",
       "  </thead>\n",
       "  <tbody>\n",
       "    <tr>\n",
       "      <th>0</th>\n",
       "      <td>Q9I9E1</td>\n",
       "      <td>1</td>\n",
       "      <td>1</td>\n",
       "      <td>MTKHWGGPGLLAPPVITVGEGAQRDHHLDCRIGYSSSKRSCHRSSN...</td>\n",
       "    </tr>\n",
       "    <tr>\n",
       "      <th>1</th>\n",
       "      <td>Q9IAC6</td>\n",
       "      <td>2</td>\n",
       "      <td>1</td>\n",
       "      <td>FKRAVEGQHNYLCAGRNDCIIDKIRRKNCPACRVRKCLQAGMNLGA...</td>\n",
       "    </tr>\n",
       "    <tr>\n",
       "      <th>2</th>\n",
       "      <td>Q28590</td>\n",
       "      <td>2</td>\n",
       "      <td>1</td>\n",
       "      <td>EASQSPQYSFESLPQKICLICGDEASGCHYGVLTCGSCKVFFKRAM...</td>\n",
       "    </tr>\n",
       "    <tr>\n",
       "      <th>3</th>\n",
       "      <td>Q9IZT2</td>\n",
       "      <td>3</td>\n",
       "      <td>1</td>\n",
       "      <td>MGVSGSKGQKLFVSVLQRLLSERGLHVKESSAIEFYQFLIKVSPWF...</td>\n",
       "    </tr>\n",
       "    <tr>\n",
       "      <th>4</th>\n",
       "      <td>P10258</td>\n",
       "      <td>3</td>\n",
       "      <td>1</td>\n",
       "      <td>MGVSGSKGQKLFVSVLQRLLSERGLHVKESSAIEFYQFLIKVSPWF...</td>\n",
       "    </tr>\n",
       "    <tr>\n",
       "      <th>...</th>\n",
       "      <td>...</td>\n",
       "      <td>...</td>\n",
       "      <td>...</td>\n",
       "      <td>...</td>\n",
       "    </tr>\n",
       "    <tr>\n",
       "      <th>66730</th>\n",
       "      <td>P37552</td>\n",
       "      <td>28895</td>\n",
       "      <td>0</td>\n",
       "      <td>MTKAVHTKHAPAAIGPYSQGIIVNNMFYSSGQIPLTPSGEMVNGDI...</td>\n",
       "    </tr>\n",
       "    <tr>\n",
       "      <th>66731</th>\n",
       "      <td>P0AF93</td>\n",
       "      <td>28895</td>\n",
       "      <td>0</td>\n",
       "      <td>MSKTIATENAPAAIGPYVQGVDLGNMIITSGQIPVNPKTGEVPADV...</td>\n",
       "    </tr>\n",
       "    <tr>\n",
       "      <th>66732</th>\n",
       "      <td>P08244</td>\n",
       "      <td>28896</td>\n",
       "      <td>0</td>\n",
       "      <td>MTLTASSSSRAVTNSPVVVALDYHNRDDALAFVDKIDPRDCRLKVG...</td>\n",
       "    </tr>\n",
       "    <tr>\n",
       "      <th>66733</th>\n",
       "      <td>O43684</td>\n",
       "      <td>28897</td>\n",
       "      <td>0</td>\n",
       "      <td>MTGSNEFKLNQPPEDGISSVKFSPNTSQFLLVSSWDTSVRLYDVPA...</td>\n",
       "    </tr>\n",
       "    <tr>\n",
       "      <th>66734</th>\n",
       "      <td>Q9LJN8</td>\n",
       "      <td>28897</td>\n",
       "      <td>0</td>\n",
       "      <td>MTTVTPSAGRELSNPPSDGISNLRFSNNSDHLLVSSWDKRVRLYDV...</td>\n",
       "    </tr>\n",
       "  </tbody>\n",
       "</table>\n",
       "<p>66735 rows × 4 columns</p>\n",
       "</div>"
      ],
      "text/plain": [
       "      identifier  cluster  label  \\\n",
       "0         Q9I9E1        1      1   \n",
       "1         Q9IAC6        2      1   \n",
       "2         Q28590        2      1   \n",
       "3         Q9IZT2        3      1   \n",
       "4         P10258        3      1   \n",
       "...          ...      ...    ...   \n",
       "66730     P37552    28895      0   \n",
       "66731     P0AF93    28895      0   \n",
       "66732     P08244    28896      0   \n",
       "66733     O43684    28897      0   \n",
       "66734     Q9LJN8    28897      0   \n",
       "\n",
       "                                                sequence  \n",
       "0      MTKHWGGPGLLAPPVITVGEGAQRDHHLDCRIGYSSSKRSCHRSSN...  \n",
       "1      FKRAVEGQHNYLCAGRNDCIIDKIRRKNCPACRVRKCLQAGMNLGA...  \n",
       "2      EASQSPQYSFESLPQKICLICGDEASGCHYGVLTCGSCKVFFKRAM...  \n",
       "3      MGVSGSKGQKLFVSVLQRLLSERGLHVKESSAIEFYQFLIKVSPWF...  \n",
       "4      MGVSGSKGQKLFVSVLQRLLSERGLHVKESSAIEFYQFLIKVSPWF...  \n",
       "...                                                  ...  \n",
       "66730  MTKAVHTKHAPAAIGPYSQGIIVNNMFYSSGQIPLTPSGEMVNGDI...  \n",
       "66731  MSKTIATENAPAAIGPYVQGVDLGNMIITSGQIPVNPKTGEVPADV...  \n",
       "66732  MTLTASSSSRAVTNSPVVVALDYHNRDDALAFVDKIDPRDCRLKVG...  \n",
       "66733  MTGSNEFKLNQPPEDGISSVKFSPNTSQFLLVSSWDTSVRLYDVPA...  \n",
       "66734  MTTVTPSAGRELSNPPSDGISNLRFSNNSDHLLVSSWDKRVRLYDV...  \n",
       "\n",
       "[66735 rows x 4 columns]"
      ]
     },
     "execution_count": 12,
     "metadata": {},
     "output_type": "execute_result"
    }
   ],
   "source": [
    "train"
   ]
  },
  {
   "cell_type": "code",
   "execution_count": 36,
   "id": "724d6015-e292-4e8b-94ec-8a4941f41405",
   "metadata": {},
   "outputs": [
    {
     "data": {
      "text/html": [
       "<div>\n",
       "<style scoped>\n",
       "    .dataframe tbody tr th:only-of-type {\n",
       "        vertical-align: middle;\n",
       "    }\n",
       "\n",
       "    .dataframe tbody tr th {\n",
       "        vertical-align: top;\n",
       "    }\n",
       "\n",
       "    .dataframe thead th {\n",
       "        text-align: right;\n",
       "    }\n",
       "</style>\n",
       "<table border=\"1\" class=\"dataframe\">\n",
       "  <thead>\n",
       "    <tr style=\"text-align: right;\">\n",
       "      <th></th>\n",
       "      <th>identifier</th>\n",
       "      <th>label</th>\n",
       "      <th>sequence</th>\n",
       "    </tr>\n",
       "  </thead>\n",
       "  <tbody>\n",
       "    <tr>\n",
       "      <th>0</th>\n",
       "      <td>A0A096MJY4</td>\n",
       "      <td>1</td>\n",
       "      <td>MGRKKIQITRIMDERNRQVTFTKRKFGLMKKAYELSVLCDCEIALI...</td>\n",
       "    </tr>\n",
       "    <tr>\n",
       "      <th>1</th>\n",
       "      <td>A0A0D2UG83</td>\n",
       "      <td>1</td>\n",
       "      <td>MAKSKKIVAATSGSRSRSSRAGLAFPVGRVHRLLRKGHFADRIGSG...</td>\n",
       "    </tr>\n",
       "    <tr>\n",
       "      <th>2</th>\n",
       "      <td>A0A0G2JTZ2</td>\n",
       "      <td>1</td>\n",
       "      <td>MSSKQATSPFACTVDGEETMTQDLTSREKEEGSDQHPASHLPLHPI...</td>\n",
       "    </tr>\n",
       "    <tr>\n",
       "      <th>3</th>\n",
       "      <td>A0A0G2JZ79</td>\n",
       "      <td>1</td>\n",
       "      <td>MIGTDPRTILKDLLPETIPPPELDDMTLWQIVINILSEPPKRKKRK...</td>\n",
       "    </tr>\n",
       "    <tr>\n",
       "      <th>4</th>\n",
       "      <td>A0A0G2L7I0</td>\n",
       "      <td>1</td>\n",
       "      <td>MMEDEDFLLALRLQEQFDQETPAAGWPDEDCPSSKRRRVDPSGGLD...</td>\n",
       "    </tr>\n",
       "    <tr>\n",
       "      <th>...</th>\n",
       "      <td>...</td>\n",
       "      <td>...</td>\n",
       "      <td>...</td>\n",
       "    </tr>\n",
       "    <tr>\n",
       "      <th>69867</th>\n",
       "      <td>Q9Z0F8</td>\n",
       "      <td>0</td>\n",
       "      <td>MRRRLLILTTLVPFVLAPRPPEEAGSGSHPRLEKLDSLLSDYDILS...</td>\n",
       "    </tr>\n",
       "    <tr>\n",
       "      <th>69868</th>\n",
       "      <td>Q9LMX7</td>\n",
       "      <td>0</td>\n",
       "      <td>MSPEAYVLFFNSFNLVTFEAFASVSLIIATVAFLLSPGGLAWAWTG...</td>\n",
       "    </tr>\n",
       "    <tr>\n",
       "      <th>69869</th>\n",
       "      <td>Q63690</td>\n",
       "      <td>0</td>\n",
       "      <td>MDGSGEQLGGGGPTSSEQIMKTGAFLLQGFIQDRAGRMAGETPELT...</td>\n",
       "    </tr>\n",
       "    <tr>\n",
       "      <th>69870</th>\n",
       "      <td>P59823</td>\n",
       "      <td>0</td>\n",
       "      <td>MKAPIPHLILLYATFTQSLKVVTKRGSADGCTDWSVDIKKYQVLVG...</td>\n",
       "    </tr>\n",
       "    <tr>\n",
       "      <th>69871</th>\n",
       "      <td>P58043</td>\n",
       "      <td>0</td>\n",
       "      <td>MIVADSECHSEIKGYLPFTRGGVAGPETREEHREGQARRGSRGPSA...</td>\n",
       "    </tr>\n",
       "  </tbody>\n",
       "</table>\n",
       "<p>69872 rows × 3 columns</p>\n",
       "</div>"
      ],
      "text/plain": [
       "       identifier  label                                           sequence\n",
       "0      A0A096MJY4      1  MGRKKIQITRIMDERNRQVTFTKRKFGLMKKAYELSVLCDCEIALI...\n",
       "1      A0A0D2UG83      1  MAKSKKIVAATSGSRSRSSRAGLAFPVGRVHRLLRKGHFADRIGSG...\n",
       "2      A0A0G2JTZ2      1  MSSKQATSPFACTVDGEETMTQDLTSREKEEGSDQHPASHLPLHPI...\n",
       "3      A0A0G2JZ79      1  MIGTDPRTILKDLLPETIPPPELDDMTLWQIVINILSEPPKRKKRK...\n",
       "4      A0A0G2L7I0      1  MMEDEDFLLALRLQEQFDQETPAAGWPDEDCPSSKRRRVDPSGGLD...\n",
       "...           ...    ...                                                ...\n",
       "69867      Q9Z0F8      0  MRRRLLILTTLVPFVLAPRPPEEAGSGSHPRLEKLDSLLSDYDILS...\n",
       "69868      Q9LMX7      0  MSPEAYVLFFNSFNLVTFEAFASVSLIIATVAFLLSPGGLAWAWTG...\n",
       "69869      Q63690      0  MDGSGEQLGGGGPTSSEQIMKTGAFLLQGFIQDRAGRMAGETPELT...\n",
       "69870      P59823      0  MKAPIPHLILLYATFTQSLKVVTKRGSADGCTDWSVDIKKYQVLVG...\n",
       "69871      P58043      0  MIVADSECHSEIKGYLPFTRGGVAGPETREEHREGQARRGSRGPSA...\n",
       "\n",
       "[69872 rows x 3 columns]"
      ]
     },
     "execution_count": 36,
     "metadata": {},
     "output_type": "execute_result"
    }
   ],
   "source": [
    "train"
   ]
  },
  {
   "cell_type": "code",
   "execution_count": null,
   "id": "bf5f3fc4-1f6a-4cf2-8656-8ee0a2863705",
   "metadata": {},
   "outputs": [],
   "source": []
  }
 ],
 "metadata": {
  "kernelspec": {
   "display_name": "Python 3 (ipykernel)",
   "language": "python",
   "name": "python3"
  },
  "language_info": {
   "codemirror_mode": {
    "name": "ipython",
    "version": 3
   },
   "file_extension": ".py",
   "mimetype": "text/x-python",
   "name": "python",
   "nbconvert_exporter": "python",
   "pygments_lexer": "ipython3",
   "version": "3.11.5"
  }
 },
 "nbformat": 4,
 "nbformat_minor": 5
}
