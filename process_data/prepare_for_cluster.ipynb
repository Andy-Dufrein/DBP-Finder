{
 "cells": [
  {
   "cell_type": "code",
   "execution_count": 1,
   "id": "6bb93d3c-93d9-4914-b0f2-8b8ab831aa4f",
   "metadata": {},
   "outputs": [],
   "source": [
    "import pandas as pd"
   ]
  },
  {
   "cell_type": "code",
   "execution_count": 2,
   "id": "899e6dfa-5f80-43d7-af69-2eb47a892d6b",
   "metadata": {},
   "outputs": [],
   "source": [
    "from utils import filter_df, add_source"
   ]
  },
  {
   "cell_type": "code",
   "execution_count": 4,
   "id": "5fb10dda-ea62-4d2b-9ff9-52054bedfaa2",
   "metadata": {},
   "outputs": [],
   "source": [
    "pdb186 = pd.read_csv(\"../data/ready_data/pdb186.csv\")\n",
    "pdb1000 = pd.read_csv(\"../data/ready_data/pdb1000.csv\")\n",
    "pdb2272 = pd.read_csv(\"../data/ready_data/pdb2272.csv\")\n",
    "pdb20000 = pd.read_csv(\"../data/ready_data/pdb20000.csv\")"
   ]
  },
  {
   "cell_type": "code",
   "execution_count": 5,
   "id": "b1d343eb-9e31-4ea2-9be0-b7775b53bd62",
   "metadata": {},
   "outputs": [],
   "source": [
    "pdb186 = add_source(pdb186, \"pdb186\")\n",
    "pdb1000 = add_source(pdb1000, \"pdb1000\")\n",
    "pdb2272 = add_source(pdb2272, \"pdb2272\")\n",
    "pdb20000 = add_source(pdb20000, \"pdb20000\")"
   ]
  },
  {
   "cell_type": "markdown",
   "id": "61f0ca8b-f618-476e-9e77-4984efec7091",
   "metadata": {},
   "source": [
    "#### train_p2"
   ]
  },
  {
   "cell_type": "code",
   "execution_count": 15,
   "id": "833e378e-610c-4468-b0e9-6ae4aa575fd3",
   "metadata": {},
   "outputs": [],
   "source": [
    "train_p2 = pd.read_csv(\"../data/embeddings/input_csv/train_p2.csv\")"
   ]
  },
  {
   "cell_type": "code",
   "execution_count": 16,
   "id": "7e06bb0e-ea15-4b82-a9f9-805235e78509",
   "metadata": {},
   "outputs": [
    {
     "data": {
      "text/plain": [
       "0    34936\n",
       "1    34936\n",
       "Name: label, dtype: int64"
      ]
     },
     "execution_count": 16,
     "metadata": {},
     "output_type": "execute_result"
    }
   ],
   "source": [
    "train_p2.label.value_counts()"
   ]
  },
  {
   "cell_type": "code",
   "execution_count": 17,
   "id": "832b1572-5701-404d-9ade-597e1fc230ee",
   "metadata": {},
   "outputs": [],
   "source": [
    "train_p2 = add_source(train_p2, \"train_p2\")"
   ]
  },
  {
   "cell_type": "code",
   "execution_count": 7,
   "id": "2d450d67-7c11-4c19-880e-8b435df919f4",
   "metadata": {},
   "outputs": [],
   "source": [
    "df = pd.concat([pdb186, pdb1000, pdb2272, pdb20000, train_p2])"
   ]
  },
  {
   "cell_type": "code",
   "execution_count": 13,
   "id": "b83f2c32-f370-4d9b-ac90-d021589661a7",
   "metadata": {},
   "outputs": [],
   "source": [
    "df.to_csv(\"../data/ready_data/train_p2.csv\", index=False)"
   ]
  },
  {
   "cell_type": "markdown",
   "id": "4d7dc45e-923b-4cb1-a044-b5d9298bc655",
   "metadata": {},
   "source": [
    "#### train_p1"
   ]
  },
  {
   "cell_type": "code",
   "execution_count": 29,
   "id": "b8d83a10-432c-49e7-9b8a-54378f41bc1f",
   "metadata": {},
   "outputs": [],
   "source": [
    "train_p1 = pd.read_csv(\"../data/embeddings/input_csv/train_p1.csv\")"
   ]
  },
  {
   "cell_type": "code",
   "execution_count": 30,
   "id": "1d74c69f-5faf-4c86-bcee-e9b77bfa4cdd",
   "metadata": {},
   "outputs": [],
   "source": [
    "train_p1 = add_source(train_p1, \"train_p1\")"
   ]
  },
  {
   "cell_type": "code",
   "execution_count": 32,
   "id": "5e2749d0-3df7-46ab-8ff6-4b11ada04176",
   "metadata": {},
   "outputs": [],
   "source": [
    "df = pd.concat([pdb186, pdb1000, pdb2272, pdb20000, train_p1])"
   ]
  },
  {
   "cell_type": "code",
   "execution_count": 34,
   "id": "2e842f15-0834-4a90-b090-f58b9bb01536",
   "metadata": {},
   "outputs": [],
   "source": [
    "df.to_csv(\"../data/ready_data/train_p1.csv\", index=False)"
   ]
  },
  {
   "cell_type": "markdown",
   "id": "25d2946f-02f6-4fb6-b1dd-c140f5e8577e",
   "metadata": {},
   "source": [
    "#### train_p3"
   ]
  },
  {
   "cell_type": "code",
   "execution_count": 3,
   "id": "d0a64bb7-652d-49da-bffc-26a6ac4cbb11",
   "metadata": {},
   "outputs": [],
   "source": [
    "train_p3 = pd.read_csv(\"../data/embeddings/input_csv/train_p3.csv\")\n",
    "train_p3 = add_source(train_p3, \"train_p3\")"
   ]
  },
  {
   "cell_type": "code",
   "execution_count": 5,
   "id": "98b30248-24c0-4af0-a9cd-0890f5f33030",
   "metadata": {},
   "outputs": [],
   "source": [
    "df = pd.read_csv(\"../data/ready_data/df_3.csv\")"
   ]
  },
  {
   "cell_type": "code",
   "execution_count": 19,
   "id": "51290210-9929-40f6-ac24-c5ccade5f44d",
   "metadata": {},
   "outputs": [],
   "source": [
    "train_p2 = pd.read_csv(\"../data/embeddings/input_csv/train_p2.csv\")\n",
    "train_p2 = add_source(train_p2, \"train_p2\")"
   ]
  },
  {
   "cell_type": "code",
   "execution_count": 20,
   "id": "e38aa693-f8ad-4f5f-995c-5a139f0dc737",
   "metadata": {},
   "outputs": [],
   "source": [
    "train_p3 = pd.concat([train_p2, train_p3])"
   ]
  },
  {
   "cell_type": "code",
   "execution_count": 21,
   "id": "bcc9cac7-d7cc-4e1c-b866-e6d00fe9a3a7",
   "metadata": {},
   "outputs": [],
   "source": [
    "train_p3 = filter_df(train_p3)"
   ]
  },
  {
   "cell_type": "code",
   "execution_count": 24,
   "id": "646bc524-851d-469d-bfce-1e2560d72cf6",
   "metadata": {},
   "outputs": [],
   "source": [
    "df = pd.concat([pdb186, pdb1000, pdb2272, pdb20000, train_p3])"
   ]
  },
  {
   "cell_type": "code",
   "execution_count": 25,
   "id": "8e45389d-65b7-4f1b-b37a-4411c7f8b8cd",
   "metadata": {},
   "outputs": [],
   "source": [
    "df.to_csv(\"../data/ready_data/train_p3.csv\", index=False)"
   ]
  },
  {
   "cell_type": "code",
   "execution_count": null,
   "id": "522d907d-346b-4440-8c40-4c8fe247e21d",
   "metadata": {},
   "outputs": [],
   "source": []
  }
 ],
 "metadata": {
  "kernelspec": {
   "display_name": "Python 3 (ipykernel)",
   "language": "python",
   "name": "python3"
  },
  "language_info": {
   "codemirror_mode": {
    "name": "ipython",
    "version": 3
   },
   "file_extension": ".py",
   "mimetype": "text/x-python",
   "name": "python",
   "nbconvert_exporter": "python",
   "pygments_lexer": "ipython3",
   "version": "3.11.5"
  }
 },
 "nbformat": 4,
 "nbformat_minor": 5
}
