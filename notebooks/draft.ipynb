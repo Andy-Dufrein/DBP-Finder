{
 "cells": [
  {
   "cell_type": "code",
   "execution_count": 1,
   "id": "118a2468",
   "metadata": {},
   "outputs": [],
   "source": [
    "import sys\n",
    "import pandas as pd\n",
    "import ankh\n",
    "import os\n",
    "import requests"
   ]
  },
  {
   "cell_type": "code",
   "execution_count": 2,
   "id": "27289dbf",
   "metadata": {},
   "outputs": [],
   "source": [
    "sys.path.append(\"..\")"
   ]
  },
  {
   "cell_type": "code",
   "execution_count": 3,
   "id": "40a1a638",
   "metadata": {},
   "outputs": [],
   "source": [
    "from scripts.utils import convert_fasta_to_df, write_fasta, filter_df, prepare_neg_samples"
   ]
  },
  {
   "cell_type": "code",
   "execution_count": 4,
   "id": "84cd9d96",
   "metadata": {},
   "outputs": [],
   "source": [
    "df = pd.read_csv(\"../data/external/trembl_test.csv\")"
   ]
  },
  {
   "cell_type": "code",
   "execution_count": 5,
   "id": "03a258fb",
   "metadata": {},
   "outputs": [],
   "source": [
    "df = convert_fasta_to_df(\"../data/not_annotated/raw_fasta/merged.fasta\")"
   ]
  },
  {
   "cell_type": "code",
   "execution_count": 6,
   "id": "425f35d1",
   "metadata": {},
   "outputs": [],
   "source": [
    "go_no_annot = prepare_neg_samples(\"../data/not_annotated/not_annotated.yml\")"
   ]
  },
  {
   "cell_type": "code",
   "execution_count": 14,
   "id": "fe77c792",
   "metadata": {},
   "outputs": [],
   "source": [
    "out_df = df.merge(go_no_annot, on=\"identifier\")"
   ]
  },
  {
   "cell_type": "code",
   "execution_count": 12,
   "id": "c7dadb14",
   "metadata": {},
   "outputs": [],
   "source": [
    "test_1 = pd.read_csv(\"../data/splits/test_trembl_MF.csv\")"
   ]
  },
  {
   "cell_type": "code",
   "execution_count": 14,
   "id": "c7527aac",
   "metadata": {},
   "outputs": [
    {
     "data": {
      "text/plain": [
       "0    282\n",
       "1    159\n",
       "Name: label, dtype: int64"
      ]
     },
     "execution_count": 14,
     "metadata": {},
     "output_type": "execute_result"
    }
   ],
   "source": [
    "test_1.label.value_counts()"
   ]
  },
  {
   "cell_type": "code",
   "execution_count": 69,
   "id": "c7db169d",
   "metadata": {},
   "outputs": [],
   "source": [
    "df = pd.read_csv(\"../data/processed/test_trembl_proteinfer_org.csv\")"
   ]
  },
  {
   "cell_type": "code",
   "execution_count": 70,
   "id": "50ae16e2",
   "metadata": {},
   "outputs": [
    {
     "data": {
      "text/html": [
       "<div>\n",
       "<style scoped>\n",
       "    .dataframe tbody tr th:only-of-type {\n",
       "        vertical-align: middle;\n",
       "    }\n",
       "\n",
       "    .dataframe tbody tr th {\n",
       "        vertical-align: top;\n",
       "    }\n",
       "\n",
       "    .dataframe thead th {\n",
       "        text-align: right;\n",
       "    }\n",
       "</style>\n",
       "<table border=\"1\" class=\"dataframe\">\n",
       "  <thead>\n",
       "    <tr style=\"text-align: right;\">\n",
       "      <th></th>\n",
       "      <th>identifier</th>\n",
       "      <th>cluster</th>\n",
       "      <th>organism</th>\n",
       "      <th>kingdom</th>\n",
       "    </tr>\n",
       "  </thead>\n",
       "  <tbody>\n",
       "    <tr>\n",
       "      <th>0</th>\n",
       "      <td>A0A075AP15</td>\n",
       "      <td>69001</td>\n",
       "      <td>Rozella allomycis (strain CSF55)</td>\n",
       "      <td>Fungi</td>\n",
       "    </tr>\n",
       "    <tr>\n",
       "      <th>1</th>\n",
       "      <td>A0A0B4K7P1</td>\n",
       "      <td>91790</td>\n",
       "      <td>Drosophila melanogaster</td>\n",
       "      <td>Metazoa</td>\n",
       "    </tr>\n",
       "    <tr>\n",
       "      <th>2</th>\n",
       "      <td>A0A0B4KGD0</td>\n",
       "      <td>69003</td>\n",
       "      <td>Drosophila melanogaster</td>\n",
       "      <td>Metazoa</td>\n",
       "    </tr>\n",
       "    <tr>\n",
       "      <th>3</th>\n",
       "      <td>A0A0G2QC09</td>\n",
       "      <td>91802</td>\n",
       "      <td>Rattus norvegicus</td>\n",
       "      <td>Metazoa</td>\n",
       "    </tr>\n",
       "    <tr>\n",
       "      <th>4</th>\n",
       "      <td>A0A0P7ARV0</td>\n",
       "      <td>16351</td>\n",
       "      <td>Neonectria ditissima</td>\n",
       "      <td>Fungi</td>\n",
       "    </tr>\n",
       "    <tr>\n",
       "      <th>...</th>\n",
       "      <td>...</td>\n",
       "      <td>...</td>\n",
       "      <td>...</td>\n",
       "      <td>...</td>\n",
       "    </tr>\n",
       "    <tr>\n",
       "      <th>582</th>\n",
       "      <td>A0A2G6Y998</td>\n",
       "      <td>91825</td>\n",
       "      <td>Acidovorax sp. 62</td>\n",
       "      <td>Bacteria</td>\n",
       "    </tr>\n",
       "    <tr>\n",
       "      <th>583</th>\n",
       "      <td>G5AZR9</td>\n",
       "      <td>34559</td>\n",
       "      <td>Heterocephalus glaber</td>\n",
       "      <td>Metazoa</td>\n",
       "    </tr>\n",
       "    <tr>\n",
       "      <th>584</th>\n",
       "      <td>A0A6J2UAV1</td>\n",
       "      <td>91823</td>\n",
       "      <td>Drosophila lebanonensis</td>\n",
       "      <td>Metazoa</td>\n",
       "    </tr>\n",
       "    <tr>\n",
       "      <th>585</th>\n",
       "      <td>A1Z7P5</td>\n",
       "      <td>35048</td>\n",
       "      <td>Drosophila melanogaster</td>\n",
       "      <td>Metazoa</td>\n",
       "    </tr>\n",
       "    <tr>\n",
       "      <th>586</th>\n",
       "      <td>A0A452R4S4</td>\n",
       "      <td>34559</td>\n",
       "      <td>Ursus americanus</td>\n",
       "      <td>Metazoa</td>\n",
       "    </tr>\n",
       "  </tbody>\n",
       "</table>\n",
       "<p>587 rows × 4 columns</p>\n",
       "</div>"
      ],
      "text/plain": [
       "     identifier  cluster                          organism   kingdom\n",
       "0    A0A075AP15    69001  Rozella allomycis (strain CSF55)     Fungi\n",
       "1    A0A0B4K7P1    91790           Drosophila melanogaster   Metazoa\n",
       "2    A0A0B4KGD0    69003           Drosophila melanogaster   Metazoa\n",
       "3    A0A0G2QC09    91802                 Rattus norvegicus   Metazoa\n",
       "4    A0A0P7ARV0    16351              Neonectria ditissima     Fungi\n",
       "..          ...      ...                               ...       ...\n",
       "582  A0A2G6Y998    91825                 Acidovorax sp. 62  Bacteria\n",
       "583      G5AZR9    34559             Heterocephalus glaber   Metazoa\n",
       "584  A0A6J2UAV1    91823           Drosophila lebanonensis   Metazoa\n",
       "585      A1Z7P5    35048           Drosophila melanogaster   Metazoa\n",
       "586  A0A452R4S4    34559                  Ursus americanus   Metazoa\n",
       "\n",
       "[587 rows x 4 columns]"
      ]
     },
     "execution_count": 70,
     "metadata": {},
     "output_type": "execute_result"
    }
   ],
   "source": [
    "df"
   ]
  },
  {
   "cell_type": "code",
   "execution_count": 71,
   "id": "8c989d30",
   "metadata": {},
   "outputs": [],
   "source": [
    "df.drop(columns=[\"cluster\"], axis=1, inplace=True)"
   ]
  },
  {
   "cell_type": "code",
   "execution_count": 54,
   "id": "b5f851a7",
   "metadata": {},
   "outputs": [],
   "source": [
    "df.drop(columns=[\"sequence\", \"label\"], axis=1, inplace=True)"
   ]
  },
  {
   "cell_type": "code",
   "execution_count": 72,
   "id": "83fb4fbc",
   "metadata": {},
   "outputs": [],
   "source": [
    "df.to_csv(\"../data/taxon/test_trembl_proteinfer.csv\", index=False)"
   ]
  },
  {
   "cell_type": "code",
   "execution_count": 73,
   "id": "69d43df1",
   "metadata": {},
   "outputs": [
    {
     "data": {
      "text/html": [
       "<div>\n",
       "<style scoped>\n",
       "    .dataframe tbody tr th:only-of-type {\n",
       "        vertical-align: middle;\n",
       "    }\n",
       "\n",
       "    .dataframe tbody tr th {\n",
       "        vertical-align: top;\n",
       "    }\n",
       "\n",
       "    .dataframe thead th {\n",
       "        text-align: right;\n",
       "    }\n",
       "</style>\n",
       "<table border=\"1\" class=\"dataframe\">\n",
       "  <thead>\n",
       "    <tr style=\"text-align: right;\">\n",
       "      <th></th>\n",
       "      <th>identifier</th>\n",
       "      <th>organism</th>\n",
       "      <th>kingdom</th>\n",
       "    </tr>\n",
       "  </thead>\n",
       "  <tbody>\n",
       "    <tr>\n",
       "      <th>0</th>\n",
       "      <td>A0A075AP15</td>\n",
       "      <td>Rozella allomycis (strain CSF55)</td>\n",
       "      <td>Fungi</td>\n",
       "    </tr>\n",
       "    <tr>\n",
       "      <th>1</th>\n",
       "      <td>A0A0B4K7P1</td>\n",
       "      <td>Drosophila melanogaster</td>\n",
       "      <td>Metazoa</td>\n",
       "    </tr>\n",
       "    <tr>\n",
       "      <th>2</th>\n",
       "      <td>A0A0B4KGD0</td>\n",
       "      <td>Drosophila melanogaster</td>\n",
       "      <td>Metazoa</td>\n",
       "    </tr>\n",
       "    <tr>\n",
       "      <th>3</th>\n",
       "      <td>A0A0G2QC09</td>\n",
       "      <td>Rattus norvegicus</td>\n",
       "      <td>Metazoa</td>\n",
       "    </tr>\n",
       "    <tr>\n",
       "      <th>4</th>\n",
       "      <td>A0A0P7ARV0</td>\n",
       "      <td>Neonectria ditissima</td>\n",
       "      <td>Fungi</td>\n",
       "    </tr>\n",
       "    <tr>\n",
       "      <th>...</th>\n",
       "      <td>...</td>\n",
       "      <td>...</td>\n",
       "      <td>...</td>\n",
       "    </tr>\n",
       "    <tr>\n",
       "      <th>582</th>\n",
       "      <td>A0A2G6Y998</td>\n",
       "      <td>Acidovorax sp. 62</td>\n",
       "      <td>Bacteria</td>\n",
       "    </tr>\n",
       "    <tr>\n",
       "      <th>583</th>\n",
       "      <td>G5AZR9</td>\n",
       "      <td>Heterocephalus glaber</td>\n",
       "      <td>Metazoa</td>\n",
       "    </tr>\n",
       "    <tr>\n",
       "      <th>584</th>\n",
       "      <td>A0A6J2UAV1</td>\n",
       "      <td>Drosophila lebanonensis</td>\n",
       "      <td>Metazoa</td>\n",
       "    </tr>\n",
       "    <tr>\n",
       "      <th>585</th>\n",
       "      <td>A1Z7P5</td>\n",
       "      <td>Drosophila melanogaster</td>\n",
       "      <td>Metazoa</td>\n",
       "    </tr>\n",
       "    <tr>\n",
       "      <th>586</th>\n",
       "      <td>A0A452R4S4</td>\n",
       "      <td>Ursus americanus</td>\n",
       "      <td>Metazoa</td>\n",
       "    </tr>\n",
       "  </tbody>\n",
       "</table>\n",
       "<p>587 rows × 3 columns</p>\n",
       "</div>"
      ],
      "text/plain": [
       "     identifier                          organism   kingdom\n",
       "0    A0A075AP15  Rozella allomycis (strain CSF55)     Fungi\n",
       "1    A0A0B4K7P1           Drosophila melanogaster   Metazoa\n",
       "2    A0A0B4KGD0           Drosophila melanogaster   Metazoa\n",
       "3    A0A0G2QC09                 Rattus norvegicus   Metazoa\n",
       "4    A0A0P7ARV0              Neonectria ditissima     Fungi\n",
       "..          ...                               ...       ...\n",
       "582  A0A2G6Y998                 Acidovorax sp. 62  Bacteria\n",
       "583      G5AZR9             Heterocephalus glaber   Metazoa\n",
       "584  A0A6J2UAV1           Drosophila lebanonensis   Metazoa\n",
       "585      A1Z7P5           Drosophila melanogaster   Metazoa\n",
       "586  A0A452R4S4                  Ursus americanus   Metazoa\n",
       "\n",
       "[587 rows x 3 columns]"
      ]
     },
     "execution_count": 73,
     "metadata": {},
     "output_type": "execute_result"
    }
   ],
   "source": [
    "df"
   ]
  },
  {
   "cell_type": "code",
   "execution_count": null,
   "id": "89078c47",
   "metadata": {},
   "outputs": [],
   "source": []
  },
  {
   "cell_type": "code",
   "execution_count": null,
   "id": "aef432e1",
   "metadata": {},
   "outputs": [],
   "source": []
  }
 ],
 "metadata": {
  "kernelspec": {
   "display_name": "Python 3 (ipykernel)",
   "language": "python",
   "name": "python3"
  },
  "language_info": {
   "codemirror_mode": {
    "name": "ipython",
    "version": 3
   },
   "file_extension": ".py",
   "mimetype": "text/x-python",
   "name": "python",
   "nbconvert_exporter": "python",
   "pygments_lexer": "ipython3",
   "version": "3.11.5"
  }
 },
 "nbformat": 4,
 "nbformat_minor": 5
}
