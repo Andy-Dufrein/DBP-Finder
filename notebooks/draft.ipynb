{
 "cells": [
  {
   "cell_type": "code",
   "execution_count": 1,
   "id": "118a2468",
   "metadata": {},
   "outputs": [],
   "source": [
    "import sys\n",
    "import pandas as pd\n",
    "import ankh\n",
    "import os\n",
    "import requests\n",
    "import h5py"
   ]
  },
  {
   "cell_type": "code",
   "execution_count": 2,
   "id": "c4778473",
   "metadata": {},
   "outputs": [],
   "source": [
    "def load_dict_from_hdf5(filename):\n",
    "    \"\"\"\n",
    "    Load a dictionary with string keys and NumPy array values from an HDF5 file.\n",
    "\n",
    "    Parameters:\n",
    "    filename (str): Name of the HDF5 file to load the data from.\n",
    "\n",
    "    Returns:\n",
    "    dict: Dictionary with string keys and NumPy array values.\n",
    "    \"\"\"\n",
    "    loaded_dict = {}\n",
    "    with h5py.File(filename, \"r\") as f:\n",
    "        for key in f.keys():\n",
    "            loaded_dict[key] = f[key][:]\n",
    "    return loaded_dict"
   ]
  },
  {
   "cell_type": "code",
   "execution_count": 3,
   "id": "27289dbf",
   "metadata": {},
   "outputs": [],
   "source": [
    "sys.path.append(\"..\")"
   ]
  },
  {
   "cell_type": "code",
   "execution_count": 4,
   "id": "40a1a638",
   "metadata": {},
   "outputs": [],
   "source": [
    "from scripts.utils import convert_fasta_to_df, write_fasta, filter_df, prepare_neg_samples"
   ]
  },
  {
   "cell_type": "code",
   "execution_count": 4,
   "id": "84cd9d96",
   "metadata": {},
   "outputs": [],
   "source": [
    "df = pd.read_csv(\"../data/external/trembl_test.csv\")"
   ]
  },
  {
   "cell_type": "code",
   "execution_count": 5,
   "id": "03a258fb",
   "metadata": {},
   "outputs": [],
   "source": [
    "df = convert_fasta_to_df(\"../data/not_annotated/raw_fasta/merged.fasta\")"
   ]
  },
  {
   "cell_type": "code",
   "execution_count": 6,
   "id": "425f35d1",
   "metadata": {},
   "outputs": [],
   "source": [
    "go_no_annot = prepare_neg_samples(\"../data/not_annotated/not_annotated.yml\")"
   ]
  },
  {
   "cell_type": "code",
   "execution_count": 14,
   "id": "fe77c792",
   "metadata": {},
   "outputs": [],
   "source": [
    "out_df = df.merge(go_no_annot, on=\"identifier\")"
   ]
  },
  {
   "cell_type": "code",
   "execution_count": 12,
   "id": "c7dadb14",
   "metadata": {},
   "outputs": [],
   "source": [
    "test_1 = pd.read_csv(\"../data/splits/test_trembl_MF.csv\")"
   ]
  },
  {
   "cell_type": "code",
   "execution_count": 14,
   "id": "c7527aac",
   "metadata": {},
   "outputs": [
    {
     "data": {
      "text/plain": [
       "0    282\n",
       "1    159\n",
       "Name: label, dtype: int64"
      ]
     },
     "execution_count": 14,
     "metadata": {},
     "output_type": "execute_result"
    }
   ],
   "source": [
    "test_1.label.value_counts()"
   ]
  },
  {
   "cell_type": "code",
   "execution_count": 11,
   "id": "c7db169d",
   "metadata": {},
   "outputs": [],
   "source": [
    "df = pd.read_csv(\"../data/processed/pdb20000_taxon.csv\")"
   ]
  },
  {
   "cell_type": "code",
   "execution_count": 12,
   "id": "50ae16e2",
   "metadata": {},
   "outputs": [
    {
     "data": {
      "text/plain": [
       "Bacteria         10958\n",
       "Metazoa           4290\n",
       "Viridiplantae     1903\n",
       "Fungi             1640\n",
       "Archaea            523\n",
       "Protists           362\n",
       "Viruses            309\n",
       "Name: kingdom, dtype: int64"
      ]
     },
     "execution_count": 12,
     "metadata": {},
     "output_type": "execute_result"
    }
   ],
   "source": [
    "df.kingdom.value_counts()"
   ]
  },
  {
   "cell_type": "code",
   "execution_count": 13,
   "id": "727d8ec2",
   "metadata": {},
   "outputs": [
    {
     "data": {
      "text/html": [
       "<div>\n",
       "<style scoped>\n",
       "    .dataframe tbody tr th:only-of-type {\n",
       "        vertical-align: middle;\n",
       "    }\n",
       "\n",
       "    .dataframe tbody tr th {\n",
       "        vertical-align: top;\n",
       "    }\n",
       "\n",
       "    .dataframe thead th {\n",
       "        text-align: right;\n",
       "    }\n",
       "</style>\n",
       "<table border=\"1\" class=\"dataframe\">\n",
       "  <thead>\n",
       "    <tr style=\"text-align: right;\">\n",
       "      <th></th>\n",
       "      <th>identifier</th>\n",
       "      <th>organism</th>\n",
       "      <th>kingdom</th>\n",
       "    </tr>\n",
       "  </thead>\n",
       "  <tbody>\n",
       "    <tr>\n",
       "      <th>0</th>\n",
       "      <td>P05102</td>\n",
       "      <td>Haemophilus parahaemolyticus</td>\n",
       "      <td>Bacteria</td>\n",
       "    </tr>\n",
       "    <tr>\n",
       "      <th>1</th>\n",
       "      <td>P0CY10</td>\n",
       "      <td>Saccharomyces cerevisiae</td>\n",
       "      <td>Fungi</td>\n",
       "    </tr>\n",
       "    <tr>\n",
       "      <th>2</th>\n",
       "      <td>P02302</td>\n",
       "      <td>Xenopus laevis</td>\n",
       "      <td>Metazoa</td>\n",
       "    </tr>\n",
       "    <tr>\n",
       "      <th>3</th>\n",
       "      <td>Q00422</td>\n",
       "      <td>Mus musculus</td>\n",
       "      <td>Metazoa</td>\n",
       "    </tr>\n",
       "    <tr>\n",
       "      <th>4</th>\n",
       "      <td>P13123</td>\n",
       "      <td>Sulfolobus acidocaldarius (strain ATCC 33909 /...</td>\n",
       "      <td>Archaea</td>\n",
       "    </tr>\n",
       "    <tr>\n",
       "      <th>...</th>\n",
       "      <td>...</td>\n",
       "      <td>...</td>\n",
       "      <td>...</td>\n",
       "    </tr>\n",
       "    <tr>\n",
       "      <th>19995</th>\n",
       "      <td>P53107</td>\n",
       "      <td>Saccharomyces cerevisiae (strain ATCC 204508 /...</td>\n",
       "      <td>Fungi</td>\n",
       "    </tr>\n",
       "    <tr>\n",
       "      <th>19996</th>\n",
       "      <td>Q12172</td>\n",
       "      <td>Saccharomyces cerevisiae (strain ATCC 204508 /...</td>\n",
       "      <td>Fungi</td>\n",
       "    </tr>\n",
       "    <tr>\n",
       "      <th>19997</th>\n",
       "      <td>P0ACN2</td>\n",
       "      <td>Escherichia coli (strain K12)</td>\n",
       "      <td>Bacteria</td>\n",
       "    </tr>\n",
       "    <tr>\n",
       "      <th>19998</th>\n",
       "      <td>Q9JMT8</td>\n",
       "      <td>Escherichia coli (strain K12)</td>\n",
       "      <td>Bacteria</td>\n",
       "    </tr>\n",
       "    <tr>\n",
       "      <th>19999</th>\n",
       "      <td>Q52990</td>\n",
       "      <td>Rhizobium meliloti (strain 1021)</td>\n",
       "      <td>Bacteria</td>\n",
       "    </tr>\n",
       "  </tbody>\n",
       "</table>\n",
       "<p>20000 rows × 3 columns</p>\n",
       "</div>"
      ],
      "text/plain": [
       "      identifier                                           organism   kingdom\n",
       "0         P05102                       Haemophilus parahaemolyticus  Bacteria\n",
       "1         P0CY10                           Saccharomyces cerevisiae     Fungi\n",
       "2         P02302                                     Xenopus laevis   Metazoa\n",
       "3         Q00422                                       Mus musculus   Metazoa\n",
       "4         P13123  Sulfolobus acidocaldarius (strain ATCC 33909 /...   Archaea\n",
       "...          ...                                                ...       ...\n",
       "19995     P53107  Saccharomyces cerevisiae (strain ATCC 204508 /...     Fungi\n",
       "19996     Q12172  Saccharomyces cerevisiae (strain ATCC 204508 /...     Fungi\n",
       "19997     P0ACN2                      Escherichia coli (strain K12)  Bacteria\n",
       "19998     Q9JMT8                      Escherichia coli (strain K12)  Bacteria\n",
       "19999     Q52990                   Rhizobium meliloti (strain 1021)  Bacteria\n",
       "\n",
       "[20000 rows x 3 columns]"
      ]
     },
     "execution_count": 13,
     "metadata": {},
     "output_type": "execute_result"
    }
   ],
   "source": [
    "df"
   ]
  },
  {
   "cell_type": "code",
   "execution_count": 71,
   "id": "8c989d30",
   "metadata": {},
   "outputs": [],
   "source": [
    "df.drop(columns=[\"cluster\"], axis=1, inplace=True)"
   ]
  },
  {
   "cell_type": "code",
   "execution_count": 7,
   "id": "b5f851a7",
   "metadata": {},
   "outputs": [],
   "source": [
    "df.drop(columns=[\"sequence\", \"label\"], axis=1, inplace=True)"
   ]
  },
  {
   "cell_type": "code",
   "execution_count": 14,
   "id": "83fb4fbc",
   "metadata": {},
   "outputs": [],
   "source": [
    "df.to_csv(\"../data/taxon/pdb20000.csv\", index=False)"
   ]
  },
  {
   "cell_type": "code",
   "execution_count": 9,
   "id": "aef432e1",
   "metadata": {},
   "outputs": [],
   "source": [
    "embed_df = load_dict_from_hdf5(\"../../../../../ssd2/dbp_finder/ankh_embeddings/pdb2272_2d.h5\")"
   ]
  },
  {
   "cell_type": "code",
   "execution_count": 10,
   "id": "6c5f48d9",
   "metadata": {},
   "outputs": [
    {
     "data": {
      "text/plain": [
       "dict_keys(['O00287', 'O00488', 'O00571', 'O00841', 'O04006', 'O05023', 'O05052', 'O05103', 'O05396', 'O05441', 'O05519', 'O05977', 'O06719', 'O06987', 'O07127', 'O07402', 'O07458', 'O07634', 'O07827', 'O08976', 'O10308', 'O10360', 'O10368', 'O13339', 'O13360', 'O13472', 'O13606', 'O13705', 'O13767', 'O13807', 'O13862', 'O13988', 'O14009', 'O14017', 'O14096', 'O14746', 'O15315', 'O16810', 'O17582', 'O22010', 'O24606', 'O27318', 'O27652', 'O27941', 'O28069', 'O28078', 'O28092', 'O28145', 'O28146', 'O28150', 'O28160', 'O28251', 'O28269', 'O28280', 'O28286', 'O28420', 'O28561', 'O28575', 'O28640', 'O28675', 'O28773', 'O28838', 'O28985', 'O29292', 'O29347', 'O29506', 'O29560', 'O29749', 'O29831', 'O29848', 'O30138', 'O30332', 'O30477', 'O31178', 'O31216', 'O31454', 'O31663', 'O31690', 'O31697', 'O31797', 'O31829', 'O32138', 'O32255', 'O32272', 'O32333', 'O33060', 'O33683', 'O33813', 'O33817', 'O34162', 'O34621', 'O34827', 'O34887', 'O34926', 'O35003', 'O35892', 'O42131', 'O43037', 'O43102', 'O43103', 'O43151', 'O43261', 'O43310', 'O43422', 'O43531', 'O43543', 'O43593', 'O43612', 'O43823', 'O43952', 'O44960', 'O45291', 'O49397', 'O49498', 'O51066', 'O51093', 'O51112', 'O51124', 'O51157', 'O51173', 'O51240', 'O51768', 'O53712', 'O54101', 'O55055', 'O57595', 'O57863', 'O58782', 'O60182', 'O60281', 'O60308', 'O60673', 'O60756', 'O61365', 'O61735', 'O61764', 'O63066', 'O63852', 'O64235', 'O64236', 'O66398', 'O66427', 'O66516', 'O66525', 'O66616', 'O66765', 'O66830', 'O66861', 'O66960', 'O67169', 'O67201', 'O67286', 'O67453', 'O67485', 'O67609', 'O67672', 'O67702', 'O67748', 'O67771', 'O67779', 'O67910', 'O67915', 'O68014', 'O69302', 'O69583', 'O70133', 'O70736', 'O73673', 'O73954', 'O74045', 'O74419', 'O75132', 'O75161', 'O75362', 'O75717', 'O75764', 'O75880', 'O76332', 'O76906', 'O80294', 'O80341', 'O82368', 'O83046', 'O83049', 'O83057', 'O83131', 'O83149', 'O83295', 'O83309', 'O83389', 'O83433', 'O83467', 'O83550', 'O83554', 'O83586', 'O83593', 'O83671', 'O83685', 'O83701', 'O83731', 'O83744', 'O83792', 'O83978', 'O84905', 'O85807', 'O86228', 'O86737', 'O93257', 'O93745', 'O93852', 'O94160', 'O94245', 'O94309', 'O94697', 'O94903', 'O95158', 'O95239', 'O95295', 'O95825', 'O96006', 'O96790', 'O97764', 'P00214', 'P00429', 'P01094', 'P01347', 'P02255', 'P02584', 'P02964', 'P02989', 'P03008', 'P03009', 'P03010', 'P03023', 'P03030', 'P03040', 'P03043', 'P03045', 'P03048', 'P03049', 'P03073', 'P03091', 'P03127', 'P03128', 'P03131', 'P03187', 'P03197', 'P03206', 'P03209', 'P03211', 'P03213', 'P03215', 'P03220', 'P03227', 'P03254', 'P03264', 'P03277', 'P03546', 'P03552', 'P03603', 'P03626', 'P03632', 'P03671', 'P03672', 'P03680', 'P03688', 'P03690', 'P03691', 'P03695', 'P03698', 'P03710', 'P03735', 'P03754', 'P03763', 'P03798', 'P03835', 'P03837', 'P03839', 'P03853', 'P03859', 'P04132', 'P04219', 'P04382', 'P04524', 'P04530', 'P04531', 'P04546', 'P04867', 'P04892', 'P04982', 'P05195', 'P05463', 'P05476', 'P05531', 'P05552', 'P05678', 'P05842', 'P05845', 'P05846', 'P05946', 'P05998', 'P06018', 'P06022', 'P06023', 'P06116', 'P06129', 'P06200', 'P06225', 'P06227', 'P06243', 'P06279', 'P06400', 'P06463', 'P06627', 'P06701', 'P06716', 'P06733', 'P06777', 'P06839', 'P06843', 'P06855', 'P06875', 'P06921', 'P06925', 'P06965', 'P06990', 'P07065', 'P07078', 'P07248', 'P07261', 'P07271', 'P07273', 'P07277', 'P07383', 'P07386', 'P07387', 'P07621', 'P07636', 'P07676', 'P07695', 'P07903', 'P07908', 'P08062', 'P08105', 'P08159', 'P08161', 'P08344', 'P08392', 'P08452', 'P08546', 'P08557', 'P08558', 'P08638', 'P08657', 'P08707', 'P08740', 'P08956', 'P08976', 'P08979', 'P09181', 'P09274', 'P09276', 'P09378', 'P09391', 'P09397', 'P09546', 'P09547', 'P09612', 'P09676', 'P09775', 'P09804', 'P09806', 'P09932', 'P09959', 'P0A0P6', 'P0A234', 'P0A2S7', 'P0A312', 'P0A3J5', 'P0A3K0', 'P0A3R9', 'P0A3U6', 'P0A583', 'P0A599', 'P0A5A6', 'P0A614', 'P0A6X5', 'P0A977', 'P0A9F0', 'P0A9F5', 'P0A9G0', 'P0A9G2', 'P0A9M1', 'P0A9R3', 'P0A9U6', 'P0A9V7', 'P0AAV2', 'P0AAY4', 'P0ABT3', 'P0AC51', 'P0ACE5', 'P0ACG0', 'P0ACH0', 'P0ACH3', 'P0ACH9', 'P0ACI8', 'P0ACP3', 'P0ACQ8', 'P0ACS1', 'P0ACS8', 'P0ACT3', 'P0ACU3', 'P0ACU8', 'P0AD55', 'P0ADH4', 'P0ADK7', 'P0AE71', 'P0AEU9', 'P0AF11', 'P0AFJ0', 'P0AFN1', 'P0AFP3', 'P0AFW1', 'P0AFY9', 'P0C0L4', 'P10026', 'P10027', 'P10030', 'P10080', 'P10151', 'P10180', 'P10221', 'P10226', 'P10238', 'P10258', 'P10265', 'P10277', 'P10427', 'P10479', 'P10480', 'P10485', 'P10486', 'P10579', 'P10590', 'P10627', 'P10961', 'P11020', 'P11065', 'P11107', 'P11117', 'P11189', 'P11248', 'P11420', 'P11455', 'P11536', 'P11556', 'P11634', 'P11637', 'P11675', 'P11831', 'P11866', 'P11870', 'P11901', 'P11938', 'P11978', 'P12249', 'P12258', 'P12274', 'P12301', 'P12305', 'P12342', 'P12351', 'P12401', 'P12533', 'P12551', 'P12552', 'P12616', 'P12792', 'P12827', 'P12876', 'P12899', 'P12954', 'P12968', 'P12978', 'P13002', 'P13055', 'P13081', 'P13090', 'P13121', 'P13123', 'P13192', 'P13232', 'P13275', 'P13310', 'P13311', 'P13320', 'P13335', 'P13342', 'P13440', 'P13483', 'P13574', 'P13733', 'P13837', 'P13870', 'P13893', 'P13902', 'P13925', 'P13967', 'P13975', 'P13976', 'P13988', 'P13991', 'P14044', 'P14064', 'P14083', 'P14107', 'P14109', 'P14164', 'P14199', 'P14248', 'P14269', 'P14301', 'P14309', 'P14327', 'P14355', 'P14506', 'P14565', 'P14629', 'P14706', 'P14707', 'P14715', 'P14727', 'P14728', 'P14736', 'P14741', 'P14816', 'P14904', 'P14998', 'P15005', 'P15038', 'P15081', 'P15238', 'P15281', 'P15330', 'P15363', 'P15417', 'P15489', 'P15563', 'P15579', 'P15593', 'P15822', 'P15894', 'P15895', 'P15921', 'P15969', 'P16090', 'P16140', 'P16148', 'P16192', 'P16400', 'P16472', 'P16569', 'P16683', 'P16689', 'P16691', 'P16694', 'P16723', 'P16724', 'P16756', 'P16757', 'P16763', 'P16790', 'P16793', 'P16804', 'P16826', 'P16909', 'P16942', 'P17051', 'P17147', 'P17150', 'P17211', 'P17214', 'P17305', 'P17311', 'P17312', 'P17368', 'P17410', 'P17502', 'P17531', 'P17533', 'P17637', 'P17651', 'P17739', 'P17890', 'P17909', 'P17960', 'P18016', 'P18148', 'P18179', 'P18193', 'P18416', 'P18471', 'P18493', 'P18494', 'P18583', 'P18629', 'P18679', 'P18680', 'P18809', 'P18811', 'P19060', 'P19071', 'P19285', 'P19287', 'P19292', 'P19323', 'P19369', 'P19655', 'P19705', 'P19720', 'P19770', 'P19777', 'P19782', 'P19807', 'P19822', 'P19828', 'P19880', 'P19881', 'P19893', 'P20020', 'P20044', 'P20050', 'P20184', 'P20193', 'P20202', 'P20212', 'P20224', 'P20227', 'P20311', 'P20313', 'P20398', 'P20482', 'P20543', 'P20549', 'P20562', 'P20564', 'P20570', 'P20585', 'P20658', 'P20665', 'P20710', 'P20745', 'P20824', 'P20845', 'P20862', 'P20945', 'P20949', 'P21052', 'P21057', 'P21077', 'P21189', 'P21207', 'P21223', 'P21228', 'P21260', 'P21331', 'P21339', 'P21340', 'P21344', 'P21538', 'P21562', 'P21580', 'P21657', 'P21678', 'P21681', 'P21867', 'P21940', 'P21969', 'P22026', 'P22035', 'P22058', 'P22147', 'P22148', 'P22184', 'P22251', 'P22260', 'P22374', 'P22392', 'P22404', 'P22516', 'P22535', 'P22536', 'P22537', 'P22560', 'P22562', 'P22643', 'P22670', 'P22754', 'P22760', 'P22813', 'P22816', 'P22876', 'P22901', 'P22915', 'P22931', 'P23023', 'P23179', 'P23250', 'P23336', 'P23393', 'P23449', 'P23461', 'P23464', 'P23508', 'P23511', 'P23541', 'P23645', 'P23689', 'P23692', 'P23737', 'P23799', 'P23801', 'P23839', 'P23913', 'P23914', 'P23939', 'P24001', 'P24274', 'P24349', 'P24430', 'P24482', 'P24536', 'P24539', 'P24607', 'P24647', 'P24718', 'P24850', 'P25060', 'P25130', 'P25150', 'P25172', 'P25210', 'P25233', 'P25279', 'P25287', 'P25293', 'P25302', 'P25357', 'P25370', 'P25425', 'P25545', 'P25635', 'P25637', 'P25711', 'P25728', 'P25846', 'P25847', 'P25921', 'P25941', 'P25959', 'P25976', 'P25992', 'P26305', 'P26328', 'P26334', 'P26396', 'P26398', 'P26417', 'P26488', 'P26608', 'P26798', 'P26993', 'P27057', 'P27140', 'P27192', 'P27204', 'P27211', 'P27296', 'P27336', 'P27343', 'P27391', 'P27426', 'P27476', 'P27526', 'P27536', 'P27556', 'P27641', 'P27739', 'P27753', 'P27871', 'P27873', 'P27902', 'P28159', 'P28322', 'P28340', 'P28349', 'P28468', 'P28519', 'P28640', 'P28745', 'P28809', 'P28813', 'P28817', 'P28848', 'P28859', 'P28903', 'P28925', 'P28932', 'P28947', 'P28953', 'P29280', 'P29284', 'P29326', 'P29503', 'P29549', 'P29590', 'P29675', 'P29692', 'P29705', 'P29784', 'P29840', 'P29933', 'P30020', 'P30144', 'P30317', 'P30318', 'P30333', 'P30339', 'P30420', 'P30524', 'P30628', 'P30630', 'P30658', 'P30734', 'P30816', 'P30890', 'P30974', 'P30979', 'P31119', 'P31125', 'P31436', 'P31449', 'P31463', 'P31502', 'P31624', 'P31778', 'P31877', 'P32140', 'P32151', 'P32152', 'P32259', 'P32280', 'P32338', 'P32343', 'P32367', 'P32389', 'P32398', 'P32432', 'P32445', 'P32459', 'P32504', 'P32522', 'P32553', 'P32566', 'P32678', 'P32787', 'P32788', 'P32797', 'P32807', 'P32862', 'P33122', 'P33180', 'P33194', 'P33228', 'P33244', 'P33251', 'P33296', 'P33308', 'P33339', 'P33358', 'P33419', 'P33520', 'P33634', 'P33651', 'P33680', 'P33694', 'P33701', 'P33783', 'P33785', 'P33786', 'P33948', 'P34021', 'P34111', 'P34160', 'P34205', 'P34206', 'P34226', 'P34252', 'P34257', 'P34259', 'P34273', 'P34289', 'P34380', 'P34427', 'P34437', 'P34441', 'P34444', 'P34450', 'P34456', 'P34459', 'P34480', 'P34494', 'P34595', 'P34648', 'P34670', 'P34706', 'P34877', 'P35074', 'P35156', 'P35165', 'P35168', 'P35201', 'P35203', 'P35251', 'P35692', 'P35823', 'P35841', 'P35883', 'P35901', 'P35924', 'P35983', 'P36012', 'P36044', 'P36057', 'P36065', 'P36089', 'P36109', 'P36190', 'P36299', 'P36417', 'P36437', 'P36558', 'P36598', 'P36673', 'P36678', 'P36704', 'P36720', 'P36816', 'P37195', 'P37246', 'P37371', 'P37376', 'P37398', 'P37459', 'P37471', 'P37503', 'P37510', 'P37530', 'P37549', 'P37551', 'P37554', 'P37556', 'P37627', 'P37682', 'P37711', 'P37728', 'P37746', 'P37790', 'P37874', 'P37928', 'P37938', 'P37956', 'P38008', 'P38073', 'P38078', 'P38081', 'P38083', 'P38096', 'P38146', 'P38165', 'P38177', 'P38253', 'P38273', 'P38281', 'P38285', 'P38290', 'P38296', 'P38305', 'P38315', 'P38334', 'P38339', 'P38582', 'P38698', 'P38784', 'P38813', 'P38826', 'P38838', 'P38843', 'P38890', 'P39015', 'P39045', 'P39075', 'P39127', 'P39143', 'P39230', 'P39232', 'P39236', 'P39255', 'P39343', 'P39356', 'P39376', 'P39389', 'P39415', 'P39416', 'P39419', 'P39426', 'P39521', 'P39529', 'P39605', 'P39609', 'P39650', 'P39678', 'P39692', 'P39736', 'P39769', 'P39781', 'P39784', 'P39842', 'P39970', 'P39983', 'P40007', 'P40028', 'P40082', 'P40114', 'P40163', 'P40196', 'P40222', 'P40267', 'P40284', 'P40287', 'P40310', 'P40331', 'P40349', 'P40379', 'P40396', 'P40408', 'P40458', 'P40464', 'P40497', 'P40508', 'P40511', 'P40523', 'P40685', 'P40759', 'P40762', 'P40796', 'P40798', 'P40809', 'P40814', 'P40819', 'P40820', 'P40847', 'P40948', 'P40950', 'P40962', 'P40971', 'P40977', 'P40985', 'P40988', 'P41046', 'P41397', 'P41422', 'P41432', 'P41453', 'P41511', 'P41567', 'P41672', 'P41739', 'P41771', 'P41843', 'P41846', 'P41847', 'P41890', 'P41895', 'P41900', 'P41968', 'P42113', 'P42166', 'P42226', 'P42247', 'P42251', 'P42377', 'P42408', 'P42411', 'P42505', 'P42506', 'P42507', 'P42547', 'P42551', 'P42592', 'P42603', 'P42658', 'P42720', 'P42842', 'P42940', 'P42964', 'P42975', 'P43004', 'P43016', 'P43041', 'P43130', 'P43139', 'P43161', 'P43462', 'P43474', 'P43475', 'P43609', 'P43634', 'P43684', 'P43935', 'P43938', 'P43941', 'P43975', 'P43990', 'P43997', 'P44064', 'P44076', 'P44152', 'P44158', 'P44181', 'P44190', 'P44192', 'P44276', 'P44280', 'P44296', 'P44308', 'P44554', 'P44651', 'P44876', 'P44942', 'P45008', 'P45017', 'P45130', 'P45187', 'P45207', 'P45215', 'P45285', 'P45312', 'P45333', 'P45367', 'P45447', 'P45464', 'P45551', 'P45570', 'P45828', 'P45863', 'P45876', 'P45903', 'P45904', 'P45914', 'P45922', 'P46003', 'P46068', 'P46100', 'P46117', 'P46118', 'P46330', 'P46358', 'P46372', 'P46481', 'P46489', 'P46666', 'P46672', 'P46676', 'P46887', 'P46908', 'P46951', 'P46974', 'P47004', 'P47034', 'P47042', 'P47062', 'P47092', 'P47101', 'P47121', 'P47152', 'P47170', 'P47171', 'P47174', 'P47175', 'P47212', 'P47240', 'P47347', 'P47352', 'P47362', 'P47558', 'P47653', 'P47734', 'P47803', 'P47927', 'P47974', 'P48238', 'P48271', 'P48383', 'P48417', 'P48437', 'P48972', 'P48988', 'P49019', 'P49125', 'P49309', 'P49330', 'P49415', 'P49777', 'P49790', 'P49869', 'P49997', 'P49998', 'P50089', 'P50325', 'P50456', 'P50831', 'P50832', 'P51092', 'P51237', 'P51342', 'P51571', 'P51593', 'P51705', 'P51707', 'P51721', 'P51826', 'P51871', 'P51979', 'P52044', 'P52127', 'P52168', 'P52286', 'P52348', 'P52382', 'P52392', 'P52460', 'P52520', 'P52528', 'P52594', 'P52605', 'P52618', 'P52659', 'P52661', 'P52662', 'P52667', 'P52684', 'P52685', 'P52693', 'P52696', 'P52698', 'P52701', 'P52958', 'P52959', 'P53038', 'P53071', 'P53089', 'P53091', 'P53120', 'P53184', 'P53209', 'P53216', 'P53245', 'P53300', 'P53354', 'P53438', 'P53528', 'P53551', 'P53566', 'P53659', 'P53726', 'P53736', 'P53841', 'P53858', 'P53895', 'P53926', 'P54000', 'P54005', 'P54078', 'P54089', 'P54159', 'P54177', 'P54245', 'P54269', 'P54323', 'P54332', 'P54394', 'P54445', 'P54479', 'P54486', 'P54511', 'P54563', 'P54587', 'P54588', 'P54638', 'P54717', 'P54722', 'P54788', 'P54796', 'P54910', 'P54987', 'P55109', 'P55147', 'P55265', 'P55378', 'P55387', 'P55389', 'P55413', 'P55440', 'P55449', 'P55519', 'P55554', 'P55565', 'P55583', 'P55613', 'P55615', 'P55626', 'P55643', 'P55658', 'P55733', 'P56557', 'P56607', 'P56621', 'P56728', 'P56749', 'P56820', 'P56846', 'P56937', 'P57189', 'P57220', 'P57368', 'P57402', 'P57718', 'P57766', 'P58011', 'P58034', 'P58216', 'P58359', 'P58497', 'P58700', 'P58722', 'P59026', 'P59338', 'P59697', 'P60008', 'P60231', 'P61109', 'P61165', 'P61635', 'P61978', 'P62017', 'P62177', 'P62536', 'P62604', 'P62608', 'P63300', 'P64002', 'P64176', 'P64327', 'P64379', 'P64462', 'P64571', 'P64618', 'P64621', 'P64669', 'P64701', 'P64743', 'P64749', 'P64753', 'P64761', 'P64789', 'P64923', 'P64945', 'P64948', 'P65023', 'P66798', 'P66801', 'P66808', 'P66812', 'P67157', 'P67434', 'P67438', 'P67440', 'P67665', 'P67669', 'P67671', 'P67698', 'P67702', 'P67705', 'P68475', 'P68587', 'P68588', 'P68592', 'P68676', 'P68732', 'P68913', 'P69608', 'P69620', 'P69830', 'P69965', 'P70795', 'P70955', 'P72131', 'P72929', 'P73246', 'P73532', 'P73625', 'P74373', 'P74397', 'P74442', 'P74739', 'P74854', 'P74892', 'P75175', 'P75279', 'P75384', 'P75405', 'P75409', 'P75437', 'P75542', 'P75551', 'P75620', 'P75679', 'P75811', 'P75961', 'P75970', 'P76035', 'P76049', 'P76062', 'P76086', 'P76114', 'P76141', 'P76161', 'P76165', 'P76308', 'P76369', 'P76501', 'P76575', 'P77136', 'P77245', 'P77365', 'P77493', 'P77504', 'P77569', 'P77598', 'P77657', 'P77700', 'P77774', 'P78424', 'P78527', 'P79005', 'P79051', 'P79769', 'P80001', 'P80304', 'P80484', 'P82094', 'P82107', 'P82634', 'P82979', 'P83183', 'P83714', 'P87054', 'P87503', 'P89029', 'P89113', 'P90953', 'P92521', 'P92540', 'P92553', 'P92555', 'P92979', 'P93002', 'P93022', 'P93277', 'P93284', 'P94501', 'P94560', 'P95979', 'P96051', 'P96335', 'P96440', 'P96592', 'P96708', 'P97863', 'Q00059', 'Q00121', 'Q00136', 'Q00158', 'Q00166', 'Q00184', 'Q00265', 'Q00312', 'Q00461', 'Q00462', 'Q00566', 'Q00577', 'Q00578', 'Q00686', 'Q00750', 'Q00790', 'Q00852', 'Q00855', 'Q00942', 'Q00958', 'Q00994', 'Q01012', 'Q01108', 'Q01214', 'Q01239', 'Q01292', 'Q01347', 'Q01371', 'Q01473', 'Q01522', 'Q01529', 'Q01532', 'Q01538', 'Q01751', 'Q01821', 'Q01842', 'Q01856', 'Q01900', 'Q01954', 'Q01962', 'Q02122', 'Q02224', 'Q02283', 'Q02406', 'Q02441', 'Q02479', 'Q02481', 'Q02556', 'Q02600', 'Q02614', 'Q02645', 'Q02818', 'Q02827', 'Q02835', 'Q02854', 'Q02930', 'Q02991', 'Q03034', 'Q03100', 'Q03162', 'Q03182', 'Q03188', 'Q03248', 'Q03410', 'Q03439', 'Q03496', 'Q03508', 'Q03513', 'Q03572', 'Q03576', 'Q03607', 'Q03631', 'Q03650', 'Q03935', 'Q03961', 'Q04013', 'Q04222', 'Q04304', 'Q04310', 'Q04399', 'Q04437', 'Q04502', 'Q04580', 'Q04635', 'Q04636', 'Q04671', 'Q04769', 'Q04891', 'Q04893', 'Q04975', 'Q05054', 'Q05128', 'Q05153', 'Q05223', 'Q05244', 'Q05245', 'Q05266', 'Q05282', 'Q05286', 'Q05294', 'Q05335', 'Q05370', 'Q05490', 'Q05594', 'Q05605', 'Q05627', 'Q05913', 'Q05952', 'Q06126', 'Q06163', 'Q06259', 'Q06260', 'Q06423', 'Q06433', 'Q06455', 'Q06481', 'Q06552', 'Q06565', 'Q06819', 'Q07152', 'Q07608', 'Q07635', 'Q07683', 'Q07750', 'Q07817', 'Q07864', 'Q07892', 'Q08082', 'Q08120', 'Q08210', 'Q08288', 'Q08360', 'Q08456', 'Q08592', 'Q08775', 'Q08792', 'Q08794', 'Q08979', 'Q08999', 'Q09024', 'Q09150', 'Q09184', 'Q09228', 'Q09244', 'Q09266', 'Q09282', 'Q09303', 'Q09318', 'Q09338', 'Q09358', 'Q09376', 'Q09389', 'Q09435', 'Q09452', 'Q09457', 'Q09488', 'Q09501', 'Q09621', 'Q09684', 'Q09700', 'Q09733', 'Q09742', 'Q09790', 'Q09799', 'Q09821', 'Q09922', 'Q10067', 'Q10075', 'Q10095', 'Q10103', 'Q10115', 'Q10116', 'Q10138', 'Q10167', 'Q10260', 'Q10340', 'Q10363', 'Q10365', 'Q10488', 'Q10528', 'Q10621', 'Q10630', 'Q10663', 'Q10689', 'Q10875', 'Q10966', 'Q11103', 'Q11107', 'Q12224', 'Q12287', 'Q12753', 'Q12766', 'Q12968', 'Q12999', 'Q13029', 'Q13099', 'Q13144', 'Q13316', 'Q13571', 'Q13761', 'Q13952', 'Q14103', 'Q14188', 'Q14191', 'Q14805', 'Q15127', 'Q15256', 'Q15332', 'Q15648', 'Q16666', 'Q17388', 'Q17768', 'Q18211', 'Q18685', 'Q18726', 'Q19196', 'Q19272', 'Q19537', 'Q21735', 'Q21770', 'Q22236', 'Q22910', 'Q23622', 'Q23976', 'Q24139', 'Q24167', 'Q24185', 'Q24238', 'Q24312', 'Q24371', 'Q24432', 'Q24533', 'Q24573', 'Q24595', 'Q24762', 'Q24849', 'Q25297', 'Q26486', 'Q27152', 'Q27355', 'Q27368', 'Q27675', 'Q27906', 'Q27974', 'Q28065', 'Q28092', 'Q32065', 'Q33568', 'Q34879', 'Q37374', 'Q38087', 'Q38504', 'Q38740', 'Q38796', 'Q39057', 'Q39233', 'Q3J170', 'Q40152', 'Q40255', 'Q40392', 'Q42430', 'Q43125', 'Q43848', 'Q44406', 'Q44777', 'Q45119', 'Q45130', 'Q45537', 'Q45620', 'Q45760', 'Q46079', 'Q46087', 'Q46397', 'Q46797', 'Q46864', 'Q46909', 'Q46942', 'Q47005', 'Q47129', 'Q47279', 'Q48264', 'Q49414', 'Q49434', 'Q49988', 'Q50418', 'Q50434', 'Q50533', 'Q50636', 'Q50723', 'Q50782', 'Q51480', 'Q51485', 'Q51761', 'Q51786', 'Q52277', 'Q52279', 'Q52561', 'Q52913', 'Q52997', 'Q53868', 'Q54450', 'Q54513', 'Q55143', 'Q55233', 'Q56201', 'Q56362', 'Q56562', 'Q57001', 'Q57240', 'Q57532', 'Q57556', 'Q57574', 'Q57584', 'Q57646', 'Q57668', 'Q57682', 'Q57692', 'Q57711', 'Q57733', 'Q57734', 'Q57748', 'Q57765', 'Q57776', 'Q57778', 'Q57801', 'Q57805', 'Q57807', 'Q57829', 'Q57831', 'Q57837', 'Q57852', 'Q57867', 'Q57889', 'Q57914', 'Q57915', 'Q57921', 'Q57935', 'Q57947', 'Q57949', 'Q57958', 'Q57966', 'Q57990', 'Q58006', 'Q58038', 'Q58113', 'Q58121', 'Q58144', 'Q58183', 'Q58184', 'Q58345', 'Q58352', 'Q58477', 'Q58478', 'Q58485', 'Q58495', 'Q58553', 'Q58559', 'Q58681', 'Q58737', 'Q58793', 'Q58907', 'Q58940', 'Q58949', 'Q58955', 'Q58958', 'Q58965', 'Q58983', 'Q60275', 'Q60278', 'Q60324', 'Q60329', 'Q60338', 'Q60386', 'Q60611', 'Q60976', 'Q61329', 'Q61838', 'Q62093', 'Q62277', 'Q62414', 'Q63505', 'Q63630', 'Q64028', 'Q64201', 'Q64256', 'Q64756', 'Q7M1E7', 'Q7M2P1', 'Q7N976', 'Q7RTV0', 'Q7UKZ8', 'Q7UZM7', 'Q7V1D3', 'Q7V7T9', 'Q7VIU0', 'Q7VKV0', 'Q7VKY2', 'Q7VMD6', 'Q7VRV7', 'Q7WY67', 'Q7WY76', 'Q7XAD0', 'Q80H93', 'Q80YR5', 'Q821Z3', 'Q823K0', 'Q82BX4', 'Q82GP1', 'Q834L8', 'Q83950', 'Q83NU2', 'Q84123', 'Q84173', 'Q84J78', 'Q86B79', 'Q86DC6', 'Q86QH9', 'Q86US8', 'Q86V15', 'Q87CU3', 'Q87K77', 'Q87KD8', 'Q87L49', 'Q87QP4', 'Q88QJ8', 'Q88X36', 'Q89A56', 'Q89AH5', 'Q89AT6', 'Q89AX2', 'Q89AY1', 'Q89B27', 'Q89B42', 'Q89DB4', 'Q8BHL5', 'Q8BUR3', 'Q8BZQ7', 'Q8CGW4', 'Q8ED69', 'Q8EEN9', 'Q8EWC5', 'Q8EWT6', 'Q8FL24', 'Q8GNT2', 'Q8GR90', 'Q8IN94', 'Q8K482', 'Q8K8I6', 'Q8KA58', 'Q8KGC5', 'Q8KRZ2', 'Q8KUV2', 'Q8L5Y9', 'Q8LEF3', 'Q8LK56', 'Q8MJA0', 'Q8N2C9', 'Q8N2W9', 'Q8N8Q8', 'Q8NEZ4', 'Q8NFZ0', 'Q8NXQ5', 'Q8QZV0', 'Q8R4S5', 'Q8R5U7', 'Q8R890', 'Q8R9V5', 'Q8RA66', 'Q8T0D4', 'Q8TCZ9', 'Q8TD26', 'Q8TJT3', 'Q8TK90', 'Q8TSV8', 'Q8TU04', 'Q8TUS7', 'Q8TVA7', 'Q8TVI1', 'Q8TWK3', 'Q8TWM7', 'Q8U705', 'Q8WUR7', 'Q8WW38', 'Q8WXI4', 'Q8WXW3', 'Q8X1E6', 'Q8X835', 'Q8Y0Y3', 'Q8YQL3', 'Q8ZBM3', 'Q8ZQD5', 'Q8ZYL6', 'Q90839', 'Q90867', 'Q91193', 'Q91448', 'Q92372', 'Q92466', 'Q92522', 'Q92530', 'Q92610', 'Q926A7', 'Q92804', 'Q92966', 'Q92985', 'Q92G55', 'Q92G85', 'Q92GC8', 'Q92I62', 'Q92JH6', 'Q92JK0', 'Q93118', 'Q934T6', 'Q93CE9', 'Q93SF3', 'Q93WU8', 'Q94131', 'Q94818', 'Q94819', 'Q94890', 'Q95153', 'Q95242', 'Q95QY7', 'Q95XZ0', 'Q95YE9', 'Q96AB6', 'Q96EK4', 'Q96FV9', 'Q96JM2', 'Q96KC8', 'Q96KM6', 'Q96KS9', 'Q96N03', 'Q96NJ5', 'Q96QU1', 'Q96T58', 'Q971T6', 'Q978N2', 'Q97JN9', 'Q97JQ5', 'Q98EB3', 'Q98H64', 'Q98MD2', 'Q98PK2', 'Q98R58', 'Q99160', 'Q99222', 'Q99335', 'Q99551', 'Q99941', 'Q99JF5', 'Q99KC8', 'Q99MT2', 'Q99MZ3', 'Q9AEQ5', 'Q9AK82', 'Q9BQ92', 'Q9BQW3', 'Q9BRB3', 'Q9BRK5', 'Q9BV73', 'Q9BVI0', 'Q9BWW4', 'Q9BWW9', 'Q9BX26', 'Q9BXK5', 'Q9BXN1', 'Q9BYK8', 'Q9BYV9', 'Q9C0B5', 'Q9C0Z1', 'Q9C519', 'Q9C5P0', 'Q9C8Z4', 'Q9CBW3', 'Q9CCB5', 'Q9CG78', 'Q9CJ45', 'Q9CMQ6', 'Q9CN84', 'Q9CPD6', 'Q9CPU4', 'Q9DE13', 'Q9ER80', 'Q9EXD1', 'Q9FIE3', 'Q9FXW5', 'Q9H0R1', 'Q9H171', 'Q9H2P0', 'Q9H4I2', 'Q9H503', 'Q9H579', 'Q9H5N1', 'Q9HAU0', 'Q9HB58', 'Q9HCU5', 'Q9HJQ0', 'Q9HMP7', 'Q9HR31', 'Q9HSM2', 'Q9HUW0', 'Q9I106', 'Q9J5B7', 'Q9JI57', 'Q9JIK1', 'Q9JJ93', 'Q9JJY4', 'Q9JK30', 'Q9JL35', 'Q9JMT9', 'Q9JU25', 'Q9K6A3', 'Q9KPI4', 'Q9KPS0', 'Q9KSW4', 'Q9KTQ4', 'Q9KWM8', 'Q9L1A5', 'Q9L6X9', 'Q9LSE2', 'Q9LW85', 'Q9LXB4', 'Q9LXX6', 'Q9M156', 'Q9M630', 'Q9MAG6', 'Q9MUL6', 'Q9N0N3', 'Q9NAH2', 'Q9NG98', 'Q9NQ90', 'Q9NR63', 'Q9NRM2', 'Q9NRY4', 'Q9NS93', 'Q9NX36', 'Q9NZ71', 'Q9P0M6', 'Q9P0W8', 'Q9P144', 'Q9P2G4', 'Q9P2W6', 'Q9P2Y4', 'Q9P6M2', 'Q9P6S0', 'Q9P7Q5', 'Q9PHE9', 'Q9PJK8', 'Q9PJW3', 'Q9PLI1', 'Q9PQ53', 'Q9PQK9', 'Q9PQS0', 'Q9PQZ2', 'Q9PR32', 'Q9PR33', 'Q9PR96', 'Q9PRB3', 'Q9PRE2', 'Q9PW19', 'Q9QUG3', 'Q9R9R6', 'Q9RBS1', 'Q9RFD3', 'Q9RN13', 'Q9RP67', 'Q9RY51', 'Q9RZ89', 'Q9S1E6', 'Q9S1G2', 'Q9S3U8', 'Q9S3V0', 'Q9SMV7', 'Q9SVB7', 'Q9SZ67', 'Q9T1P7', 'Q9T1T3', 'Q9T1U3', 'Q9T1U6', 'Q9T1W6', 'Q9TTJ5', 'Q9TV52', 'Q9U1H0', 'Q9U2T3', 'Q9U3V5', 'Q9U7E0', 'Q9UGB7', 'Q9UHF7', 'Q9UHN1', 'Q9UHP9', 'Q9UI36', 'Q9UJT0', 'Q9UK96', 'Q9UKJ3', 'Q9UKN8', 'Q9UKR8', 'Q9UL49', 'Q9UNN4', 'Q9URU2', 'Q9USR9', 'Q9USY4', 'Q9USZ2', 'Q9UTG6', 'Q9UZ54', 'Q9V029', 'Q9V134', 'Q9V2F4', 'Q9V2M0', 'Q9V576', 'Q9V6G5', 'Q9V8M5', 'Q9V8R9', 'Q9V9A8', 'Q9VF30', 'Q9VGI8', 'Q9VHB6', 'Q9VHR8', 'Q9VJE5', 'Q9VLA2', 'Q9VMC8', 'Q9VNA8', 'Q9VNB3', 'Q9VPH2', 'Q9W0K4', 'Q9W6S5', 'Q9WU72', 'Q9WUP0', 'Q9WX14', 'Q9X5U0', 'Q9X600', 'Q9XD50', 'Q9XSK8', 'Q9Y1B2', 'Q9Y4A0', 'Q9Y5B6', 'Q9Y5Q9', 'Q9Y618', 'Q9Y6C7', 'Q9Y6J8', 'Q9Y6R4', 'Q9Y6V0', 'Q9Y6X0', 'Q9Y767', 'Q9Y794', 'Q9Y7L8', 'Q9Y829', 'Q9Y9V7', 'Q9YAA0', 'Q9YAX2', 'Q9YER5', 'Q9Z0X2', 'Q9Z1E4', 'Q9Z205', 'Q9Z2P3', 'Q9Z330', 'Q9Z3Q6', 'Q9Z521', 'Q9Z7G4', 'Q9Z8A0', 'Q9Z985', 'Q9ZAG3', 'Q9ZCW9', 'Q9ZCX8', 'Q9ZD50', 'Q9ZDA9', 'Q9ZDB2', 'Q9ZDL0', 'Q9ZDU3', 'Q9ZDX7', 'Q9ZE59', 'Q9ZJ29', 'Q9ZJA1', 'Q9ZJZ2', 'Q9ZKA2', 'Q9ZL91', 'Q9ZLC8', 'Q9ZLL4', 'Q9ZM26', 'Q9ZMY3', 'Q9ZPY0', 'Q9ZVH3'])"
      ]
     },
     "execution_count": 10,
     "metadata": {},
     "output_type": "execute_result"
    }
   ],
   "source": [
    "embed_df.keys()"
   ]
  },
  {
   "cell_type": "code",
   "execution_count": 13,
   "id": "fbcbcfc9",
   "metadata": {},
   "outputs": [],
   "source": [
    "import numpy as np"
   ]
  },
  {
   "cell_type": "code",
   "execution_count": 14,
   "id": "9f5e4aa0",
   "metadata": {},
   "outputs": [],
   "source": [
    "for key in embed_df:\n",
    "    embed_df[key] = np.squeeze(embed_df[key])"
   ]
  },
  {
   "cell_type": "code",
   "execution_count": 16,
   "id": "fd698e41",
   "metadata": {},
   "outputs": [
    {
     "data": {
      "text/plain": [
       "(791, 1536)"
      ]
     },
     "execution_count": 16,
     "metadata": {},
     "output_type": "execute_result"
    }
   ],
   "source": [
    "embed_df[\"O00841\"].shape"
   ]
  },
  {
   "cell_type": "code",
   "execution_count": 17,
   "id": "805096c8",
   "metadata": {},
   "outputs": [],
   "source": [
    "def save_dict_to_hdf5(data_dict, filename):\n",
    "    \"\"\"\n",
    "    Save a dictionary with string keys and NumPy array values to an HDF5 file.\n",
    "\n",
    "    Parameters:\n",
    "    data_dict (dict): Dictionary with string keys and NumPy array values.\n",
    "    filename (str): Name of the HDF5 file to save the data.\n",
    "    \"\"\"\n",
    "    with h5py.File(filename, \"w\") as f:\n",
    "        for key, value in data_dict.items():\n",
    "            f.create_dataset(key, data=value)"
   ]
  },
  {
   "cell_type": "code",
   "execution_count": 18,
   "id": "416c5fd4",
   "metadata": {},
   "outputs": [],
   "source": [
    "save_dict_to_hdf5(embed_df, \"../../../../../ssd2/dbp_finder/ankh_embeddings/pdb2272_2d.h5\")"
   ]
  },
  {
   "cell_type": "code",
   "execution_count": 15,
   "id": "5274f794",
   "metadata": {},
   "outputs": [],
   "source": [
    "score_df = pd.read_csv(\"../data/not_annotated/predictions.csv\")\n",
    "id_df = pd.read_csv(\"../data/not_annotated/not_annotated_seqs.csv\")\n",
    "taxon_df = pd.read_csv(\"../data/taxon/not_annotated_seqs.csv\")"
   ]
  },
  {
   "cell_type": "code",
   "execution_count": 16,
   "id": "4e9e13df",
   "metadata": {},
   "outputs": [],
   "source": [
    "score_df = score_df.merge(id_df, on=\"identifier\")\n",
    "prediction_df = score_df.merge(taxon_df, on=\"identifier\")"
   ]
  },
  {
   "cell_type": "code",
   "execution_count": 20,
   "id": "11dff498",
   "metadata": {},
   "outputs": [],
   "source": [
    "prediction_df = prediction_df.sort_values(by=[\"score\"], ascending=False)"
   ]
  },
  {
   "cell_type": "code",
   "execution_count": 28,
   "id": "e121311b",
   "metadata": {},
   "outputs": [
    {
     "data": {
      "text/plain": [
       "array(['Bacillus subtilis (strain 168)', 'Arabidopsis thaliana',\n",
       "       'Escherichia coli (strain K12)', 'Homo sapiens',\n",
       "       'Komagataella pastoris',\n",
       "       'Saccharomyces cerevisiae (strain ATCC 204508 / S288c)', nan],\n",
       "      dtype=object)"
      ]
     },
     "execution_count": 28,
     "metadata": {},
     "output_type": "execute_result"
    }
   ],
   "source": [
    "prediction_df.organism.unique()"
   ]
  },
  {
   "cell_type": "code",
   "execution_count": 29,
   "id": "2dd96c19",
   "metadata": {},
   "outputs": [],
   "source": [
    "grouped = prediction_df.groupby(prediction_df['organism'].astype(str))\n",
    "thresholds = [0.5, 0.6, 0.7, 0.8, 0.9]\n",
    "stats = {}\n",
    "for name, sub_df in grouped:\n",
    "    for threshold in thresholds:\n",
    "        count = len(sub_df[sub_df[\"score\"] > threshold])\n",
    "        group_name = name + \"_\" + str(threshold)\n",
    "        stats[group_name] = count"
   ]
  },
  {
   "cell_type": "code",
   "execution_count": 34,
   "id": "4016db6d",
   "metadata": {},
   "outputs": [
    {
     "data": {
      "text/html": [
       "<div>\n",
       "<style scoped>\n",
       "    .dataframe tbody tr th:only-of-type {\n",
       "        vertical-align: middle;\n",
       "    }\n",
       "\n",
       "    .dataframe tbody tr th {\n",
       "        vertical-align: top;\n",
       "    }\n",
       "\n",
       "    .dataframe thead th {\n",
       "        text-align: right;\n",
       "    }\n",
       "</style>\n",
       "<table border=\"1\" class=\"dataframe\">\n",
       "  <thead>\n",
       "    <tr style=\"text-align: right;\">\n",
       "      <th></th>\n",
       "      <th>identifier</th>\n",
       "      <th>score</th>\n",
       "      <th>sequence</th>\n",
       "      <th>organism</th>\n",
       "      <th>kingdom</th>\n",
       "    </tr>\n",
       "  </thead>\n",
       "  <tbody>\n",
       "    <tr>\n",
       "      <th>57449</th>\n",
       "      <td>O07917</td>\n",
       "      <td>9.999958e-01</td>\n",
       "      <td>MAYVKATAILPEKLISEIQKYVQGKTIYIPKPESSHQKWGACSGTR...</td>\n",
       "      <td>Bacillus subtilis (strain 168)</td>\n",
       "      <td>Bacteria</td>\n",
       "    </tr>\n",
       "    <tr>\n",
       "      <th>9804</th>\n",
       "      <td>A0A1I9LSP1</td>\n",
       "      <td>9.999943e-01</td>\n",
       "      <td>MNNNIFSTTTTINDDYMLFPYNDHYSSQPLLPFSPSSSINDILIHS...</td>\n",
       "      <td>Arabidopsis thaliana</td>\n",
       "      <td>Viridiplantae</td>\n",
       "    </tr>\n",
       "    <tr>\n",
       "      <th>60600</th>\n",
       "      <td>P0AD37</td>\n",
       "      <td>9.999942e-01</td>\n",
       "      <td>MTPDELARLTGYSRQTINKWVRKEGWTTSPKPGVQGGKARLVHVNE...</td>\n",
       "      <td>Escherichia coli (strain K12)</td>\n",
       "      <td>Bacteria</td>\n",
       "    </tr>\n",
       "    <tr>\n",
       "      <th>11514</th>\n",
       "      <td>A0A1P8AWJ0</td>\n",
       "      <td>9.999926e-01</td>\n",
       "      <td>MFPSLDTNGYDLFDPFIPHQTTMFPSFITHIQSPNSHHHYSSPSFP...</td>\n",
       "      <td>Arabidopsis thaliana</td>\n",
       "      <td>Viridiplantae</td>\n",
       "    </tr>\n",
       "    <tr>\n",
       "      <th>58007</th>\n",
       "      <td>O31637</td>\n",
       "      <td>9.999917e-01</td>\n",
       "      <td>MTDQMIAWEIEEWIRDYKFMLREIKRLNRVLNKVDFISTKLTATYG...</td>\n",
       "      <td>Bacillus subtilis (strain 168)</td>\n",
       "      <td>Bacteria</td>\n",
       "    </tr>\n",
       "    <tr>\n",
       "      <th>...</th>\n",
       "      <td>...</td>\n",
       "      <td>...</td>\n",
       "      <td>...</td>\n",
       "      <td>...</td>\n",
       "      <td>...</td>\n",
       "    </tr>\n",
       "    <tr>\n",
       "      <th>57838</th>\n",
       "      <td>O23693</td>\n",
       "      <td>5.071109e-07</td>\n",
       "      <td>MEHMMKEGRSLAETPTYSVASVVTVLVFVCFLVERAIYRFGKWLKK...</td>\n",
       "      <td>Arabidopsis thaliana</td>\n",
       "      <td>Viridiplantae</td>\n",
       "    </tr>\n",
       "    <tr>\n",
       "      <th>81199</th>\n",
       "      <td>Q9LUH3</td>\n",
       "      <td>4.928522e-07</td>\n",
       "      <td>MADPTSKDDHDGEGGRDKSSTFVQKLIDVEEAKTQIIYSLPMIFTN...</td>\n",
       "      <td>Arabidopsis thaliana</td>\n",
       "      <td>Viridiplantae</td>\n",
       "    </tr>\n",
       "    <tr>\n",
       "      <th>10842</th>\n",
       "      <td>A0A1P8AS85</td>\n",
       "      <td>4.733958e-07</td>\n",
       "      <td>MFMNQILLLLHQDPQIAELAGVYCLWLVPALFGYSVLESLVRYFQS...</td>\n",
       "      <td>Arabidopsis thaliana</td>\n",
       "      <td>Viridiplantae</td>\n",
       "    </tr>\n",
       "    <tr>\n",
       "      <th>35978</th>\n",
       "      <td>E7EX57</td>\n",
       "      <td>4.384196e-07</td>\n",
       "      <td>MEAPEEPAPVRGGPEATLEVRGSRCLRLSAFREELRALLVLAGPAF...</td>\n",
       "      <td>Homo sapiens</td>\n",
       "      <td>Metazoa</td>\n",
       "    </tr>\n",
       "    <tr>\n",
       "      <th>53433</th>\n",
       "      <td>J3KSS8</td>\n",
       "      <td>2.479243e-07</td>\n",
       "      <td>MCPGLPRPMSRSSFQLFLQPFFICYKLNICSTRLSSSPMARSPGNV...</td>\n",
       "      <td>Homo sapiens</td>\n",
       "      <td>Metazoa</td>\n",
       "    </tr>\n",
       "  </tbody>\n",
       "</table>\n",
       "<p>86912 rows × 5 columns</p>\n",
       "</div>"
      ],
      "text/plain": [
       "       identifier         score  \\\n",
       "57449      O07917  9.999958e-01   \n",
       "9804   A0A1I9LSP1  9.999943e-01   \n",
       "60600      P0AD37  9.999942e-01   \n",
       "11514  A0A1P8AWJ0  9.999926e-01   \n",
       "58007      O31637  9.999917e-01   \n",
       "...           ...           ...   \n",
       "57838      O23693  5.071109e-07   \n",
       "81199      Q9LUH3  4.928522e-07   \n",
       "10842  A0A1P8AS85  4.733958e-07   \n",
       "35978      E7EX57  4.384196e-07   \n",
       "53433      J3KSS8  2.479243e-07   \n",
       "\n",
       "                                                sequence  \\\n",
       "57449  MAYVKATAILPEKLISEIQKYVQGKTIYIPKPESSHQKWGACSGTR...   \n",
       "9804   MNNNIFSTTTTINDDYMLFPYNDHYSSQPLLPFSPSSSINDILIHS...   \n",
       "60600  MTPDELARLTGYSRQTINKWVRKEGWTTSPKPGVQGGKARLVHVNE...   \n",
       "11514  MFPSLDTNGYDLFDPFIPHQTTMFPSFITHIQSPNSHHHYSSPSFP...   \n",
       "58007  MTDQMIAWEIEEWIRDYKFMLREIKRLNRVLNKVDFISTKLTATYG...   \n",
       "...                                                  ...   \n",
       "57838  MEHMMKEGRSLAETPTYSVASVVTVLVFVCFLVERAIYRFGKWLKK...   \n",
       "81199  MADPTSKDDHDGEGGRDKSSTFVQKLIDVEEAKTQIIYSLPMIFTN...   \n",
       "10842  MFMNQILLLLHQDPQIAELAGVYCLWLVPALFGYSVLESLVRYFQS...   \n",
       "35978  MEAPEEPAPVRGGPEATLEVRGSRCLRLSAFREELRALLVLAGPAF...   \n",
       "53433  MCPGLPRPMSRSSFQLFLQPFFICYKLNICSTRLSSSPMARSPGNV...   \n",
       "\n",
       "                             organism        kingdom  \n",
       "57449  Bacillus subtilis (strain 168)       Bacteria  \n",
       "9804             Arabidopsis thaliana  Viridiplantae  \n",
       "60600   Escherichia coli (strain K12)       Bacteria  \n",
       "11514            Arabidopsis thaliana  Viridiplantae  \n",
       "58007  Bacillus subtilis (strain 168)       Bacteria  \n",
       "...                               ...            ...  \n",
       "57838            Arabidopsis thaliana  Viridiplantae  \n",
       "81199            Arabidopsis thaliana  Viridiplantae  \n",
       "10842            Arabidopsis thaliana  Viridiplantae  \n",
       "35978                    Homo sapiens        Metazoa  \n",
       "53433                    Homo sapiens        Metazoa  \n",
       "\n",
       "[86912 rows x 5 columns]"
      ]
     },
     "execution_count": 34,
     "metadata": {},
     "output_type": "execute_result"
    }
   ],
   "source": [
    "prediction_df"
   ]
  },
  {
   "cell_type": "code",
   "execution_count": 35,
   "id": "b4f8785f",
   "metadata": {},
   "outputs": [],
   "source": [
    "prediction_df.to_csv(\"../data/not_annotated/predictions.csv\", index=False)"
   ]
  },
  {
   "cell_type": "code",
   "execution_count": null,
   "id": "f04bdb89",
   "metadata": {},
   "outputs": [],
   "source": []
  }
 ],
 "metadata": {
  "kernelspec": {
   "display_name": "Python 3 (ipykernel)",
   "language": "python",
   "name": "python3"
  },
  "language_info": {
   "codemirror_mode": {
    "name": "ipython",
    "version": 3
   },
   "file_extension": ".py",
   "mimetype": "text/x-python",
   "name": "python",
   "nbconvert_exporter": "python",
   "pygments_lexer": "ipython3",
   "version": "3.11.5"
  }
 },
 "nbformat": 4,
 "nbformat_minor": 5
}
