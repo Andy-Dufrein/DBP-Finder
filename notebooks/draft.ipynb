{
 "cells": [
  {
   "cell_type": "code",
   "execution_count": 1,
   "id": "118a2468",
   "metadata": {},
   "outputs": [
    {
     "name": "stderr",
     "output_type": "stream",
     "text": [
      "/storage1/gavrilenkoa/anaconda3/envs/DBP-finder/lib/python3.11/site-packages/tqdm/auto.py:21: TqdmWarning: IProgress not found. Please update jupyter and ipywidgets. See https://ipywidgets.readthedocs.io/en/stable/user_install.html\n",
      "  from .autonotebook import tqdm as notebook_tqdm\n"
     ]
    }
   ],
   "source": [
    "import sys\n",
    "import pandas as pd\n",
    "import ankh\n",
    "import os"
   ]
  },
  {
   "cell_type": "code",
   "execution_count": 2,
   "id": "27289dbf",
   "metadata": {},
   "outputs": [],
   "source": [
    "sys.path.append(\"..\")"
   ]
  },
  {
   "cell_type": "code",
   "execution_count": 3,
   "id": "40a1a638",
   "metadata": {},
   "outputs": [],
   "source": [
    "from scripts.utils import convert_fasta_to_df, write_fasta, filter_df, prepare_neg_samples"
   ]
  },
  {
   "cell_type": "code",
   "execution_count": 4,
   "id": "84cd9d96",
   "metadata": {},
   "outputs": [],
   "source": [
    "df = pd.read_csv(\"../data/external/trembl_test.csv\")"
   ]
  },
  {
   "cell_type": "code",
   "execution_count": 5,
   "id": "03a258fb",
   "metadata": {},
   "outputs": [],
   "source": [
    "df = convert_fasta_to_df(\"../data/not_annotated/raw_fasta/merged.fasta\")"
   ]
  },
  {
   "cell_type": "code",
   "execution_count": 6,
   "id": "425f35d1",
   "metadata": {},
   "outputs": [],
   "source": [
    "go_no_annot = prepare_neg_samples(\"../data/not_annotated/not_annotated.yml\")"
   ]
  },
  {
   "cell_type": "code",
   "execution_count": 14,
   "id": "fe77c792",
   "metadata": {},
   "outputs": [],
   "source": [
    "out_df = df.merge(go_no_annot, on=\"identifier\")"
   ]
  },
  {
   "cell_type": "code",
   "execution_count": 16,
   "id": "137ab148",
   "metadata": {},
   "outputs": [
    {
     "data": {
      "text/html": [
       "<div>\n",
       "<style scoped>\n",
       "    .dataframe tbody tr th:only-of-type {\n",
       "        vertical-align: middle;\n",
       "    }\n",
       "\n",
       "    .dataframe tbody tr th {\n",
       "        vertical-align: top;\n",
       "    }\n",
       "\n",
       "    .dataframe thead th {\n",
       "        text-align: right;\n",
       "    }\n",
       "</style>\n",
       "<table border=\"1\" class=\"dataframe\">\n",
       "  <thead>\n",
       "    <tr style=\"text-align: right;\">\n",
       "      <th></th>\n",
       "      <th>identifier</th>\n",
       "      <th>sequence</th>\n",
       "    </tr>\n",
       "  </thead>\n",
       "  <tbody>\n",
       "    <tr>\n",
       "      <th>0</th>\n",
       "      <td>A0A178U7Y7</td>\n",
       "      <td>MITGDSIDGMDFISSLPDEILHHILSSVPTKSAIRTSLLSKRWRYV...</td>\n",
       "    </tr>\n",
       "    <tr>\n",
       "      <th>1</th>\n",
       "      <td>A0A178U8Q8</td>\n",
       "      <td>MRNAVVALRHHRRVSLLRRIVAFRDDNTICLSPSLKNNELSRQTNS...</td>\n",
       "    </tr>\n",
       "    <tr>\n",
       "      <th>2</th>\n",
       "      <td>A0A178U9N5</td>\n",
       "      <td>MRAKGKKQSEEAPEHAIAMALLCPSLPSPNSRLFRCRSSNISSKYH...</td>\n",
       "    </tr>\n",
       "    <tr>\n",
       "      <th>3</th>\n",
       "      <td>A0A178UBI5</td>\n",
       "      <td>MEMDPLLRSYPDIGYKAFGNTGRVIVSIFMNLELYLVATSFLILEG...</td>\n",
       "    </tr>\n",
       "    <tr>\n",
       "      <th>4</th>\n",
       "      <td>A0A178UCR2</td>\n",
       "      <td>MMKMSIGTTTSGDGEMELRPGGMVVQKRTDHSSSVPRGIRVRVKYG...</td>\n",
       "    </tr>\n",
       "    <tr>\n",
       "      <th>...</th>\n",
       "      <td>...</td>\n",
       "      <td>...</td>\n",
       "    </tr>\n",
       "    <tr>\n",
       "      <th>86956</th>\n",
       "      <td>A0A1B2JJA1</td>\n",
       "      <td>MNGYVLVTGGAGYIGSHTVVELLNNDYLVIVVDNLSNSSYHVIKRI...</td>\n",
       "    </tr>\n",
       "    <tr>\n",
       "      <th>86957</th>\n",
       "      <td>Q96X16</td>\n",
       "      <td>MRLTNLLSLTTLVALAVAVPDFYQKREAVSSKEAALLRRDASAECV...</td>\n",
       "    </tr>\n",
       "    <tr>\n",
       "      <th>86958</th>\n",
       "      <td>A0A1B2J6E6</td>\n",
       "      <td>MSYSAEDIEVLDKKFPSLKDEFHIPTFKSLGIAPPQSKDENDDSIY...</td>\n",
       "    </tr>\n",
       "    <tr>\n",
       "      <th>86959</th>\n",
       "      <td>A0A1B2J9A8</td>\n",
       "      <td>MPSPHGGVLQDLIKRDASIKEDLLKEVPQLQSIVLTGRQLCDLELI...</td>\n",
       "    </tr>\n",
       "    <tr>\n",
       "      <th>86960</th>\n",
       "      <td>A0A1B2JET5</td>\n",
       "      <td>MKKLTFVTGNSNKLKEFLAIVNGSEETSTVGDYEIVCQSVDLPELQ...</td>\n",
       "    </tr>\n",
       "  </tbody>\n",
       "</table>\n",
       "<p>86961 rows × 2 columns</p>\n",
       "</div>"
      ],
      "text/plain": [
       "       identifier                                           sequence\n",
       "0      A0A178U7Y7  MITGDSIDGMDFISSLPDEILHHILSSVPTKSAIRTSLLSKRWRYV...\n",
       "1      A0A178U8Q8  MRNAVVALRHHRRVSLLRRIVAFRDDNTICLSPSLKNNELSRQTNS...\n",
       "2      A0A178U9N5  MRAKGKKQSEEAPEHAIAMALLCPSLPSPNSRLFRCRSSNISSKYH...\n",
       "3      A0A178UBI5  MEMDPLLRSYPDIGYKAFGNTGRVIVSIFMNLELYLVATSFLILEG...\n",
       "4      A0A178UCR2  MMKMSIGTTTSGDGEMELRPGGMVVQKRTDHSSSVPRGIRVRVKYG...\n",
       "...           ...                                                ...\n",
       "86956  A0A1B2JJA1  MNGYVLVTGGAGYIGSHTVVELLNNDYLVIVVDNLSNSSYHVIKRI...\n",
       "86957      Q96X16  MRLTNLLSLTTLVALAVAVPDFYQKREAVSSKEAALLRRDASAECV...\n",
       "86958  A0A1B2J6E6  MSYSAEDIEVLDKKFPSLKDEFHIPTFKSLGIAPPQSKDENDDSIY...\n",
       "86959  A0A1B2J9A8  MPSPHGGVLQDLIKRDASIKEDLLKEVPQLQSIVLTGRQLCDLELI...\n",
       "86960  A0A1B2JET5  MKKLTFVTGNSNKLKEFLAIVNGSEETSTVGDYEIVCQSVDLPELQ...\n",
       "\n",
       "[86961 rows x 2 columns]"
      ]
     },
     "execution_count": 16,
     "metadata": {},
     "output_type": "execute_result"
    }
   ],
   "source": [
    "out_df"
   ]
  },
  {
   "cell_type": "code",
   "execution_count": 17,
   "id": "dfcc7677",
   "metadata": {},
   "outputs": [
    {
     "data": {
      "text/html": [
       "<div>\n",
       "<style scoped>\n",
       "    .dataframe tbody tr th:only-of-type {\n",
       "        vertical-align: middle;\n",
       "    }\n",
       "\n",
       "    .dataframe tbody tr th {\n",
       "        vertical-align: top;\n",
       "    }\n",
       "\n",
       "    .dataframe thead th {\n",
       "        text-align: right;\n",
       "    }\n",
       "</style>\n",
       "<table border=\"1\" class=\"dataframe\">\n",
       "  <thead>\n",
       "    <tr style=\"text-align: right;\">\n",
       "      <th></th>\n",
       "      <th>identifier</th>\n",
       "      <th>sequence</th>\n",
       "    </tr>\n",
       "  </thead>\n",
       "  <tbody>\n",
       "    <tr>\n",
       "      <th>0</th>\n",
       "      <td>A0A178U7Y7</td>\n",
       "      <td>MITGDSIDGMDFISSLPDEILHHILSSVPTKSAIRTSLLSKRWRYV...</td>\n",
       "    </tr>\n",
       "    <tr>\n",
       "      <th>1</th>\n",
       "      <td>A0A178U8Q8</td>\n",
       "      <td>MRNAVVALRHHRRVSLLRRIVAFRDDNTICLSPSLKNNELSRQTNS...</td>\n",
       "    </tr>\n",
       "    <tr>\n",
       "      <th>2</th>\n",
       "      <td>A0A178U9N5</td>\n",
       "      <td>MRAKGKKQSEEAPEHAIAMALLCPSLPSPNSRLFRCRSSNISSKYH...</td>\n",
       "    </tr>\n",
       "    <tr>\n",
       "      <th>3</th>\n",
       "      <td>A0A178UBI5</td>\n",
       "      <td>MEMDPLLRSYPDIGYKAFGNTGRVIVSIFMNLELYLVATSFLILEG...</td>\n",
       "    </tr>\n",
       "    <tr>\n",
       "      <th>4</th>\n",
       "      <td>A0A178UBX9</td>\n",
       "      <td>MAIYYKFKSARDYDTIAMDGPFISVGILKDKIFETKHLGTGKDLDI...</td>\n",
       "    </tr>\n",
       "    <tr>\n",
       "      <th>...</th>\n",
       "      <td>...</td>\n",
       "      <td>...</td>\n",
       "    </tr>\n",
       "    <tr>\n",
       "      <th>106511</th>\n",
       "      <td>A0A1B2JJA1</td>\n",
       "      <td>MNGYVLVTGGAGYIGSHTVVELLNNDYLVIVVDNLSNSSYHVIKRI...</td>\n",
       "    </tr>\n",
       "    <tr>\n",
       "      <th>106512</th>\n",
       "      <td>Q96X16</td>\n",
       "      <td>MRLTNLLSLTTLVALAVAVPDFYQKREAVSSKEAALLRRDASAECV...</td>\n",
       "    </tr>\n",
       "    <tr>\n",
       "      <th>106513</th>\n",
       "      <td>A0A1B2J6E6</td>\n",
       "      <td>MSYSAEDIEVLDKKFPSLKDEFHIPTFKSLGIAPPQSKDENDDSIY...</td>\n",
       "    </tr>\n",
       "    <tr>\n",
       "      <th>106515</th>\n",
       "      <td>A0A1B2J9A8</td>\n",
       "      <td>MPSPHGGVLQDLIKRDASIKEDLLKEVPQLQSIVLTGRQLCDLELI...</td>\n",
       "    </tr>\n",
       "    <tr>\n",
       "      <th>106516</th>\n",
       "      <td>A0A1B2JET5</td>\n",
       "      <td>MKKLTFVTGNSNKLKEFLAIVNGSEETSTVGDYEIVCQSVDLPELQ...</td>\n",
       "    </tr>\n",
       "  </tbody>\n",
       "</table>\n",
       "<p>88435 rows × 2 columns</p>\n",
       "</div>"
      ],
      "text/plain": [
       "        identifier                                           sequence\n",
       "0       A0A178U7Y7  MITGDSIDGMDFISSLPDEILHHILSSVPTKSAIRTSLLSKRWRYV...\n",
       "1       A0A178U8Q8  MRNAVVALRHHRRVSLLRRIVAFRDDNTICLSPSLKNNELSRQTNS...\n",
       "2       A0A178U9N5  MRAKGKKQSEEAPEHAIAMALLCPSLPSPNSRLFRCRSSNISSKYH...\n",
       "3       A0A178UBI5  MEMDPLLRSYPDIGYKAFGNTGRVIVSIFMNLELYLVATSFLILEG...\n",
       "4       A0A178UBX9  MAIYYKFKSARDYDTIAMDGPFISVGILKDKIFETKHLGTGKDLDI...\n",
       "...            ...                                                ...\n",
       "106511  A0A1B2JJA1  MNGYVLVTGGAGYIGSHTVVELLNNDYLVIVVDNLSNSSYHVIKRI...\n",
       "106512      Q96X16  MRLTNLLSLTTLVALAVAVPDFYQKREAVSSKEAALLRRDASAECV...\n",
       "106513  A0A1B2J6E6  MSYSAEDIEVLDKKFPSLKDEFHIPTFKSLGIAPPQSKDENDDSIY...\n",
       "106515  A0A1B2J9A8  MPSPHGGVLQDLIKRDASIKEDLLKEVPQLQSIVLTGRQLCDLELI...\n",
       "106516  A0A1B2JET5  MKKLTFVTGNSNKLKEFLAIVNGSEETSTVGDYEIVCQSVDLPELQ...\n",
       "\n",
       "[88435 rows x 2 columns]"
      ]
     },
     "execution_count": 17,
     "metadata": {},
     "output_type": "execute_result"
    }
   ],
   "source": [
    "df"
   ]
  },
  {
   "cell_type": "code",
   "execution_count": 12,
   "id": "e9cdf968",
   "metadata": {},
   "outputs": [],
   "source": [
    "out_df.to_csv(\"../data/not_annotated/not_annotated_seqs_v0.csv\", index=False)"
   ]
  },
  {
   "cell_type": "code",
   "execution_count": null,
   "id": "c4985c20",
   "metadata": {},
   "outputs": [],
   "source": []
  },
  {
   "cell_type": "code",
   "execution_count": null,
   "id": "09de22f0",
   "metadata": {},
   "outputs": [],
   "source": []
  },
  {
   "cell_type": "code",
   "execution_count": 7,
   "id": "c7dadb14",
   "metadata": {},
   "outputs": [],
   "source": [
    "test_1 = pd.read_csv(\"../data/splits/trembl_test_MF_dbp_finder.csv\")"
   ]
  },
  {
   "cell_type": "code",
   "execution_count": 13,
   "id": "c7527aac",
   "metadata": {},
   "outputs": [
    {
     "data": {
      "text/plain": [
       "0    282\n",
       "1    159\n",
       "Name: label, dtype: int64"
      ]
     },
     "execution_count": 13,
     "metadata": {},
     "output_type": "execute_result"
    }
   ],
   "source": [
    "test_1.label.value_counts()"
   ]
  },
  {
   "cell_type": "code",
   "execution_count": 14,
   "id": "e58277a3",
   "metadata": {},
   "outputs": [],
   "source": [
    "test_2 = pd.read_csv(\"../data/splits/trembl_test_proteinfer_dbp_finder.csv\")"
   ]
  },
  {
   "cell_type": "code",
   "execution_count": 15,
   "id": "aa6650fa",
   "metadata": {},
   "outputs": [
    {
     "data": {
      "text/plain": [
       "0    306\n",
       "1    288\n",
       "Name: label, dtype: int64"
      ]
     },
     "execution_count": 15,
     "metadata": {},
     "output_type": "execute_result"
    }
   ],
   "source": [
    "test_2.label.value_counts()"
   ]
  },
  {
   "cell_type": "code",
   "execution_count": null,
   "id": "4f40ab47",
   "metadata": {},
   "outputs": [],
   "source": []
  }
 ],
 "metadata": {
  "kernelspec": {
   "display_name": "Python 3 (ipykernel)",
   "language": "python",
   "name": "python3"
  },
  "language_info": {
   "codemirror_mode": {
    "name": "ipython",
    "version": 3
   },
   "file_extension": ".py",
   "mimetype": "text/x-python",
   "name": "python",
   "nbconvert_exporter": "python",
   "pygments_lexer": "ipython3",
   "version": "3.11.5"
  }
 },
 "nbformat": 4,
 "nbformat_minor": 5
}
