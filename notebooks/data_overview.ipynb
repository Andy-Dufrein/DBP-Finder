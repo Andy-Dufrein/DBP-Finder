{
 "cells": [
  {
   "cell_type": "code",
   "execution_count": 3,
   "id": "81a9cb46-22d4-4870-b18c-d13a287bc8c7",
   "metadata": {},
   "outputs": [],
   "source": [
    "import pandas as pd\n",
    "import numpy as np\n",
    "import matplotlib.pyplot as plt"
   ]
  },
  {
   "cell_type": "code",
   "execution_count": 18,
   "id": "9524427a-3de7-4f66-8c70-80d20346b727",
   "metadata": {},
   "outputs": [],
   "source": [
    "train_pdb20000 = pd.read_csv(\"../data/splits/train_pdb20000.csv\")\n",
    "train_pdb1000 = pd.read_csv(\"../data/splits/train_pdb1000.csv\")\n",
    "train_pdb2272 = pd.read_csv(\"../data/splits/train_pdb2272.csv\")"
   ]
  },
  {
   "cell_type": "code",
   "execution_count": 4,
   "id": "db175a33",
   "metadata": {},
   "outputs": [],
   "source": [
    "train = pd.read_csv(\"../data/splits/train_p3.csv\")"
   ]
  },
  {
   "cell_type": "code",
   "execution_count": 3,
   "id": "495a1e1b",
   "metadata": {},
   "outputs": [],
   "source": [
    "train_pdb2272 = pd.read_csv(\"../data/splits/train_pdb2272.csv\")"
   ]
  },
  {
   "cell_type": "code",
   "execution_count": 1,
   "id": "d0c990f5-7f38-4d07-b22f-587d4cd89503",
   "metadata": {},
   "outputs": [
    {
     "ename": "NameError",
     "evalue": "name 'train' is not defined",
     "output_type": "error",
     "traceback": [
      "\u001b[0;31m---------------------------------------------------------------------------\u001b[0m",
      "\u001b[0;31mNameError\u001b[0m                                 Traceback (most recent call last)",
      "Cell \u001b[0;32mIn[1], line 1\u001b[0m\n\u001b[0;32m----> 1\u001b[0m \u001b[43mtrain\u001b[49m\u001b[38;5;241m.\u001b[39mcluster\u001b[38;5;241m.\u001b[39mnunique() \u001b[38;5;241m/\u001b[39m \u001b[38;5;28mlen\u001b[39m(train)\n",
      "\u001b[0;31mNameError\u001b[0m: name 'train' is not defined"
     ]
    }
   ],
   "source": [
    "train.cluster.nunique() / len(train)"
   ]
  },
  {
   "cell_type": "code",
   "execution_count": 6,
   "id": "f00b58ab",
   "metadata": {},
   "outputs": [
    {
     "ename": "NameError",
     "evalue": "name 'train_pdb1000' is not defined",
     "output_type": "error",
     "traceback": [
      "\u001b[0;31m---------------------------------------------------------------------------\u001b[0m",
      "\u001b[0;31mNameError\u001b[0m                                 Traceback (most recent call last)",
      "Cell \u001b[0;32mIn[6], line 1\u001b[0m\n\u001b[0;32m----> 1\u001b[0m \u001b[43mtrain_pdb1000\u001b[49m\u001b[38;5;241m.\u001b[39mcluster\u001b[38;5;241m.\u001b[39mnunique()\n",
      "\u001b[0;31mNameError\u001b[0m: name 'train_pdb1000' is not defined"
     ]
    }
   ],
   "source": [
    "train_pdb1000.cluster.nunique()"
   ]
  },
  {
   "cell_type": "code",
   "execution_count": 26,
   "id": "e4da794f-845c-475a-86e4-5b3b0f950751",
   "metadata": {},
   "outputs": [
    {
     "data": {
      "text/plain": [
       "26018"
      ]
     },
     "execution_count": 26,
     "metadata": {},
     "output_type": "execute_result"
    }
   ],
   "source": [
    "train_pdb2272.cluster.nunique()"
   ]
  },
  {
   "cell_type": "code",
   "execution_count": 28,
   "id": "b7e7b00e-28a8-44cc-ab14-6925c371d134",
   "metadata": {},
   "outputs": [
    {
     "data": {
      "text/plain": [
       "0.40434036001894835"
      ]
     },
     "execution_count": 28,
     "metadata": {},
     "output_type": "execute_result"
    }
   ],
   "source": [
    "train_pdb1000.cluster.nunique() / len(train_pdb1000)"
   ]
  },
  {
   "cell_type": "code",
   "execution_count": 30,
   "id": "19239f20-5493-4c6c-a344-26a202dca720",
   "metadata": {},
   "outputs": [
    {
     "data": {
      "text/plain": [
       "0.4090494607426972"
      ]
     },
     "execution_count": 30,
     "metadata": {},
     "output_type": "execute_result"
    }
   ],
   "source": [
    "train_pdb2272.cluster.nunique() / len(train_pdb2272)"
   ]
  },
  {
   "cell_type": "code",
   "execution_count": 31,
   "id": "2b5a1526-f0aa-4bc1-b3cb-0a52820364b7",
   "metadata": {},
   "outputs": [
    {
     "data": {
      "text/plain": [
       "0.4416336736820171"
      ]
     },
     "execution_count": 31,
     "metadata": {},
     "output_type": "execute_result"
    }
   ],
   "source": [
    "train_pdb20000.cluster.nunique() / len(train_pdb20000)"
   ]
  },
  {
   "cell_type": "code",
   "execution_count": 139,
   "id": "4b095bf2",
   "metadata": {},
   "outputs": [],
   "source": [
    "train = pd.read_csv(\"../data/rna/processed/train_clustered.csv\")"
   ]
  },
  {
   "cell_type": "code",
   "execution_count": 16,
   "id": "05db8969-96e9-4f32-be38-2554ddf02cfe",
   "metadata": {},
   "outputs": [
    {
     "data": {
      "text/plain": [
       "1    54026\n",
       "0    54026\n",
       "Name: label, dtype: int64"
      ]
     },
     "execution_count": 16,
     "metadata": {},
     "output_type": "execute_result"
    }
   ],
   "source": [
    "train.label.value_counts()"
   ]
  },
  {
   "cell_type": "code",
   "execution_count": 17,
   "id": "65626d5a-2db2-4b1b-be3e-2d7598757ffe",
   "metadata": {},
   "outputs": [
    {
     "data": {
      "text/plain": [
       "0.2901936104838411"
      ]
     },
     "execution_count": 17,
     "metadata": {},
     "output_type": "execute_result"
    }
   ],
   "source": [
    "train.cluster.nunique() / len(train)"
   ]
  },
  {
   "cell_type": "code",
   "execution_count": 5,
   "id": "e79a6c97-9ad0-4466-b06b-f0ba8971dfad",
   "metadata": {},
   "outputs": [],
   "source": [
    "grouped_df = train.groupby([\"cluster\"])"
   ]
  },
  {
   "cell_type": "code",
   "execution_count": 6,
   "id": "2c31ba16-0f53-4d2f-848b-11cede4fe5d8",
   "metadata": {},
   "outputs": [
    {
     "data": {
      "text/plain": [
       "27969"
      ]
     },
     "execution_count": 6,
     "metadata": {},
     "output_type": "execute_result"
    }
   ],
   "source": [
    "len(grouped_df)"
   ]
  },
  {
   "cell_type": "code",
   "execution_count": 7,
   "id": "b2a92802-e85e-4dc7-af21-17d01ef3c013",
   "metadata": {},
   "outputs": [
    {
     "name": "stderr",
     "output_type": "stream",
     "text": [
      "/tmp/ipykernel_2348906/1470937387.py:4: FutureWarning: In a future version of pandas, a length 1 tuple will be returned when iterating over a groupby with a grouper equal to a list of length 1. Don't supply a list with a single grouper to avoid this warning.\n",
      "  for cluster, group_data in grouped_df:\n"
     ]
    },
    {
     "name": "stdout",
     "output_type": "stream",
     "text": [
      "10477 17342 150\n"
     ]
    }
   ],
   "source": [
    "count_pos = 0\n",
    "count_neg = 0\n",
    "count_bin = 0\n",
    "for cluster, group_data in grouped_df:\n",
    "    if (group_data.label.unique() == 1).all():\n",
    "        count_pos += 1\n",
    "    elif (group_data.label.unique() == 0).all():\n",
    "        count_neg += 1\n",
    "    else:\n",
    "        count_bin += 1\n",
    "assert count_pos + count_neg + count_bin == len(grouped_df)\n",
    "print(count_pos, count_neg, count_bin)"
   ]
  },
  {
   "cell_type": "code",
   "execution_count": null,
   "id": "f7ffcd59",
   "metadata": {},
   "outputs": [],
   "source": []
  },
  {
   "cell_type": "code",
   "execution_count": null,
   "id": "3858e673",
   "metadata": {},
   "outputs": [],
   "source": []
  },
  {
   "cell_type": "code",
   "execution_count": 25,
   "id": "8fb724f0",
   "metadata": {},
   "outputs": [
    {
     "data": {
      "image/png": "[encoded data removed]",
      "text/plain": [
       "<Figure size 1200x600 with 1 Axes>"
      ]
     },
     "metadata": {},
     "output_type": "display_data"
    }
   ],
   "source": [
    "x = list(counts.keys())\n",
    "y = list(counts.values())\n",
    "\n",
    "# Create the bar plot\n",
    "plt.figure(figsize=(12, 6))\n",
    "plt.bar(x, y, color='blue')\n",
    "plt.xlabel('Cluster')\n",
    "plt.ylabel('Count')\n",
    "plt.title('Counts of each cluster')\n",
    "plt.grid(axis='y', linestyle='--', alpha=0.7)\n",
    "\n",
    "# Show plot\n",
    "plt.show()"
   ]
  },
  {
   "cell_type": "code",
   "execution_count": 20,
   "id": "8bf261a7",
   "metadata": {},
   "outputs": [],
   "source": [
    "import numpy as np"
   ]
  },
  {
   "cell_type": "code",
   "execution_count": 22,
   "id": "58143fee",
   "metadata": {},
   "outputs": [
    {
     "data": {
      "text/plain": [
       "1.0"
      ]
     },
     "execution_count": 22,
     "metadata": {},
     "output_type": "execute_result"
    }
   ],
   "source": [
    "np.median(y)"
   ]
  },
  {
   "cell_type": "code",
   "execution_count": 25,
   "id": "55fa65c8",
   "metadata": {},
   "outputs": [
    {
     "data": {
      "text/plain": [
       "20.0"
      ]
     },
     "execution_count": 25,
     "metadata": {},
     "output_type": "execute_result"
    }
   ],
   "source": [
    "np.percentile(y, 99)"
   ]
  },
  {
   "cell_type": "code",
   "execution_count": 24,
   "id": "bac4fbe1",
   "metadata": {},
   "outputs": [
    {
     "data": {
      "text/plain": [
       "545"
      ]
     },
     "execution_count": 24,
     "metadata": {},
     "output_type": "execute_result"
    }
   ],
   "source": [
    "np.max(y)"
   ]
  },
  {
   "cell_type": "code",
   "execution_count": 33,
   "id": "09f35c77",
   "metadata": {},
   "outputs": [],
   "source": [
    "sorted_counts = dict(sorted(counts.items(), key=lambda item: item[1], reverse=True))"
   ]
  },
  {
   "cell_type": "markdown",
   "id": "9f7c8fa5",
   "metadata": {},
   "source": [
    "Сколько в обучающем наборе среди ДНК-связывающих белков РНК-связывающих"
   ]
  },
  {
   "cell_type": "code",
   "execution_count": 3,
   "id": "af374f61",
   "metadata": {},
   "outputs": [],
   "source": [
    "df = pd.read_csv(\"../data/processed/rna_binders_go_0003677_swissprot.csv\")"
   ]
  },
  {
   "cell_type": "code",
   "execution_count": 4,
   "id": "85c7d5f9",
   "metadata": {},
   "outputs": [
    {
     "data": {
      "text/plain": [
       "0    45032\n",
       "1     1340\n",
       "Name: label, dtype: int64"
      ]
     },
     "execution_count": 4,
     "metadata": {},
     "output_type": "execute_result"
    }
   ],
   "source": [
    "df.label.value_counts()"
   ]
  },
  {
   "cell_type": "markdown",
   "id": "93556411",
   "metadata": {},
   "source": [
    "### Распределение по царствам"
   ]
  },
  {
   "cell_type": "code",
   "execution_count": 26,
   "id": "d8d57a48",
   "metadata": {},
   "outputs": [],
   "source": [
    "df = pd.read_csv('../data/processed/trembl_test_kingdom.csv')"
   ]
  },
  {
   "cell_type": "code",
   "execution_count": 27,
   "id": "ca7577e4",
   "metadata": {},
   "outputs": [
    {
     "data": {
      "text/plain": [
       "(10194, 2)"
      ]
     },
     "execution_count": 27,
     "metadata": {},
     "output_type": "execute_result"
    }
   ],
   "source": [
    "df.shape"
   ]
  },
  {
   "cell_type": "code",
   "execution_count": 28,
   "id": "afe3ac9e",
   "metadata": {},
   "outputs": [
    {
     "data": {
      "text/plain": [
       "Metazoa          6360\n",
       "Viruses          3407\n",
       "Bacteria          284\n",
       "Fungi             113\n",
       "not_found          13\n",
       "Viridiplantae      10\n",
       "Protists            6\n",
       "Archaea             1\n",
       "Name: kingdom, dtype: int64"
      ]
     },
     "execution_count": 28,
     "metadata": {},
     "output_type": "execute_result"
    }
   ],
   "source": [
    "df.kingdom.value_counts()"
   ]
  },
  {
   "cell_type": "code",
   "execution_count": 62,
   "id": "e68e72c5",
   "metadata": {},
   "outputs": [],
   "source": [
    "subset_df = df[df['kingdom'] == 'Bacteria']"
   ]
  },
  {
   "cell_type": "code",
   "execution_count": 52,
   "id": "cd6f9e42",
   "metadata": {},
   "outputs": [],
   "source": [
    "train = pd.read_csv(\"../data/ready_data/train_trembl_test_single_balanced.csv\")"
   ]
  },
  {
   "cell_type": "code",
   "execution_count": 53,
   "id": "3418b382",
   "metadata": {},
   "outputs": [
    {
     "data": {
      "text/plain": [
       "20396"
      ]
     },
     "execution_count": 53,
     "metadata": {},
     "output_type": "execute_result"
    }
   ],
   "source": [
    "train.cluster.nunique()"
   ]
  },
  {
   "cell_type": "code",
   "execution_count": 54,
   "id": "b37123ee",
   "metadata": {},
   "outputs": [
    {
     "data": {
      "text/plain": [
       "1    10198\n",
       "0    10198\n",
       "Name: label, dtype: int64"
      ]
     },
     "execution_count": 54,
     "metadata": {},
     "output_type": "execute_result"
    }
   ],
   "source": [
    "train.label.value_counts()"
   ]
  },
  {
   "cell_type": "code",
   "execution_count": 64,
   "id": "f826ab1e",
   "metadata": {},
   "outputs": [
    {
     "data": {
      "text/html": [
       "<div>\n",
       "<style scoped>\n",
       "    .dataframe tbody tr th:only-of-type {\n",
       "        vertical-align: middle;\n",
       "    }\n",
       "\n",
       "    .dataframe tbody tr th {\n",
       "        vertical-align: top;\n",
       "    }\n",
       "\n",
       "    .dataframe thead th {\n",
       "        text-align: right;\n",
       "    }\n",
       "</style>\n",
       "<table border=\"1\" class=\"dataframe\">\n",
       "  <thead>\n",
       "    <tr style=\"text-align: right;\">\n",
       "      <th></th>\n",
       "      <th>identifier</th>\n",
       "      <th>sequence</th>\n",
       "      <th>label</th>\n",
       "      <th>kingdom</th>\n",
       "    </tr>\n",
       "  </thead>\n",
       "  <tbody>\n",
       "    <tr>\n",
       "      <th>0</th>\n",
       "      <td>P05102</td>\n",
       "      <td>MIEIKDKQLTGLRFIDLFAGLGGFRLALESCGAECVYSNEWDKYAQ...</td>\n",
       "      <td>1</td>\n",
       "      <td>Bacteria</td>\n",
       "    </tr>\n",
       "    <tr>\n",
       "      <th>1</th>\n",
       "      <td>P00582</td>\n",
       "      <td>MVQIPQNPLILVDGSSYLYRAYHAFPPLTNSAGEPTGAMYGVLNML...</td>\n",
       "      <td>1</td>\n",
       "      <td>Bacteria</td>\n",
       "    </tr>\n",
       "    <tr>\n",
       "      <th>2</th>\n",
       "      <td>P39075</td>\n",
       "      <td>MKESYYSIGEVSKLANVSIKALRYYDKIDLFKPAYVDPDTSYRYYT...</td>\n",
       "      <td>1</td>\n",
       "      <td>Bacteria</td>\n",
       "    </tr>\n",
       "    <tr>\n",
       "      <th>3</th>\n",
       "      <td>P14385</td>\n",
       "      <td>MGLPPLLSLPSNSAPRSLGRVETPPEVVDFMVSLAEAPRGGRVLEP...</td>\n",
       "      <td>1</td>\n",
       "      <td>Bacteria</td>\n",
       "    </tr>\n",
       "    <tr>\n",
       "      <th>4</th>\n",
       "      <td>P03013</td>\n",
       "      <td>MATIGYIRVSTIDQNIDLQRNALTSANCDRIFEDRISGKIANRPGL...</td>\n",
       "      <td>1</td>\n",
       "      <td>Bacteria</td>\n",
       "    </tr>\n",
       "    <tr>\n",
       "      <th>...</th>\n",
       "      <td>...</td>\n",
       "      <td>...</td>\n",
       "      <td>...</td>\n",
       "      <td>...</td>\n",
       "    </tr>\n",
       "    <tr>\n",
       "      <th>10953</th>\n",
       "      <td>P45908</td>\n",
       "      <td>MATNQSIKNNIQKKQKNVPVQQQGATMKGLLSSPSVIKRFEEVLGK...</td>\n",
       "      <td>1</td>\n",
       "      <td>Bacteria</td>\n",
       "    </tr>\n",
       "    <tr>\n",
       "      <th>10954</th>\n",
       "      <td>Q46855</td>\n",
       "      <td>MLQNCAQSNCRIIPKKLRDMKREEICRLLADKVNKLKNKENSLSGL...</td>\n",
       "      <td>1</td>\n",
       "      <td>Bacteria</td>\n",
       "    </tr>\n",
       "    <tr>\n",
       "      <th>10955</th>\n",
       "      <td>P0ACN2</td>\n",
       "      <td>MSQVSLSQQLKEGNLFAEQCPSREVLKHVTSRWGVLILVALREGTH...</td>\n",
       "      <td>1</td>\n",
       "      <td>Bacteria</td>\n",
       "    </tr>\n",
       "    <tr>\n",
       "      <th>10956</th>\n",
       "      <td>Q9JMT8</td>\n",
       "      <td>MNTIKIKLNLIDYDSIVNIEFPCLLSEIEIELLSQLLKGYSVNEIS...</td>\n",
       "      <td>1</td>\n",
       "      <td>Bacteria</td>\n",
       "    </tr>\n",
       "    <tr>\n",
       "      <th>10957</th>\n",
       "      <td>Q52990</td>\n",
       "      <td>MLPKIAVVEDEEALSVLLRYNLEAEGFEVDTILRGDEAEIRLQERL...</td>\n",
       "      <td>1</td>\n",
       "      <td>Bacteria</td>\n",
       "    </tr>\n",
       "  </tbody>\n",
       "</table>\n",
       "<p>10958 rows × 4 columns</p>\n",
       "</div>"
      ],
      "text/plain": [
       "      identifier                                           sequence  label  \\\n",
       "0         P05102  MIEIKDKQLTGLRFIDLFAGLGGFRLALESCGAECVYSNEWDKYAQ...      1   \n",
       "1         P00582  MVQIPQNPLILVDGSSYLYRAYHAFPPLTNSAGEPTGAMYGVLNML...      1   \n",
       "2         P39075  MKESYYSIGEVSKLANVSIKALRYYDKIDLFKPAYVDPDTSYRYYT...      1   \n",
       "3         P14385  MGLPPLLSLPSNSAPRSLGRVETPPEVVDFMVSLAEAPRGGRVLEP...      1   \n",
       "4         P03013  MATIGYIRVSTIDQNIDLQRNALTSANCDRIFEDRISGKIANRPGL...      1   \n",
       "...          ...                                                ...    ...   \n",
       "10953     P45908  MATNQSIKNNIQKKQKNVPVQQQGATMKGLLSSPSVIKRFEEVLGK...      1   \n",
       "10954     Q46855  MLQNCAQSNCRIIPKKLRDMKREEICRLLADKVNKLKNKENSLSGL...      1   \n",
       "10955     P0ACN2  MSQVSLSQQLKEGNLFAEQCPSREVLKHVTSRWGVLILVALREGTH...      1   \n",
       "10956     Q9JMT8  MNTIKIKLNLIDYDSIVNIEFPCLLSEIEIELLSQLLKGYSVNEIS...      1   \n",
       "10957     Q52990  MLPKIAVVEDEEALSVLLRYNLEAEGFEVDTILRGDEAEIRLQERL...      1   \n",
       "\n",
       "        kingdom  \n",
       "0      Bacteria  \n",
       "1      Bacteria  \n",
       "2      Bacteria  \n",
       "3      Bacteria  \n",
       "4      Bacteria  \n",
       "...         ...  \n",
       "10953  Bacteria  \n",
       "10954  Bacteria  \n",
       "10955  Bacteria  \n",
       "10956  Bacteria  \n",
       "10957  Bacteria  \n",
       "\n",
       "[10958 rows x 4 columns]"
      ]
     },
     "execution_count": 64,
     "metadata": {},
     "output_type": "execute_result"
    }
   ],
   "source": [
    "test.merge(subset_df, on=\"identifier\")"
   ]
  },
  {
   "cell_type": "code",
   "execution_count": null,
   "id": "9af62a56",
   "metadata": {},
   "outputs": [],
   "source": []
  },
  {
   "cell_type": "code",
   "execution_count": 4,
   "id": "56269ce1",
   "metadata": {},
   "outputs": [],
   "source": [
    "train = pd.read_csv('../data/ready_data/train_trembl_test.csv')"
   ]
  },
  {
   "cell_type": "code",
   "execution_count": 6,
   "id": "e47aacfc",
   "metadata": {},
   "outputs": [
    {
     "data": {
      "text/plain": [
       "1    31525\n",
       "0    31525\n",
       "Name: label, dtype: int64"
      ]
     },
     "execution_count": 6,
     "metadata": {},
     "output_type": "execute_result"
    }
   ],
   "source": [
    "train.label.value_counts()"
   ]
  },
  {
   "cell_type": "code",
   "execution_count": null,
   "id": "48dd6107",
   "metadata": {},
   "outputs": [],
   "source": []
  }
 ],
 "metadata": {
  "kernelspec": {
   "display_name": "Python 3 (ipykernel)",
   "language": "python",
   "name": "python3"
  },
  "language_info": {
   "codemirror_mode": {
    "name": "ipython",
    "version": 3
   },
   "file_extension": ".py",
   "mimetype": "text/x-python",
   "name": "python",
   "nbconvert_exporter": "python",
   "pygments_lexer": "ipython3",
   "version": "3.11.5"
  }
 },
 "nbformat": 4,
 "nbformat_minor": 5
}
