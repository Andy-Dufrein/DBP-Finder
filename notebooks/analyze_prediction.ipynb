{
 "cells": [
  {
   "cell_type": "code",
   "execution_count": 5,
   "id": "3ad16ded",
   "metadata": {},
   "outputs": [],
   "source": [
    "def process_threshold(df):\n",
    "    id_100 = df[df[\"cluster\"] == \"id_1\"]\n",
    "    id_75 = df[df[\"cluster\"] == \"id_0.75\"]\n",
    "    id_50 = df[df[\"cluster\"] == \"id_0.5\"]\n",
    "    id_25 = df[df[\"cluster\"] == \"id_0.25\"]\n",
    "    id_less = df[df[\"cluster\"] == \"<id_0.25\"]\n",
    "    return id_100, id_75, id_50, id_25, id_less"
   ]
  },
  {
   "cell_type": "markdown",
   "id": "1aa5226e",
   "metadata": {},
   "source": [
    "* Bacillus-subtilis.fasta\n",
    "* Cerevisiae.fasta\n",
    "* Ecoli.fasta\n",
    "* Pichia-pastoris.fasta\n",
    "* Arabidopsis.fasta\n",
    "* Homo.fasta"
   ]
  }
 ],
 "metadata": {
  "kernelspec": {
   "display_name": "Python 3 (ipykernel)",
   "language": "python",
   "name": "python3"
  },
  "language_info": {
   "codemirror_mode": {
    "name": "ipython",
    "version": 3
   },
   "file_extension": ".py",
   "mimetype": "text/x-python",
   "name": "python",
   "nbconvert_exporter": "python",
   "pygments_lexer": "ipython3",
   "version": "3.11.5"
  }
 },
 "nbformat": 4,
 "nbformat_minor": 5
}
