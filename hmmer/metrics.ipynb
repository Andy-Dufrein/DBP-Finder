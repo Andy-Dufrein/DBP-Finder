{
 "cells": [
  {
   "cell_type": "code",
   "execution_count": 45,
   "id": "09c06f41-6fd4-4e85-a427-9be78de4fcbc",
   "metadata": {},
   "outputs": [],
   "source": [
    "import pandas as pd\n",
    "import numpy as np\n",
    "from sklearn.metrics import roc_auc_score"
   ]
  },
  {
   "cell_type": "markdown",
   "id": "72627544-4204-4978-b2c5-cab68fa097d7",
   "metadata": {},
   "source": [
    "#### Metrics analyze"
   ]
  },
  {
   "cell_type": "code",
   "execution_count": 48,
   "id": "371b3474",
   "metadata": {},
   "outputs": [],
   "source": [
    "input_test = \"pdb2272\""
   ]
  },
  {
   "cell_type": "code",
   "execution_count": 49,
   "id": "221d8c24-c917-4b4f-b9c6-855500691842",
   "metadata": {},
   "outputs": [],
   "source": [
    "metrics = pd.read_csv(f\"{input_test}_output.csv\")"
   ]
  },
  {
   "cell_type": "code",
   "execution_count": 50,
   "id": "ec0997e3-d13c-4774-bc46-709438a9099d",
   "metadata": {},
   "outputs": [],
   "source": [
    "input_df = pd.read_csv(f\"../data/embeddings/input_csv/{input_test}.csv\")"
   ]
  },
  {
   "cell_type": "code",
   "execution_count": 52,
   "id": "b804cd9a-103d-410f-aafd-c8592beda61a",
   "metadata": {},
   "outputs": [],
   "source": [
    "pos_samples = input_df[input_df[\"label\"] == 1]\n",
    "neg_samples = input_df[input_df[\"label\"] == 0]"
   ]
  },
  {
   "cell_type": "code",
   "execution_count": 53,
   "id": "ef7ae0b2-e8f6-42eb-83ba-a47774fd7d92",
   "metadata": {},
   "outputs": [],
   "source": [
    "pos_pred = metrics[metrics[\"metric\"] == 1]\n",
    "neg_pred = metrics[metrics[\"metric\"] == 0]"
   ]
  },
  {
   "cell_type": "code",
   "execution_count": 54,
   "id": "516a2d8d-1cde-4447-b2bc-811176aae7c2",
   "metadata": {},
   "outputs": [],
   "source": [
    "tp = len(pos_samples.merge(pos_pred, on=\"identifier\"))\n",
    "tn = len(neg_samples.merge(neg_pred, on=\"identifier\"))\n",
    "fp = len(neg_samples.merge(pos_pred, on=\"identifier\"))\n",
    "fn = len(pos_samples.merge(neg_pred, on=\"identifier\"))"
   ]
  },
  {
   "cell_type": "code",
   "execution_count": 55,
   "id": "3136bea2",
   "metadata": {},
   "outputs": [],
   "source": [
    "df = metrics.merge(input_df, on=\"identifier\")\n",
    "gt = df[\"label\"].tolist()\n",
    "prob_score = df[\"score\"].tolist()"
   ]
  },
  {
   "cell_type": "code",
   "execution_count": 56,
   "id": "8033625c",
   "metadata": {},
   "outputs": [
    {
     "data": {
      "text/plain": [
       "0.508872"
      ]
     },
     "execution_count": 56,
     "metadata": {},
     "output_type": "execute_result"
    }
   ],
   "source": [
    "roc_auc_score(gt, prob_score)"
   ]
  },
  {
   "cell_type": "code",
   "execution_count": 57,
   "id": "5c5051d2-34e1-496c-9cd7-557ecad6effb",
   "metadata": {},
   "outputs": [],
   "source": [
    "tp = 9076\n",
    "tn = 1705\n",
    "fp = 8295\n",
    "fn = 924"
   ]
  },
  {
   "cell_type": "code",
   "execution_count": 58,
   "id": "9da38fb7-7b58-4bea-ab71-8913d9e8fac6",
   "metadata": {},
   "outputs": [],
   "source": [
    "specificity = tn/(fp+tn)\n",
    "sensitivity = tp/(tp+fn)\n",
    "mcc = (tp*tn - fp*fn)/(np.sqrt((tp + fp) * (tp + fn) * (tn + fp) * (tn + fn)))\n",
    "precision = tp / (tp + fp)\n",
    "f1 = (2 * precision * sensitivity) / (precision + sensitivity)\n",
    "accuracy = (tp + tn) / (tp + tn + fp + fn)"
   ]
  },
  {
   "cell_type": "code",
   "execution_count": null,
   "id": "d166f1e2",
   "metadata": {},
   "outputs": [],
   "source": []
  }
 ],
 "metadata": {
  "kernelspec": {
   "display_name": "Python 3 (ipykernel)",
   "language": "python",
   "name": "python3"
  },
  "language_info": {
   "codemirror_mode": {
    "name": "ipython",
    "version": 3
   },
   "file_extension": ".py",
   "mimetype": "text/x-python",
   "name": "python",
   "nbconvert_exporter": "python",
   "pygments_lexer": "ipython3",
   "version": "3.11.5"
  }
 },
 "nbformat": 4,
 "nbformat_minor": 5
}
