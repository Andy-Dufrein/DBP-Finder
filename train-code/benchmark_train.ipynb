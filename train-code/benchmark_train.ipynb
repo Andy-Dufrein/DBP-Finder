{
 "cells": [
  {
   "cell_type": "code",
   "execution_count": 9,
   "id": "5c39c36d-8cb9-475c-9f98-9f36b8a59846",
   "metadata": {},
   "outputs": [],
   "source": [
    "import pandas as pd\n",
    "import pickle\n",
    "import numpy as np\n",
    "from sklearn.model_selection import train_test_split"
   ]
  },
  {
   "cell_type": "code",
   "execution_count": 10,
   "id": "f65fd20e",
   "metadata": {},
   "outputs": [],
   "source": [
    "import sys"
   ]
  },
  {
   "cell_type": "code",
   "execution_count": 11,
   "id": "390be9ae",
   "metadata": {},
   "outputs": [],
   "source": [
    "sys.path.append(\"../src\")"
   ]
  },
  {
   "cell_type": "code",
   "execution_count": 12,
   "id": "bff32248",
   "metadata": {},
   "outputs": [
    {
     "ename": "ImportError",
     "evalue": "cannot import name 'load_obj' from 'utils' (/home/gavrilenkoa/bind_predict/train-notebooks/../src/utils.py)",
     "output_type": "error",
     "traceback": [
      "\u001b[0;31m---------------------------------------------------------------------------\u001b[0m",
      "\u001b[0;31mImportError\u001b[0m                               Traceback (most recent call last)",
      "Cell \u001b[0;32mIn[12], line 1\u001b[0m\n\u001b[0;32m----> 1\u001b[0m \u001b[38;5;28;01mfrom\u001b[39;00m \u001b[38;5;21;01mutils\u001b[39;00m \u001b[38;5;28;01mimport\u001b[39;00m load_obj, dict_to_df, make_df, make_lama_df, Metrics, form_Xy\n",
      "\u001b[0;31mImportError\u001b[0m: cannot import name 'load_obj' from 'utils' (/home/gavrilenkoa/bind_predict/train-notebooks/../src/utils.py)"
     ]
    }
   ],
   "source": [
    "from utils import load_obj, dict_to_df, make_df, make_lama_df, Metrics, form_Xy"
   ]
  },
  {
   "cell_type": "code",
   "execution_count": 5,
   "id": "8afbe856-23ab-4061-a5f3-daf49f581532",
   "metadata": {},
   "outputs": [
    {
     "name": "stdout",
     "output_type": "stream",
     "text": [
      "'nlp' extra dependecy package 'gensim' isn't installed. Look at README.md in repo 'LightAutoML' for installation instructions.\n",
      "'nlp' extra dependecy package 'nltk' isn't installed. Look at README.md in repo 'LightAutoML' for installation instructions.\n",
      "'nlp' extra dependecy package 'gensim' isn't installed. Look at README.md in repo 'LightAutoML' for installation instructions.\n",
      "'nlp' extra dependecy package 'nltk' isn't installed. Look at README.md in repo 'LightAutoML' for installation instructions.\n"
     ]
    },
    {
     "name": "stderr",
     "output_type": "stream",
     "text": [
      "/home/gavrilenkoa/anaconda3/envs/bind_predict/lib/python3.11/site-packages/lightautoml/text/tokenizer.py:21: UserWarning: 'nltk' - package isn't installed\n",
      "  warnings.warn(\"'nltk' - package isn't installed\")\n",
      "/home/gavrilenkoa/anaconda3/envs/bind_predict/lib/python3.11/site-packages/lightautoml/transformers/text.py:22: UserWarning: 'gensim' - package isn't installed\n",
      "  warnings.warn(\"'gensim' - package isn't installed\")\n",
      "/home/gavrilenkoa/anaconda3/envs/bind_predict/lib/python3.11/site-packages/lightautoml/ml_algo/dl_model.py:42: UserWarning: 'transformers' - package isn't installed\n",
      "  warnings.warn(\"'transformers' - package isn't installed\")\n"
     ]
    }
   ],
   "source": [
    "from lightautoml.automl.presets.tabular_presets import TabularAutoML\n",
    "from lightautoml.tasks import Task"
   ]
  },
  {
   "cell_type": "code",
   "execution_count": 44,
   "id": "92af2801-e79f-4cef-a783-fd5a08d332a8",
   "metadata": {},
   "outputs": [],
   "source": [
    "SEED = 42\n",
    "N_THREADS = 10\n",
    "N_FOLDS = 5"
   ]
  },
  {
   "cell_type": "code",
   "execution_count": 45,
   "id": "25fb8f24-c834-49c7-ad9b-32de942ccdba",
   "metadata": {},
   "outputs": [],
   "source": [
    "df = make_df(\"../data/embeddings/overall_data.pkl\", \"../data/DBP_papers_data/overall_data.csv\")"
   ]
  },
  {
   "cell_type": "code",
   "execution_count": 46,
   "id": "bb70f417-dc86-4951-a2f4-4aefc99d7ab1",
   "metadata": {},
   "outputs": [],
   "source": [
    "biolip = make_df(\"../data/embeddings/dna_binders_biolip.pkl\", \"../data/DBP_papers_data/dna_binders_biolip.csv\")"
   ]
  },
  {
   "cell_type": "markdown",
   "id": "d01700c9-f6ce-498a-93af-91444f3f2003",
   "metadata": {},
   "source": [
    "#### pdb1075 and pdb186"
   ]
  },
  {
   "cell_type": "code",
   "execution_count": 47,
   "id": "549e0c87-b961-490b-b66e-b6ff1e7809bb",
   "metadata": {},
   "outputs": [],
   "source": [
    "pdb1075 = df[df[\"identifier\"].str.contains(\"pdb1075\")]\n",
    "pdb186 = df[df[\"identifier\"].str.contains(\"pdb186\")]"
   ]
  },
  {
   "cell_type": "code",
   "execution_count": 48,
   "id": "aafa17c9-8b0c-4d04-bc09-6295a6410216",
   "metadata": {},
   "outputs": [],
   "source": [
    "X, y = form_Xy(pdb1075)"
   ]
  },
  {
   "cell_type": "code",
   "execution_count": 49,
   "id": "c6545fa3-f896-414e-8fd4-4350d371b3b1",
   "metadata": {},
   "outputs": [],
   "source": [
    "X_test, y_test = form_Xy(pdb186)"
   ]
  },
  {
   "cell_type": "code",
   "execution_count": 50,
   "id": "e1ea995a-0ea6-4f03-9c0e-8cd0f3b4160a",
   "metadata": {},
   "outputs": [],
   "source": [
    "df_train = make_lama_df(X, y)"
   ]
  },
  {
   "cell_type": "code",
   "execution_count": 51,
   "id": "e92cd297-6b86-4cd6-b1df-6a88fedb60ba",
   "metadata": {},
   "outputs": [],
   "source": [
    "automl = TabularAutoML(\n",
    "    task = Task(\n",
    "        name = \"binary\"),\n",
    "    reader_params = {\"random_state\": SEED})"
   ]
  },
  {
   "cell_type": "code",
   "execution_count": 52,
   "id": "0d53bc1f-64f7-41b4-90a0-b7a7cac393ec",
   "metadata": {},
   "outputs": [
    {
     "name": "stderr",
     "output_type": "stream",
     "text": [
      "Default metric period is 5 because AUC is/are not implemented for GPU\n",
      "Default metric period is 5 because AUC is/are not implemented for GPU\n",
      "Default metric period is 5 because AUC is/are not implemented for GPU\n",
      "Default metric period is 5 because AUC is/are not implemented for GPU\n",
      "Default metric period is 5 because AUC is/are not implemented for GPU\n",
      "Default metric period is 5 because AUC is/are not implemented for GPU\n",
      "Default metric period is 5 because AUC is/are not implemented for GPU\n",
      "Default metric period is 5 because AUC is/are not implemented for GPU\n",
      "Default metric period is 5 because AUC is/are not implemented for GPU\n",
      "Default metric period is 5 because AUC is/are not implemented for GPU\n",
      "Default metric period is 5 because AUC is/are not implemented for GPU\n",
      "Default metric period is 5 because AUC is/are not implemented for GPU\n",
      "Default metric period is 5 because AUC is/are not implemented for GPU\n",
      "Default metric period is 5 because AUC is/are not implemented for GPU\n",
      "Default metric period is 5 because AUC is/are not implemented for GPU\n",
      "Default metric period is 5 because AUC is/are not implemented for GPU\n",
      "Default metric period is 5 because AUC is/are not implemented for GPU\n",
      "Default metric period is 5 because AUC is/are not implemented for GPU\n",
      "Default metric period is 5 because AUC is/are not implemented for GPU\n",
      "Default metric period is 5 because AUC is/are not implemented for GPU\n",
      "Default metric period is 5 because AUC is/are not implemented for GPU\n",
      "Default metric period is 5 because AUC is/are not implemented for GPU\n",
      "Default metric period is 5 because AUC is/are not implemented for GPU\n",
      "Default metric period is 5 because AUC is/are not implemented for GPU\n",
      "Default metric period is 5 because AUC is/are not implemented for GPU\n",
      "Default metric period is 5 because AUC is/are not implemented for GPU\n",
      "Default metric period is 5 because AUC is/are not implemented for GPU\n",
      "Default metric period is 5 because AUC is/are not implemented for GPU\n",
      "Default metric period is 5 because AUC is/are not implemented for GPU\n",
      "Default metric period is 5 because AUC is/are not implemented for GPU\n",
      "Default metric period is 5 because AUC is/are not implemented for GPU\n",
      "Default metric period is 5 because AUC is/are not implemented for GPU\n",
      "Default metric period is 5 because AUC is/are not implemented for GPU\n",
      "Default metric period is 5 because AUC is/are not implemented for GPU\n",
      "Default metric period is 5 because AUC is/are not implemented for GPU\n",
      "Default metric period is 5 because AUC is/are not implemented for GPU\n",
      "Default metric period is 5 because AUC is/are not implemented for GPU\n",
      "Default metric period is 5 because AUC is/are not implemented for GPU\n",
      "Default metric period is 5 because AUC is/are not implemented for GPU\n",
      "Default metric period is 5 because AUC is/are not implemented for GPU\n",
      "Default metric period is 5 because AUC is/are not implemented for GPU\n",
      "Default metric period is 5 because AUC is/are not implemented for GPU\n",
      "Default metric period is 5 because AUC is/are not implemented for GPU\n",
      "Default metric period is 5 because AUC is/are not implemented for GPU\n",
      "Default metric period is 5 because AUC is/are not implemented for GPU\n",
      "Default metric period is 5 because AUC is/are not implemented for GPU\n",
      "Default metric period is 5 because AUC is/are not implemented for GPU\n",
      "Default metric period is 5 because AUC is/are not implemented for GPU\n",
      "Default metric period is 5 because AUC is/are not implemented for GPU\n",
      "Default metric period is 5 because AUC is/are not implemented for GPU\n",
      "Default metric period is 5 because AUC is/are not implemented for GPU\n",
      "Default metric period is 5 because AUC is/are not implemented for GPU\n",
      "Default metric period is 5 because AUC is/are not implemented for GPU\n",
      "Default metric period is 5 because AUC is/are not implemented for GPU\n"
     ]
    }
   ],
   "source": [
    "oof_pred = automl.fit_predict(\n",
    "    df_train,\n",
    "    roles = {\"target\": \"label\"})"
   ]
  },
  {
   "cell_type": "code",
   "execution_count": 60,
   "id": "d23a36fe-a865-45e6-8a7b-89f1b0c95d3f",
   "metadata": {},
   "outputs": [
    {
     "data": {
      "text/html": [
       "<div>\n",
       "<style scoped>\n",
       "    .dataframe tbody tr th:only-of-type {\n",
       "        vertical-align: middle;\n",
       "    }\n",
       "\n",
       "    .dataframe tbody tr th {\n",
       "        vertical-align: top;\n",
       "    }\n",
       "\n",
       "    .dataframe thead th {\n",
       "        text-align: right;\n",
       "    }\n",
       "</style>\n",
       "<table border=\"1\" class=\"dataframe\">\n",
       "  <thead>\n",
       "    <tr style=\"text-align: right;\">\n",
       "      <th></th>\n",
       "      <th>accuracy</th>\n",
       "      <th>sensitivity</th>\n",
       "      <th>specificity</th>\n",
       "      <th>precision</th>\n",
       "      <th>AUC</th>\n",
       "      <th>MCC</th>\n",
       "    </tr>\n",
       "  </thead>\n",
       "  <tbody>\n",
       "    <tr>\n",
       "      <th>0</th>\n",
       "      <td>0.864186</td>\n",
       "      <td>0.87619</td>\n",
       "      <td>0.852727</td>\n",
       "      <td>0.850277</td>\n",
       "      <td>0.937953</td>\n",
       "      <td>0.728736</td>\n",
       "    </tr>\n",
       "  </tbody>\n",
       "</table>\n",
       "</div>"
      ],
      "text/plain": [
       "   accuracy  sensitivity  specificity  precision       AUC       MCC\n",
       "0  0.864186      0.87619     0.852727   0.850277  0.937953  0.728736"
      ]
     },
     "execution_count": 60,
     "metadata": {},
     "output_type": "execute_result"
    }
   ],
   "source": [
    "valid_prob = oof_pred.data[:, 0]\n",
    "valid_pred = (valid_prob > 0.5) * 1\n",
    "metrics = Metrics(y, valid_pred, valid_prob)\n",
    "metrics.get_metrics()"
   ]
  },
  {
   "cell_type": "code",
   "execution_count": 61,
   "id": "9271e120-f120-4134-a2c1-ba43b922bd4d",
   "metadata": {},
   "outputs": [],
   "source": [
    "df_test = make_lama_df(X_test, y_test)"
   ]
  },
  {
   "cell_type": "code",
   "execution_count": 62,
   "id": "2c17f4d0-309c-4add-9a0b-7183057e3ed3",
   "metadata": {},
   "outputs": [],
   "source": [
    "test_pred = automl.predict(df_test)"
   ]
  },
  {
   "cell_type": "code",
   "execution_count": 63,
   "id": "4b8c6eb5-d384-42de-9672-5d0c6580cd89",
   "metadata": {},
   "outputs": [],
   "source": [
    "test_prob = test_pred.data.reshape(-1, )"
   ]
  },
  {
   "cell_type": "code",
   "execution_count": 64,
   "id": "729b7fe6-99d3-4d24-9916-8952f38e1815",
   "metadata": {},
   "outputs": [],
   "source": [
    "test_pred = (test_pred.data[:, 0] > 0.5) * 1"
   ]
  },
  {
   "cell_type": "code",
   "execution_count": 65,
   "id": "e840a4a6-11eb-462a-98e2-48d8424c159a",
   "metadata": {},
   "outputs": [],
   "source": [
    "metrics = Metrics(y_test, test_pred, test_prob)"
   ]
  },
  {
   "cell_type": "code",
   "execution_count": 66,
   "id": "722c2c36-52dd-4639-bd1d-9ab51588339d",
   "metadata": {},
   "outputs": [
    {
     "data": {
      "text/html": [
       "<div>\n",
       "<style scoped>\n",
       "    .dataframe tbody tr th:only-of-type {\n",
       "        vertical-align: middle;\n",
       "    }\n",
       "\n",
       "    .dataframe tbody tr th {\n",
       "        vertical-align: top;\n",
       "    }\n",
       "\n",
       "    .dataframe thead th {\n",
       "        text-align: right;\n",
       "    }\n",
       "</style>\n",
       "<table border=\"1\" class=\"dataframe\">\n",
       "  <thead>\n",
       "    <tr style=\"text-align: right;\">\n",
       "      <th></th>\n",
       "      <th>accuracy</th>\n",
       "      <th>sensitivity</th>\n",
       "      <th>specificity</th>\n",
       "      <th>precision</th>\n",
       "      <th>AUC</th>\n",
       "      <th>MCC</th>\n",
       "    </tr>\n",
       "  </thead>\n",
       "  <tbody>\n",
       "    <tr>\n",
       "      <th>0</th>\n",
       "      <td>0.88172</td>\n",
       "      <td>0.989247</td>\n",
       "      <td>0.774194</td>\n",
       "      <td>0.814159</td>\n",
       "      <td>0.935021</td>\n",
       "      <td>0.781732</td>\n",
       "    </tr>\n",
       "  </tbody>\n",
       "</table>\n",
       "</div>"
      ],
      "text/plain": [
       "   accuracy  sensitivity  specificity  precision       AUC       MCC\n",
       "0   0.88172     0.989247     0.774194   0.814159  0.935021  0.781732"
      ]
     },
     "execution_count": 66,
     "metadata": {},
     "output_type": "execute_result"
    }
   ],
   "source": [
    "metrics.get_metrics()"
   ]
  },
  {
   "cell_type": "markdown",
   "id": "3e69a333-8e18-489f-b3a7-f64082855617",
   "metadata": {},
   "source": [
    "#### pdb67151 and pdb20000"
   ]
  },
  {
   "cell_type": "code",
   "execution_count": 67,
   "id": "1e896fb4-cc2d-476c-b8af-f659ea085162",
   "metadata": {},
   "outputs": [],
   "source": [
    "pdb67151 = df[df[\"identifier\"].str.contains(\"pdb67151\")]\n",
    "pdb20000 = df[df[\"identifier\"].str.contains(\"pdb20000\")]"
   ]
  },
  {
   "cell_type": "code",
   "execution_count": 68,
   "id": "626fb1ff-844a-492d-874a-7f704e70de7e",
   "metadata": {},
   "outputs": [
    {
     "data": {
      "text/plain": [
       "0    50000\n",
       "1    17151\n",
       "Name: label, dtype: int64"
      ]
     },
     "execution_count": 68,
     "metadata": {},
     "output_type": "execute_result"
    }
   ],
   "source": [
    "pdb67151.label.value_counts()"
   ]
  },
  {
   "cell_type": "code",
   "execution_count": 69,
   "id": "a2c3a2b3-b879-47a4-8a08-2c413a1d5df5",
   "metadata": {},
   "outputs": [],
   "source": [
    "X, y = form_Xy(pdb67151)"
   ]
  },
  {
   "cell_type": "code",
   "execution_count": 70,
   "id": "367683e6-69f6-43f0-9405-013c028d4a7d",
   "metadata": {},
   "outputs": [],
   "source": [
    "X_test, y_test = form_Xy(pdb20000)"
   ]
  },
  {
   "cell_type": "code",
   "execution_count": 71,
   "id": "6758718c-a985-48f0-9071-2d4f4648288f",
   "metadata": {},
   "outputs": [],
   "source": [
    "df_train = make_lama_df(X, y)"
   ]
  },
  {
   "cell_type": "code",
   "execution_count": 72,
   "id": "67d2d20b-22ff-4134-b47b-cddd41b5c58d",
   "metadata": {},
   "outputs": [],
   "source": [
    "df_test = make_lama_df(X_test, y_test)"
   ]
  },
  {
   "cell_type": "code",
   "execution_count": 73,
   "id": "d35fe1ac-a31c-48a2-bad9-3e31086870ec",
   "metadata": {},
   "outputs": [],
   "source": [
    "automl = TabularAutoML(\n",
    "    task = Task(\n",
    "        name = \"binary\"),\n",
    "    reader_params = {\"random_state\": SEED})"
   ]
  },
  {
   "cell_type": "code",
   "execution_count": 74,
   "id": "35521e21-dc16-45f7-8cd5-c443e5150420",
   "metadata": {},
   "outputs": [
    {
     "name": "stderr",
     "output_type": "stream",
     "text": [
      "Default metric period is 5 because AUC is/are not implemented for GPU\n",
      "Default metric period is 5 because AUC is/are not implemented for GPU\n",
      "Default metric period is 5 because AUC is/are not implemented for GPU\n",
      "Default metric period is 5 because AUC is/are not implemented for GPU\n",
      "Default metric period is 5 because AUC is/are not implemented for GPU\n",
      "Default metric period is 5 because AUC is/are not implemented for GPU\n",
      "Default metric period is 5 because AUC is/are not implemented for GPU\n",
      "Default metric period is 5 because AUC is/are not implemented for GPU\n",
      "Default metric period is 5 because AUC is/are not implemented for GPU\n",
      "Default metric period is 5 because AUC is/are not implemented for GPU\n",
      "Default metric period is 5 because AUC is/are not implemented for GPU\n",
      "Default metric period is 5 because AUC is/are not implemented for GPU\n",
      "Default metric period is 5 because AUC is/are not implemented for GPU\n",
      "Default metric period is 5 because AUC is/are not implemented for GPU\n",
      "Default metric period is 5 because AUC is/are not implemented for GPU\n",
      "Default metric period is 5 because AUC is/are not implemented for GPU\n",
      "Default metric period is 5 because AUC is/are not implemented for GPU\n",
      "Default metric period is 5 because AUC is/are not implemented for GPU\n",
      "Default metric period is 5 because AUC is/are not implemented for GPU\n",
      "Default metric period is 5 because AUC is/are not implemented for GPU\n",
      "Default metric period is 5 because AUC is/are not implemented for GPU\n",
      "Default metric period is 5 because AUC is/are not implemented for GPU\n",
      "Default metric period is 5 because AUC is/are not implemented for GPU\n",
      "Default metric period is 5 because AUC is/are not implemented for GPU\n",
      "Default metric period is 5 because AUC is/are not implemented for GPU\n",
      "Default metric period is 5 because AUC is/are not implemented for GPU\n"
     ]
    }
   ],
   "source": [
    "oof_pred = automl.fit_predict(\n",
    "    df_train,\n",
    "    roles = {\"target\": \"label\"})"
   ]
  },
  {
   "cell_type": "code",
   "execution_count": 75,
   "id": "4221d191-f5f3-4464-815e-b23215064ec5",
   "metadata": {},
   "outputs": [],
   "source": [
    "valid_prob = oof_pred.data[:, 0]\n",
    "valid_pred = (valid_prob > 0.5) * 1"
   ]
  },
  {
   "cell_type": "code",
   "execution_count": 76,
   "id": "0bd6ef48-90d4-43ef-a4af-a4c6345d14c0",
   "metadata": {},
   "outputs": [
    {
     "data": {
      "text/html": [
       "<div>\n",
       "<style scoped>\n",
       "    .dataframe tbody tr th:only-of-type {\n",
       "        vertical-align: middle;\n",
       "    }\n",
       "\n",
       "    .dataframe tbody tr th {\n",
       "        vertical-align: top;\n",
       "    }\n",
       "\n",
       "    .dataframe thead th {\n",
       "        text-align: right;\n",
       "    }\n",
       "</style>\n",
       "<table border=\"1\" class=\"dataframe\">\n",
       "  <thead>\n",
       "    <tr style=\"text-align: right;\">\n",
       "      <th></th>\n",
       "      <th>accuracy</th>\n",
       "      <th>sensitivity</th>\n",
       "      <th>specificity</th>\n",
       "      <th>precision</th>\n",
       "      <th>AUC</th>\n",
       "      <th>MCC</th>\n",
       "    </tr>\n",
       "  </thead>\n",
       "  <tbody>\n",
       "    <tr>\n",
       "      <th>0</th>\n",
       "      <td>0.988146</td>\n",
       "      <td>0.962335</td>\n",
       "      <td>0.997</td>\n",
       "      <td>0.990994</td>\n",
       "      <td>0.998133</td>\n",
       "      <td>0.968722</td>\n",
       "    </tr>\n",
       "  </tbody>\n",
       "</table>\n",
       "</div>"
      ],
      "text/plain": [
       "   accuracy  sensitivity  specificity  precision       AUC       MCC\n",
       "0  0.988146     0.962335        0.997   0.990994  0.998133  0.968722"
      ]
     },
     "execution_count": 76,
     "metadata": {},
     "output_type": "execute_result"
    }
   ],
   "source": [
    "metrics = Metrics(y, valid_pred, valid_prob)\n",
    "metrics.get_metrics()"
   ]
  },
  {
   "cell_type": "code",
   "execution_count": 77,
   "id": "f86b64c6-1213-4088-920b-32e5332ce778",
   "metadata": {},
   "outputs": [],
   "source": [
    "test_pred = automl.predict(df_test)"
   ]
  },
  {
   "cell_type": "code",
   "execution_count": 78,
   "id": "f1b71867-70d5-4afd-8472-b63c2c0f1958",
   "metadata": {},
   "outputs": [],
   "source": [
    "test_prob = test_pred.data.reshape(-1, )\n",
    "test_pred = (test_pred.data[:, 0] > 0.5) * 1"
   ]
  },
  {
   "cell_type": "code",
   "execution_count": 79,
   "id": "469c6a60-e07e-4e0c-a011-e9852a205efa",
   "metadata": {},
   "outputs": [],
   "source": [
    "metrics = Metrics(y_test, test_pred, test_prob)"
   ]
  },
  {
   "cell_type": "code",
   "execution_count": 80,
   "id": "82c4edc2-52c4-4128-be73-5195ef85feca",
   "metadata": {},
   "outputs": [
    {
     "data": {
      "text/html": [
       "<div>\n",
       "<style scoped>\n",
       "    .dataframe tbody tr th:only-of-type {\n",
       "        vertical-align: middle;\n",
       "    }\n",
       "\n",
       "    .dataframe tbody tr th {\n",
       "        vertical-align: top;\n",
       "    }\n",
       "\n",
       "    .dataframe thead th {\n",
       "        text-align: right;\n",
       "    }\n",
       "</style>\n",
       "<table border=\"1\" class=\"dataframe\">\n",
       "  <thead>\n",
       "    <tr style=\"text-align: right;\">\n",
       "      <th></th>\n",
       "      <th>accuracy</th>\n",
       "      <th>sensitivity</th>\n",
       "      <th>specificity</th>\n",
       "      <th>precision</th>\n",
       "      <th>AUC</th>\n",
       "      <th>MCC</th>\n",
       "    </tr>\n",
       "  </thead>\n",
       "  <tbody>\n",
       "    <tr>\n",
       "      <th>0</th>\n",
       "      <td>0.91685</td>\n",
       "      <td>0.8343</td>\n",
       "      <td>0.9994</td>\n",
       "      <td>0.999281</td>\n",
       "      <td>0.995064</td>\n",
       "      <td>0.8453</td>\n",
       "    </tr>\n",
       "  </tbody>\n",
       "</table>\n",
       "</div>"
      ],
      "text/plain": [
       "   accuracy  sensitivity  specificity  precision       AUC     MCC\n",
       "0   0.91685       0.8343       0.9994   0.999281  0.995064  0.8453"
      ]
     },
     "execution_count": 80,
     "metadata": {},
     "output_type": "execute_result"
    }
   ],
   "source": [
    "metrics.get_metrics()"
   ]
  },
  {
   "cell_type": "code",
   "execution_count": null,
   "id": "f926c251-f319-438f-a530-958d37fc8848",
   "metadata": {},
   "outputs": [],
   "source": []
  }
 ],
 "metadata": {
  "kernelspec": {
   "display_name": "Python 3 (ipykernel)",
   "language": "python",
   "name": "python3"
  },
  "language_info": {
   "codemirror_mode": {
    "name": "ipython",
    "version": 3
   },
   "file_extension": ".py",
   "mimetype": "text/x-python",
   "name": "python",
   "nbconvert_exporter": "python",
   "pygments_lexer": "ipython3",
   "version": "3.11.5"
  }
 },
 "nbformat": 4,
 "nbformat_minor": 5
}
