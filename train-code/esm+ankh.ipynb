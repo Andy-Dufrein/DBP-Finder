{
 "cells": [
  {
   "cell_type": "code",
   "execution_count": 53,
   "id": "1c964519-8639-4577-912d-9741eddd6c0a",
   "metadata": {},
   "outputs": [],
   "source": [
    "import pandas as pd\n",
    "import pickle\n",
    "import numpy as np\n",
    "import joblib\n",
    "from sklearn.model_selection import train_test_split\n",
    "from sklearn.model_selection import GroupShuffleSplit\n",
    "from train_src import merge_embed, filter_train, make_balanced_df, make_lama_df, merge_embed, Metrics, form_Xy\n",
    "\n",
    "\n",
    "from lightautoml.automl.presets.tabular_presets import TabularAutoML\n",
    "from lightautoml.tasks import Task\n",
    "\n",
    "\n",
    "SEED = 42"
   ]
  },
  {
   "cell_type": "code",
   "execution_count": 54,
   "id": "11b34900-bc92-4690-9c92-e773cb3bf558",
   "metadata": {},
   "outputs": [],
   "source": [
    "roles = {\n",
    "    \"target\": \"label\",\n",
    "    \"group\": \"cluster\"\n",
    "}\n",
    "\n",
    "task = Task(\"binary\")"
   ]
  },
  {
   "cell_type": "code",
   "execution_count": 55,
   "id": "0690646f-7c5f-4a26-af0a-de4d9732954b",
   "metadata": {},
   "outputs": [],
   "source": [
    "df = pd.read_csv(\"../data/ready_data/train_p2.csv\")\n",
    "df = df.sample(frac=1, random_state=SEED)"
   ]
  },
  {
   "cell_type": "code",
   "execution_count": 56,
   "id": "8a4fded7-71e4-47f7-b49b-3f10a863f1a7",
   "metadata": {},
   "outputs": [],
   "source": [
    "test_df = df[df[\"source\"] == \"pdb2272\"]"
   ]
  },
  {
   "cell_type": "code",
   "execution_count": 57,
   "id": "bc37d0a0-daf8-459d-a610-0c2f9668ee88",
   "metadata": {},
   "outputs": [],
   "source": [
    "train = df[df[\"source\"] == \"train_p2\"]\n",
    "train = filter_train(train, test_df)"
   ]
  },
  {
   "cell_type": "code",
   "execution_count": 58,
   "id": "9aa08c77-9306-4da2-8e99-c5ea7d243640",
   "metadata": {},
   "outputs": [],
   "source": [
    "from sklearn.model_selection import train_test_split\n",
    "\n",
    "esm_train, ankh_train = train_test_split(train, test_size=0.5, random_state=SEED)"
   ]
  },
  {
   "cell_type": "code",
   "execution_count": 59,
   "id": "c23d2baa-33de-40c0-a80d-b845e776f556",
   "metadata": {},
   "outputs": [],
   "source": [
    "esm_train = merge_embed(esm_train, \"../data/embeddings/esm_embeddings/train_p2.pkl\")\n",
    "X_train, y_train, clusters_train = form_Xy(esm_train, clusters=\"Yes\")\n",
    "esm_train = make_lama_df(X_train, y_train, clusters=clusters_train)"
   ]
  },
  {
   "cell_type": "code",
   "execution_count": 60,
   "id": "1884c606-381e-4735-87b1-45b25d0bbe61",
   "metadata": {},
   "outputs": [
    {
     "ename": "KeyboardInterrupt",
     "evalue": "",
     "output_type": "error",
     "traceback": [
      "\u001b[0;31m---------------------------------------------------------------------------\u001b[0m",
      "\u001b[0;31mKeyboardInterrupt\u001b[0m                         Traceback (most recent call last)",
      "Cell \u001b[0;32mIn[60], line 5\u001b[0m\n\u001b[1;32m      1\u001b[0m esm_model \u001b[38;5;241m=\u001b[39m TabularAutoML(\n\u001b[1;32m      2\u001b[0m     task \u001b[38;5;241m=\u001b[39m task,\n\u001b[1;32m      3\u001b[0m     reader_params \u001b[38;5;241m=\u001b[39m {\u001b[38;5;124m'\u001b[39m\u001b[38;5;124mrandom_state\u001b[39m\u001b[38;5;124m'\u001b[39m: SEED})\n\u001b[0;32m----> 5\u001b[0m oof_pred \u001b[38;5;241m=\u001b[39m \u001b[43mesm_model\u001b[49m\u001b[38;5;241;43m.\u001b[39;49m\u001b[43mfit_predict\u001b[49m\u001b[43m(\u001b[49m\n\u001b[1;32m      6\u001b[0m \u001b[43m    \u001b[49m\u001b[43mesm_train\u001b[49m\u001b[43m,\u001b[49m\n\u001b[1;32m      7\u001b[0m \u001b[43m    \u001b[49m\u001b[43mroles\u001b[49m\u001b[43m \u001b[49m\u001b[38;5;241;43m=\u001b[39;49m\u001b[43m \u001b[49m\u001b[43mroles\u001b[49m\u001b[43m)\u001b[49m\n",
      "File \u001b[0;32m~/anaconda3/envs/bind_predict/lib/python3.11/site-packages/lightautoml/automl/presets/tabular_presets.py:721\u001b[0m, in \u001b[0;36mTabularAutoML.fit_predict\u001b[0;34m(self, train_data, roles, train_features, cv_iter, valid_data, valid_features, log_file, verbose)\u001b[0m\n\u001b[1;32m    718\u001b[0m \u001b[38;5;28;01mif\u001b[39;00m \u001b[38;5;28mself\u001b[39m\u001b[38;5;241m.\u001b[39mis_time_series:\n\u001b[1;32m    719\u001b[0m     train \u001b[38;5;241m=\u001b[39m {\u001b[38;5;124m\"\u001b[39m\u001b[38;5;124mseq\u001b[39m\u001b[38;5;124m\"\u001b[39m: {\u001b[38;5;124m\"\u001b[39m\u001b[38;5;124mseq0\u001b[39m\u001b[38;5;124m\"\u001b[39m: train}}\n\u001b[0;32m--> 721\u001b[0m oof_pred \u001b[38;5;241m=\u001b[39m \u001b[38;5;28;43msuper\u001b[39;49m\u001b[43m(\u001b[49m\u001b[43m)\u001b[49m\u001b[38;5;241;43m.\u001b[39;49m\u001b[43mfit_predict\u001b[49m\u001b[43m(\u001b[49m\u001b[43mtrain\u001b[49m\u001b[43m,\u001b[49m\u001b[43m \u001b[49m\u001b[43mroles\u001b[49m\u001b[38;5;241;43m=\u001b[39;49m\u001b[43mroles\u001b[49m\u001b[43m,\u001b[49m\u001b[43m \u001b[49m\u001b[43mcv_iter\u001b[49m\u001b[38;5;241;43m=\u001b[39;49m\u001b[43mcv_iter\u001b[49m\u001b[43m,\u001b[49m\u001b[43m \u001b[49m\u001b[43mvalid_data\u001b[49m\u001b[38;5;241;43m=\u001b[39;49m\u001b[43mvalid_data\u001b[49m\u001b[43m,\u001b[49m\u001b[43m \u001b[49m\u001b[43mverbose\u001b[49m\u001b[38;5;241;43m=\u001b[39;49m\u001b[43mverbose\u001b[49m\u001b[43m)\u001b[49m\n\u001b[1;32m    723\u001b[0m \u001b[38;5;28;01mreturn\u001b[39;00m cast(NumpyDataset, oof_pred)\n",
      "File \u001b[0;32m~/anaconda3/envs/bind_predict/lib/python3.11/site-packages/lightautoml/automl/presets/base.py:208\u001b[0m, in \u001b[0;36mAutoMLPreset.fit_predict\u001b[0;34m(self, train_data, roles, train_features, cv_iter, valid_data, valid_features, verbose)\u001b[0m\n\u001b[1;32m    205\u001b[0m logger\u001b[38;5;241m.\u001b[39minfo(\u001b[38;5;124mf\u001b[39m\u001b[38;5;124m\"\u001b[39m\u001b[38;5;124m- memory: \u001b[39m\u001b[38;5;132;01m{\u001b[39;00m\u001b[38;5;28mself\u001b[39m\u001b[38;5;241m.\u001b[39mmemory_limit\u001b[38;5;132;01m}\u001b[39;00m\u001b[38;5;124m GB\u001b[39m\u001b[38;5;130;01m\\n\u001b[39;00m\u001b[38;5;124m\"\u001b[39m)\n\u001b[1;32m    207\u001b[0m \u001b[38;5;28mself\u001b[39m\u001b[38;5;241m.\u001b[39mtimer\u001b[38;5;241m.\u001b[39mstart()\n\u001b[0;32m--> 208\u001b[0m result \u001b[38;5;241m=\u001b[39m \u001b[38;5;28;43msuper\u001b[39;49m\u001b[43m(\u001b[49m\u001b[43m)\u001b[49m\u001b[38;5;241;43m.\u001b[39;49m\u001b[43mfit_predict\u001b[49m\u001b[43m(\u001b[49m\n\u001b[1;32m    209\u001b[0m \u001b[43m    \u001b[49m\u001b[43mtrain_data\u001b[49m\u001b[43m,\u001b[49m\n\u001b[1;32m    210\u001b[0m \u001b[43m    \u001b[49m\u001b[43mroles\u001b[49m\u001b[43m,\u001b[49m\n\u001b[1;32m    211\u001b[0m \u001b[43m    \u001b[49m\u001b[43mtrain_features\u001b[49m\u001b[43m,\u001b[49m\n\u001b[1;32m    212\u001b[0m \u001b[43m    \u001b[49m\u001b[43mcv_iter\u001b[49m\u001b[43m,\u001b[49m\n\u001b[1;32m    213\u001b[0m \u001b[43m    \u001b[49m\u001b[43mvalid_data\u001b[49m\u001b[43m,\u001b[49m\n\u001b[1;32m    214\u001b[0m \u001b[43m    \u001b[49m\u001b[43mvalid_features\u001b[49m\u001b[43m,\u001b[49m\n\u001b[1;32m    215\u001b[0m \u001b[43m    \u001b[49m\u001b[43mverbose\u001b[49m\u001b[38;5;241;43m=\u001b[39;49m\u001b[43mverbose\u001b[49m\u001b[43m,\u001b[49m\n\u001b[1;32m    216\u001b[0m \u001b[43m\u001b[49m\u001b[43m)\u001b[49m\n\u001b[1;32m    218\u001b[0m logger\u001b[38;5;241m.\u001b[39minfo(\u001b[38;5;124m\"\u001b[39m\u001b[38;5;130;01m\\x1b\u001b[39;00m\u001b[38;5;124m[1mAutoml preset training completed in \u001b[39m\u001b[38;5;132;01m{:.2f}\u001b[39;00m\u001b[38;5;124m seconds\u001b[39m\u001b[38;5;130;01m\\x1b\u001b[39;00m\u001b[38;5;124m[0m\u001b[39m\u001b[38;5;130;01m\\n\u001b[39;00m\u001b[38;5;124m\"\u001b[39m\u001b[38;5;241m.\u001b[39mformat(\u001b[38;5;28mself\u001b[39m\u001b[38;5;241m.\u001b[39mtimer\u001b[38;5;241m.\u001b[39mtime_spent))\n\u001b[1;32m    219\u001b[0m logger\u001b[38;5;241m.\u001b[39minfo(\u001b[38;5;124mf\u001b[39m\u001b[38;5;124m\"\u001b[39m\u001b[38;5;124mModel description:\u001b[39m\u001b[38;5;130;01m\\n\u001b[39;00m\u001b[38;5;132;01m{\u001b[39;00m\u001b[38;5;28mself\u001b[39m\u001b[38;5;241m.\u001b[39mcreate_model_str_desc()\u001b[38;5;132;01m}\u001b[39;00m\u001b[38;5;130;01m\\n\u001b[39;00m\u001b[38;5;124m\"\u001b[39m)\n",
      "File \u001b[0;32m~/anaconda3/envs/bind_predict/lib/python3.11/site-packages/lightautoml/automl/base.py:218\u001b[0m, in \u001b[0;36mAutoML.fit_predict\u001b[0;34m(self, train_data, roles, train_features, cv_iter, valid_data, valid_features, verbose)\u001b[0m\n\u001b[1;32m    216\u001b[0m \u001b[38;5;28;01mfor\u001b[39;00m k, ml_pipe \u001b[38;5;129;01min\u001b[39;00m \u001b[38;5;28menumerate\u001b[39m(level):\n\u001b[1;32m    217\u001b[0m     ml_pipe\u001b[38;5;241m.\u001b[39mdebug \u001b[38;5;241m=\u001b[39m \u001b[38;5;28mself\u001b[39m\u001b[38;5;241m.\u001b[39mdebug\n\u001b[0;32m--> 218\u001b[0m     pipe_pred \u001b[38;5;241m=\u001b[39m \u001b[43mml_pipe\u001b[49m\u001b[38;5;241;43m.\u001b[39;49m\u001b[43mfit_predict\u001b[49m\u001b[43m(\u001b[49m\u001b[43mtrain_valid\u001b[49m\u001b[43m)\u001b[49m\n\u001b[1;32m    219\u001b[0m     level_predictions\u001b[38;5;241m.\u001b[39mappend(pipe_pred)\n\u001b[1;32m    220\u001b[0m     pipes\u001b[38;5;241m.\u001b[39mappend(ml_pipe)\n",
      "File \u001b[0;32m~/anaconda3/envs/bind_predict/lib/python3.11/site-packages/lightautoml/pipelines/ml/base.py:129\u001b[0m, in \u001b[0;36mMLPipeline.fit_predict\u001b[0;34m(self, train_valid)\u001b[0m\n\u001b[1;32m    127\u001b[0m \u001b[38;5;28;01mfor\u001b[39;00m ml_algo, param_tuner, force_calc \u001b[38;5;129;01min\u001b[39;00m \u001b[38;5;28mzip\u001b[39m(\u001b[38;5;28mself\u001b[39m\u001b[38;5;241m.\u001b[39m_ml_algos, \u001b[38;5;28mself\u001b[39m\u001b[38;5;241m.\u001b[39mparams_tuners, \u001b[38;5;28mself\u001b[39m\u001b[38;5;241m.\u001b[39mforce_calc):\n\u001b[1;32m    128\u001b[0m     ml_algo\u001b[38;5;241m.\u001b[39mdebug \u001b[38;5;241m=\u001b[39m \u001b[38;5;28mgetattr\u001b[39m(\u001b[38;5;28mself\u001b[39m, \u001b[38;5;124m\"\u001b[39m\u001b[38;5;124mdebug\u001b[39m\u001b[38;5;124m\"\u001b[39m, \u001b[38;5;28;01mFalse\u001b[39;00m)\n\u001b[0;32m--> 129\u001b[0m     ml_algo, preds \u001b[38;5;241m=\u001b[39m \u001b[43mtune_and_fit_predict\u001b[49m\u001b[43m(\u001b[49m\u001b[43mml_algo\u001b[49m\u001b[43m,\u001b[49m\u001b[43m \u001b[49m\u001b[43mparam_tuner\u001b[49m\u001b[43m,\u001b[49m\u001b[43m \u001b[49m\u001b[43mtrain_valid\u001b[49m\u001b[43m,\u001b[49m\u001b[43m \u001b[49m\u001b[43mforce_calc\u001b[49m\u001b[43m)\u001b[49m\n\u001b[1;32m    130\u001b[0m     \u001b[38;5;28;01mif\u001b[39;00m ml_algo \u001b[38;5;129;01mis\u001b[39;00m \u001b[38;5;129;01mnot\u001b[39;00m \u001b[38;5;28;01mNone\u001b[39;00m:\n\u001b[1;32m    131\u001b[0m         \u001b[38;5;28mself\u001b[39m\u001b[38;5;241m.\u001b[39mml_algos\u001b[38;5;241m.\u001b[39mappend(ml_algo)\n",
      "File \u001b[0;32m~/anaconda3/envs/bind_predict/lib/python3.11/site-packages/lightautoml/ml_algo/utils.py:77\u001b[0m, in \u001b[0;36mtune_and_fit_predict\u001b[0;34m(ml_algo, params_tuner, train_valid, force_calc)\u001b[0m\n\u001b[1;32m     75\u001b[0m \u001b[38;5;28;01melse\u001b[39;00m:\n\u001b[1;32m     76\u001b[0m     \u001b[38;5;28;01mtry\u001b[39;00m:\n\u001b[0;32m---> 77\u001b[0m         preds \u001b[38;5;241m=\u001b[39m \u001b[43mml_algo\u001b[49m\u001b[38;5;241;43m.\u001b[39;49m\u001b[43mfit_predict\u001b[49m\u001b[43m(\u001b[49m\u001b[43mtrain_valid\u001b[49m\u001b[43m)\u001b[49m\n\u001b[1;32m     78\u001b[0m     \u001b[38;5;28;01mexcept\u001b[39;00m \u001b[38;5;167;01mException\u001b[39;00m \u001b[38;5;28;01mas\u001b[39;00m e:\n\u001b[1;32m     79\u001b[0m         logger\u001b[38;5;241m.\u001b[39minfo2(\u001b[38;5;124m\"\u001b[39m\u001b[38;5;124mModel \u001b[39m\u001b[38;5;132;01m{0}\u001b[39;00m\u001b[38;5;124m failed during ml_algo.fit_predict call.\u001b[39m\u001b[38;5;130;01m\\n\u001b[39;00m\u001b[38;5;130;01m\\n\u001b[39;00m\u001b[38;5;132;01m{1}\u001b[39;00m\u001b[38;5;124m\"\u001b[39m\u001b[38;5;241m.\u001b[39mformat(ml_algo\u001b[38;5;241m.\u001b[39mname, e))\n",
      "File \u001b[0;32m~/anaconda3/envs/bind_predict/lib/python3.11/site-packages/lightautoml/ml_algo/base.py:275\u001b[0m, in \u001b[0;36mTabularMLAlgo.fit_predict\u001b[0;34m(self, train_valid_iterator)\u001b[0m\n\u001b[1;32m    270\u001b[0m     logger\u001b[38;5;241m.\u001b[39minfo2(\n\u001b[1;32m    271\u001b[0m         \u001b[38;5;124m\"\u001b[39m\u001b[38;5;124m===== Start working with \u001b[39m\u001b[38;5;130;01m\\x1b\u001b[39;00m\u001b[38;5;124m[1mfold \u001b[39m\u001b[38;5;132;01m{}\u001b[39;00m\u001b[38;5;130;01m\\x1b\u001b[39;00m\u001b[38;5;124m[0m for \u001b[39m\u001b[38;5;130;01m\\x1b\u001b[39;00m\u001b[38;5;124m[1m\u001b[39m\u001b[38;5;132;01m{}\u001b[39;00m\u001b[38;5;130;01m\\x1b\u001b[39;00m\u001b[38;5;124m[0m =====\u001b[39m\u001b[38;5;124m\"\u001b[39m\u001b[38;5;241m.\u001b[39mformat(n, \u001b[38;5;28mself\u001b[39m\u001b[38;5;241m.\u001b[39m_name)\n\u001b[1;32m    272\u001b[0m     )\n\u001b[1;32m    273\u001b[0m \u001b[38;5;28mself\u001b[39m\u001b[38;5;241m.\u001b[39mtimer\u001b[38;5;241m.\u001b[39mset_control_point()\n\u001b[0;32m--> 275\u001b[0m model, pred \u001b[38;5;241m=\u001b[39m \u001b[38;5;28;43mself\u001b[39;49m\u001b[38;5;241;43m.\u001b[39;49m\u001b[43mfit_predict_single_fold\u001b[49m\u001b[43m(\u001b[49m\u001b[43mtrain\u001b[49m\u001b[43m,\u001b[49m\u001b[43m \u001b[49m\u001b[43mvalid\u001b[49m\u001b[43m)\u001b[49m\n\u001b[1;32m    276\u001b[0m \u001b[38;5;28mself\u001b[39m\u001b[38;5;241m.\u001b[39mmodels\u001b[38;5;241m.\u001b[39mappend(model)\n\u001b[1;32m    277\u001b[0m preds_arr[idx] \u001b[38;5;241m+\u001b[39m\u001b[38;5;241m=\u001b[39m pred\u001b[38;5;241m.\u001b[39mreshape((pred\u001b[38;5;241m.\u001b[39mshape[\u001b[38;5;241m0\u001b[39m], \u001b[38;5;241m-\u001b[39m\u001b[38;5;241m1\u001b[39m))\n",
      "File \u001b[0;32m~/anaconda3/envs/bind_predict/lib/python3.11/site-packages/lightautoml/ml_algo/boost_lgbm.py:255\u001b[0m, in \u001b[0;36mBoostLGBM.fit_predict_single_fold\u001b[0;34m(self, train, valid)\u001b[0m\n\u001b[1;32m    252\u001b[0m lgb_valid \u001b[38;5;241m=\u001b[39m lgb\u001b[38;5;241m.\u001b[39mDataset(valid\u001b[38;5;241m.\u001b[39mdata, label\u001b[38;5;241m=\u001b[39mvalid_target, weight\u001b[38;5;241m=\u001b[39mvalid_weight)\n\u001b[1;32m    254\u001b[0m \u001b[38;5;28;01mwith\u001b[39;00m redirect_stdout(LoggerStream(logger, verbose_eval\u001b[38;5;241m=\u001b[39m\u001b[38;5;241m100\u001b[39m)):\n\u001b[0;32m--> 255\u001b[0m     model \u001b[38;5;241m=\u001b[39m \u001b[43mlgb\u001b[49m\u001b[38;5;241;43m.\u001b[39;49m\u001b[43mtrain\u001b[49m\u001b[43m(\u001b[49m\n\u001b[1;32m    256\u001b[0m \u001b[43m        \u001b[49m\u001b[43mparams\u001b[49m\u001b[43m,\u001b[49m\n\u001b[1;32m    257\u001b[0m \u001b[43m        \u001b[49m\u001b[43mlgb_train\u001b[49m\u001b[43m,\u001b[49m\n\u001b[1;32m    258\u001b[0m \u001b[43m        \u001b[49m\u001b[43mnum_boost_round\u001b[49m\u001b[38;5;241;43m=\u001b[39;49m\u001b[43mnum_trees\u001b[49m\u001b[43m,\u001b[49m\n\u001b[1;32m    259\u001b[0m \u001b[43m        \u001b[49m\u001b[43mvalid_sets\u001b[49m\u001b[38;5;241;43m=\u001b[39;49m\u001b[43m[\u001b[49m\u001b[43mlgb_valid\u001b[49m\u001b[43m]\u001b[49m\u001b[43m,\u001b[49m\n\u001b[1;32m    260\u001b[0m \u001b[43m        \u001b[49m\u001b[43mvalid_names\u001b[49m\u001b[38;5;241;43m=\u001b[39;49m\u001b[43m[\u001b[49m\u001b[38;5;124;43m\"\u001b[39;49m\u001b[38;5;124;43mvalid\u001b[39;49m\u001b[38;5;124;43m\"\u001b[39;49m\u001b[43m]\u001b[49m\u001b[43m,\u001b[49m\n\u001b[1;32m    261\u001b[0m \u001b[43m        \u001b[49m\u001b[43mfobj\u001b[49m\u001b[38;5;241;43m=\u001b[39;49m\u001b[43mfobj\u001b[49m\u001b[43m,\u001b[49m\n\u001b[1;32m    262\u001b[0m \u001b[43m        \u001b[49m\u001b[43mfeval\u001b[49m\u001b[38;5;241;43m=\u001b[39;49m\u001b[43mfeval\u001b[49m\u001b[43m,\u001b[49m\n\u001b[1;32m    263\u001b[0m \u001b[43m        \u001b[49m\u001b[43mearly_stopping_rounds\u001b[49m\u001b[38;5;241;43m=\u001b[39;49m\u001b[43mearly_stopping_rounds\u001b[49m\u001b[43m,\u001b[49m\n\u001b[1;32m    264\u001b[0m \u001b[43m        \u001b[49m\u001b[43mverbose_eval\u001b[49m\u001b[38;5;241;43m=\u001b[39;49m\u001b[43mverbose_eval\u001b[49m\u001b[43m,\u001b[49m\n\u001b[1;32m    265\u001b[0m \u001b[43m    \u001b[49m\u001b[43m)\u001b[49m\n\u001b[1;32m    267\u001b[0m val_pred \u001b[38;5;241m=\u001b[39m model\u001b[38;5;241m.\u001b[39mpredict(valid\u001b[38;5;241m.\u001b[39mdata)\n\u001b[1;32m    268\u001b[0m val_pred \u001b[38;5;241m=\u001b[39m \u001b[38;5;28mself\u001b[39m\u001b[38;5;241m.\u001b[39mtask\u001b[38;5;241m.\u001b[39mlosses[\u001b[38;5;124m\"\u001b[39m\u001b[38;5;124mlgb\u001b[39m\u001b[38;5;124m\"\u001b[39m]\u001b[38;5;241m.\u001b[39mbw_func(val_pred)\n",
      "File \u001b[0;32m~/anaconda3/envs/bind_predict/lib/python3.11/site-packages/lightgbm/engine.py:249\u001b[0m, in \u001b[0;36mtrain\u001b[0;34m(params, train_set, num_boost_round, valid_sets, valid_names, fobj, feval, init_model, feature_name, categorical_feature, early_stopping_rounds, evals_result, verbose_eval, learning_rates, keep_training_booster, callbacks)\u001b[0m\n\u001b[1;32m    241\u001b[0m \u001b[38;5;28;01mfor\u001b[39;00m cb \u001b[38;5;129;01min\u001b[39;00m callbacks_before_iter:\n\u001b[1;32m    242\u001b[0m     cb(callback\u001b[38;5;241m.\u001b[39mCallbackEnv(model\u001b[38;5;241m=\u001b[39mbooster,\n\u001b[1;32m    243\u001b[0m                             params\u001b[38;5;241m=\u001b[39mparams,\n\u001b[1;32m    244\u001b[0m                             iteration\u001b[38;5;241m=\u001b[39mi,\n\u001b[1;32m    245\u001b[0m                             begin_iteration\u001b[38;5;241m=\u001b[39minit_iteration,\n\u001b[1;32m    246\u001b[0m                             end_iteration\u001b[38;5;241m=\u001b[39minit_iteration \u001b[38;5;241m+\u001b[39m num_boost_round,\n\u001b[1;32m    247\u001b[0m                             evaluation_result_list\u001b[38;5;241m=\u001b[39m\u001b[38;5;28;01mNone\u001b[39;00m))\n\u001b[0;32m--> 249\u001b[0m \u001b[43mbooster\u001b[49m\u001b[38;5;241;43m.\u001b[39;49m\u001b[43mupdate\u001b[49m\u001b[43m(\u001b[49m\u001b[43mfobj\u001b[49m\u001b[38;5;241;43m=\u001b[39;49m\u001b[43mfobj\u001b[49m\u001b[43m)\u001b[49m\n\u001b[1;32m    251\u001b[0m evaluation_result_list \u001b[38;5;241m=\u001b[39m []\n\u001b[1;32m    252\u001b[0m \u001b[38;5;66;03m# check evaluation result.\u001b[39;00m\n",
      "File \u001b[0;32m~/anaconda3/envs/bind_predict/lib/python3.11/site-packages/lightgbm/basic.py:2643\u001b[0m, in \u001b[0;36mBooster.update\u001b[0;34m(self, train_set, fobj)\u001b[0m\n\u001b[1;32m   2641\u001b[0m \u001b[38;5;28;01mif\u001b[39;00m \u001b[38;5;28mself\u001b[39m\u001b[38;5;241m.\u001b[39m__set_objective_to_none:\n\u001b[1;32m   2642\u001b[0m     \u001b[38;5;28;01mraise\u001b[39;00m LightGBMError(\u001b[38;5;124m'\u001b[39m\u001b[38;5;124mCannot update due to null objective function.\u001b[39m\u001b[38;5;124m'\u001b[39m)\n\u001b[0;32m-> 2643\u001b[0m _safe_call(\u001b[43m_LIB\u001b[49m\u001b[38;5;241;43m.\u001b[39;49m\u001b[43mLGBM_BoosterUpdateOneIter\u001b[49m\u001b[43m(\u001b[49m\n\u001b[1;32m   2644\u001b[0m \u001b[43m    \u001b[49m\u001b[38;5;28;43mself\u001b[39;49m\u001b[38;5;241;43m.\u001b[39;49m\u001b[43mhandle\u001b[49m\u001b[43m,\u001b[49m\n\u001b[1;32m   2645\u001b[0m \u001b[43m    \u001b[49m\u001b[43mctypes\u001b[49m\u001b[38;5;241;43m.\u001b[39;49m\u001b[43mbyref\u001b[49m\u001b[43m(\u001b[49m\u001b[43mis_finished\u001b[49m\u001b[43m)\u001b[49m\u001b[43m)\u001b[49m)\n\u001b[1;32m   2646\u001b[0m \u001b[38;5;28mself\u001b[39m\u001b[38;5;241m.\u001b[39m__is_predicted_cur_iter \u001b[38;5;241m=\u001b[39m [\u001b[38;5;28;01mFalse\u001b[39;00m \u001b[38;5;28;01mfor\u001b[39;00m _ \u001b[38;5;129;01min\u001b[39;00m \u001b[38;5;28mrange\u001b[39m(\u001b[38;5;28mself\u001b[39m\u001b[38;5;241m.\u001b[39m__num_dataset)]\n\u001b[1;32m   2647\u001b[0m \u001b[38;5;28;01mreturn\u001b[39;00m is_finished\u001b[38;5;241m.\u001b[39mvalue \u001b[38;5;241m==\u001b[39m \u001b[38;5;241m1\u001b[39m\n",
      "\u001b[0;31mKeyboardInterrupt\u001b[0m: "
     ]
    }
   ],
   "source": [
    "esm_model = TabularAutoML(\n",
    "    task = task,\n",
    "    reader_params = {'random_state': SEED})\n",
    "\n",
    "oof_pred = esm_model.fit_predict(\n",
    "    esm_train,\n",
    "    roles = roles)"
   ]
  },
  {
   "cell_type": "code",
   "execution_count": null,
   "id": "c14cb40f-6b31-43b2-a500-32a4d1f38974",
   "metadata": {},
   "outputs": [],
   "source": [
    "valid_prob = oof_pred.data[:, 0]\n",
    "valid_pred = (valid_prob > 0.5) * 1\n",
    "metrics = Metrics(y_train, valid_pred, valid_prob, \"valid\")\n",
    "valid_metrics = metrics.get_metrics()\n",
    "valid_metrics"
   ]
  },
  {
   "cell_type": "code",
   "execution_count": 28,
   "id": "aedadc82-ba7f-4855-9b2d-de71a40ac121",
   "metadata": {},
   "outputs": [],
   "source": [
    "esm_test = merge_embed(test_df, \"../data/embeddings/esm_embeddings/pdb2272.pkl\")\n",
    "X_test, y_test = form_Xy(esm_test)\n",
    "esm_test = make_lama_df(X_test, y_test)"
   ]
  },
  {
   "cell_type": "code",
   "execution_count": 30,
   "id": "1a0da601-268d-4f47-8a00-a0cd1bd55bae",
   "metadata": {},
   "outputs": [
    {
     "data": {
      "text/html": [
       "<div>\n",
       "<style scoped>\n",
       "    .dataframe tbody tr th:only-of-type {\n",
       "        vertical-align: middle;\n",
       "    }\n",
       "\n",
       "    .dataframe tbody tr th {\n",
       "        vertical-align: top;\n",
       "    }\n",
       "\n",
       "    .dataframe thead th {\n",
       "        text-align: right;\n",
       "    }\n",
       "</style>\n",
       "<table border=\"1\" class=\"dataframe\">\n",
       "  <thead>\n",
       "    <tr style=\"text-align: right;\">\n",
       "      <th></th>\n",
       "      <th>accuracy</th>\n",
       "      <th>sensitivity</th>\n",
       "      <th>specificity</th>\n",
       "      <th>precision</th>\n",
       "      <th>AUC</th>\n",
       "      <th>F1</th>\n",
       "      <th>MCC</th>\n",
       "    </tr>\n",
       "  </thead>\n",
       "  <tbody>\n",
       "    <tr>\n",
       "      <th>esm_pdb186</th>\n",
       "      <td>0.790323</td>\n",
       "      <td>0.784946</td>\n",
       "      <td>0.795699</td>\n",
       "      <td>0.793478</td>\n",
       "      <td>0.840791</td>\n",
       "      <td>0.789189</td>\n",
       "      <td>0.580679</td>\n",
       "    </tr>\n",
       "  </tbody>\n",
       "</table>\n",
       "</div>"
      ],
      "text/plain": [
       "            accuracy  sensitivity  specificity  precision       AUC        F1  \\\n",
       "esm_pdb186  0.790323     0.784946     0.795699   0.793478  0.840791  0.789189   \n",
       "\n",
       "                 MCC  \n",
       "esm_pdb186  0.580679  "
      ]
     },
     "execution_count": 30,
     "metadata": {},
     "output_type": "execute_result"
    }
   ],
   "source": [
    "test_pred = esm_model.predict(esm_test)\n",
    "test_prob = test_pred.data.reshape(-1, )\n",
    "test_pred = (test_pred.data[:, 0] > 0.5) * 1\n",
    "metrics = Metrics(y_test, test_pred, test_prob, \"esm_pdb2272\")\n",
    "test_metrics = metrics.get_metrics()\n",
    "test_metrics"
   ]
  },
  {
   "cell_type": "code",
   "execution_count": null,
   "id": "a07a1f6b-7fb7-4e13-83c5-25bd2009c0bc",
   "metadata": {},
   "outputs": [],
   "source": []
  },
  {
   "cell_type": "code",
   "execution_count": 31,
   "id": "8c20d6b4-2782-412c-92d5-cc3b4ebb6f14",
   "metadata": {},
   "outputs": [],
   "source": [
    "ankh_train = merge_embed(ankh_train, \"../data/embeddings/ankh_embeddings/train_p2.pkl\")\n",
    "X_train, y_train, clusters_train = form_Xy(ankh_train, clusters=\"Yes\")\n",
    "ankh_train = make_lama_df(X_train, y_train, clusters=clusters_train)"
   ]
  },
  {
   "cell_type": "code",
   "execution_count": 32,
   "id": "cc48232c-6d42-47d1-974d-fd885f299236",
   "metadata": {},
   "outputs": [
    {
     "name": "stderr",
     "output_type": "stream",
     "text": [
      "Default metric period is 5 because AUC is/are not implemented for GPU\n",
      "Default metric period is 5 because AUC is/are not implemented for GPU\n",
      "Default metric period is 5 because AUC is/are not implemented for GPU\n",
      "Default metric period is 5 because AUC is/are not implemented for GPU\n",
      "Default metric period is 5 because AUC is/are not implemented for GPU\n",
      "Default metric period is 5 because AUC is/are not implemented for GPU\n",
      "Default metric period is 5 because AUC is/are not implemented for GPU\n",
      "Default metric period is 5 because AUC is/are not implemented for GPU\n",
      "Default metric period is 5 because AUC is/are not implemented for GPU\n",
      "Default metric period is 5 because AUC is/are not implemented for GPU\n",
      "Default metric period is 5 because AUC is/are not implemented for GPU\n",
      "Default metric period is 5 because AUC is/are not implemented for GPU\n",
      "Default metric period is 5 because AUC is/are not implemented for GPU\n",
      "Default metric period is 5 because AUC is/are not implemented for GPU\n",
      "Default metric period is 5 because AUC is/are not implemented for GPU\n",
      "Default metric period is 5 because AUC is/are not implemented for GPU\n",
      "Default metric period is 5 because AUC is/are not implemented for GPU\n",
      "Default metric period is 5 because AUC is/are not implemented for GPU\n",
      "Default metric period is 5 because AUC is/are not implemented for GPU\n",
      "Default metric period is 5 because AUC is/are not implemented for GPU\n",
      "Default metric period is 5 because AUC is/are not implemented for GPU\n",
      "Default metric period is 5 because AUC is/are not implemented for GPU\n"
     ]
    }
   ],
   "source": [
    "ankh_model = TabularAutoML(\n",
    "    task = task,\n",
    "    reader_params = {'random_state': SEED})\n",
    "\n",
    "oof_pred = ankh_model.fit_predict(\n",
    "    ankh_train,\n",
    "    roles = roles)"
   ]
  },
  {
   "cell_type": "code",
   "execution_count": 33,
   "id": "e5598da6-f49f-45d3-a8de-04fa04047742",
   "metadata": {},
   "outputs": [
    {
     "data": {
      "text/html": [
       "<div>\n",
       "<style scoped>\n",
       "    .dataframe tbody tr th:only-of-type {\n",
       "        vertical-align: middle;\n",
       "    }\n",
       "\n",
       "    .dataframe tbody tr th {\n",
       "        vertical-align: top;\n",
       "    }\n",
       "\n",
       "    .dataframe thead th {\n",
       "        text-align: right;\n",
       "    }\n",
       "</style>\n",
       "<table border=\"1\" class=\"dataframe\">\n",
       "  <thead>\n",
       "    <tr style=\"text-align: right;\">\n",
       "      <th></th>\n",
       "      <th>accuracy</th>\n",
       "      <th>sensitivity</th>\n",
       "      <th>specificity</th>\n",
       "      <th>precision</th>\n",
       "      <th>AUC</th>\n",
       "      <th>F1</th>\n",
       "      <th>MCC</th>\n",
       "    </tr>\n",
       "  </thead>\n",
       "  <tbody>\n",
       "    <tr>\n",
       "      <th>valid</th>\n",
       "      <td>0.956363</td>\n",
       "      <td>0.939745</td>\n",
       "      <td>0.973006</td>\n",
       "      <td>0.972117</td>\n",
       "      <td>0.989274</td>\n",
       "      <td>0.955657</td>\n",
       "      <td>0.913236</td>\n",
       "    </tr>\n",
       "  </tbody>\n",
       "</table>\n",
       "</div>"
      ],
      "text/plain": [
       "       accuracy  sensitivity  specificity  precision       AUC        F1  \\\n",
       "valid  0.956363     0.939745     0.973006   0.972117  0.989274  0.955657   \n",
       "\n",
       "            MCC  \n",
       "valid  0.913236  "
      ]
     },
     "execution_count": 33,
     "metadata": {},
     "output_type": "execute_result"
    }
   ],
   "source": [
    "valid_prob = oof_pred.data[:, 0]\n",
    "valid_pred = (valid_prob > 0.5) * 1\n",
    "metrics = Metrics(y_train, valid_pred, valid_prob, \"valid\")\n",
    "valid_metrics = metrics.get_metrics()\n",
    "valid_metrics"
   ]
  },
  {
   "cell_type": "code",
   "execution_count": 34,
   "id": "72423816-0a60-4497-80fa-88219fef13d0",
   "metadata": {},
   "outputs": [],
   "source": [
    "ankh_test = merge_embed(test_df, \"../data/embeddings/ankh_embeddings/pdb2272.pkl\")\n",
    "X_test, y_test = form_Xy(ankh_test)\n",
    "ankh_test = make_lama_df(X_test, y_test)"
   ]
  },
  {
   "cell_type": "code",
   "execution_count": 36,
   "id": "b8546e93-4719-4247-a030-f550e64e0a9a",
   "metadata": {},
   "outputs": [
    {
     "data": {
      "text/html": [
       "<div>\n",
       "<style scoped>\n",
       "    .dataframe tbody tr th:only-of-type {\n",
       "        vertical-align: middle;\n",
       "    }\n",
       "\n",
       "    .dataframe tbody tr th {\n",
       "        vertical-align: top;\n",
       "    }\n",
       "\n",
       "    .dataframe thead th {\n",
       "        text-align: right;\n",
       "    }\n",
       "</style>\n",
       "<table border=\"1\" class=\"dataframe\">\n",
       "  <thead>\n",
       "    <tr style=\"text-align: right;\">\n",
       "      <th></th>\n",
       "      <th>accuracy</th>\n",
       "      <th>sensitivity</th>\n",
       "      <th>specificity</th>\n",
       "      <th>precision</th>\n",
       "      <th>AUC</th>\n",
       "      <th>F1</th>\n",
       "      <th>MCC</th>\n",
       "    </tr>\n",
       "  </thead>\n",
       "  <tbody>\n",
       "    <tr>\n",
       "      <th>ankh_pdb186</th>\n",
       "      <td>0.790323</td>\n",
       "      <td>0.763441</td>\n",
       "      <td>0.817204</td>\n",
       "      <td>0.806818</td>\n",
       "      <td>0.863915</td>\n",
       "      <td>0.78453</td>\n",
       "      <td>0.581486</td>\n",
       "    </tr>\n",
       "  </tbody>\n",
       "</table>\n",
       "</div>"
      ],
      "text/plain": [
       "             accuracy  sensitivity  specificity  precision       AUC       F1  \\\n",
       "ankh_pdb186  0.790323     0.763441     0.817204   0.806818  0.863915  0.78453   \n",
       "\n",
       "                  MCC  \n",
       "ankh_pdb186  0.581486  "
      ]
     },
     "execution_count": 36,
     "metadata": {},
     "output_type": "execute_result"
    }
   ],
   "source": [
    "test_pred = ankh_model.predict(ankh_test)\n",
    "test_prob = test_pred.data.reshape(-1, )\n",
    "test_pred = (test_pred.data[:, 0] > 0.5) * 1\n",
    "metrics = Metrics(y_test, test_pred, test_prob, \"ankh_pdb2272\")\n",
    "test_metrics = metrics.get_metrics()\n",
    "test_metrics"
   ]
  },
  {
   "cell_type": "markdown",
   "id": "4969cc05-f02d-4924-8e0b-969c1d9ba845",
   "metadata": {},
   "source": [
    "Усреднение"
   ]
  },
  {
   "cell_type": "code",
   "execution_count": 39,
   "id": "56353ad3-01ab-42a5-803d-f670e6042254",
   "metadata": {},
   "outputs": [],
   "source": [
    "ankh_pred = ankh_model.predict(ankh_test)\n",
    "esm_pred = esm_model.predict(esm_test)"
   ]
  },
  {
   "cell_type": "code",
   "execution_count": 43,
   "id": "6ed860b5-9f01-4bc5-abe3-8951c131198b",
   "metadata": {},
   "outputs": [],
   "source": [
    "ankh_pred = ankh_pred.data\n",
    "esm_pred = esm_pred.data"
   ]
  },
  {
   "cell_type": "code",
   "execution_count": 47,
   "id": "9bd5c8f0-0e87-4d34-b2ff-6ff7d649eb24",
   "metadata": {},
   "outputs": [],
   "source": [
    "avg_prob = np.concatenate((ankh_pred, esm_pred), axis=1).mean(axis=1).reshape(-1, 1)"
   ]
  },
  {
   "cell_type": "code",
   "execution_count": 50,
   "id": "66fa3c64-13c1-4b7d-8fdd-496bf8fe171b",
   "metadata": {},
   "outputs": [],
   "source": [
    "avg_pred = (avg_prob[:, 0] > 0.5) * 1"
   ]
  },
  {
   "cell_type": "code",
   "execution_count": 52,
   "id": "910b0962-b1c4-4580-9294-abad86857872",
   "metadata": {},
   "outputs": [
    {
     "data": {
      "text/html": [
       "<div>\n",
       "<style scoped>\n",
       "    .dataframe tbody tr th:only-of-type {\n",
       "        vertical-align: middle;\n",
       "    }\n",
       "\n",
       "    .dataframe tbody tr th {\n",
       "        vertical-align: top;\n",
       "    }\n",
       "\n",
       "    .dataframe thead th {\n",
       "        text-align: right;\n",
       "    }\n",
       "</style>\n",
       "<table border=\"1\" class=\"dataframe\">\n",
       "  <thead>\n",
       "    <tr style=\"text-align: right;\">\n",
       "      <th></th>\n",
       "      <th>accuracy</th>\n",
       "      <th>sensitivity</th>\n",
       "      <th>specificity</th>\n",
       "      <th>precision</th>\n",
       "      <th>AUC</th>\n",
       "      <th>F1</th>\n",
       "      <th>MCC</th>\n",
       "    </tr>\n",
       "  </thead>\n",
       "  <tbody>\n",
       "    <tr>\n",
       "      <th>avg_pdb186</th>\n",
       "      <td>0.817204</td>\n",
       "      <td>0.817204</td>\n",
       "      <td>0.817204</td>\n",
       "      <td>0.817204</td>\n",
       "      <td>0.864724</td>\n",
       "      <td>0.817204</td>\n",
       "      <td>0.634409</td>\n",
       "    </tr>\n",
       "  </tbody>\n",
       "</table>\n",
       "</div>"
      ],
      "text/plain": [
       "            accuracy  sensitivity  specificity  precision       AUC        F1  \\\n",
       "avg_pdb186  0.817204     0.817204     0.817204   0.817204  0.864724  0.817204   \n",
       "\n",
       "                 MCC  \n",
       "avg_pdb186  0.634409  "
      ]
     },
     "execution_count": 52,
     "metadata": {},
     "output_type": "execute_result"
    }
   ],
   "source": [
    "metrics = Metrics(y_test, avg_pred, avg_prob, \"avg_pdb2272\")\n",
    "test_metrics = metrics.get_metrics()\n",
    "test_metrics"
   ]
  },
  {
   "cell_type": "code",
   "execution_count": null,
   "id": "fc5114ac-0a74-4ca3-8aa2-3a9e27b449fe",
   "metadata": {},
   "outputs": [],
   "source": []
  }
 ],
 "metadata": {
  "kernelspec": {
   "display_name": "Python 3 (ipykernel)",
   "language": "python",
   "name": "python3"
  },
  "language_info": {
   "codemirror_mode": {
    "name": "ipython",
    "version": 3
   },
   "file_extension": ".py",
   "mimetype": "text/x-python",
   "name": "python",
   "nbconvert_exporter": "python",
   "pygments_lexer": "ipython3",
   "version": "3.11.5"
  }
 },
 "nbformat": 4,
 "nbformat_minor": 5
}
