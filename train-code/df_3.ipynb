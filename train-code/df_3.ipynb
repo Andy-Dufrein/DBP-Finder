{
 "cells": [
  {
   "cell_type": "code",
   "execution_count": 35,
   "id": "85580aa9-5887-470e-9e06-b6a6a6d232f1",
   "metadata": {},
   "outputs": [],
   "source": [
    "import pandas as pd\n",
    "import pickle\n",
    "import numpy as np\n",
    "from sklearn.model_selection import train_test_split\n",
    "from sklearn.model_selection import GroupShuffleSplit"
   ]
  },
  {
   "cell_type": "code",
   "execution_count": 2,
   "id": "2ef50a6c-c60c-41d8-a310-12071feaf752",
   "metadata": {},
   "outputs": [],
   "source": [
    "import sys"
   ]
  },
  {
   "cell_type": "code",
   "execution_count": 3,
   "id": "d4dbdfb7-b12a-48e0-a126-259b239af64a",
   "metadata": {},
   "outputs": [],
   "source": [
    "sys.path.append(\"../src\")"
   ]
  },
  {
   "cell_type": "code",
   "execution_count": 4,
   "id": "a0685bf5-4285-416a-a93c-8ffbac20696d",
   "metadata": {},
   "outputs": [],
   "source": [
    "from utils import load_obj, dict_to_df, make_df, make_lama_df, Metrics, form_Xy"
   ]
  },
  {
   "cell_type": "code",
   "execution_count": 5,
   "id": "40ba774c-4730-4c4d-a67f-97e5edbed18e",
   "metadata": {},
   "outputs": [
    {
     "name": "stdout",
     "output_type": "stream",
     "text": [
      "'nlp' extra dependecy package 'gensim' isn't installed. Look at README.md in repo 'LightAutoML' for installation instructions.\n",
      "'nlp' extra dependecy package 'nltk' isn't installed. Look at README.md in repo 'LightAutoML' for installation instructions.\n",
      "'nlp' extra dependecy package 'gensim' isn't installed. Look at README.md in repo 'LightAutoML' for installation instructions.\n",
      "'nlp' extra dependecy package 'nltk' isn't installed. Look at README.md in repo 'LightAutoML' for installation instructions.\n"
     ]
    },
    {
     "name": "stderr",
     "output_type": "stream",
     "text": [
      "/home/gavrilenkoa/anaconda3/envs/bind_predict/lib/python3.11/site-packages/lightautoml/text/tokenizer.py:21: UserWarning: 'nltk' - package isn't installed\n",
      "  warnings.warn(\"'nltk' - package isn't installed\")\n",
      "/home/gavrilenkoa/anaconda3/envs/bind_predict/lib/python3.11/site-packages/lightautoml/transformers/text.py:22: UserWarning: 'gensim' - package isn't installed\n",
      "  warnings.warn(\"'gensim' - package isn't installed\")\n",
      "/home/gavrilenkoa/anaconda3/envs/bind_predict/lib/python3.11/site-packages/lightautoml/ml_algo/dl_model.py:42: UserWarning: 'transformers' - package isn't installed\n",
      "  warnings.warn(\"'transformers' - package isn't installed\")\n"
     ]
    }
   ],
   "source": [
    "from lightautoml.automl.presets.tabular_presets import TabularAutoML\n",
    "from lightautoml.tasks import Task"
   ]
  },
  {
   "cell_type": "code",
   "execution_count": 24,
   "id": "fa9ecb27-8459-480f-95f4-b40cf82a584c",
   "metadata": {},
   "outputs": [],
   "source": [
    "df = pd.read_csv(\"../data/ready_data/df_3.csv\")"
   ]
  },
  {
   "cell_type": "code",
   "execution_count": 26,
   "id": "6f082c55-16d3-4370-b021-ce4a6a35f6d9",
   "metadata": {},
   "outputs": [],
   "source": [
    "SEED = 42"
   ]
  },
  {
   "cell_type": "code",
   "execution_count": 27,
   "id": "8759d17a-e9e5-4d25-a7e8-0bf54ca84de9",
   "metadata": {},
   "outputs": [],
   "source": [
    "embeddings = load_obj(\"../data/embeddings/df_3.pkl\")"
   ]
  },
  {
   "cell_type": "code",
   "execution_count": 28,
   "id": "46ee1130-f7d9-4435-b509-0f2bac4002f5",
   "metadata": {},
   "outputs": [],
   "source": [
    "embeddings_df = dict_to_df(embeddings)"
   ]
  },
  {
   "cell_type": "code",
   "execution_count": 29,
   "id": "ca284f4f-a97f-4277-899e-463a4e78ab5a",
   "metadata": {},
   "outputs": [],
   "source": [
    "df = df.merge(embeddings_df, on=\"identifier\")"
   ]
  },
  {
   "cell_type": "code",
   "execution_count": 30,
   "id": "06f166b5-9cd3-4914-8081-c9d5c1d07f1a",
   "metadata": {},
   "outputs": [
    {
     "name": "stdout",
     "output_type": "stream",
     "text": [
      "Доля кластеров относительно сиквенсов 0.3291292629760918\n"
     ]
    }
   ],
   "source": [
    "fraction = len(df.clusters.unique()) / len(df)\n",
    "print(f\"Доля уникальных кластеров относительно сиквенсов {fraction}\")"
   ]
  },
  {
   "cell_type": "code",
   "execution_count": 31,
   "id": "52ed6863-4541-4b1c-bdda-ac5641fe8b64",
   "metadata": {},
   "outputs": [
    {
     "name": "stdout",
     "output_type": "stream",
     "text": [
      "Доля кластеров в которых есть сиквенсы с разными лейблами 0.09 %\n"
     ]
    }
   ],
   "source": [
    "i = 0\n",
    "grouped = df.groupby(\"clusters\")\n",
    "for _, group in grouped:\n",
    "    if len(group.label.unique()) > 1:\n",
    "        i += 1\n",
    "fraction = np.round((i / len(grouped)) * 100, 2)\n",
    "print(f\"Доля кластеров в которых есть сиквенсы с разными лейблами {fraction} %\")"
   ]
  },
  {
   "cell_type": "code",
   "execution_count": 32,
   "id": "6d4721cb-084f-4687-b648-448b3431d617",
   "metadata": {},
   "outputs": [],
   "source": [
    "X, y, clusters = form_Xy(df, clusters=\"Yes\")"
   ]
  },
  {
   "cell_type": "code",
   "execution_count": 36,
   "id": "469b290d-2abe-4a7c-a222-255ea9f0ae12",
   "metadata": {},
   "outputs": [],
   "source": [
    "gss = GroupShuffleSplit(n_splits=1, train_size=.65, random_state=SEED)"
   ]
  },
  {
   "cell_type": "code",
   "execution_count": 37,
   "id": "59856f1b-3f1d-4a57-9fb7-73b0e5174558",
   "metadata": {},
   "outputs": [],
   "source": [
    "for train_idx, test_idx in gss.split(X, y, groups=clusters):\n",
    "    X_train = X[train_idx]\n",
    "    X_test = X[test_idx]\n",
    "\n",
    "    y_train = y[train_idx]\n",
    "    y_test = y[test_idx]\n",
    "\n",
    "    clusters_train = clusters[train_idx]\n",
    "    clusters_test = clusters[test_idx]"
   ]
  },
  {
   "cell_type": "code",
   "execution_count": 38,
   "id": "010e21f0-fad8-4776-90fe-83689798b81c",
   "metadata": {},
   "outputs": [],
   "source": [
    "df_train = make_lama_df(X_train, y_train, clusters=clusters_train)"
   ]
  },
  {
   "cell_type": "code",
   "execution_count": 40,
   "id": "297c5fe2-dfe8-4c6f-af40-8827de03abe9",
   "metadata": {},
   "outputs": [],
   "source": [
    "roles = {\n",
    "    \"target\": \"label\",\n",
    "    \"group\": \"clusters\"\n",
    "}"
   ]
  },
  {
   "cell_type": "code",
   "execution_count": 41,
   "id": "c30e51bf-f0d3-4009-91f1-57869dcac9bd",
   "metadata": {},
   "outputs": [],
   "source": [
    "task = Task(\"binary\")"
   ]
  },
  {
   "cell_type": "code",
   "execution_count": 42,
   "id": "9694b34d-ae49-4b60-9518-e85f5235f4d8",
   "metadata": {},
   "outputs": [],
   "source": [
    "automl = TabularAutoML(\n",
    "    task = task,\n",
    "    reader_params = {'random_state': SEED})"
   ]
  },
  {
   "cell_type": "code",
   "execution_count": 43,
   "id": "8a351a75-0bb0-4058-9a0b-43280cce2037",
   "metadata": {},
   "outputs": [
    {
     "name": "stderr",
     "output_type": "stream",
     "text": [
      "Default metric period is 5 because AUC is/are not implemented for GPU\n",
      "Default metric period is 5 because AUC is/are not implemented for GPU\n",
      "Default metric period is 5 because AUC is/are not implemented for GPU\n",
      "Default metric period is 5 because AUC is/are not implemented for GPU\n",
      "Default metric period is 5 because AUC is/are not implemented for GPU\n",
      "Default metric period is 5 because AUC is/are not implemented for GPU\n",
      "Default metric period is 5 because AUC is/are not implemented for GPU\n",
      "Default metric period is 5 because AUC is/are not implemented for GPU\n",
      "Default metric period is 5 because AUC is/are not implemented for GPU\n",
      "Default metric period is 5 because AUC is/are not implemented for GPU\n",
      "Default metric period is 5 because AUC is/are not implemented for GPU\n",
      "Default metric period is 5 because AUC is/are not implemented for GPU\n",
      "Default metric period is 5 because AUC is/are not implemented for GPU\n",
      "Default metric period is 5 because AUC is/are not implemented for GPU\n",
      "Default metric period is 5 because AUC is/are not implemented for GPU\n",
      "Default metric period is 5 because AUC is/are not implemented for GPU\n",
      "Default metric period is 5 because AUC is/are not implemented for GPU\n",
      "Default metric period is 5 because AUC is/are not implemented for GPU\n",
      "Default metric period is 5 because AUC is/are not implemented for GPU\n",
      "Default metric period is 5 because AUC is/are not implemented for GPU\n",
      "Default metric period is 5 because AUC is/are not implemented for GPU\n",
      "Default metric period is 5 because AUC is/are not implemented for GPU\n",
      "Default metric period is 5 because AUC is/are not implemented for GPU\n",
      "Default metric period is 5 because AUC is/are not implemented for GPU\n",
      "Default metric period is 5 because AUC is/are not implemented for GPU\n",
      "Default metric period is 5 because AUC is/are not implemented for GPU\n",
      "Default metric period is 5 because AUC is/are not implemented for GPU\n",
      "Default metric period is 5 because AUC is/are not implemented for GPU\n",
      "Default metric period is 5 because AUC is/are not implemented for GPU\n",
      "Default metric period is 5 because AUC is/are not implemented for GPU\n",
      "Default metric period is 5 because AUC is/are not implemented for GPU\n",
      "Default metric period is 5 because AUC is/are not implemented for GPU\n",
      "Default metric period is 5 because AUC is/are not implemented for GPU\n",
      "Default metric period is 5 because AUC is/are not implemented for GPU\n",
      "Default metric period is 5 because AUC is/are not implemented for GPU\n",
      "Default metric period is 5 because AUC is/are not implemented for GPU\n",
      "Default metric period is 5 because AUC is/are not implemented for GPU\n",
      "Default metric period is 5 because AUC is/are not implemented for GPU\n",
      "Default metric period is 5 because AUC is/are not implemented for GPU\n"
     ]
    }
   ],
   "source": [
    "oof_pred = automl.fit_predict(\n",
    "    df_train,\n",
    "    roles = roles)"
   ]
  },
  {
   "cell_type": "code",
   "execution_count": 44,
   "id": "8dee6597-4fe7-44d7-9200-18872156c3d0",
   "metadata": {},
   "outputs": [],
   "source": [
    "valid_prob = oof_pred.data[:, 0]\n",
    "valid_pred = (valid_prob > 0.5) * 1"
   ]
  },
  {
   "cell_type": "code",
   "execution_count": 45,
   "id": "1b86b95b-439e-430e-a9c9-7be26f862432",
   "metadata": {},
   "outputs": [
    {
     "data": {
      "text/html": [
       "<div>\n",
       "<style scoped>\n",
       "    .dataframe tbody tr th:only-of-type {\n",
       "        vertical-align: middle;\n",
       "    }\n",
       "\n",
       "    .dataframe tbody tr th {\n",
       "        vertical-align: top;\n",
       "    }\n",
       "\n",
       "    .dataframe thead th {\n",
       "        text-align: right;\n",
       "    }\n",
       "</style>\n",
       "<table border=\"1\" class=\"dataframe\">\n",
       "  <thead>\n",
       "    <tr style=\"text-align: right;\">\n",
       "      <th></th>\n",
       "      <th>accuracy</th>\n",
       "      <th>sensitivity</th>\n",
       "      <th>specificity</th>\n",
       "      <th>precision</th>\n",
       "      <th>AUC</th>\n",
       "      <th>MCC</th>\n",
       "    </tr>\n",
       "  </thead>\n",
       "  <tbody>\n",
       "    <tr>\n",
       "      <th>0</th>\n",
       "      <td>0.997122</td>\n",
       "      <td>0.994461</td>\n",
       "      <td>0.999725</td>\n",
       "      <td>0.999717</td>\n",
       "      <td>0.999943</td>\n",
       "      <td>0.994257</td>\n",
       "    </tr>\n",
       "  </tbody>\n",
       "</table>\n",
       "</div>"
      ],
      "text/plain": [
       "   accuracy  sensitivity  specificity  precision       AUC       MCC\n",
       "0  0.997122     0.994461     0.999725   0.999717  0.999943  0.994257"
      ]
     },
     "execution_count": 45,
     "metadata": {},
     "output_type": "execute_result"
    }
   ],
   "source": [
    "metrics = Metrics(y_train, valid_pred, valid_prob)\n",
    "metrics.get_metrics()"
   ]
  },
  {
   "cell_type": "code",
   "execution_count": 46,
   "id": "02111882-f8de-4708-aa60-3a9900a3d405",
   "metadata": {},
   "outputs": [],
   "source": [
    "df_test = make_lama_df(X_test, y_test, clusters=clusters_test)"
   ]
  },
  {
   "cell_type": "code",
   "execution_count": 47,
   "id": "f524cd6e-5c7d-4119-a71a-592b5322dc14",
   "metadata": {},
   "outputs": [],
   "source": [
    "test_pred = automl.predict(df_test)\n",
    "test_prob = test_pred.data.reshape(-1, )\n",
    "test_pred = (test_pred.data[:, 0] > 0.5) * 1"
   ]
  },
  {
   "cell_type": "code",
   "execution_count": 48,
   "id": "6885c4be-54c2-47d8-91a3-0ea85bd7fe3c",
   "metadata": {},
   "outputs": [
    {
     "data": {
      "text/html": [
       "<div>\n",
       "<style scoped>\n",
       "    .dataframe tbody tr th:only-of-type {\n",
       "        vertical-align: middle;\n",
       "    }\n",
       "\n",
       "    .dataframe tbody tr th {\n",
       "        vertical-align: top;\n",
       "    }\n",
       "\n",
       "    .dataframe thead th {\n",
       "        text-align: right;\n",
       "    }\n",
       "</style>\n",
       "<table border=\"1\" class=\"dataframe\">\n",
       "  <thead>\n",
       "    <tr style=\"text-align: right;\">\n",
       "      <th></th>\n",
       "      <th>accuracy</th>\n",
       "      <th>sensitivity</th>\n",
       "      <th>specificity</th>\n",
       "      <th>precision</th>\n",
       "      <th>AUC</th>\n",
       "      <th>MCC</th>\n",
       "    </tr>\n",
       "  </thead>\n",
       "  <tbody>\n",
       "    <tr>\n",
       "      <th>0</th>\n",
       "      <td>0.997127</td>\n",
       "      <td>0.994396</td>\n",
       "      <td>0.999802</td>\n",
       "      <td>0.999797</td>\n",
       "      <td>0.999892</td>\n",
       "      <td>0.994267</td>\n",
       "    </tr>\n",
       "  </tbody>\n",
       "</table>\n",
       "</div>"
      ],
      "text/plain": [
       "   accuracy  sensitivity  specificity  precision       AUC       MCC\n",
       "0  0.997127     0.994396     0.999802   0.999797  0.999892  0.994267"
      ]
     },
     "execution_count": 48,
     "metadata": {},
     "output_type": "execute_result"
    }
   ],
   "source": [
    "metrics = Metrics(y_test, test_pred, test_prob)\n",
    "metrics.get_metrics()"
   ]
  },
  {
   "cell_type": "markdown",
   "id": "678751ab-e182-4721-a552-ece698b20098",
   "metadata": {},
   "source": [
    "#### Test on the benchmark test data"
   ]
  },
  {
   "cell_type": "code",
   "execution_count": 49,
   "id": "2612c90d-eb20-4771-a8d9-26502afb4ab6",
   "metadata": {},
   "outputs": [
    {
     "data": {
      "text/html": [
       "<div>\n",
       "<style scoped>\n",
       "    .dataframe tbody tr th:only-of-type {\n",
       "        vertical-align: middle;\n",
       "    }\n",
       "\n",
       "    .dataframe tbody tr th {\n",
       "        vertical-align: top;\n",
       "    }\n",
       "\n",
       "    .dataframe thead th {\n",
       "        text-align: right;\n",
       "    }\n",
       "</style>\n",
       "<table border=\"1\" class=\"dataframe\">\n",
       "  <thead>\n",
       "    <tr style=\"text-align: right;\">\n",
       "      <th></th>\n",
       "      <th>accuracy</th>\n",
       "      <th>sensitivity</th>\n",
       "      <th>specificity</th>\n",
       "      <th>precision</th>\n",
       "      <th>AUC</th>\n",
       "      <th>MCC</th>\n",
       "    </tr>\n",
       "  </thead>\n",
       "  <tbody>\n",
       "    <tr>\n",
       "      <th>0</th>\n",
       "      <td>0.513</td>\n",
       "      <td>0.0261</td>\n",
       "      <td>0.9999</td>\n",
       "      <td>0.996183</td>\n",
       "      <td>0.841428</td>\n",
       "      <td>0.114333</td>\n",
       "    </tr>\n",
       "  </tbody>\n",
       "</table>\n",
       "</div>"
      ],
      "text/plain": [
       "   accuracy  sensitivity  specificity  precision       AUC       MCC\n",
       "0     0.513       0.0261       0.9999   0.996183  0.841428  0.114333"
      ]
     },
     "execution_count": 49,
     "metadata": {},
     "output_type": "execute_result"
    }
   ],
   "source": [
    "df = make_df(\"../data/embeddings/overall_data.pkl\", \"../data/DBP_papers_data/overall_data.csv\")\n",
    "pdb20000 = df[df[\"identifier\"].str.contains(\"pdb20000\")]\n",
    "X_test, y_test = form_Xy(pdb20000)\n",
    "df_test = make_lama_df(X_test, y_test)\n",
    "test_pred = automl.predict(df_test)\n",
    "test_prob = test_pred.data.reshape(-1, )\n",
    "test_pred = (test_pred.data[:, 0] > 0.5) * 1\n",
    "metrics = Metrics(y_test, test_pred, test_prob)\n",
    "metrics.get_metrics()"
   ]
  },
  {
   "cell_type": "code",
   "execution_count": 50,
   "id": "1d3daa9e-4f1b-4f8d-8904-05fde547348c",
   "metadata": {},
   "outputs": [
    {
     "name": "stderr",
     "output_type": "stream",
     "text": [
      "/home/gavrilenkoa/anaconda3/envs/bind_predict/lib/python3.11/site-packages/sklearn/metrics/_classification.py:1497: UndefinedMetricWarning: Precision is ill-defined and being set to 0.0 due to no predicted samples. Use `zero_division` parameter to control this behavior.\n",
      "  _warn_prf(average, modifier, f\"{metric.capitalize()} is\", len(result))\n"
     ]
    },
    {
     "data": {
      "text/html": [
       "<div>\n",
       "<style scoped>\n",
       "    .dataframe tbody tr th:only-of-type {\n",
       "        vertical-align: middle;\n",
       "    }\n",
       "\n",
       "    .dataframe tbody tr th {\n",
       "        vertical-align: top;\n",
       "    }\n",
       "\n",
       "    .dataframe thead th {\n",
       "        text-align: right;\n",
       "    }\n",
       "</style>\n",
       "<table border=\"1\" class=\"dataframe\">\n",
       "  <thead>\n",
       "    <tr style=\"text-align: right;\">\n",
       "      <th></th>\n",
       "      <th>accuracy</th>\n",
       "      <th>sensitivity</th>\n",
       "      <th>specificity</th>\n",
       "      <th>precision</th>\n",
       "      <th>AUC</th>\n",
       "      <th>MCC</th>\n",
       "    </tr>\n",
       "  </thead>\n",
       "  <tbody>\n",
       "    <tr>\n",
       "      <th>0</th>\n",
       "      <td>0.5</td>\n",
       "      <td>0.0</td>\n",
       "      <td>1.0</td>\n",
       "      <td>0.0</td>\n",
       "      <td>0.659845</td>\n",
       "      <td>0.0</td>\n",
       "    </tr>\n",
       "  </tbody>\n",
       "</table>\n",
       "</div>"
      ],
      "text/plain": [
       "   accuracy  sensitivity  specificity  precision       AUC  MCC\n",
       "0       0.5          0.0          1.0        0.0  0.659845  0.0"
      ]
     },
     "execution_count": 50,
     "metadata": {},
     "output_type": "execute_result"
    }
   ],
   "source": [
    "pdb186 = df[df[\"identifier\"].str.contains(\"pdb186\")]\n",
    "X_test, y_test = form_Xy(pdb186)\n",
    "df_test = make_lama_df(X_test, y_test)\n",
    "test_pred = automl.predict(df_test)\n",
    "test_prob = test_pred.data.reshape(-1, )\n",
    "test_pred = (test_pred.data[:, 0] > 0.5) * 1\n",
    "metrics = Metrics(y_test, test_pred, test_prob)\n",
    "metrics.get_metrics()"
   ]
  },
  {
   "cell_type": "code",
   "execution_count": null,
   "id": "cba8b39d-2c40-40f0-a1cc-3e789d9d8828",
   "metadata": {},
   "outputs": [],
   "source": []
  },
  {
   "cell_type": "code",
   "execution_count": null,
   "id": "7c41bc40-7d82-4d73-ab98-9dea255bf84e",
   "metadata": {},
   "outputs": [],
   "source": []
  }
 ],
 "metadata": {
  "kernelspec": {
   "display_name": "Python 3 (ipykernel)",
   "language": "python",
   "name": "python3"
  },
  "language_info": {
   "codemirror_mode": {
    "name": "ipython",
    "version": 3
   },
   "file_extension": ".py",
   "mimetype": "text/x-python",
   "name": "python",
   "nbconvert_exporter": "python",
   "pygments_lexer": "ipython3",
   "version": "3.11.5"
  }
 },
 "nbformat": 4,
 "nbformat_minor": 5
}
