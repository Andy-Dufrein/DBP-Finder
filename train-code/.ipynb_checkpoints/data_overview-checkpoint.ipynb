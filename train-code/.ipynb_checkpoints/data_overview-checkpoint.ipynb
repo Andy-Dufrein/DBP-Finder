{
 "cells": [
  {
   "cell_type": "code",
   "execution_count": 1,
   "id": "81a9cb46-22d4-4870-b18c-d13a287bc8c7",
   "metadata": {},
   "outputs": [],
   "source": [
    "import pandas as pd\n",
    "import pickle\n",
    "import numpy as np\n",
    "import joblib\n",
    "from sklearn.model_selection import train_test_split\n",
    "from sklearn.model_selection import GroupShuffleSplit\n",
    "from train_src import merge_embed, filter_train, make_balanced_df, make_lama_df, merge_embed, Metrics, form_Xy"
   ]
  },
  {
   "cell_type": "code",
   "execution_count": 2,
   "id": "9524427a-3de7-4f66-8c70-80d20346b727",
   "metadata": {},
   "outputs": [],
   "source": [
    "df = pd.read_csv(\"../data/ready_data/train_p2.csv\")"
   ]
  },
  {
   "cell_type": "code",
   "execution_count": 3,
   "id": "d0c990f5-7f38-4d07-b22f-587d4cd89503",
   "metadata": {},
   "outputs": [
    {
     "data": {
      "text/plain": [
       "train_p2    69872\n",
       "pdb20000    20000\n",
       "pdb2272      2272\n",
       "pdb1000      1000\n",
       "pdb186        186\n",
       "Name: source, dtype: int64"
      ]
     },
     "execution_count": 3,
     "metadata": {},
     "output_type": "execute_result"
    }
   ],
   "source": [
    "df.source.value_counts()"
   ]
  },
  {
   "cell_type": "code",
   "execution_count": 10,
   "id": "3f1a9980-514c-457b-b9e8-4c9878decdec",
   "metadata": {},
   "outputs": [
    {
     "data": {
      "text/html": [
       "<div>\n",
       "<style scoped>\n",
       "    .dataframe tbody tr th:only-of-type {\n",
       "        vertical-align: middle;\n",
       "    }\n",
       "\n",
       "    .dataframe tbody tr th {\n",
       "        vertical-align: top;\n",
       "    }\n",
       "\n",
       "    .dataframe thead th {\n",
       "        text-align: right;\n",
       "    }\n",
       "</style>\n",
       "<table border=\"1\" class=\"dataframe\">\n",
       "  <thead>\n",
       "    <tr style=\"text-align: right;\">\n",
       "      <th></th>\n",
       "      <th>identifier</th>\n",
       "      <th>sequence</th>\n",
       "      <th>label</th>\n",
       "      <th>cluster</th>\n",
       "      <th>source</th>\n",
       "    </tr>\n",
       "  </thead>\n",
       "  <tbody>\n",
       "    <tr>\n",
       "      <th>0</th>\n",
       "      <td>2L8DA</td>\n",
       "      <td>GAMGMPNRKYADGEVVMGRWPGSVLYYEVQVTSYDDASHLYTVKYK...</td>\n",
       "      <td>1</td>\n",
       "      <td>1963</td>\n",
       "      <td>pdb186</td>\n",
       "    </tr>\n",
       "    <tr>\n",
       "      <th>1</th>\n",
       "      <td>2LI6A</td>\n",
       "      <td>QSLNPALQEKISTELNNKQYELFMKSLIENCKKRNMPLQSIPEIGN...</td>\n",
       "      <td>1</td>\n",
       "      <td>1964</td>\n",
       "      <td>pdb186</td>\n",
       "    </tr>\n",
       "    <tr>\n",
       "      <th>2</th>\n",
       "      <td>2LJ6A</td>\n",
       "      <td>MPSSKPLAEYARKRDFRQTPEPSGRKPRKDSTGLLRYCVQKHDASR...</td>\n",
       "      <td>1</td>\n",
       "      <td>1965</td>\n",
       "      <td>pdb186</td>\n",
       "    </tr>\n",
       "    <tr>\n",
       "      <th>3</th>\n",
       "      <td>2LUYA</td>\n",
       "      <td>HMGKNDNDALIMCMRCRKVKGIDSYSKTQWSKTFTFVRGRTVSVSD...</td>\n",
       "      <td>1</td>\n",
       "      <td>1966</td>\n",
       "      <td>pdb186</td>\n",
       "    </tr>\n",
       "    <tr>\n",
       "      <th>4</th>\n",
       "      <td>2LVSA</td>\n",
       "      <td>MPSVNDSLDIVEKLYKDGVPVKEIAKRSNNSMSTVYKALEKLEAMG...</td>\n",
       "      <td>1</td>\n",
       "      <td>1967</td>\n",
       "      <td>pdb186</td>\n",
       "    </tr>\n",
       "  </tbody>\n",
       "</table>\n",
       "</div>"
      ],
      "text/plain": [
       "  identifier                                           sequence  label  \\\n",
       "0      2L8DA  GAMGMPNRKYADGEVVMGRWPGSVLYYEVQVTSYDDASHLYTVKYK...      1   \n",
       "1      2LI6A  QSLNPALQEKISTELNNKQYELFMKSLIENCKKRNMPLQSIPEIGN...      1   \n",
       "2      2LJ6A  MPSSKPLAEYARKRDFRQTPEPSGRKPRKDSTGLLRYCVQKHDASR...      1   \n",
       "3      2LUYA  HMGKNDNDALIMCMRCRKVKGIDSYSKTQWSKTFTFVRGRTVSVSD...      1   \n",
       "4      2LVSA  MPSVNDSLDIVEKLYKDGVPVKEIAKRSNNSMSTVYKALEKLEAMG...      1   \n",
       "\n",
       "   cluster  source  \n",
       "0     1963  pdb186  \n",
       "1     1964  pdb186  \n",
       "2     1965  pdb186  \n",
       "3     1966  pdb186  \n",
       "4     1967  pdb186  "
      ]
     },
     "execution_count": 10,
     "metadata": {},
     "output_type": "execute_result"
    }
   ],
   "source": [
    "df.head()"
   ]
  },
  {
   "cell_type": "code",
   "execution_count": 11,
   "id": "7ebe41ce-45d7-4f84-91c0-5a505c6d72bd",
   "metadata": {},
   "outputs": [],
   "source": [
    "pdb20000 = df[df[\"source\"] == \"pdb20000\"]\n",
    "pdb2272 = df[df[\"source\"] == \"pdb2272\"]\n",
    "pdb1000 = df[df[\"source\"] == \"pdb1000\"]\n",
    "pdb186 = df[df[\"source\"] == \"pdb186\"]\n",
    "train = df[df[\"source\"] == \"train_p2\"]"
   ]
  },
  {
   "cell_type": "code",
   "execution_count": 27,
   "id": "c5ffdfa4-edeb-466d-b71e-31a6097fffcb",
   "metadata": {},
   "outputs": [
    {
     "data": {
      "text/plain": [
       "181"
      ]
     },
     "execution_count": 27,
     "metadata": {},
     "output_type": "execute_result"
    }
   ],
   "source": [
    "pdb186.cluster.nunique()"
   ]
  },
  {
   "cell_type": "code",
   "execution_count": 28,
   "id": "b7e7b00e-28a8-44cc-ab14-6925c371d134",
   "metadata": {},
   "outputs": [
    {
     "data": {
      "text/plain": [
       "0.9991197183098591"
      ]
     },
     "execution_count": 28,
     "metadata": {},
     "output_type": "execute_result"
    }
   ],
   "source": [
    "pdb2272.cluster.nunique() / len(pdb2272)"
   ]
  },
  {
   "cell_type": "code",
   "execution_count": 29,
   "id": "19239f20-5493-4c6c-a344-26a202dca720",
   "metadata": {},
   "outputs": [
    {
     "data": {
      "text/plain": [
       "0.502"
      ]
     },
     "execution_count": 29,
     "metadata": {},
     "output_type": "execute_result"
    }
   ],
   "source": [
    "pdb1000.cluster.nunique() / len(pdb1000)"
   ]
  },
  {
   "cell_type": "code",
   "execution_count": 30,
   "id": "2b5a1526-f0aa-4bc1-b3cb-0a52820364b7",
   "metadata": {},
   "outputs": [
    {
     "data": {
      "text/plain": [
       "0.27115"
      ]
     },
     "execution_count": 30,
     "metadata": {},
     "output_type": "execute_result"
    }
   ],
   "source": [
    "pdb20000.cluster.nunique() / len(pdb20000)"
   ]
  },
  {
   "cell_type": "code",
   "execution_count": 31,
   "id": "05db8969-96e9-4f32-be38-2554ddf02cfe",
   "metadata": {},
   "outputs": [
    {
     "data": {
      "text/plain": [
       "0    34936\n",
       "1    34936\n",
       "Name: label, dtype: int64"
      ]
     },
     "execution_count": 31,
     "metadata": {},
     "output_type": "execute_result"
    }
   ],
   "source": [
    "train.label.value_counts()"
   ]
  },
  {
   "cell_type": "code",
   "execution_count": 32,
   "id": "65626d5a-2db2-4b1b-be3e-2d7598757ffe",
   "metadata": {},
   "outputs": [
    {
     "data": {
      "text/plain": [
       "0.40120506068239065"
      ]
     },
     "execution_count": 32,
     "metadata": {},
     "output_type": "execute_result"
    }
   ],
   "source": [
    "train.cluster.nunique() / len(train)"
   ]
  },
  {
   "cell_type": "code",
   "execution_count": 44,
   "id": "e79a6c97-9ad0-4466-b06b-f0ba8971dfad",
   "metadata": {},
   "outputs": [],
   "source": [
    "grouped_df = pdb1000.groupby([\"cluster\"])"
   ]
  },
  {
   "cell_type": "code",
   "execution_count": 45,
   "id": "2c31ba16-0f53-4d2f-848b-11cede4fe5d8",
   "metadata": {},
   "outputs": [
    {
     "data": {
      "text/plain": [
       "502"
      ]
     },
     "execution_count": 45,
     "metadata": {},
     "output_type": "execute_result"
    }
   ],
   "source": [
    "len(grouped_df)"
   ]
  },
  {
   "cell_type": "code",
   "execution_count": 47,
   "id": "b2a92802-e85e-4dc7-af21-17d01ef3c013",
   "metadata": {},
   "outputs": [
    {
     "name": "stdout",
     "output_type": "stream",
     "text": [
      "0\n"
     ]
    },
    {
     "name": "stderr",
     "output_type": "stream",
     "text": [
      "/tmp/ipykernel_1896321/2311103148.py:2: FutureWarning: In a future version of pandas, a length 1 tuple will be returned when iterating over a groupby with a grouper equal to a list of length 1. Don't supply a list with a single grouper to avoid this warning.\n",
      "  for cluster, group_data in grouped_df:\n"
     ]
    }
   ],
   "source": [
    "count = 0\n",
    "for cluster, group_data in grouped_df:\n",
    "    if len(group_data) > 1 and group_data.label.nunique() > 1:\n",
    "        count += 1\n",
    "print(count)"
   ]
  },
  {
   "cell_type": "code",
   "execution_count": 22,
   "id": "fba07729-a5b2-47a4-a18b-258dcebdff64",
   "metadata": {},
   "outputs": [],
   "source": [
    "test = pd.read_csv(\"../data/ready_data/test_0.5.csv\")"
   ]
  },
  {
   "cell_type": "code",
   "execution_count": 23,
   "id": "95e728cb-583b-45c2-b421-9eb35ea06d1a",
   "metadata": {},
   "outputs": [
    {
     "data": {
      "text/html": [
       "<div>\n",
       "<style scoped>\n",
       "    .dataframe tbody tr th:only-of-type {\n",
       "        vertical-align: middle;\n",
       "    }\n",
       "\n",
       "    .dataframe tbody tr th {\n",
       "        vertical-align: top;\n",
       "    }\n",
       "\n",
       "    .dataframe thead th {\n",
       "        text-align: right;\n",
       "    }\n",
       "</style>\n",
       "<table border=\"1\" class=\"dataframe\">\n",
       "  <thead>\n",
       "    <tr style=\"text-align: right;\">\n",
       "      <th></th>\n",
       "      <th>identifier</th>\n",
       "      <th>label</th>\n",
       "      <th>sequence</th>\n",
       "      <th>cluster</th>\n",
       "    </tr>\n",
       "  </thead>\n",
       "  <tbody>\n",
       "    <tr>\n",
       "      <th>0</th>\n",
       "      <td>A0A061HLT0</td>\n",
       "      <td>1</td>\n",
       "      <td>MQTDPPAGVSASPVADNVMIWNAVIIGPADTPFEDGTFRLVMQFEE...</td>\n",
       "      <td>363</td>\n",
       "    </tr>\n",
       "    <tr>\n",
       "      <th>1</th>\n",
       "      <td>A0A061IE76</td>\n",
       "      <td>1</td>\n",
       "      <td>MDNMSITNTPTSNDACLSIVHSLMCHRQGGESETFAKRAIESLVKK...</td>\n",
       "      <td>388</td>\n",
       "    </tr>\n",
       "    <tr>\n",
       "      <th>2</th>\n",
       "      <td>A0A061IIX2</td>\n",
       "      <td>1</td>\n",
       "      <td>MTAEQRQNLQAFRDYVRKTLDPTYILSYMSPWLQDDEVQYIQAEKN...</td>\n",
       "      <td>848</td>\n",
       "    </tr>\n",
       "    <tr>\n",
       "      <th>3</th>\n",
       "      <td>A0A075AP15</td>\n",
       "      <td>1</td>\n",
       "      <td>MTVPSTSHSAKPPSRPSLVPKKAEKPQLPSVPLHLVDKRDNDIQYI...</td>\n",
       "      <td>353</td>\n",
       "    </tr>\n",
       "    <tr>\n",
       "      <th>4</th>\n",
       "      <td>A0A075F5C6</td>\n",
       "      <td>1</td>\n",
       "      <td>MDLAVGPGAAGPSNVPAFLTKLWTLVSDPDTDALICWSPSGNSFHV...</td>\n",
       "      <td>844</td>\n",
       "    </tr>\n",
       "  </tbody>\n",
       "</table>\n",
       "</div>"
      ],
      "text/plain": [
       "   identifier  label                                           sequence  \\\n",
       "0  A0A061HLT0      1  MQTDPPAGVSASPVADNVMIWNAVIIGPADTPFEDGTFRLVMQFEE...   \n",
       "1  A0A061IE76      1  MDNMSITNTPTSNDACLSIVHSLMCHRQGGESETFAKRAIESLVKK...   \n",
       "2  A0A061IIX2      1  MTAEQRQNLQAFRDYVRKTLDPTYILSYMSPWLQDDEVQYIQAEKN...   \n",
       "3  A0A075AP15      1  MTVPSTSHSAKPPSRPSLVPKKAEKPQLPSVPLHLVDKRDNDIQYI...   \n",
       "4  A0A075F5C6      1  MDLAVGPGAAGPSNVPAFLTKLWTLVSDPDTDALICWSPSGNSFHV...   \n",
       "\n",
       "   cluster  \n",
       "0      363  \n",
       "1      388  \n",
       "2      848  \n",
       "3      353  \n",
       "4      844  "
      ]
     },
     "execution_count": 23,
     "metadata": {},
     "output_type": "execute_result"
    }
   ],
   "source": [
    "test.head()"
   ]
  },
  {
   "cell_type": "code",
   "execution_count": 27,
   "id": "acbde2ef-ed22-4a16-8e11-3a272684bdb0",
   "metadata": {},
   "outputs": [
    {
     "data": {
      "text/plain": [
       "0.09588902389631429"
      ]
     },
     "execution_count": 27,
     "metadata": {},
     "output_type": "execute_result"
    }
   ],
   "source": [
    "test.cluster.nunique() / len(test)"
   ]
  },
  {
   "cell_type": "code",
   "execution_count": 25,
   "id": "332d5918-caae-4f14-b505-ce3e8e085f9c",
   "metadata": {},
   "outputs": [],
   "source": [
    "grouped_df = test.groupby([\"cluster\"])"
   ]
  },
  {
   "cell_type": "code",
   "execution_count": 26,
   "id": "5d0b8829-44b3-4857-9bba-5e337b507632",
   "metadata": {},
   "outputs": [
    {
     "name": "stdout",
     "output_type": "stream",
     "text": [
      "8\n"
     ]
    },
    {
     "name": "stderr",
     "output_type": "stream",
     "text": [
      "/tmp/ipykernel_1541355/2311103148.py:2: FutureWarning: In a future version of pandas, a length 1 tuple will be returned when iterating over a groupby with a grouper equal to a list of length 1. Don't supply a list with a single grouper to avoid this warning.\n",
      "  for cluster, group_data in grouped_df:\n"
     ]
    }
   ],
   "source": [
    "count = 0\n",
    "for cluster, group_data in grouped_df:\n",
    "    if len(group_data) > 1 and group_data.label.nunique() > 1:\n",
    "        count += 1\n",
    "print(count)"
   ]
  },
  {
   "cell_type": "code",
   "execution_count": null,
   "id": "082425aa-e538-45f1-84b2-18e1788ccdb5",
   "metadata": {},
   "outputs": [],
   "source": []
  }
 ],
 "metadata": {
  "kernelspec": {
   "display_name": "Python 3 (ipykernel)",
   "language": "python",
   "name": "python3"
  },
  "language_info": {
   "codemirror_mode": {
    "name": "ipython",
    "version": 3
   },
   "file_extension": ".py",
   "mimetype": "text/x-python",
   "name": "python",
   "nbconvert_exporter": "python",
   "pygments_lexer": "ipython3",
   "version": "3.11.5"
  }
 },
 "nbformat": 4,
 "nbformat_minor": 5
}
